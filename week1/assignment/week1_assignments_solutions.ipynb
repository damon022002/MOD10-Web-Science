{
  "cells": [
    {
      "cell_type": "markdown",
      "metadata": {
        "id": "QR9XnKVu4bW_"
      },
      "source": [
        "# Table of Contents\n",
        "\n",
        "* [Part 1: Graph Theory and Social Networks                                                    ](#chapter1)\n",
        "* [Chapter 2: Graphs                                                    ](#chapter2)\n",
        " * [Exercise: Distance from Node                                                    ](#chapter3)\n",
        " * [Advanced Exercise: Distance Distribution                                                    ](#chapter4)\n",
        " * [Advanced Exercise: Paths Between Nodes                                                    ](#chapter5)\n",
        " * [Exercise: Connected Components                                                    ](#chapter6)\n",
        " * [Exercise 2.1: Pivotal                                                  ](#chapter7)\n",
        " * [Exercise 2.2: Gatekeeping                                                    ](#chapter8)\n",
        " * [Advanced Exercise 2.3: Diameter and Average Distance                                                    ](#chapter9)\n",
        "* [Chapter 3: Strong and Weak Ties                                                    ](#chapter10)\n",
        " * [Exercise: Triadic Closure                                                    ](#chapter11)\n",
        " * [Exercise: Clustering Coefficient                                                    ](#chapter12)\n",
        " * [Exercise: Bridges                                                    ](#chapter13)\n",
        " * [Exercise: Local Bridges                                                    ](#chapter14)\n",
        " * [Exercise: Strong Triadic Closure                                                    ](#chapter15)\n",
        " * [Exercise: Neighborhood Overlap                                                    ](#chapter16)\n",
        " * [Exercise 3.1                                                    ](#chapter17)\n",
        " * [Exercise 3.2                                                    ](#chapter18)\n",
        " * [Exercise 3.3                                                    ](#chapter19)\n",
        " * [Exercise 3.4                                                    ](#chapter20)\n",
        " * [Exercise 3.5                                                    ](#chapter21)\n",
        "* [Chapter 4: Network in their Surrounding Context                                                    ](#chapter22)\n",
        " * [Advanced Exercise: Homophily                                                    ](#chapter23)\n"
      ]
    },
    {
      "cell_type": "markdown",
      "metadata": {
        "id": "zRyTtH0p4bXB"
      },
      "source": [
        "**<span style=\"color:red\">Example Solutions</span>**"
      ]
    },
    {
      "cell_type": "markdown",
      "metadata": {
        "id": "7MjGiQwP4bXB"
      },
      "source": [
        "# Part 1: Graph Theory and Social Networks                                                     <a id=\"chapter1\"></a>\n",
        "\n",
        "This ipython document contains the tutorial exercises for the WebScience module based on Networks, Crowds, and Markets by Easly and Kleinberg 2010. Your task is to solve the Exercises by adding the answers into the designated code or text areas. Some exercises are marked as 'advanced exercises' and are not compulsory to be answered.\n"
      ]
    },
    {
      "cell_type": "code",
      "execution_count": 11,
      "metadata": {
        "colab": {
          "base_uri": "https://localhost:8080/"
        },
        "id": "LnoQJ8oK4bXC",
        "outputId": "8e1d314c-6ee4-4a1b-ae15-6004518b6246"
      },
      "outputs": [
        {
          "name": "stdout",
          "output_type": "stream",
          "text": [
            "Reading package lists... Done\n",
            "Building dependency tree       \n",
            "Reading state information... Done\n",
            "libgraphviz-dev is already the newest version (2.40.1-2).\n",
            "0 upgraded, 0 newly installed, 0 to remove and 37 not upgraded.\n"
          ]
        }
      ],
      "source": [
        "# The following includes are needed to work with graphs and display solutions.\n",
        "apt3 install libgraphviz-dev\n",
        "pip3 install pygraphviz --quiet\n",
        "import networkx as nx\n",
        "from IPython.display import display\n",
        "from collections import Counter\n",
        "from utils import *\n",
        "from graphs import *"
      ]
    },
    {
      "cell_type": "markdown",
      "metadata": {
        "id": "q6yK3JBa4bXD"
      },
      "source": [
        "# Chapter 2: Graphs                                                     <a id=\"chapter2\"></a>\n"
      ]
    },
    {
      "cell_type": "markdown",
      "metadata": {
        "id": "STjn3kuN4bXD"
      },
      "source": [
        "## Exercise: Distance from Node                                                     <a id=\"chapter3\"></a>\n",
        "\n",
        "* (a) Complete the function ``bfs_distances`` that calculates for given node ``start`` the shortest distance of each node connected to ``start``."
      ]
    },
    {
      "cell_type": "code",
      "execution_count": 12,
      "metadata": {
        "colab": {
          "base_uri": "https://localhost:8080/",
          "height": 445
        },
        "id": "iYqu95lT4bXD",
        "outputId": "7bf45811-47e1-4a76-bbd0-278d41472213"
      },
      "outputs": [
        {
          "data": {
            "image/svg+xml": "<svg height=\"282pt\" viewBox=\"0.00 0.00 600.28 281.75\" width=\"600pt\" xmlns=\"http://www.w3.org/2000/svg\" xmlns:xlink=\"http://www.w3.org/1999/xlink\">\n<g class=\"graph\" id=\"graph0\" transform=\"scale(1 1) rotate(0) translate(4 277.75)\">\n<polygon fill=\"#ffffff\" points=\"-4,4 -4,-277.75 596.2768,-277.75 596.2768,4 -4,4\" stroke=\"transparent\"/>\n<!-- MIT -->\n<g class=\"node\" id=\"node1\">\n<title>MIT</title>\n<ellipse cx=\"357.3199\" cy=\"-206.43\" fill=\"none\" rx=\"28\" ry=\"18\" stroke=\"#000000\"/>\n<text fill=\"#000000\" font-family=\"Times,serif\" font-size=\"14.00\" text-anchor=\"middle\" x=\"357.3199\" y=\"-202.73\">MIT</text>\n</g>\n<!-- LNC -->\n<g class=\"node\" id=\"node2\">\n<title>LNC</title>\n<ellipse cx=\"465.0799\" cy=\"-240.5\" fill=\"none\" rx=\"30\" ry=\"18\" stroke=\"#000000\"/>\n<text fill=\"#000000\" font-family=\"Times,serif\" font-size=\"14.00\" text-anchor=\"middle\" x=\"465.0799\" y=\"-236.8\">LNC</text>\n</g>\n<!-- MIT&#45;&#45;LNC -->\n<g class=\"edge\" id=\"edge1\">\n<title>MIT--LNC</title>\n<path d=\"M382.5799,-214.42C399.3799,-219.73 421.3999,-226.69 438.4699,-232.09\" fill=\"none\" stroke=\"#000000\"/>\n</g>\n<!-- BBN -->\n<g class=\"node\" id=\"node3\">\n<title>BBN</title>\n<ellipse cx=\"336.3299\" cy=\"-81.347\" fill=\"none\" rx=\"30.5947\" ry=\"18\" stroke=\"#000000\"/>\n<text fill=\"#000000\" font-family=\"Times,serif\" font-size=\"14.00\" text-anchor=\"middle\" x=\"336.3299\" y=\"-77.647\">BBN</text>\n</g>\n<!-- MIT&#45;&#45;BBN -->\n<g class=\"edge\" id=\"edge2\">\n<title>MIT--BBN</title>\n<path d=\"M354.3099,-188.51C350.3399,-164.87 343.3999,-123.47 339.3999,-99.642\" fill=\"none\" stroke=\"#000000\"/>\n</g>\n<!-- UTAH -->\n<g class=\"node\" id=\"node4\">\n<title>UTAH</title>\n<ellipse cx=\"248.8499\" cy=\"-255.75\" fill=\"none\" rx=\"36.5\" ry=\"18\" stroke=\"#000000\"/>\n<text fill=\"#000000\" font-family=\"Times,serif\" font-size=\"14.00\" text-anchor=\"middle\" x=\"248.8499\" y=\"-252.05\">UTAH</text>\n</g>\n<!-- MIT&#45;&#45;UTAH -->\n<g class=\"edge\" id=\"edge3\">\n<title>MIT--UTAH</title>\n<path d=\"M334.3199,-216.89C317.1499,-224.69 293.6599,-235.37 275.6499,-243.56\" fill=\"none\" stroke=\"#000000\"/>\n</g>\n<!-- CASE -->\n<g class=\"node\" id=\"node5\">\n<title>CASE</title>\n<ellipse cx=\"557.1799\" cy=\"-171.03\" fill=\"none\" rx=\"35.194\" ry=\"18\" stroke=\"#000000\"/>\n<text fill=\"#000000\" font-family=\"Times,serif\" font-size=\"14.00\" text-anchor=\"middle\" x=\"557.1799\" y=\"-167.33\">CASE</text>\n</g>\n<!-- LNC&#45;&#45;CASE -->\n<g class=\"edge\" id=\"edge4\">\n<title>LNC--CASE</title>\n<path d=\"M484.1599,-226.11C499.6499,-214.43 521.4299,-198 537.1699,-186.13\" fill=\"none\" stroke=\"#000000\"/>\n</g>\n<!-- HARV -->\n<g class=\"node\" id=\"node6\">\n<title>HARV</title>\n<ellipse cx=\"430.0099\" cy=\"-18\" fill=\"none\" rx=\"37.0935\" ry=\"18\" stroke=\"#000000\"/>\n<text fill=\"#000000\" font-family=\"Times,serif\" font-size=\"14.00\" text-anchor=\"middle\" x=\"430.0099\" y=\"-14.3\">HARV</text>\n</g>\n<!-- BBN&#45;&#45;HARV -->\n<g class=\"edge\" id=\"edge5\">\n<title>BBN--HARV</title>\n<path d=\"M356.6599,-67.601C371.8299,-57.34 392.5399,-43.335 408.0899,-32.823\" fill=\"none\" stroke=\"#000000\"/>\n</g>\n<!-- RAND -->\n<g class=\"node\" id=\"node7\">\n<title>RAND</title>\n<ellipse cx=\"216.3499\" cy=\"-69.436\" fill=\"none\" rx=\"37.8943\" ry=\"18\" stroke=\"#000000\"/>\n<text fill=\"#000000\" font-family=\"Times,serif\" font-size=\"14.00\" text-anchor=\"middle\" x=\"216.3499\" y=\"-65.736\">RAND</text>\n</g>\n<!-- BBN&#45;&#45;RAND -->\n<g class=\"edge\" id=\"edge6\">\n<title>BBN--RAND</title>\n<path d=\"M306.0499,-78.341C290.0899,-76.756 270.3699,-74.798 253.4799,-73.122\" fill=\"none\" stroke=\"#000000\"/>\n</g>\n<!-- SDC -->\n<g class=\"node\" id=\"node8\">\n<title>SDC</title>\n<ellipse cx=\"239.0999\" cy=\"-160.28\" fill=\"none\" rx=\"29.4969\" ry=\"18\" stroke=\"#000000\"/>\n<text fill=\"#000000\" font-family=\"Times,serif\" font-size=\"14.00\" text-anchor=\"middle\" x=\"239.0999\" y=\"-156.58\">SDC</text>\n</g>\n<!-- UTAH&#45;&#45;SDC -->\n<g class=\"edge\" id=\"edge7\">\n<title>UTAH--SDC</title>\n<path d=\"M246.9699,-237.34C245.2299,-220.33 242.6699,-195.2 240.9399,-178.31\" fill=\"none\" stroke=\"#000000\"/>\n</g>\n<!-- SRI -->\n<g class=\"node\" id=\"node9\">\n<title>SRI</title>\n<ellipse cx=\"133.3299\" cy=\"-233.36\" fill=\"none\" rx=\"27\" ry=\"18\" stroke=\"#000000\"/>\n<text fill=\"#000000\" font-family=\"Times,serif\" font-size=\"14.00\" text-anchor=\"middle\" x=\"133.3299\" y=\"-229.66\">SRI</text>\n</g>\n<!-- UTAH&#45;&#45;SRI -->\n<g class=\"edge\" id=\"edge8\">\n<title>UTAH--SRI</title>\n<path d=\"M214.8099,-249.15C197.1099,-245.72 175.8099,-241.59 159.4199,-238.42\" fill=\"none\" stroke=\"#000000\"/>\n</g>\n<!-- CARN -->\n<g class=\"node\" id=\"node10\">\n<title>CARN</title>\n<ellipse cx=\"538.9699\" cy=\"-56.885\" fill=\"none\" rx=\"37.0935\" ry=\"18\" stroke=\"#000000\"/>\n<text fill=\"#000000\" font-family=\"Times,serif\" font-size=\"14.00\" text-anchor=\"middle\" x=\"538.9699\" y=\"-53.185\">CARN</text>\n</g>\n<!-- CASE&#45;&#45;CARN -->\n<g class=\"edge\" id=\"edge9\">\n<title>CASE--CARN</title>\n<path d=\"M554.2999,-152.94C550.8899,-131.57 545.2399,-96.224 541.8399,-74.887\" fill=\"none\" stroke=\"#000000\"/>\n</g>\n<!-- RAND&#45;&#45;SDC -->\n<g class=\"edge\" id=\"edge10\">\n<title>RAND--SDC</title>\n<path d=\"M220.8499,-87.385C224.8399,-103.31 230.6299,-126.46 234.6199,-142.37\" fill=\"none\" stroke=\"#000000\"/>\n</g>\n<!-- UCLA -->\n<g class=\"node\" id=\"node11\">\n<title>UCLA</title>\n<ellipse cx=\"114.5999\" cy=\"-131.58\" fill=\"none\" rx=\"36.5\" ry=\"18\" stroke=\"#000000\"/>\n<text fill=\"#000000\" font-family=\"Times,serif\" font-size=\"14.00\" text-anchor=\"middle\" x=\"114.5999\" y=\"-127.88\">UCLA</text>\n</g>\n<!-- RAND&#45;&#45;UCLA -->\n<g class=\"edge\" id=\"edge11\">\n<title>RAND--UCLA</title>\n<path d=\"M193.0099,-83.692C176.4599,-93.797 154.3599,-107.3 137.8299,-117.39\" fill=\"none\" stroke=\"#000000\"/>\n</g>\n<!-- CARN&#45;&#45;HARV -->\n<g class=\"edge\" id=\"edge12\">\n<title>CARN--HARV</title>\n<path d=\"M508.9099,-46.156C493.6599,-40.716 475.1999,-34.129 459.9699,-28.693\" fill=\"none\" stroke=\"#000000\"/>\n</g>\n<!-- UCLA&#45;&#45;SRI -->\n<g class=\"edge\" id=\"edge13\">\n<title>UCLA--SRI</title>\n<path d=\"M117.9499,-149.77C121.3599,-168.3 126.6099,-196.85 130.0099,-215.32\" fill=\"none\" stroke=\"#000000\"/>\n</g>\n<!-- STAN -->\n<g class=\"node\" id=\"node12\">\n<title>STAN</title>\n<ellipse cx=\"35.0969\" cy=\"-152.01\" fill=\"none\" rx=\"35.194\" ry=\"18\" stroke=\"#000000\"/>\n<text fill=\"#000000\" font-family=\"Times,serif\" font-size=\"14.00\" text-anchor=\"middle\" x=\"35.0969\" y=\"-148.31\">STAN</text>\n</g>\n<!-- UCLA&#45;&#45;STAN -->\n<g class=\"edge\" id=\"edge14\">\n<title>UCLA--STAN</title>\n<path d=\"M82.2619,-139.89C77.1029,-141.21 71.7719,-142.59 66.6319,-143.91\" fill=\"none\" stroke=\"#000000\"/>\n</g>\n<!-- UCSB -->\n<g class=\"node\" id=\"node13\">\n<title>UCSB</title>\n<ellipse cx=\"52.9989\" cy=\"-245.23\" fill=\"none\" rx=\"35.9954\" ry=\"18\" stroke=\"#000000\"/>\n<text fill=\"#000000\" font-family=\"Times,serif\" font-size=\"14.00\" text-anchor=\"middle\" x=\"52.9989\" y=\"-241.53\">UCSB</text>\n</g>\n<!-- UCLA&#45;&#45;UCSB -->\n<g class=\"edge\" id=\"edge15\">\n<title>UCLA--UCSB</title>\n<path d=\"M104.9699,-149.33C93.4009,-170.69 74.0989,-206.3 62.5559,-227.6\" fill=\"none\" stroke=\"#000000\"/>\n</g>\n<!-- STAN&#45;&#45;SRI -->\n<g class=\"edge\" id=\"edge16\">\n<title>STAN--SRI</title>\n<path d=\"M54.0369,-167.7C71.9889,-182.56 98.7219,-204.7 116.0899,-219.09\" fill=\"none\" stroke=\"#000000\"/>\n</g>\n<!-- UCSB&#45;&#45;SRI -->\n<g class=\"edge\" id=\"edge17\">\n<title>UCSB--SRI</title>\n<path d=\"M87.5319,-240.13C93.9949,-239.17 100.6599,-238.19 106.8299,-237.28\" fill=\"none\" stroke=\"#000000\"/>\n</g>\n</g>\n</svg>",
            "text/plain": [
              "<IPython.core.display.SVG object>"
            ]
          },
          "metadata": {},
          "output_type": "display_data"
        },
        {
          "data": {
            "text/html": [
              "<h2 style='color: green;'>Correct</h2>"
            ],
            "text/plain": [
              "<IPython.core.display.HTML object>"
            ]
          },
          "execution_count": 12,
          "metadata": {},
          "output_type": "execute_result"
        }
      ],
      "source": [
        "def bfs_distances(G, start):\n",
        "    ''' \n",
        "    breadth first search that calculates the distances from start node \n",
        "    The function returns a dictionary mapping node names to distances. \n",
        "    '''\n",
        "    visited, queue = dict(), [(start,0)]\n",
        "    # BEGIN SOLUTION\n",
        "    while queue:\n",
        "        vertex, distance = queue.pop(0)\n",
        "\n",
        "        if vertex not in visited:\n",
        "            visited[vertex] = distance\n",
        "            s = set(G[vertex]) - set(visited)\n",
        "            queue.extend(map(lambda x: (x,distance+1), s))\n",
        "    # END SOLUTION\n",
        "    return visited\n",
        "\n",
        "# Check\n",
        "display(draw(F23))\n",
        "visits = bfs_distances(F23, 'BBN')\n",
        "answer('CASE' in visits and visits['CASE'] == 3)"
      ]
    },
    {
      "cell_type": "markdown",
      "metadata": {
        "id": "o53ebIvm4bXE"
      },
      "source": [
        "## Advanced Exercise: Distance Distribution                                                     <a id=\"chapter4\"></a>\n",
        "Let H be the distance between two randomly chosen connected nodes in a graph. \n",
        "\n",
        "* (a) Complete the function ``distanceDistribution`` to compute the smallest c such that P(H>c)<0.05 holds. \n",
        "* (b) What problems will you encounter if you want to use your proposed algorithm on a really large graph such as Facebook."
      ]
    },
    {
      "cell_type": "code",
      "execution_count": 13,
      "metadata": {
        "colab": {
          "base_uri": "https://localhost:8080/",
          "height": 81
        },
        "id": "1r2KDm7k4bXE",
        "outputId": "01479d8a-d036-4aa6-ed5b-312db6ab73da"
      },
      "outputs": [
        {
          "name": "stdout",
          "output_type": "stream",
          "text": [
            "5\n"
          ]
        },
        {
          "data": {
            "text/html": [
              "<h2 style='color: green;'>Correct</h2>"
            ],
            "text/plain": [
              "<IPython.core.display.HTML object>"
            ]
          },
          "execution_count": 13,
          "metadata": {},
          "output_type": "execute_result"
        }
      ],
      "source": [
        "def distanceDistribution(G):\n",
        "    '''\n",
        "    Your task\n",
        "    '''\n",
        "    c = 0\n",
        "    # BEGIN SOLUTION\n",
        "    from collections import Counter\n",
        "    c = Counter()\n",
        "    for n in G.nodes():\n",
        "        distances = bfs_distances(G, n)\n",
        "        # remove self references\n",
        "        del distances[n]\n",
        "        c.update(distances.values())\n",
        "    l = list(c.items())\n",
        "    H,l = zip(*l)\n",
        "    # cummulative distribution\n",
        "    l = [ (i, 1.0 - float(sum(l[:i+1])) / sum(l)) for i in range(len(l)) ]\n",
        "    l = list(filter(lambda x: x[1] < 0.05, l))\n",
        "    # END SOLUTION\n",
        "    return l[0][0]+1\n",
        "\n",
        "# Check\n",
        "dist = distanceDistribution(F23)\n",
        "print(dist)\n",
        "answer(dist == 5)"
      ]
    },
    {
      "cell_type": "markdown",
      "metadata": {
        "id": "tB_8Xear4bXE"
      },
      "source": [
        "** Answer (b) **: *Add your answer here*"
      ]
    },
    {
      "cell_type": "markdown",
      "metadata": {
        "id": "hcN20cc-4bXF"
      },
      "source": [
        "## Advanced Exercise: Paths Between Nodes                                                     <a id=\"chapter5\"></a>\n",
        "\n",
        "Complete the function ``bfs_paths`` that returns all possible paths in graph 'G' between node 'start' and node 'end'."
      ]
    },
    {
      "cell_type": "code",
      "execution_count": 14,
      "metadata": {
        "colab": {
          "base_uri": "https://localhost:8080/",
          "height": 462
        },
        "id": "xBZItlOY4bXF",
        "outputId": "f6fe6065-47ff-40f4-ff66-b862b482f03d"
      },
      "outputs": [
        {
          "data": {
            "image/svg+xml": "<svg height=\"282pt\" viewBox=\"0.00 0.00 600.28 281.75\" width=\"600pt\" xmlns=\"http://www.w3.org/2000/svg\" xmlns:xlink=\"http://www.w3.org/1999/xlink\">\n<g class=\"graph\" id=\"graph0\" transform=\"scale(1 1) rotate(0) translate(4 277.75)\">\n<polygon fill=\"#ffffff\" points=\"-4,4 -4,-277.75 596.2768,-277.75 596.2768,4 -4,4\" stroke=\"transparent\"/>\n<!-- MIT -->\n<g class=\"node\" id=\"node1\">\n<title>MIT</title>\n<ellipse cx=\"357.3199\" cy=\"-206.43\" fill=\"none\" rx=\"28\" ry=\"18\" stroke=\"#000000\"/>\n<text fill=\"#000000\" font-family=\"Times,serif\" font-size=\"14.00\" text-anchor=\"middle\" x=\"357.3199\" y=\"-202.73\">MIT</text>\n</g>\n<!-- LNC -->\n<g class=\"node\" id=\"node2\">\n<title>LNC</title>\n<ellipse cx=\"465.0799\" cy=\"-240.5\" fill=\"none\" rx=\"30\" ry=\"18\" stroke=\"#000000\"/>\n<text fill=\"#000000\" font-family=\"Times,serif\" font-size=\"14.00\" text-anchor=\"middle\" x=\"465.0799\" y=\"-236.8\">LNC</text>\n</g>\n<!-- MIT&#45;&#45;LNC -->\n<g class=\"edge\" id=\"edge1\">\n<title>MIT--LNC</title>\n<path d=\"M382.5799,-214.42C399.3799,-219.73 421.3999,-226.69 438.4699,-232.09\" fill=\"none\" stroke=\"#000000\"/>\n</g>\n<!-- BBN -->\n<g class=\"node\" id=\"node3\">\n<title>BBN</title>\n<ellipse cx=\"336.3299\" cy=\"-81.347\" fill=\"none\" rx=\"30.5947\" ry=\"18\" stroke=\"#000000\"/>\n<text fill=\"#000000\" font-family=\"Times,serif\" font-size=\"14.00\" text-anchor=\"middle\" x=\"336.3299\" y=\"-77.647\">BBN</text>\n</g>\n<!-- MIT&#45;&#45;BBN -->\n<g class=\"edge\" id=\"edge2\">\n<title>MIT--BBN</title>\n<path d=\"M354.3099,-188.51C350.3399,-164.87 343.3999,-123.47 339.3999,-99.642\" fill=\"none\" stroke=\"#000000\"/>\n</g>\n<!-- UTAH -->\n<g class=\"node\" id=\"node4\">\n<title>UTAH</title>\n<ellipse cx=\"248.8499\" cy=\"-255.75\" fill=\"none\" rx=\"36.5\" ry=\"18\" stroke=\"#000000\"/>\n<text fill=\"#000000\" font-family=\"Times,serif\" font-size=\"14.00\" text-anchor=\"middle\" x=\"248.8499\" y=\"-252.05\">UTAH</text>\n</g>\n<!-- MIT&#45;&#45;UTAH -->\n<g class=\"edge\" id=\"edge3\">\n<title>MIT--UTAH</title>\n<path d=\"M334.3199,-216.89C317.1499,-224.69 293.6599,-235.37 275.6499,-243.56\" fill=\"none\" stroke=\"#000000\"/>\n</g>\n<!-- CASE -->\n<g class=\"node\" id=\"node5\">\n<title>CASE</title>\n<ellipse cx=\"557.1799\" cy=\"-171.03\" fill=\"none\" rx=\"35.194\" ry=\"18\" stroke=\"#000000\"/>\n<text fill=\"#000000\" font-family=\"Times,serif\" font-size=\"14.00\" text-anchor=\"middle\" x=\"557.1799\" y=\"-167.33\">CASE</text>\n</g>\n<!-- LNC&#45;&#45;CASE -->\n<g class=\"edge\" id=\"edge4\">\n<title>LNC--CASE</title>\n<path d=\"M484.1599,-226.11C499.6499,-214.43 521.4299,-198 537.1699,-186.13\" fill=\"none\" stroke=\"#000000\"/>\n</g>\n<!-- HARV -->\n<g class=\"node\" id=\"node6\">\n<title>HARV</title>\n<ellipse cx=\"430.0099\" cy=\"-18\" fill=\"none\" rx=\"37.0935\" ry=\"18\" stroke=\"#000000\"/>\n<text fill=\"#000000\" font-family=\"Times,serif\" font-size=\"14.00\" text-anchor=\"middle\" x=\"430.0099\" y=\"-14.3\">HARV</text>\n</g>\n<!-- BBN&#45;&#45;HARV -->\n<g class=\"edge\" id=\"edge5\">\n<title>BBN--HARV</title>\n<path d=\"M356.6599,-67.601C371.8299,-57.34 392.5399,-43.335 408.0899,-32.823\" fill=\"none\" stroke=\"#000000\"/>\n</g>\n<!-- RAND -->\n<g class=\"node\" id=\"node7\">\n<title>RAND</title>\n<ellipse cx=\"216.3499\" cy=\"-69.436\" fill=\"none\" rx=\"37.8943\" ry=\"18\" stroke=\"#000000\"/>\n<text fill=\"#000000\" font-family=\"Times,serif\" font-size=\"14.00\" text-anchor=\"middle\" x=\"216.3499\" y=\"-65.736\">RAND</text>\n</g>\n<!-- BBN&#45;&#45;RAND -->\n<g class=\"edge\" id=\"edge6\">\n<title>BBN--RAND</title>\n<path d=\"M306.0499,-78.341C290.0899,-76.756 270.3699,-74.798 253.4799,-73.122\" fill=\"none\" stroke=\"#000000\"/>\n</g>\n<!-- SDC -->\n<g class=\"node\" id=\"node8\">\n<title>SDC</title>\n<ellipse cx=\"239.0999\" cy=\"-160.28\" fill=\"none\" rx=\"29.4969\" ry=\"18\" stroke=\"#000000\"/>\n<text fill=\"#000000\" font-family=\"Times,serif\" font-size=\"14.00\" text-anchor=\"middle\" x=\"239.0999\" y=\"-156.58\">SDC</text>\n</g>\n<!-- UTAH&#45;&#45;SDC -->\n<g class=\"edge\" id=\"edge7\">\n<title>UTAH--SDC</title>\n<path d=\"M246.9699,-237.34C245.2299,-220.33 242.6699,-195.2 240.9399,-178.31\" fill=\"none\" stroke=\"#000000\"/>\n</g>\n<!-- SRI -->\n<g class=\"node\" id=\"node9\">\n<title>SRI</title>\n<ellipse cx=\"133.3299\" cy=\"-233.36\" fill=\"none\" rx=\"27\" ry=\"18\" stroke=\"#000000\"/>\n<text fill=\"#000000\" font-family=\"Times,serif\" font-size=\"14.00\" text-anchor=\"middle\" x=\"133.3299\" y=\"-229.66\">SRI</text>\n</g>\n<!-- UTAH&#45;&#45;SRI -->\n<g class=\"edge\" id=\"edge8\">\n<title>UTAH--SRI</title>\n<path d=\"M214.8099,-249.15C197.1099,-245.72 175.8099,-241.59 159.4199,-238.42\" fill=\"none\" stroke=\"#000000\"/>\n</g>\n<!-- CARN -->\n<g class=\"node\" id=\"node10\">\n<title>CARN</title>\n<ellipse cx=\"538.9699\" cy=\"-56.885\" fill=\"none\" rx=\"37.0935\" ry=\"18\" stroke=\"#000000\"/>\n<text fill=\"#000000\" font-family=\"Times,serif\" font-size=\"14.00\" text-anchor=\"middle\" x=\"538.9699\" y=\"-53.185\">CARN</text>\n</g>\n<!-- CASE&#45;&#45;CARN -->\n<g class=\"edge\" id=\"edge9\">\n<title>CASE--CARN</title>\n<path d=\"M554.2999,-152.94C550.8899,-131.57 545.2399,-96.224 541.8399,-74.887\" fill=\"none\" stroke=\"#000000\"/>\n</g>\n<!-- RAND&#45;&#45;SDC -->\n<g class=\"edge\" id=\"edge10\">\n<title>RAND--SDC</title>\n<path d=\"M220.8499,-87.385C224.8399,-103.31 230.6299,-126.46 234.6199,-142.37\" fill=\"none\" stroke=\"#000000\"/>\n</g>\n<!-- UCLA -->\n<g class=\"node\" id=\"node11\">\n<title>UCLA</title>\n<ellipse cx=\"114.5999\" cy=\"-131.58\" fill=\"none\" rx=\"36.5\" ry=\"18\" stroke=\"#000000\"/>\n<text fill=\"#000000\" font-family=\"Times,serif\" font-size=\"14.00\" text-anchor=\"middle\" x=\"114.5999\" y=\"-127.88\">UCLA</text>\n</g>\n<!-- RAND&#45;&#45;UCLA -->\n<g class=\"edge\" id=\"edge11\">\n<title>RAND--UCLA</title>\n<path d=\"M193.0099,-83.692C176.4599,-93.797 154.3599,-107.3 137.8299,-117.39\" fill=\"none\" stroke=\"#000000\"/>\n</g>\n<!-- CARN&#45;&#45;HARV -->\n<g class=\"edge\" id=\"edge12\">\n<title>CARN--HARV</title>\n<path d=\"M508.9099,-46.156C493.6599,-40.716 475.1999,-34.129 459.9699,-28.693\" fill=\"none\" stroke=\"#000000\"/>\n</g>\n<!-- UCLA&#45;&#45;SRI -->\n<g class=\"edge\" id=\"edge13\">\n<title>UCLA--SRI</title>\n<path d=\"M117.9499,-149.77C121.3599,-168.3 126.6099,-196.85 130.0099,-215.32\" fill=\"none\" stroke=\"#000000\"/>\n</g>\n<!-- STAN -->\n<g class=\"node\" id=\"node12\">\n<title>STAN</title>\n<ellipse cx=\"35.0969\" cy=\"-152.01\" fill=\"none\" rx=\"35.194\" ry=\"18\" stroke=\"#000000\"/>\n<text fill=\"#000000\" font-family=\"Times,serif\" font-size=\"14.00\" text-anchor=\"middle\" x=\"35.0969\" y=\"-148.31\">STAN</text>\n</g>\n<!-- UCLA&#45;&#45;STAN -->\n<g class=\"edge\" id=\"edge14\">\n<title>UCLA--STAN</title>\n<path d=\"M82.2619,-139.89C77.1029,-141.21 71.7719,-142.59 66.6319,-143.91\" fill=\"none\" stroke=\"#000000\"/>\n</g>\n<!-- UCSB -->\n<g class=\"node\" id=\"node13\">\n<title>UCSB</title>\n<ellipse cx=\"52.9989\" cy=\"-245.23\" fill=\"none\" rx=\"35.9954\" ry=\"18\" stroke=\"#000000\"/>\n<text fill=\"#000000\" font-family=\"Times,serif\" font-size=\"14.00\" text-anchor=\"middle\" x=\"52.9989\" y=\"-241.53\">UCSB</text>\n</g>\n<!-- UCLA&#45;&#45;UCSB -->\n<g class=\"edge\" id=\"edge15\">\n<title>UCLA--UCSB</title>\n<path d=\"M104.9699,-149.33C93.4009,-170.69 74.0989,-206.3 62.5559,-227.6\" fill=\"none\" stroke=\"#000000\"/>\n</g>\n<!-- STAN&#45;&#45;SRI -->\n<g class=\"edge\" id=\"edge16\">\n<title>STAN--SRI</title>\n<path d=\"M54.0369,-167.7C71.9889,-182.56 98.7219,-204.7 116.0899,-219.09\" fill=\"none\" stroke=\"#000000\"/>\n</g>\n<!-- UCSB&#45;&#45;SRI -->\n<g class=\"edge\" id=\"edge17\">\n<title>UCSB--SRI</title>\n<path d=\"M87.5319,-240.13C93.9949,-239.17 100.6599,-238.19 106.8299,-237.28\" fill=\"none\" stroke=\"#000000\"/>\n</g>\n</g>\n</svg>",
            "text/plain": [
              "<IPython.core.display.SVG object>"
            ]
          },
          "metadata": {},
          "output_type": "display_data"
        },
        {
          "name": "stdout",
          "output_type": "stream",
          "text": [
            "24\n"
          ]
        },
        {
          "data": {
            "text/html": [
              "<h2 style='color: green;'>Correct</h2>"
            ],
            "text/plain": [
              "<IPython.core.display.HTML object>"
            ]
          },
          "execution_count": 14,
          "metadata": {},
          "output_type": "execute_result"
        }
      ],
      "source": [
        "def bfs_paths(G, start, end):\n",
        "    '''\n",
        "    calculates all paths from start to end\n",
        "    '''\n",
        "    paths = []\n",
        "    # BEGIN SOLUTION\n",
        "    queue = [(start, [start])]\n",
        "    while queue:\n",
        "        (vertex, path) = queue.pop(0)\n",
        "        for next in sorted(set(G[vertex]) - set(path)):\n",
        "            newpath = path + [next]\n",
        "            if next == end:\n",
        "                paths.append(newpath)\n",
        "            else:\n",
        "                queue.append((next, newpath))\n",
        "    # END SOLUTION\n",
        "    return paths\n",
        "\n",
        "# Check\n",
        "''' get all paths from 'CARN' to 'UCSB' '''\n",
        "display(draw(F23))\n",
        "paths = bfs_paths(F23, 'CARN', 'UCSB')\n",
        "print(len(paths))\n",
        "answer(len(paths) == 24)"
      ]
    },
    {
      "cell_type": "markdown",
      "metadata": {
        "id": "1Vfyl2Wc4bXF"
      },
      "source": [
        "## Exercise: Connected Components                                                     <a id=\"chapter6\"></a>\n",
        "\n",
        "* Complete the function ``connected_components`` that returns a list of connected components, which are presented by the lists of its nodes. \n"
      ]
    },
    {
      "cell_type": "code",
      "execution_count": 15,
      "metadata": {
        "colab": {
          "base_uri": "https://localhost:8080/",
          "height": 64
        },
        "id": "MwalymzC4bXF",
        "outputId": "0a17b9e4-0151-45e7-936f-1c6afaec87b8"
      },
      "outputs": [
        {
          "data": {
            "text/html": [
              "<h2 style='color: green;'>Correct</h2>"
            ],
            "text/plain": [
              "<IPython.core.display.HTML object>"
            ]
          },
          "execution_count": 15,
          "metadata": {},
          "output_type": "execute_result"
        }
      ],
      "source": [
        "def connected_components(G):\n",
        "    ''' \n",
        "    outputs an list of connectected components (represented by a list of component members)\n",
        "    '''\n",
        "    components = []\n",
        "    # BEGIN SOLUTION\n",
        "    nodes = list(G.nodes())\n",
        "    while nodes:\n",
        "        node = nodes[0]\n",
        "        visited = bfs(G, node)\n",
        "        components.append(sorted(visited.keys()))\n",
        "        nodes = sorted(set(nodes) - set(visited.keys()))   \n",
        "    # END SOLUTION\n",
        "    return components\n",
        "\n",
        "# Check\n",
        "s = connected_components(F23)\n",
        "answer(s == [['BBN', 'CARN', 'CASE', 'HARV', 'LNC', 'MIT', 'RAND', 'SDC', 'SRI', 'STAN', 'UCLA', 'UCSB', 'UTAH']])"
      ]
    },
    {
      "cell_type": "markdown",
      "metadata": {
        "id": "BsWLEC_h4bXG"
      },
      "source": [
        "## Exercise 2.1: Pivotal                                                   <a id=\"chapter7\"></a>\n",
        "\n",
        "* a) Give an example of a graph in which every node is pivotal for at least one pair of nodes. Explain your answer."
      ]
    },
    {
      "cell_type": "code",
      "execution_count": 16,
      "metadata": {
        "colab": {
          "base_uri": "https://localhost:8080/",
          "height": 236
        },
        "id": "r1BZQYmV4bXG",
        "outputId": "7324d4bb-c451-4916-af73-65024e8dba75"
      },
      "outputs": [
        {
          "data": {
            "image/svg+xml": "<svg height=\"161pt\" viewBox=\"0.00 0.00 174.95 160.53\" width=\"175pt\" xmlns=\"http://www.w3.org/2000/svg\" xmlns:xlink=\"http://www.w3.org/1999/xlink\">\n<g class=\"graph\" id=\"graph0\" transform=\"scale(1 1) rotate(0) translate(4 156.53)\">\n<title>A</title>\n<polygon fill=\"#ffffff\" points=\"-4,4 -4,-156.53 170.95,-156.53 170.95,4 -4,4\" stroke=\"transparent\"/>\n<!-- A -->\n<g class=\"node\" id=\"node1\">\n<title>A</title>\n<ellipse cx=\"27\" cy=\"-62.004\" fill=\"none\" rx=\"27\" ry=\"18\" stroke=\"#000000\"/>\n<text fill=\"#000000\" font-family=\"Times,serif\" font-size=\"14.00\" text-anchor=\"middle\" x=\"27\" y=\"-58.304\">A</text>\n</g>\n<!-- B -->\n<g class=\"node\" id=\"node2\">\n<title>B</title>\n<ellipse cx=\"139.95\" cy=\"-90.008\" fill=\"none\" rx=\"27\" ry=\"18\" stroke=\"#000000\"/>\n<text fill=\"#000000\" font-family=\"Times,serif\" font-size=\"14.00\" text-anchor=\"middle\" x=\"139.95\" y=\"-86.308\">B</text>\n</g>\n<!-- A&#45;&#45;B -->\n<g class=\"edge\" id=\"edge1\">\n<title>A--B</title>\n<path d=\"M52.348,-68.289C70.82,-72.869 95.752,-79.05 114.29,-83.647\" fill=\"none\" stroke=\"#000000\"/>\n</g>\n<!-- D -->\n<g class=\"node\" id=\"node3\">\n<title>D</title>\n<ellipse cx=\"84.077\" cy=\"-18\" fill=\"none\" rx=\"27\" ry=\"18\" stroke=\"#000000\"/>\n<text fill=\"#000000\" font-family=\"Times,serif\" font-size=\"14.00\" text-anchor=\"middle\" x=\"84.077\" y=\"-14.3\">D</text>\n</g>\n<!-- A&#45;&#45;D -->\n<g class=\"edge\" id=\"edge2\">\n<title>A--D</title>\n<path d=\"M44.747,-48.322C51.553,-43.075 59.321,-37.086 66.145,-31.825\" fill=\"none\" stroke=\"#000000\"/>\n</g>\n<!-- C -->\n<g class=\"node\" id=\"node4\">\n<title>C</title>\n<ellipse cx=\"83.227\" cy=\"-134.53\" fill=\"none\" rx=\"27\" ry=\"18\" stroke=\"#000000\"/>\n<text fill=\"#000000\" font-family=\"Times,serif\" font-size=\"14.00\" text-anchor=\"middle\" x=\"83.227\" y=\"-130.83\">C</text>\n</g>\n<!-- B&#45;&#45;C -->\n<g class=\"edge\" id=\"edge3\">\n<title>B--C</title>\n<path d=\"M122.31,-103.85C115.55,-109.16 107.83,-115.22 101.05,-120.54\" fill=\"none\" stroke=\"#000000\"/>\n</g>\n<!-- C&#45;&#45;D -->\n<g class=\"edge\" id=\"edge4\">\n<title>C--D</title>\n<path d=\"M83.359,-116.32C83.519,-94.427 83.786,-57.913 83.945,-36.079\" fill=\"none\" stroke=\"#000000\"/>\n</g>\n</g>\n</svg>",
            "text/plain": [
              "<IPython.core.display.SVG object>"
            ]
          },
          "metadata": {},
          "output_type": "display_data"
        }
      ],
      "source": [
        "# a)\n",
        "Answer = fromDot('''\n",
        "strict graph A {\n",
        "# BEGIN SOLUTION\n",
        "A -- B -- C -- D -- A;\n",
        "# END SOLUTION\n",
        "}\n",
        "''')\n",
        "display(draw(Answer))"
      ]
    },
    {
      "cell_type": "markdown",
      "metadata": {
        "id": "6gRQdxqC4bXG"
      },
      "source": [
        "**Explanation a:** *add your explanation here*"
      ]
    },
    {
      "cell_type": "markdown",
      "metadata": {
        "id": "N6v4jpR24bXH"
      },
      "source": [
        "* b) Give an example of a graph in which every node is pivotal for at least two different pairs of nodes. Explain your answer. "
      ]
    },
    {
      "cell_type": "code",
      "execution_count": 17,
      "metadata": {
        "colab": {
          "base_uri": "https://localhost:8080/",
          "height": 299
        },
        "id": "I4qVeFwJ4bXH",
        "outputId": "0676f8ea-3a2f-4e42-9da4-5d0b0748b6e6"
      },
      "outputs": [
        {
          "data": {
            "image/svg+xml": "<svg height=\"208pt\" viewBox=\"0.00 0.00 182.95 207.90\" width=\"183pt\" xmlns=\"http://www.w3.org/2000/svg\" xmlns:xlink=\"http://www.w3.org/1999/xlink\">\n<g class=\"graph\" id=\"graph0\" transform=\"scale(1 1) rotate(0) translate(4 203.9)\">\n<title>A</title>\n<polygon fill=\"#ffffff\" points=\"-4,4 -4,-203.9 178.95,-203.9 178.95,4 -4,4\" stroke=\"transparent\"/>\n<!-- A -->\n<g class=\"node\" id=\"node1\">\n<title>A</title>\n<ellipse cx=\"27\" cy=\"-80.557\" fill=\"none\" rx=\"27\" ry=\"18\" stroke=\"#000000\"/>\n<text fill=\"#000000\" font-family=\"Times,serif\" font-size=\"14.00\" text-anchor=\"middle\" x=\"27\" y=\"-76.857\">A</text>\n</g>\n<!-- B -->\n<g class=\"node\" id=\"node2\">\n<title>B</title>\n<ellipse cx=\"142.2\" cy=\"-65.906\" fill=\"none\" rx=\"27\" ry=\"18\" stroke=\"#000000\"/>\n<text fill=\"#000000\" font-family=\"Times,serif\" font-size=\"14.00\" text-anchor=\"middle\" x=\"142.2\" y=\"-62.206\">B</text>\n</g>\n<!-- A&#45;&#45;B -->\n<g class=\"edge\" id=\"edge1\">\n<title>A--B</title>\n<path d=\"M53.719,-77.159C72.33,-74.792 97.047,-71.648 115.63,-69.285\" fill=\"none\" stroke=\"#000000\"/>\n</g>\n<!-- C -->\n<g class=\"node\" id=\"node3\">\n<title>C</title>\n<ellipse cx=\"77.587\" cy=\"-18\" fill=\"none\" rx=\"27\" ry=\"18\" stroke=\"#000000\"/>\n<text fill=\"#000000\" font-family=\"Times,serif\" font-size=\"14.00\" text-anchor=\"middle\" x=\"77.587\" y=\"-14.3\">C</text>\n</g>\n<!-- A&#45;&#45;C -->\n<g class=\"edge\" id=\"edge2\">\n<title>A--C</title>\n<path d=\"M40.027,-64.447C47.522,-55.179 56.911,-43.568 64.428,-34.273\" fill=\"none\" stroke=\"#000000\"/>\n</g>\n<!-- D -->\n<g class=\"node\" id=\"node4\">\n<title>D</title>\n<ellipse cx=\"47.186\" cy=\"-181.9\" fill=\"none\" rx=\"27\" ry=\"18\" stroke=\"#000000\"/>\n<text fill=\"#000000\" font-family=\"Times,serif\" font-size=\"14.00\" text-anchor=\"middle\" x=\"47.186\" y=\"-178.2\">D</text>\n</g>\n<!-- A&#45;&#45;D -->\n<g class=\"edge\" id=\"edge3\">\n<title>A--D</title>\n<path d=\"M30.609,-98.674C34.283,-117.12 39.945,-145.55 43.608,-163.94\" fill=\"none\" stroke=\"#000000\"/>\n</g>\n<!-- B&#45;&#45;C -->\n<g class=\"edge\" id=\"edge4\">\n<title>B--C</title>\n<path d=\"M123.86,-52.306C115.05,-45.778 104.53,-37.979 95.752,-31.468\" fill=\"none\" stroke=\"#000000\"/>\n</g>\n<!-- F -->\n<g class=\"node\" id=\"node5\">\n<title>F</title>\n<ellipse cx=\"147.95\" cy=\"-167.99\" fill=\"none\" rx=\"27\" ry=\"18\" stroke=\"#000000\"/>\n<text fill=\"#000000\" font-family=\"Times,serif\" font-size=\"14.00\" text-anchor=\"middle\" x=\"147.95\" y=\"-164.29\">F</text>\n</g>\n<!-- B&#45;&#45;F -->\n<g class=\"edge\" id=\"edge5\">\n<title>B--F</title>\n<path d=\"M143.23,-84.156C144.27,-102.74 145.89,-131.37 146.93,-149.9\" fill=\"none\" stroke=\"#000000\"/>\n</g>\n<!-- E -->\n<g class=\"node\" id=\"node6\">\n<title>E</title>\n<ellipse cx=\"89.006\" cy=\"-119.12\" fill=\"none\" rx=\"27\" ry=\"18\" stroke=\"#000000\"/>\n<text fill=\"#000000\" font-family=\"Times,serif\" font-size=\"14.00\" text-anchor=\"middle\" x=\"89.006\" y=\"-115.42\">E</text>\n</g>\n<!-- C&#45;&#45;E -->\n<g class=\"edge\" id=\"edge6\">\n<title>C--E</title>\n<path d=\"M79.628,-36.078C81.694,-54.37 84.871,-82.499 86.944,-100.86\" fill=\"none\" stroke=\"#000000\"/>\n</g>\n<!-- D&#45;&#45;F -->\n<g class=\"edge\" id=\"edge7\">\n<title>D--F</title>\n<path d=\"M73.66,-178.24C88.354,-176.21 106.58,-173.7 121.3,-171.67\" fill=\"none\" stroke=\"#000000\"/>\n</g>\n<!-- D&#45;&#45;E -->\n<g class=\"edge\" id=\"edge8\">\n<title>D--E</title>\n<path d=\"M58.174,-165.4C64.272,-156.25 71.837,-144.89 77.947,-135.72\" fill=\"none\" stroke=\"#000000\"/>\n</g>\n<!-- E&#45;&#45;F -->\n<g class=\"edge\" id=\"edge9\">\n<title>E--F</title>\n<path d=\"M106.05,-133.25C113.81,-139.68 122.96,-147.27 130.73,-153.72\" fill=\"none\" stroke=\"#000000\"/>\n</g>\n</g>\n</svg>",
            "text/plain": [
              "<IPython.core.display.SVG object>"
            ]
          },
          "metadata": {},
          "output_type": "display_data"
        }
      ],
      "source": [
        "# b\n",
        "Answer = fromDot('''\n",
        "strict graph A {\n",
        "# BEGIN SOLUTION\n",
        "A -- B -- C -- A;\n",
        "D -- E -- F -- D;\n",
        "C -- E;\n",
        "F -- B;\n",
        "D -- A;\n",
        "# END SOLUTION\n",
        "}\n",
        "''')\n",
        "display(draw(Answer))"
      ]
    },
    {
      "cell_type": "markdown",
      "metadata": {
        "id": "ZlE_-iJ44bXH"
      },
      "source": [
        "**Explanation b:** *add your answer here*"
      ]
    },
    {
      "cell_type": "markdown",
      "metadata": {
        "id": "A8H6LiW94bXH"
      },
      "source": [
        "## Exercise 2.2: Gatekeeping                                                     <a id=\"chapter8\"></a>\n",
        "\n",
        "\n",
        "* (p1) A node X is a gatekeeper if for two other nodes Y and Z every path between Y and Z passes throught X. Complete the functions ``gatekeepers`` and ``gatekeeperAB``. The function ``gatekeeperAB`` should return a set of nodes that are on all possible paths between node a and node b. The function ``gatekeepers`` returns the union of all gatekeepers.\n",
        "* (p2) A node X is a local gate keeper if there are two neighbors of X, say Y and Z, that are not connected to each other. Complete the functions ``local_gatekeeper and ``local_gatekeepers`` below.\n",
        "* (a) Give an example (with explanation) of a graph in which more than half of all nodes are gatekeepers.\n",
        "* (b) Give an example (with explanation) of a graph in there are no gatekeepers but in which every node is a local gate keeper."
      ]
    },
    {
      "cell_type": "code",
      "execution_count": 18,
      "metadata": {
        "colab": {
          "base_uri": "https://localhost:8080/",
          "height": 64
        },
        "id": "0ofZ-Z_c4bXI",
        "outputId": "d3c8868d-0808-4f39-f997-586f523c4b42"
      },
      "outputs": [
        {
          "data": {
            "text/html": [
              "<h2 style='color: green;'>Correct</h2>"
            ],
            "text/plain": [
              "<IPython.core.display.HTML object>"
            ]
          },
          "execution_count": 18,
          "metadata": {},
          "output_type": "execute_result"
        }
      ],
      "source": [
        "# p1 + p2\n",
        "def gatekeeperAB(G, a, b):\n",
        "    '''\n",
        "    Determines all gatekeepers between node 'a' and node 'b' \n",
        "    '''\n",
        "    found = set()\n",
        "    # BEGIN SOLUTION\n",
        "    if a == b: return set()\n",
        "    paths = bfs_paths(G, a, b)    \n",
        "    if not paths: return set()\n",
        "    if len(paths[0]) < 3: return set()\n",
        "    found = set(paths[0][1:-1])\n",
        "    for p in paths[1:]:\n",
        "        found = found & set(p[1:-1])   \n",
        "    # END SOLUTION\n",
        "    return found\n",
        "\n",
        "\n",
        "def gatekeepers(G):\n",
        "    '''\n",
        "    Determines all gatekeepers in graph 'G'\n",
        "    '''\n",
        "    result = set()\n",
        "    for n1 in G:\n",
        "        for n2 in G:\n",
        "            result = result | gatekeeperAB(G, n1, n2)\n",
        "    return result\n",
        "\n",
        "def local_gatekeeper(G, a):\n",
        "    '''\n",
        "    Determines whether a is a local gate keeper\n",
        "    '''\n",
        "    # BEGIN SOLUTION\n",
        "    for n1,n2 in [ (n1,n2) for n1 in G[a] for n2 in G[a] if n1 != n2]:\n",
        "        if n1 not in G[n2]: return True   \n",
        "    # END SOLUTION\n",
        "    return False\n",
        "\n",
        "\n",
        "def local_gatekeepers(G):\n",
        "    '''\n",
        "    Determines all gatekeepers in graph 'G'\n",
        "    '''\n",
        "    result = set()\n",
        "    for n in G:\n",
        "        if local_gatekeeper(G,n): result.add(n)\n",
        "    return result\n",
        "\n",
        "# Check\n",
        "answer(gatekeepers(F214) == set('A'))\n",
        "answer(local_gatekeepers(F214) == {'A', 'D'})"
      ]
    },
    {
      "cell_type": "code",
      "execution_count": 19,
      "metadata": {
        "colab": {
          "base_uri": "https://localhost:8080/",
          "height": 64
        },
        "id": "LrZirgCm4bXI",
        "outputId": "b5961bbe-678c-4d22-b0e9-452e146349db"
      },
      "outputs": [
        {
          "data": {
            "text/html": [
              "<h2 style='color: green;'>Correct</h2>"
            ],
            "text/plain": [
              "<IPython.core.display.HTML object>"
            ]
          },
          "execution_count": 19,
          "metadata": {},
          "output_type": "execute_result"
        }
      ],
      "source": [
        "# (a)\n",
        "\n",
        "Answer = fromDot('''\n",
        "strict graph A {\n",
        "# BEGIN SOLUTION\n",
        "A -- B -- C -- D -- E -- F;\n",
        "# END SOLUTION\n",
        "}\n",
        "''')\n",
        "\n",
        "# Check\n",
        "answer(len(Answer) / 2 < len(gatekeepers(Answer)))\n"
      ]
    },
    {
      "cell_type": "markdown",
      "metadata": {
        "id": "PgrqC9Az4bXI"
      },
      "source": [
        "**Explanation a**: * Add your explanation here* "
      ]
    },
    {
      "cell_type": "code",
      "execution_count": 20,
      "metadata": {
        "colab": {
          "base_uri": "https://localhost:8080/",
          "height": 64
        },
        "id": "Z1cNICf04bXI",
        "outputId": "33d63fde-24af-4b08-d4d4-ceed55bfaaee"
      },
      "outputs": [
        {
          "data": {
            "text/html": [
              "<h2 style='color: green;'>Correct</h2>"
            ],
            "text/plain": [
              "<IPython.core.display.HTML object>"
            ]
          },
          "execution_count": 20,
          "metadata": {},
          "output_type": "execute_result"
        }
      ],
      "source": [
        "# (b)\n",
        "\n",
        "Answer = fromDot('''\n",
        "strict graph A {\n",
        "# BEGIN SOLUTION\n",
        "A -- B -- C -- D -- E -- F -- A;\n",
        "# END SOLUTION\n",
        "}\n",
        "''')\n",
        "\n",
        "# Check\n",
        "answer(len(gatekeepers(Answer)) == 0 and len(local_gatekeepers(Answer)) == len(Answer) and len(Answer)> 0)"
      ]
    },
    {
      "cell_type": "markdown",
      "metadata": {
        "id": "COxc87T_4bXJ"
      },
      "source": [
        "**Explanation b**: *Add your explanation here*"
      ]
    },
    {
      "cell_type": "markdown",
      "metadata": {
        "id": "QJSthbzl4bXJ"
      },
      "source": [
        "## Advanced Exercise 2.3: Diameter and Average Distance                                                     <a id=\"chapter9\"></a>\n",
        "\n",
        "The diameter of a graph is the maxium distance between any two nodes in this graph. The average distance is, as the term suggests, is the average distance between all pairs of nodes in a graph [p 41].\n",
        "\n",
        "* (p) Complete the functions ``diameter`` and ``avg_distance``. \n",
        "* (a) Give an example of a graph where the diameter of a graph is more than tree times as large as the average distance.\n",
        "* (b) Describe how you could extend your construction from (a) to produce graphs in which the diameter exceeds the average distance by as large as factor as you would like. That is, for every number c, can you produce a graph in which the diameter is more than c times as large as the average distance"
      ]
    },
    {
      "cell_type": "code",
      "execution_count": 21,
      "metadata": {
        "id": "xIYaowgh4bXJ"
      },
      "outputs": [],
      "source": [
        "# (p)\n",
        "def diameter(G):\n",
        "    '''\n",
        "    Calculates the diameter of graph\n",
        "    '''\n",
        "    d = 0\n",
        "    # BEGIN SOLUTION\n",
        "    nodes = list(G.nodes())\n",
        "    while nodes:\n",
        "        n = nodes.pop(0)\n",
        "        visited = bfs_distances(G, n)\n",
        "        m =  max(visited.values())\n",
        "        d = max(d,m)\n",
        "    # END SOLUTION\n",
        "    return d\n",
        "\n",
        "def avg_distance(G):\n",
        "    '''\n",
        "    '''\n",
        "    avg = 0\n",
        "    # BEGIN SOLUTION\n",
        "    nodes = list(G.nodes())\n",
        "    d = {}\n",
        "    while nodes:\n",
        "        n = nodes.pop(0)\n",
        "        visited = bfs_distances(G, n)\n",
        "        del visited[n]\n",
        "        for v in visited.values():\n",
        "            d[v] = d.get(v, 0) + 1\n",
        "    sum = 0.0\n",
        "    cnt = 0\n",
        "    for k,v in d.items():\n",
        "        sum += k * v\n",
        "        cnt += v\n",
        "    avg = sum / cnt\n",
        "    # END SOLUTION\n",
        "    return avg"
      ]
    },
    {
      "cell_type": "code",
      "execution_count": 22,
      "metadata": {
        "colab": {
          "base_uri": "https://localhost:8080/",
          "height": 917
        },
        "id": "1DXB50mP4bXJ",
        "outputId": "045f7c11-91e3-41fc-df86-e87890ff7d85"
      },
      "outputs": [
        {
          "data": {
            "image/svg+xml": "<svg height=\"583pt\" viewBox=\"0.00 0.00 1125.90 582.82\" width=\"1126pt\" xmlns=\"http://www.w3.org/2000/svg\" xmlns:xlink=\"http://www.w3.org/1999/xlink\">\n<g class=\"graph\" id=\"graph0\" transform=\"scale(1 1) rotate(0) translate(4 578.82)\">\n<polygon fill=\"#ffffff\" points=\"-4,4 -4,-578.82 1121.9,-578.82 1121.9,4 -4,4\" stroke=\"transparent\"/>\n<!-- 0 -->\n<g class=\"node\" id=\"node1\">\n<title>0</title>\n<ellipse cx=\"725.24\" cy=\"-143.2\" fill=\"none\" rx=\"27\" ry=\"18\" stroke=\"#000000\"/>\n<text fill=\"#000000\" font-family=\"Times,serif\" font-size=\"14.00\" text-anchor=\"middle\" x=\"725.24\" y=\"-139.5\">0</text>\n</g>\n<!-- 1 -->\n<g class=\"node\" id=\"node2\">\n<title>1</title>\n<ellipse cx=\"769.52\" cy=\"-351.26\" fill=\"none\" rx=\"27\" ry=\"18\" stroke=\"#000000\"/>\n<text fill=\"#000000\" font-family=\"Times,serif\" font-size=\"14.00\" text-anchor=\"middle\" x=\"769.52\" y=\"-347.56\">1</text>\n</g>\n<!-- 0&#45;&#45;1 -->\n<g class=\"edge\" id=\"edge1\">\n<title>0--1</title>\n<path d=\"M729.09,-161.3C737.48,-200.75 757.35,-294.07 765.71,-333.35\" fill=\"none\" stroke=\"#000000\"/>\n</g>\n<!-- 2 -->\n<g class=\"node\" id=\"node3\">\n<title>2</title>\n<ellipse cx=\"869.77\" cy=\"-19.63\" fill=\"none\" rx=\"27\" ry=\"18\" stroke=\"#000000\"/>\n<text fill=\"#000000\" font-family=\"Times,serif\" font-size=\"14.00\" text-anchor=\"middle\" x=\"869.77\" y=\"-15.93\">2</text>\n</g>\n<!-- 0&#45;&#45;2 -->\n<g class=\"edge\" id=\"edge2\">\n<title>0--2</title>\n<path d=\"M742.1,-128.78C769.95,-104.97 825.23,-57.705 853.01,-33.955\" fill=\"none\" stroke=\"#000000\"/>\n</g>\n<!-- 3 -->\n<g class=\"node\" id=\"node4\">\n<title>3</title>\n<ellipse cx=\"831.55\" cy=\"-361.21\" fill=\"none\" rx=\"27\" ry=\"18\" stroke=\"#000000\"/>\n<text fill=\"#000000\" font-family=\"Times,serif\" font-size=\"14.00\" text-anchor=\"middle\" x=\"831.55\" y=\"-357.51\">3</text>\n</g>\n<!-- 0&#45;&#45;3 -->\n<g class=\"edge\" id=\"edge3\">\n<title>0--3</title>\n<path d=\"M733.76,-160.67C753.71,-201.59 803.29,-303.25 823.14,-343.96\" fill=\"none\" stroke=\"#000000\"/>\n</g>\n<!-- 4 -->\n<g class=\"node\" id=\"node5\">\n<title>4</title>\n<ellipse cx=\"989\" cy=\"-216.85\" fill=\"none\" rx=\"27\" ry=\"18\" stroke=\"#000000\"/>\n<text fill=\"#000000\" font-family=\"Times,serif\" font-size=\"14.00\" text-anchor=\"middle\" x=\"989\" y=\"-213.15\">4</text>\n</g>\n<!-- 0&#45;&#45;4 -->\n<g class=\"edge\" id=\"edge4\">\n<title>0--4</title>\n<path d=\"M750.53,-150.26C800.94,-164.34 913.43,-195.75 963.78,-209.81\" fill=\"none\" stroke=\"#000000\"/>\n</g>\n<!-- 5 -->\n<g class=\"node\" id=\"node6\">\n<title>5</title>\n<ellipse cx=\"805.9\" cy=\"-198.68\" fill=\"none\" rx=\"27\" ry=\"18\" stroke=\"#000000\"/>\n<text fill=\"#000000\" font-family=\"Times,serif\" font-size=\"14.00\" text-anchor=\"middle\" x=\"805.9\" y=\"-194.98\">5</text>\n</g>\n<!-- 0&#45;&#45;5 -->\n<g class=\"edge\" id=\"edge5\">\n<title>0--5</title>\n<path d=\"M744.35,-156.35C757.21,-165.19 774.09,-176.8 786.92,-185.63\" fill=\"none\" stroke=\"#000000\"/>\n</g>\n<!-- 6 -->\n<g class=\"node\" id=\"node7\">\n<title>6</title>\n<ellipse cx=\"745.75\" cy=\"-74.582\" fill=\"none\" rx=\"27\" ry=\"18\" stroke=\"#000000\"/>\n<text fill=\"#000000\" font-family=\"Times,serif\" font-size=\"14.00\" text-anchor=\"middle\" x=\"745.75\" y=\"-70.882\">6</text>\n</g>\n<!-- 0&#45;&#45;6 -->\n<g class=\"edge\" id=\"edge6\">\n<title>0--6</title>\n<path d=\"M730.52,-125.53C733.56,-115.36 737.36,-102.63 740.41,-92.431\" fill=\"none\" stroke=\"#000000\"/>\n</g>\n<!-- 7 -->\n<g class=\"node\" id=\"node8\">\n<title>7</title>\n<ellipse cx=\"1090.9\" cy=\"-132.59\" fill=\"none\" rx=\"27\" ry=\"18\" stroke=\"#000000\"/>\n<text fill=\"#000000\" font-family=\"Times,serif\" font-size=\"14.00\" text-anchor=\"middle\" x=\"1090.9\" y=\"-128.89\">7</text>\n</g>\n<!-- 0&#45;&#45;7 -->\n<g class=\"edge\" id=\"edge7\">\n<title>0--7</title>\n<path d=\"M752.42,-142.41C820.11,-140.45 995.64,-135.35 1063.5,-133.39\" fill=\"none\" stroke=\"#000000\"/>\n</g>\n<!-- 8 -->\n<g class=\"node\" id=\"node9\">\n<title>8</title>\n<ellipse cx=\"807.75\" cy=\"-33.716\" fill=\"none\" rx=\"27\" ry=\"18\" stroke=\"#000000\"/>\n<text fill=\"#000000\" font-family=\"Times,serif\" font-size=\"14.00\" text-anchor=\"middle\" x=\"807.75\" y=\"-30.016\">8</text>\n</g>\n<!-- 0&#45;&#45;8 -->\n<g class=\"edge\" id=\"edge8\">\n<title>0--8</title>\n<path d=\"M737.41,-127.04C753.01,-106.34 779.9,-70.668 795.53,-49.937\" fill=\"none\" stroke=\"#000000\"/>\n</g>\n<!-- 9 -->\n<g class=\"node\" id=\"node10\">\n<title>9</title>\n<ellipse cx=\"993.83\" cy=\"-44.567\" fill=\"none\" rx=\"27\" ry=\"18\" stroke=\"#000000\"/>\n<text fill=\"#000000\" font-family=\"Times,serif\" font-size=\"14.00\" text-anchor=\"middle\" x=\"993.83\" y=\"-40.867\">9</text>\n</g>\n<!-- 0&#45;&#45;9 -->\n<g class=\"edge\" id=\"edge9\">\n<title>0--9</title>\n<path d=\"M749.07,-134.45C800.04,-115.73 919.12,-72 970.04,-53.3\" fill=\"none\" stroke=\"#000000\"/>\n</g>\n<!-- 10 -->\n<g class=\"node\" id=\"node11\">\n<title>10</title>\n<ellipse cx=\"933.24\" cy=\"-88.979\" fill=\"none\" rx=\"27\" ry=\"18\" stroke=\"#000000\"/>\n<text fill=\"#000000\" font-family=\"Times,serif\" font-size=\"14.00\" text-anchor=\"middle\" x=\"933.24\" y=\"-85.279\">10</text>\n</g>\n<!-- 0&#45;&#45;10 -->\n<g class=\"edge\" id=\"edge10\">\n<title>0--10</title>\n<path d=\"M750.74,-136.55C790.77,-126.12 867.89,-106.01 907.85,-95.597\" fill=\"none\" stroke=\"#000000\"/>\n</g>\n<!-- 11 -->\n<g class=\"node\" id=\"node12\">\n<title>11</title>\n<ellipse cx=\"730.86\" cy=\"-199.74\" fill=\"none\" rx=\"27\" ry=\"18\" stroke=\"#000000\"/>\n<text fill=\"#000000\" font-family=\"Times,serif\" font-size=\"14.00\" text-anchor=\"middle\" x=\"730.86\" y=\"-196.04\">11</text>\n</g>\n<!-- 0&#45;&#45;11 -->\n<g class=\"edge\" id=\"edge11\">\n<title>0--11</title>\n<path d=\"M727.05,-161.4C727.69,-167.85 728.41,-175.12 729.05,-181.57\" fill=\"none\" stroke=\"#000000\"/>\n</g>\n<!-- 12 -->\n<g class=\"node\" id=\"node13\">\n<title>12</title>\n<ellipse cx=\"1083.7\" cy=\"-220.61\" fill=\"none\" rx=\"27\" ry=\"18\" stroke=\"#000000\"/>\n<text fill=\"#000000\" font-family=\"Times,serif\" font-size=\"14.00\" text-anchor=\"middle\" x=\"1083.7\" y=\"-216.91\">12</text>\n</g>\n<!-- 0&#45;&#45;12 -->\n<g class=\"edge\" id=\"edge12\">\n<title>0--12</title>\n<path d=\"M751.01,-148.77C816.99,-163.01 991.4,-200.68 1057.6,-214.99\" fill=\"none\" stroke=\"#000000\"/>\n</g>\n<!-- 13 -->\n<g class=\"node\" id=\"node14\">\n<title>13</title>\n<ellipse cx=\"1066.2\" cy=\"-264.64\" fill=\"none\" rx=\"27\" ry=\"18\" stroke=\"#000000\"/>\n<text fill=\"#000000\" font-family=\"Times,serif\" font-size=\"14.00\" text-anchor=\"middle\" x=\"1066.2\" y=\"-260.94\">13</text>\n</g>\n<!-- 0&#45;&#45;13 -->\n<g class=\"edge\" id=\"edge13\">\n<title>0--13</title>\n<path d=\"M749.21,-151.74C811.81,-174.04 979.66,-233.82 1042.2,-256.11\" fill=\"none\" stroke=\"#000000\"/>\n</g>\n<!-- 14 -->\n<g class=\"node\" id=\"node15\">\n<title>14</title>\n<ellipse cx=\"955.62\" cy=\"-378.3\" fill=\"none\" rx=\"27\" ry=\"18\" stroke=\"#000000\"/>\n<text fill=\"#000000\" font-family=\"Times,serif\" font-size=\"14.00\" text-anchor=\"middle\" x=\"955.62\" y=\"-374.6\">14</text>\n</g>\n<!-- 0&#45;&#45;14 -->\n<g class=\"edge\" id=\"edge14\">\n<title>0--14</title>\n<path d=\"M740.35,-158.62C782.2,-201.32 899.2,-320.72 940.75,-363.12\" fill=\"none\" stroke=\"#000000\"/>\n</g>\n<!-- 15 -->\n<g class=\"node\" id=\"node16\">\n<title>15</title>\n<ellipse cx=\"1003.9\" cy=\"-146.87\" fill=\"none\" rx=\"27\" ry=\"18\" stroke=\"#000000\"/>\n<text fill=\"#000000\" font-family=\"Times,serif\" font-size=\"14.00\" text-anchor=\"middle\" x=\"1003.9\" y=\"-143.17\">15</text>\n</g>\n<!-- 0&#45;&#45;15 -->\n<g class=\"edge\" id=\"edge15\">\n<title>0--15</title>\n<path d=\"M752.47,-143.56C805.75,-144.26 923.22,-145.81 976.59,-146.51\" fill=\"none\" stroke=\"#000000\"/>\n</g>\n<!-- 16 -->\n<g class=\"node\" id=\"node17\">\n<title>16</title>\n<ellipse cx=\"1051.1\" cy=\"-88.572\" fill=\"none\" rx=\"27\" ry=\"18\" stroke=\"#000000\"/>\n<text fill=\"#000000\" font-family=\"Times,serif\" font-size=\"14.00\" text-anchor=\"middle\" x=\"1051.1\" y=\"-84.872\">16</text>\n</g>\n<!-- 0&#45;&#45;16 -->\n<g class=\"edge\" id=\"edge16\">\n<title>0--16</title>\n<path d=\"M751.63,-138.77C812.7,-128.54 963.18,-103.31 1024.5,-93.037\" fill=\"none\" stroke=\"#000000\"/>\n</g>\n<!-- 17 -->\n<g class=\"node\" id=\"node18\">\n<title>17</title>\n<ellipse cx=\"764.52\" cy=\"-307.19\" fill=\"none\" rx=\"27\" ry=\"18\" stroke=\"#000000\"/>\n<text fill=\"#000000\" font-family=\"Times,serif\" font-size=\"14.00\" text-anchor=\"middle\" x=\"764.52\" y=\"-303.49\">17</text>\n</g>\n<!-- 0&#45;&#45;17 -->\n<g class=\"edge\" id=\"edge17\">\n<title>0--17</title>\n<path d=\"M729.51,-161.06C737.07,-192.61 752.69,-257.82 760.24,-289.35\" fill=\"none\" stroke=\"#000000\"/>\n</g>\n<!-- 18 -->\n<g class=\"node\" id=\"node19\">\n<title>18</title>\n<ellipse cx=\"741.32\" cy=\"-253.61\" fill=\"none\" rx=\"27\" ry=\"18\" stroke=\"#000000\"/>\n<text fill=\"#000000\" font-family=\"Times,serif\" font-size=\"14.00\" text-anchor=\"middle\" x=\"741.32\" y=\"-249.91\">18</text>\n</g>\n<!-- 0&#45;&#45;18 -->\n<g class=\"edge\" id=\"edge18\">\n<title>0--18</title>\n<path d=\"M727.89,-161.43C730.87,-181.89 735.68,-214.88 738.66,-235.35\" fill=\"none\" stroke=\"#000000\"/>\n</g>\n<!-- 19 -->\n<g class=\"node\" id=\"node20\">\n<title>19</title>\n<ellipse cx=\"826.74\" cy=\"-267.44\" fill=\"none\" rx=\"27\" ry=\"18\" stroke=\"#000000\"/>\n<text fill=\"#000000\" font-family=\"Times,serif\" font-size=\"14.00\" text-anchor=\"middle\" x=\"826.74\" y=\"-263.74\">19</text>\n</g>\n<!-- 0&#45;&#45;19 -->\n<g class=\"edge\" id=\"edge19\">\n<title>0--19</title>\n<path d=\"M738.3,-159.19C757.79,-183.04 794.27,-227.69 813.73,-251.51\" fill=\"none\" stroke=\"#000000\"/>\n</g>\n<!-- 20 -->\n<g class=\"node\" id=\"node21\">\n<title>20</title>\n<ellipse cx=\"896.46\" cy=\"-162.37\" fill=\"none\" rx=\"27\" ry=\"18\" stroke=\"#000000\"/>\n<text fill=\"#000000\" font-family=\"Times,serif\" font-size=\"14.00\" text-anchor=\"middle\" x=\"896.46\" y=\"-158.67\">20</text>\n</g>\n<!-- 0&#45;&#45;20 -->\n<g class=\"edge\" id=\"edge20\">\n<title>0--20</title>\n<path d=\"M751.99,-146.19C784.06,-149.78 837.5,-155.77 869.61,-159.36\" fill=\"none\" stroke=\"#000000\"/>\n</g>\n<!-- 21 -->\n<g class=\"node\" id=\"node22\">\n<title>21</title>\n<ellipse cx=\"787.32\" cy=\"-132.43\" fill=\"none\" rx=\"27\" ry=\"18\" stroke=\"#000000\"/>\n<text fill=\"#000000\" font-family=\"Times,serif\" font-size=\"14.00\" text-anchor=\"middle\" x=\"787.32\" y=\"-128.73\">21</text>\n</g>\n<!-- 0&#45;&#45;21 -->\n<g class=\"edge\" id=\"edge21\">\n<title>0--21</title>\n<path d=\"M751.56,-138.63C754.74,-138.08 757.98,-137.52 761.15,-136.97\" fill=\"none\" stroke=\"#000000\"/>\n</g>\n<!-- 22 -->\n<g class=\"node\" id=\"node23\">\n<title>22</title>\n<ellipse cx=\"1004.1\" cy=\"-284.67\" fill=\"none\" rx=\"27\" ry=\"18\" stroke=\"#000000\"/>\n<text fill=\"#000000\" font-family=\"Times,serif\" font-size=\"14.00\" text-anchor=\"middle\" x=\"1004.1\" y=\"-280.97\">22</text>\n</g>\n<!-- 0&#45;&#45;22 -->\n<g class=\"edge\" id=\"edge22\">\n<title>0--22</title>\n<path d=\"M747.12,-154.3C799.25,-180.74 930.3,-247.22 982.33,-273.62\" fill=\"none\" stroke=\"#000000\"/>\n</g>\n<!-- 23 -->\n<g class=\"node\" id=\"node24\">\n<title>23</title>\n<ellipse cx=\"1017.7\" cy=\"-353.05\" fill=\"none\" rx=\"27\" ry=\"18\" stroke=\"#000000\"/>\n<text fill=\"#000000\" font-family=\"Times,serif\" font-size=\"14.00\" text-anchor=\"middle\" x=\"1017.7\" y=\"-349.35\">23</text>\n</g>\n<!-- 0&#45;&#45;23 -->\n<g class=\"edge\" id=\"edge23\">\n<title>0--23</title>\n<path d=\"M743.98,-156.64C796.8,-194.55 946.48,-301.95 999.11,-339.71\" fill=\"none\" stroke=\"#000000\"/>\n</g>\n<!-- 24 -->\n<g class=\"node\" id=\"node25\">\n<title>24</title>\n<ellipse cx=\"893.61\" cy=\"-381.31\" fill=\"none\" rx=\"27\" ry=\"18\" stroke=\"#000000\"/>\n<text fill=\"#000000\" font-family=\"Times,serif\" font-size=\"14.00\" text-anchor=\"middle\" x=\"893.61\" y=\"-377.61\">24</text>\n</g>\n<!-- 0&#45;&#45;24 -->\n<g class=\"edge\" id=\"edge24\">\n<title>0--24</title>\n<path d=\"M736.81,-159.56C767.57,-203.06 851.11,-321.2 881.96,-364.83\" fill=\"none\" stroke=\"#000000\"/>\n</g>\n<!-- 25 -->\n<g class=\"node\" id=\"node26\">\n<title>25</title>\n<ellipse cx=\"931.79\" cy=\"-18\" fill=\"none\" rx=\"27\" ry=\"18\" stroke=\"#000000\"/>\n<text fill=\"#000000\" font-family=\"Times,serif\" font-size=\"14.00\" text-anchor=\"middle\" x=\"931.79\" y=\"-14.3\">25</text>\n</g>\n<!-- 0&#45;&#45;25 -->\n<g class=\"edge\" id=\"edge25\">\n<title>0--25</title>\n<path d=\"M745.42,-130.97C784.91,-107.03 871.97,-54.257 911.53,-30.282\" fill=\"none\" stroke=\"#000000\"/>\n</g>\n<!-- 26 -->\n<g class=\"node\" id=\"node27\">\n<title>26</title>\n<ellipse cx=\"1068.8\" cy=\"-309.03\" fill=\"none\" rx=\"27\" ry=\"18\" stroke=\"#000000\"/>\n<text fill=\"#000000\" font-family=\"Times,serif\" font-size=\"14.00\" text-anchor=\"middle\" x=\"1068.8\" y=\"-305.33\">26</text>\n</g>\n<!-- 0&#45;&#45;26 -->\n<g class=\"edge\" id=\"edge26\">\n<title>0--26</title>\n<path d=\"M747.25,-153.82C809.15,-183.7 984.27,-268.24 1046.5,-298.28\" fill=\"none\" stroke=\"#000000\"/>\n</g>\n<!-- 27 -->\n<g class=\"node\" id=\"node28\">\n<title>27</title>\n<ellipse cx=\"895.57\" cy=\"-241\" fill=\"none\" rx=\"27\" ry=\"18\" stroke=\"#000000\"/>\n<text fill=\"#000000\" font-family=\"Times,serif\" font-size=\"14.00\" text-anchor=\"middle\" x=\"895.57\" y=\"-237.3\">27</text>\n</g>\n<!-- 0&#45;&#45;27 -->\n<g class=\"edge\" id=\"edge27\">\n<title>0--27</title>\n<path d=\"M745.78,-155C778.52,-173.79 842.17,-210.33 874.95,-229.16\" fill=\"none\" stroke=\"#000000\"/>\n</g>\n<!-- 28 -->\n<g class=\"node\" id=\"node29\">\n<title>28</title>\n<ellipse cx=\"849.34\" cy=\"-94.483\" fill=\"none\" rx=\"27\" ry=\"18\" stroke=\"#000000\"/>\n<text fill=\"#000000\" font-family=\"Times,serif\" font-size=\"14.00\" text-anchor=\"middle\" x=\"849.34\" y=\"-90.783\">28</text>\n</g>\n<!-- 0&#45;&#45;28 -->\n<g class=\"edge\" id=\"edge28\">\n<title>0--28</title>\n<path d=\"M748.58,-134.04C770.63,-125.38 803.53,-112.47 825.68,-103.77\" fill=\"none\" stroke=\"#000000\"/>\n</g>\n<!-- 29 -->\n<g class=\"node\" id=\"node30\">\n<title>29</title>\n<ellipse cx=\"1083.1\" cy=\"-176.6\" fill=\"none\" rx=\"27\" ry=\"18\" stroke=\"#000000\"/>\n<text fill=\"#000000\" font-family=\"Times,serif\" font-size=\"14.00\" text-anchor=\"middle\" x=\"1083.1\" y=\"-172.9\">29</text>\n</g>\n<!-- 0&#45;&#45;29 -->\n<g class=\"edge\" id=\"edge29\">\n<title>0--29</title>\n<path d=\"M752.13,-145.71C818.44,-151.9 989.21,-167.84 1055.8,-174.06\" fill=\"none\" stroke=\"#000000\"/>\n</g>\n<!-- 30 -->\n<g class=\"node\" id=\"node31\">\n<title>30</title>\n<ellipse cx=\"919.59\" cy=\"-310.96\" fill=\"none\" rx=\"27\" ry=\"18\" stroke=\"#000000\"/>\n<text fill=\"#000000\" font-family=\"Times,serif\" font-size=\"14.00\" text-anchor=\"middle\" x=\"919.59\" y=\"-307.26\">30</text>\n</g>\n<!-- 0&#45;&#45;30 -->\n<g class=\"edge\" id=\"edge30\">\n<title>0--30</title>\n<path d=\"M741.81,-157.5C778.53,-189.2 866.38,-265.03 903.06,-296.7\" fill=\"none\" stroke=\"#000000\"/>\n</g>\n<!-- 1&#45;&#45;2 -->\n<g class=\"edge\" id=\"edge31\">\n<title>1--2</title>\n<path d=\"M774.91,-333.43C792.31,-275.85 846.9,-95.255 864.35,-37.548\" fill=\"none\" stroke=\"#000000\"/>\n</g>\n<!-- 1&#45;&#45;3 -->\n<g class=\"edge\" id=\"edge32\">\n<title>1--3</title>\n<path d=\"M795.83,-355.48C798.86,-355.97 801.96,-356.46 805.01,-356.95\" fill=\"none\" stroke=\"#000000\"/>\n</g>\n<!-- 1&#45;&#45;4 -->\n<g class=\"edge\" id=\"edge33\">\n<title>1--4</title>\n<path d=\"M789.77,-338.85C831.69,-313.18 927.5,-254.5 969.11,-229.03\" fill=\"none\" stroke=\"#000000\"/>\n</g>\n<!-- 1&#45;&#45;5 -->\n<g class=\"edge\" id=\"edge34\">\n<title>1--5</title>\n<path d=\"M773.76,-333.46C780.73,-304.21 794.54,-246.32 801.57,-216.84\" fill=\"none\" stroke=\"#000000\"/>\n</g>\n<!-- 1&#45;&#45;6 -->\n<g class=\"edge\" id=\"edge35\">\n<title>1--6</title>\n<path d=\"M767.96,-333.1C763.65,-282.97 751.63,-143.01 747.31,-92.803\" fill=\"none\" stroke=\"#000000\"/>\n</g>\n<!-- 1&#45;&#45;7 -->\n<g class=\"edge\" id=\"edge36\">\n<title>1--7</title>\n<path d=\"M788.66,-338.23C845.82,-299.34 1014.8,-184.35 1071.8,-145.55\" fill=\"none\" stroke=\"#000000\"/>\n</g>\n<!-- 1&#45;&#45;8 -->\n<g class=\"edge\" id=\"edge37\">\n<title>1--8</title>\n<path d=\"M771.68,-333.28C778.4,-277.52 798.82,-107.92 805.57,-51.895\" fill=\"none\" stroke=\"#000000\"/>\n</g>\n<!-- 1&#45;&#45;9 -->\n<g class=\"edge\" id=\"edge38\">\n<title>1--9</title>\n<path d=\"M781.58,-334.77C820.61,-281.39 943.24,-113.72 981.98,-60.765\" fill=\"none\" stroke=\"#000000\"/>\n</g>\n<!-- 1&#45;&#45;10 -->\n<g class=\"edge\" id=\"edge39\">\n<title>1--10</title>\n<path d=\"M780.01,-334.45C809.58,-287.08 893.37,-152.85 922.84,-105.64\" fill=\"none\" stroke=\"#000000\"/>\n</g>\n<!-- 1&#45;&#45;11 -->\n<g class=\"edge\" id=\"edge40\">\n<title>1--11</title>\n<path d=\"M764.93,-333.28C757.49,-304.12 742.87,-246.84 735.44,-217.69\" fill=\"none\" stroke=\"#000000\"/>\n</g>\n<!-- 1&#45;&#45;12 -->\n<g class=\"edge\" id=\"edge41\">\n<title>1--12</title>\n<path d=\"M792.62,-341.65C850.71,-317.49 1002.4,-254.41 1060.5,-230.23\" fill=\"none\" stroke=\"#000000\"/>\n</g>\n<!-- 1&#45;&#45;13 -->\n<g class=\"edge\" id=\"edge42\">\n<title>1--13</title>\n<path d=\"M794.3,-344.02C850.14,-327.72 985.28,-288.26 1041.3,-271.92\" fill=\"none\" stroke=\"#000000\"/>\n</g>\n<!-- 1&#45;&#45;14 -->\n<g class=\"edge\" id=\"edge43\">\n<title>1--14</title>\n<path d=\"M796.18,-355.13C831.56,-360.27 893.65,-369.29 929,-374.43\" fill=\"none\" stroke=\"#000000\"/>\n</g>\n<!-- 1&#45;&#45;15 -->\n<g class=\"edge\" id=\"edge44\">\n<title>1--15</title>\n<path d=\"M786,-336.89C829.04,-299.36 944.45,-198.73 987.47,-161.22\" fill=\"none\" stroke=\"#000000\"/>\n</g>\n<!-- 1&#45;&#45;16 -->\n<g class=\"edge\" id=\"edge45\">\n<title>1--16</title>\n<path d=\"M785.46,-336.38C835.03,-290.15 986.03,-149.3 1035.4,-103.28\" fill=\"none\" stroke=\"#000000\"/>\n</g>\n<!-- 1&#45;&#45;17 -->\n<g class=\"edge\" id=\"edge46\">\n<title>1--17</title>\n<path d=\"M767.45,-333.08C767.16,-330.52 766.86,-327.89 766.57,-325.33\" fill=\"none\" stroke=\"#000000\"/>\n</g>\n<!-- 1&#45;&#45;18 -->\n<g class=\"edge\" id=\"edge47\">\n<title>1--18</title>\n<path d=\"M764.35,-333.35C759.26,-315.73 751.53,-288.99 746.46,-271.41\" fill=\"none\" stroke=\"#000000\"/>\n</g>\n<!-- 1&#45;&#45;19 -->\n<g class=\"edge\" id=\"edge48\">\n<title>1--19</title>\n<path d=\"M780.82,-334.7C790.85,-320 805.43,-298.65 815.46,-283.97\" fill=\"none\" stroke=\"#000000\"/>\n</g>\n<!-- 1&#45;&#45;20 -->\n<g class=\"edge\" id=\"edge49\">\n<title>1--20</title>\n<path d=\"M780.56,-334.83C804.57,-299.1 861.29,-214.71 885.35,-178.9\" fill=\"none\" stroke=\"#000000\"/>\n</g>\n<!-- 1&#45;&#45;21 -->\n<g class=\"edge\" id=\"edge50\">\n<title>1--21</title>\n<path d=\"M771,-332.98C774.36,-291.68 782.5,-191.6 785.85,-150.5\" fill=\"none\" stroke=\"#000000\"/>\n</g>\n<!-- 1&#45;&#45;22 -->\n<g class=\"edge\" id=\"edge51\">\n<title>1--22</title>\n<path d=\"M794.62,-344.13C839.78,-331.31 934.17,-304.52 979.19,-291.74\" fill=\"none\" stroke=\"#000000\"/>\n</g>\n<!-- 1&#45;&#45;23 -->\n<g class=\"edge\" id=\"edge52\">\n<title>1--23</title>\n<path d=\"M796.55,-351.45C844.16,-351.8 942.46,-352.5 990.31,-352.85\" fill=\"none\" stroke=\"#000000\"/>\n</g>\n<!-- 1&#45;&#45;24 -->\n<g class=\"edge\" id=\"edge53\">\n<title>1--24</title>\n<path d=\"M794.93,-357.41C816.34,-362.6 846.83,-369.98 868.23,-375.16\" fill=\"none\" stroke=\"#000000\"/>\n</g>\n<!-- 1&#45;&#45;25 -->\n<g class=\"edge\" id=\"edge54\">\n<title>1--25</title>\n<path d=\"M778.01,-333.81C806.05,-276.22 895.46,-92.611 923.38,-35.275\" fill=\"none\" stroke=\"#000000\"/>\n</g>\n<!-- 1&#45;&#45;26 -->\n<g class=\"edge\" id=\"edge55\">\n<title>1--26</title>\n<path d=\"M796.07,-347.51C852.86,-339.5 985.53,-320.77 1042.3,-312.77\" fill=\"none\" stroke=\"#000000\"/>\n</g>\n<!-- 1&#45;&#45;27 -->\n<g class=\"edge\" id=\"edge56\">\n<title>1--27</title>\n<path d=\"M786,-336.84C810.16,-315.71 854.93,-276.55 879.09,-255.42\" fill=\"none\" stroke=\"#000000\"/>\n</g>\n<!-- 1&#45;&#45;28 -->\n<g class=\"edge\" id=\"edge57\">\n<title>1--28</title>\n<path d=\"M775,-333.61C789.59,-286.7 829.19,-159.31 843.81,-112.26\" fill=\"none\" stroke=\"#000000\"/>\n</g>\n<!-- 1&#45;&#45;29 -->\n<g class=\"edge\" id=\"edge58\">\n<title>1--29</title>\n<path d=\"M790.58,-339.53C847.69,-307.71 1005.1,-220.04 1062.1,-188.28\" fill=\"none\" stroke=\"#000000\"/>\n</g>\n<!-- 1&#45;&#45;30 -->\n<g class=\"edge\" id=\"edge59\">\n<title>1--30</title>\n<path d=\"M794.64,-344.51C822.34,-337.07 866.65,-325.18 894.39,-317.73\" fill=\"none\" stroke=\"#000000\"/>\n</g>\n<!-- X -->\n<g class=\"node\" id=\"node32\">\n<title>X</title>\n<ellipse cx=\"524.49\" cy=\"-467.47\" fill=\"none\" rx=\"27\" ry=\"18\" stroke=\"#000000\"/>\n<text fill=\"#000000\" font-family=\"Times,serif\" font-size=\"14.00\" text-anchor=\"middle\" x=\"524.49\" y=\"-463.77\">X</text>\n</g>\n<!-- 1&#45;&#45;X -->\n<g class=\"edge\" id=\"edge60\">\n<title>1--X</title>\n<path d=\"M747.34,-361.78C700.81,-383.84 593.44,-434.77 546.79,-456.89\" fill=\"none\" stroke=\"#000000\"/>\n</g>\n<!-- 2&#45;&#45;3 -->\n<g class=\"edge\" id=\"edge61\">\n<title>2--3</title>\n<path d=\"M867.71,-37.995C861.06,-97.443 840.17,-284.19 833.57,-343.17\" fill=\"none\" stroke=\"#000000\"/>\n</g>\n<!-- 2&#45;&#45;4 -->\n<g class=\"edge\" id=\"edge62\">\n<title>2--4</title>\n<path d=\"M879.93,-36.445C902.46,-73.705 956.35,-162.85 978.86,-200.08\" fill=\"none\" stroke=\"#000000\"/>\n</g>\n<!-- 2&#45;&#45;5 -->\n<g class=\"edge\" id=\"edge63\">\n<title>2--5</title>\n<path d=\"M863.41,-37.453C851.17,-71.773 824.45,-146.67 812.23,-180.93\" fill=\"none\" stroke=\"#000000\"/>\n</g>\n<!-- 2&#45;&#45;6 -->\n<g class=\"edge\" id=\"edge64\">\n<title>2--6</title>\n<path d=\"M847.02,-29.709C824.64,-39.624 790.68,-54.674 768.35,-64.567\" fill=\"none\" stroke=\"#000000\"/>\n</g>\n<!-- 2&#45;&#45;7 -->\n<g class=\"edge\" id=\"edge65\">\n<title>2--7</title>\n<path d=\"M891.37,-30.667C933.64,-52.263 1026.9,-99.879 1069.2,-121.51\" fill=\"none\" stroke=\"#000000\"/>\n</g>\n<!-- 2&#45;&#45;8 -->\n<g class=\"edge\" id=\"edge66\">\n<title>2--8</title>\n<path d=\"M844.19,-25.441C840.72,-26.229 837.15,-27.038 833.68,-27.828\" fill=\"none\" stroke=\"#000000\"/>\n</g>\n<!-- 2&#45;&#45;9 -->\n<g class=\"edge\" id=\"edge67\">\n<title>2--9</title>\n<path d=\"M895.77,-24.858C916.95,-29.114 946.69,-35.092 967.85,-39.346\" fill=\"none\" stroke=\"#000000\"/>\n</g>\n<!-- 2&#45;&#45;10 -->\n<g class=\"edge\" id=\"edge68\">\n<title>2--10</title>\n<path d=\"M883.85,-35.021C894.23,-46.354 908.29,-61.716 918.75,-73.15\" fill=\"none\" stroke=\"#000000\"/>\n</g>\n<!-- 2&#45;&#45;11 -->\n<g class=\"edge\" id=\"edge69\">\n<title>2--11</title>\n<path d=\"M857.19,-35.931C830.75,-70.221 769.63,-149.46 743.3,-183.6\" fill=\"none\" stroke=\"#000000\"/>\n</g>\n<!-- 2&#45;&#45;12 -->\n<g class=\"edge\" id=\"edge70\">\n<title>2--12</title>\n<path d=\"M885.49,-34.409C925.05,-71.575 1028.3,-168.62 1067.9,-205.81\" fill=\"none\" stroke=\"#000000\"/>\n</g>\n<!-- 2&#45;&#45;13 -->\n<g class=\"edge\" id=\"edge71\">\n<title>2--13</title>\n<path d=\"M882.65,-35.706C918.24,-80.101 1017.6,-204.04 1053.2,-248.51\" fill=\"none\" stroke=\"#000000\"/>\n</g>\n<!-- 2&#45;&#45;14 -->\n<g class=\"edge\" id=\"edge72\">\n<title>2--14</title>\n<path d=\"M874.02,-37.417C888.64,-98.48 936.68,-299.18 951.34,-360.4\" fill=\"none\" stroke=\"#000000\"/>\n</g>\n<!-- 2&#45;&#45;15 -->\n<g class=\"edge\" id=\"edge73\">\n<title>2--15</title>\n<path d=\"M885.42,-34.475C911.27,-58.992 962.59,-107.66 988.38,-132.12\" fill=\"none\" stroke=\"#000000\"/>\n</g>\n<!-- 2&#45;&#45;16 -->\n<g class=\"edge\" id=\"edge74\">\n<title>2--16</title>\n<path d=\"M893.48,-28.643C928.23,-41.856 992.65,-66.343 1027.4,-79.557\" fill=\"none\" stroke=\"#000000\"/>\n</g>\n<!-- 2&#45;&#45;17 -->\n<g class=\"edge\" id=\"edge75\">\n<title>2--17</title>\n<path d=\"M863.34,-37.185C844.55,-88.522 789.84,-237.99 770.99,-289.5\" fill=\"none\" stroke=\"#000000\"/>\n</g>\n<!-- 2&#45;&#45;18 -->\n<g class=\"edge\" id=\"edge76\">\n<title>2--18</title>\n<path d=\"M860.32,-36.835C836.51,-80.211 774.24,-193.63 750.6,-236.69\" fill=\"none\" stroke=\"#000000\"/>\n</g>\n<!-- 2&#45;&#45;19 -->\n<g class=\"edge\" id=\"edge77\">\n<title>2--19</title>\n<path d=\"M866.6,-37.852C858.62,-83.792 837.77,-203.92 829.85,-249.53\" fill=\"none\" stroke=\"#000000\"/>\n</g>\n<!-- 2&#45;&#45;20 -->\n<g class=\"edge\" id=\"edge78\">\n<title>2--20</title>\n<path d=\"M873.15,-37.708C878.28,-65.165 887.99,-117.07 893.11,-144.44\" fill=\"none\" stroke=\"#000000\"/>\n</g>\n<!-- 2&#45;&#45;21 -->\n<g class=\"edge\" id=\"edge79\">\n<title>2--21</title>\n<path d=\"M857.6,-36.274C841.92,-57.722 814.83,-94.778 799.26,-116.08\" fill=\"none\" stroke=\"#000000\"/>\n</g>\n<!-- 2&#45;&#45;22 -->\n<g class=\"edge\" id=\"edge80\">\n<title>2--22</title>\n<path d=\"M878.58,-37.02C902.98,-85.158 971.21,-219.76 995.44,-267.56\" fill=\"none\" stroke=\"#000000\"/>\n</g>\n<!-- 2&#45;&#45;23 -->\n<g class=\"edge\" id=\"edge81\">\n<title>2--23</title>\n<path d=\"M877.51,-37.087C903.07,-94.702 984.57,-278.4 1010,-335.76\" fill=\"none\" stroke=\"#000000\"/>\n</g>\n<!-- 2&#45;&#45;24 -->\n<g class=\"edge\" id=\"edge82\">\n<title>2--24</title>\n<path d=\"M870.98,-38.063C875.07,-100.11 888.31,-300.92 892.4,-362.91\" fill=\"none\" stroke=\"#000000\"/>\n</g>\n<!-- 2&#45;&#45;25 -->\n<g class=\"edge\" id=\"edge83\">\n<title>2--25</title>\n<path d=\"M896.79,-18.92C899.4,-18.851 902.05,-18.782 904.66,-18.713\" fill=\"none\" stroke=\"#000000\"/>\n</g>\n<!-- 2&#45;&#45;26 -->\n<g class=\"edge\" id=\"edge84\">\n<title>2--26</title>\n<path d=\"M881.03,-36.019C915.98,-86.836 1022.3,-241.4 1057.4,-292.46\" fill=\"none\" stroke=\"#000000\"/>\n</g>\n<!-- 2&#45;&#45;27 -->\n<g class=\"edge\" id=\"edge85\">\n<title>2--27</title>\n<path d=\"M871.88,-37.746C876.73,-79.359 888.62,-181.39 893.47,-222.94\" fill=\"none\" stroke=\"#000000\"/>\n</g>\n<!-- 2&#45;&#45;28 -->\n<g class=\"edge\" id=\"edge86\">\n<title>2--28</title>\n<path d=\"M864.92,-37.369C861.69,-49.215 857.45,-64.739 854.21,-76.612\" fill=\"none\" stroke=\"#000000\"/>\n</g>\n<!-- 2&#45;&#45;29 -->\n<g class=\"edge\" id=\"edge87\">\n<title>2--29</title>\n<path d=\"M887.95,-33.013C928.25,-62.669 1024.7,-133.62 1064.9,-163.25\" fill=\"none\" stroke=\"#000000\"/>\n</g>\n<!-- 2&#45;&#45;30 -->\n<g class=\"edge\" id=\"edge88\">\n<title>2--30</title>\n<path d=\"M872.88,-37.854C881.83,-90.174 907.53,-240.43 916.47,-292.75\" fill=\"none\" stroke=\"#000000\"/>\n</g>\n<!-- 3&#45;&#45;4 -->\n<g class=\"edge\" id=\"edge89\">\n<title>3--4</title>\n<path d=\"M847.52,-346.57C877.69,-318.9 942.78,-259.22 972.99,-231.52\" fill=\"none\" stroke=\"#000000\"/>\n</g>\n<!-- 3&#45;&#45;5 -->\n<g class=\"edge\" id=\"edge90\">\n<title>3--5</title>\n<path d=\"M828.71,-343.2C823.78,-311.95 813.69,-248.07 808.75,-216.77\" fill=\"none\" stroke=\"#000000\"/>\n</g>\n<!-- 3&#45;&#45;6 -->\n<g class=\"edge\" id=\"edge91\">\n<title>3--6</title>\n<path d=\"M826.19,-343.28C810.78,-291.81 766.52,-143.97 751.11,-92.506\" fill=\"none\" stroke=\"#000000\"/>\n</g>\n<!-- 3&#45;&#45;7 -->\n<g class=\"edge\" id=\"edge92\">\n<title>3--7</title>\n<path d=\"M848.17,-346.56C895.01,-305.27 1027.7,-188.26 1074.4,-147.12\" fill=\"none\" stroke=\"#000000\"/>\n</g>\n<!-- 3&#45;&#45;8 -->\n<g class=\"edge\" id=\"edge93\">\n<title>3--8</title>\n<path d=\"M830.24,-343.14C826.08,-285.88 813.22,-108.91 809.06,-51.734\" fill=\"none\" stroke=\"#000000\"/>\n</g>\n<!-- 3&#45;&#45;9 -->\n<g class=\"edge\" id=\"edge94\">\n<title>3--9</title>\n<path d=\"M840.51,-343.74C868.95,-288.25 956.98,-116.47 985.1,-61.602\" fill=\"none\" stroke=\"#000000\"/>\n</g>\n<!-- 3&#45;&#45;10 -->\n<g class=\"edge\" id=\"edge95\">\n<title>3--10</title>\n<path d=\"M838.22,-343.35C856.69,-293.9 908.34,-155.65 926.68,-106.55\" fill=\"none\" stroke=\"#000000\"/>\n</g>\n<!-- 3&#45;&#45;11 -->\n<g class=\"edge\" id=\"edge96\">\n<title>3--11</title>\n<path d=\"M821.16,-344.54C801.86,-313.6 760.71,-247.62 741.35,-216.56\" fill=\"none\" stroke=\"#000000\"/>\n</g>\n<!-- 3&#45;&#45;12 -->\n<g class=\"edge\" id=\"edge97\">\n<title>3--12</title>\n<path d=\"M852.61,-349.46C900.19,-322.93 1015.5,-258.63 1062.8,-232.22\" fill=\"none\" stroke=\"#000000\"/>\n</g>\n<!-- 3&#45;&#45;13 -->\n<g class=\"edge\" id=\"edge98\">\n<title>3--13</title>\n<path d=\"M854.91,-351.6C899.88,-333.09 998.01,-292.7 1042.9,-274.22\" fill=\"none\" stroke=\"#000000\"/>\n</g>\n<!-- 3&#45;&#45;14 -->\n<g class=\"edge\" id=\"edge99\">\n<title>3--14</title>\n<path d=\"M858.17,-364.88C879.1,-367.76 908.13,-371.76 929.05,-374.64\" fill=\"none\" stroke=\"#000000\"/>\n</g>\n<!-- 3&#45;&#45;15 -->\n<g class=\"edge\" id=\"edge100\">\n<title>3--15</title>\n<path d=\"M844.51,-345.1C876.53,-305.28 959.13,-202.58 991.06,-162.87\" fill=\"none\" stroke=\"#000000\"/>\n</g>\n<!-- 3&#45;&#45;16 -->\n<g class=\"edge\" id=\"edge101\">\n<title>3--16</title>\n<path d=\"M844.63,-344.97C883.68,-296.48 999.15,-153.11 1038.1,-104.73\" fill=\"none\" stroke=\"#000000\"/>\n</g>\n<!-- 3&#45;&#45;17 -->\n<g class=\"edge\" id=\"edge102\">\n<title>3--17</title>\n<path d=\"M814.29,-347.3C804.36,-339.3 791.91,-329.27 781.95,-321.24\" fill=\"none\" stroke=\"#000000\"/>\n</g>\n<!-- 3&#45;&#45;18 -->\n<g class=\"edge\" id=\"edge103\">\n<title>3--18</title>\n<path d=\"M818.24,-345.33C801.18,-324.99 771.77,-289.93 754.69,-269.55\" fill=\"none\" stroke=\"#000000\"/>\n</g>\n<!-- 3&#45;&#45;19 -->\n<g class=\"edge\" id=\"edge104\">\n<title>3--19</title>\n<path d=\"M830.62,-343.13C829.77,-326.53 828.51,-302.05 827.66,-285.47\" fill=\"none\" stroke=\"#000000\"/>\n</g>\n<!-- 3&#45;&#45;20 -->\n<g class=\"edge\" id=\"edge105\">\n<title>3--20</title>\n<path d=\"M837.31,-343.56C849.63,-305.83 878.41,-217.67 890.72,-179.98\" fill=\"none\" stroke=\"#000000\"/>\n</g>\n<!-- 3&#45;&#45;21 -->\n<g class=\"edge\" id=\"edge106\">\n<title>3--21</title>\n<path d=\"M828.08,-343.26C819.81,-300.49 799.02,-192.98 790.77,-150.29\" fill=\"none\" stroke=\"#000000\"/>\n</g>\n<!-- 3&#45;&#45;22 -->\n<g class=\"edge\" id=\"edge107\">\n<title>3--22</title>\n<path d=\"M854.11,-351.2C887.18,-336.53 948.47,-309.35 981.55,-294.68\" fill=\"none\" stroke=\"#000000\"/>\n</g>\n<!-- 3&#45;&#45;23 -->\n<g class=\"edge\" id=\"edge108\">\n<title>3--23</title>\n<path d=\"M858.62,-360.02C893.91,-358.48 955.29,-355.78 990.59,-354.23\" fill=\"none\" stroke=\"#000000\"/>\n</g>\n<!-- 3&#45;&#45;24 -->\n<g class=\"edge\" id=\"edge109\">\n<title>3--24</title>\n<path d=\"M856.08,-369.15C860.42,-370.56 864.93,-372.02 869.26,-373.42\" fill=\"none\" stroke=\"#000000\"/>\n</g>\n<!-- 3&#45;&#45;25 -->\n<g class=\"edge\" id=\"edge110\">\n<title>3--25</title>\n<path d=\"M836.8,-343.24C854.12,-283.93 909.35,-94.839 926.59,-35.791\" fill=\"none\" stroke=\"#000000\"/>\n</g>\n<!-- 3&#45;&#45;26 -->\n<g class=\"edge\" id=\"edge111\">\n<title>3--26</title>\n<path d=\"M857.39,-355.53C903.02,-345.49 997.35,-324.74 1043,-314.7\" fill=\"none\" stroke=\"#000000\"/>\n</g>\n<!-- 3&#45;&#45;27 -->\n<g class=\"edge\" id=\"edge112\">\n<title>3--27</title>\n<path d=\"M840.59,-344.24C852.72,-321.46 874.16,-281.2 886.37,-258.27\" fill=\"none\" stroke=\"#000000\"/>\n</g>\n<!-- 3&#45;&#45;28 -->\n<g class=\"edge\" id=\"edge113\">\n<title>3--28</title>\n<path d=\"M832.78,-342.88C836.03,-294.03 844.89,-161.18 848.13,-112.59\" fill=\"none\" stroke=\"#000000\"/>\n</g>\n<!-- 3&#45;&#45;29 -->\n<g class=\"edge\" id=\"edge114\">\n<title>3--29</title>\n<path d=\"M850.05,-347.64C896.67,-313.41 1018.6,-223.92 1064.9,-189.94\" fill=\"none\" stroke=\"#000000\"/>\n</g>\n<!-- 3&#45;&#45;30 -->\n<g class=\"edge\" id=\"edge115\">\n<title>3--30</title>\n<path d=\"M852.42,-349.3C866.45,-341.29 884.87,-330.78 898.88,-322.79\" fill=\"none\" stroke=\"#000000\"/>\n</g>\n<!-- 4&#45;&#45;5 -->\n<g class=\"edge\" id=\"edge116\">\n<title>4--5</title>\n<path d=\"M961.98,-214.17C927.26,-210.72 867.35,-204.78 832.73,-201.34\" fill=\"none\" stroke=\"#000000\"/>\n</g>\n<!-- 4&#45;&#45;6 -->\n<g class=\"edge\" id=\"edge117\">\n<title>4--6</title>\n<path d=\"M968.67,-204.96C922.89,-178.18 812.08,-113.38 766.18,-86.533\" fill=\"none\" stroke=\"#000000\"/>\n</g>\n<!-- 4&#45;&#45;7 -->\n<g class=\"edge\" id=\"edge118\">\n<title>4--7</title>\n<path d=\"M1006.3,-202.55C1025.1,-186.97 1055.1,-162.18 1073.9,-146.67\" fill=\"none\" stroke=\"#000000\"/>\n</g>\n<!-- 4&#45;&#45;8 -->\n<g class=\"edge\" id=\"edge119\">\n<title>4--8</title>\n<path d=\"M973.85,-201.55C939.65,-166.99 856.76,-83.236 822.72,-48.842\" fill=\"none\" stroke=\"#000000\"/>\n</g>\n<!-- 4&#45;&#45;9 -->\n<g class=\"edge\" id=\"edge120\">\n<title>4--9</title>\n<path d=\"M989.5,-198.74C990.43,-165.65 992.39,-95.794 993.32,-62.694\" fill=\"none\" stroke=\"#000000\"/>\n</g>\n<!-- 4&#45;&#45;10 -->\n<g class=\"edge\" id=\"edge121\">\n<title>4--10</title>\n<path d=\"M981.36,-199.34C970.68,-174.85 951.41,-130.65 940.78,-106.28\" fill=\"none\" stroke=\"#000000\"/>\n</g>\n<!-- 4&#45;&#45;11 -->\n<g class=\"edge\" id=\"edge122\">\n<title>4--11</title>\n<path d=\"M961.86,-215.05C912.28,-211.76 807.61,-204.82 758.02,-201.54\" fill=\"none\" stroke=\"#000000\"/>\n</g>\n<!-- 4&#45;&#45;12 -->\n<g class=\"edge\" id=\"edge123\">\n<title>4--12</title>\n<path d=\"M1016.1,-217.92C1028.8,-218.43 1043.9,-219.03 1056.5,-219.53\" fill=\"none\" stroke=\"#000000\"/>\n</g>\n<!-- 4&#45;&#45;13 -->\n<g class=\"edge\" id=\"edge124\">\n<title>4--13</title>\n<path d=\"M1008.9,-229.16C1020.4,-236.29 1034.9,-245.25 1046.4,-252.38\" fill=\"none\" stroke=\"#000000\"/>\n</g>\n<!-- 4&#45;&#45;14 -->\n<g class=\"edge\" id=\"edge125\">\n<title>4--14</title>\n<path d=\"M985.3,-234.74C978.88,-265.78 965.76,-329.23 959.33,-360.32\" fill=\"none\" stroke=\"#000000\"/>\n</g>\n<!-- 4&#45;&#45;15 -->\n<g class=\"edge\" id=\"edge126\">\n<title>4--15</title>\n<path d=\"M992.84,-198.83C995.06,-188.46 997.83,-175.47 1000,-165.07\" fill=\"none\" stroke=\"#000000\"/>\n</g>\n<!-- 4&#45;&#45;16 -->\n<g class=\"edge\" id=\"edge127\">\n<title>4--16</title>\n<path d=\"M997.37,-199.55C1009.2,-175.07 1030.8,-130.56 1042.7,-106.01\" fill=\"none\" stroke=\"#000000\"/>\n</g>\n<!-- 4&#45;&#45;17 -->\n<g class=\"edge\" id=\"edge128\">\n<title>4--17</title>\n<path d=\"M965.82,-226.18C922.8,-243.49 831.08,-280.4 787.9,-297.78\" fill=\"none\" stroke=\"#000000\"/>\n</g>\n<!-- 4&#45;&#45;18 -->\n<g class=\"edge\" id=\"edge129\">\n<title>4--18</title>\n<path d=\"M962.49,-220.78C914.94,-227.84 815.69,-242.57 768.01,-249.65\" fill=\"none\" stroke=\"#000000\"/>\n</g>\n<!-- 4&#45;&#45;19 -->\n<g class=\"edge\" id=\"edge130\">\n<title>4--19</title>\n<path d=\"M964.35,-224.53C933.77,-234.07 881.92,-250.24 851.35,-259.77\" fill=\"none\" stroke=\"#000000\"/>\n</g>\n<!-- 4&#45;&#45;20 -->\n<g class=\"edge\" id=\"edge131\">\n<title>4--20</title>\n<path d=\"M968.46,-204.76C953.13,-195.73 932.26,-183.45 916.94,-174.43\" fill=\"none\" stroke=\"#000000\"/>\n</g>\n<!-- 4&#45;&#45;21 -->\n<g class=\"edge\" id=\"edge132\">\n<title>4--21</title>\n<path d=\"M965.86,-207.16C927.06,-190.92 849.32,-158.38 810.49,-142.13\" fill=\"none\" stroke=\"#000000\"/>\n</g>\n<!-- 4&#45;&#45;22 -->\n<g class=\"edge\" id=\"edge133\">\n<title>4--22</title>\n<path d=\"M992.97,-234.67C995.17,-244.56 997.91,-256.82 1000.1,-266.73\" fill=\"none\" stroke=\"#000000\"/>\n</g>\n<!-- 4&#45;&#45;23 -->\n<g class=\"edge\" id=\"edge134\">\n<title>4--23</title>\n<path d=\"M992.81,-234.93C998.29,-260.98 1008.4,-308.79 1013.9,-334.88\" fill=\"none\" stroke=\"#000000\"/>\n</g>\n<!-- 4&#45;&#45;24 -->\n<g class=\"edge\" id=\"edge135\">\n<title>4--24</title>\n<path d=\"M979.15,-233.83C960.87,-265.34 921.89,-332.54 903.55,-364.17\" fill=\"none\" stroke=\"#000000\"/>\n</g>\n<!-- 4&#45;&#45;25 -->\n<g class=\"edge\" id=\"edge136\">\n<title>4--25</title>\n<path d=\"M983.82,-198.85C972.93,-160.99 947.76,-73.51 936.91,-35.813\" fill=\"none\" stroke=\"#000000\"/>\n</g>\n<!-- 4&#45;&#45;26 -->\n<g class=\"edge\" id=\"edge137\">\n<title>4--26</title>\n<path d=\"M1002.5,-232.48C1017.2,-249.44 1040.5,-276.33 1055.2,-293.31\" fill=\"none\" stroke=\"#000000\"/>\n</g>\n<!-- 4&#45;&#45;27 -->\n<g class=\"edge\" id=\"edge138\">\n<title>4--27</title>\n<path d=\"M963.47,-223.45C950.18,-226.88 933.98,-231.07 920.75,-234.49\" fill=\"none\" stroke=\"#000000\"/>\n</g>\n<!-- 4&#45;&#45;28 -->\n<g class=\"edge\" id=\"edge139\">\n<title>4--28</title>\n<path d=\"M972.43,-202.33C945.55,-178.78 892.75,-132.52 865.88,-108.98\" fill=\"none\" stroke=\"#000000\"/>\n</g>\n<!-- 4&#45;&#45;29 -->\n<g class=\"edge\" id=\"edge140\">\n<title>4--29</title>\n<path d=\"M1011.8,-207.1C1026.4,-200.82 1045.5,-192.68 1060.2,-186.39\" fill=\"none\" stroke=\"#000000\"/>\n</g>\n<!-- 4&#45;&#45;30 -->\n<g class=\"edge\" id=\"edge141\">\n<title>4--30</title>\n<path d=\"M976.91,-233.24C964.17,-250.52 944.23,-277.55 931.54,-294.76\" fill=\"none\" stroke=\"#000000\"/>\n</g>\n<!-- 5&#45;&#45;6 -->\n<g class=\"edge\" id=\"edge142\">\n<title>5--6</title>\n<path d=\"M797.53,-181.42C786.11,-157.85 765.73,-115.8 754.23,-92.091\" fill=\"none\" stroke=\"#000000\"/>\n</g>\n<!-- 5&#45;&#45;7 -->\n<g class=\"edge\" id=\"edge143\">\n<title>5--7</title>\n<path d=\"M831.44,-192.76C885.54,-180.21 1011.2,-151.08 1065.3,-138.53\" fill=\"none\" stroke=\"#000000\"/>\n</g>\n<!-- 5&#45;&#45;8 -->\n<g class=\"edge\" id=\"edge144\">\n<title>5--8</title>\n<path d=\"M806.1,-180.39C806.46,-148.6 807.19,-83.505 807.55,-51.831\" fill=\"none\" stroke=\"#000000\"/>\n</g>\n<!-- 5&#45;&#45;9 -->\n<g class=\"edge\" id=\"edge145\">\n<title>5--9</title>\n<path d=\"M823.24,-184.46C859.04,-155.1 940.76,-88.084 976.52,-58.755\" fill=\"none\" stroke=\"#000000\"/>\n</g>\n<!-- 5&#45;&#45;10 -->\n<g class=\"edge\" id=\"edge146\">\n<title>5--10</title>\n<path d=\"M822.54,-184.34C846.95,-163.31 892.18,-124.35 916.59,-103.32\" fill=\"none\" stroke=\"#000000\"/>\n</g>\n<!-- 5&#45;&#45;11 -->\n<g class=\"edge\" id=\"edge147\">\n<title>5--11</title>\n<path d=\"M778.81,-199.06C772,-199.16 764.71,-199.26 757.91,-199.35\" fill=\"none\" stroke=\"#000000\"/>\n</g>\n<!-- 5&#45;&#45;12 -->\n<g class=\"edge\" id=\"edge148\">\n<title>5--12</title>\n<path d=\"M832.78,-200.8C885.88,-204.99 1003.7,-214.29 1056.8,-218.48\" fill=\"none\" stroke=\"#000000\"/>\n</g>\n<!-- 5&#45;&#45;13 -->\n<g class=\"edge\" id=\"edge149\">\n<title>5--13</title>\n<path d=\"M831.33,-205.12C881.08,-217.73 990.8,-245.54 1040.6,-258.17\" fill=\"none\" stroke=\"#000000\"/>\n</g>\n<!-- 5&#45;&#45;14 -->\n<g class=\"edge\" id=\"edge150\">\n<title>5--14</title>\n<path d=\"M819.18,-214.62C847.6,-248.7 913.98,-328.34 942.36,-362.39\" fill=\"none\" stroke=\"#000000\"/>\n</g>\n<!-- 5&#45;&#45;15 -->\n<g class=\"edge\" id=\"edge151\">\n<title>5--15</title>\n<path d=\"M831.38,-192.01C869.41,-182.06 940.58,-163.44 978.55,-153.51\" fill=\"none\" stroke=\"#000000\"/>\n</g>\n<!-- 5&#45;&#45;16 -->\n<g class=\"edge\" id=\"edge152\">\n<title>5--16</title>\n<path d=\"M828.53,-188.52C875.24,-167.54 981.88,-119.66 1028.6,-98.709\" fill=\"none\" stroke=\"#000000\"/>\n</g>\n<!-- 5&#45;&#45;17 -->\n<g class=\"edge\" id=\"edge153\">\n<title>5--17</title>\n<path d=\"M799.06,-216.6C791.35,-236.82 778.88,-269.52 771.22,-289.6\" fill=\"none\" stroke=\"#000000\"/>\n</g>\n<!-- 5&#45;&#45;18 -->\n<g class=\"edge\" id=\"edge154\">\n<title>5--18</title>\n<path d=\"M788.93,-213.11C779.51,-221.12 767.83,-231.06 758.4,-239.08\" fill=\"none\" stroke=\"#000000\"/>\n</g>\n<!-- 5&#45;&#45;19 -->\n<g class=\"edge\" id=\"edge155\">\n<title>5--19</title>\n<path d=\"M811.26,-216.39C814.35,-226.57 818.22,-239.34 821.32,-249.55\" fill=\"none\" stroke=\"#000000\"/>\n</g>\n<!-- 5&#45;&#45;20 -->\n<g class=\"edge\" id=\"edge156\">\n<title>5--20</title>\n<path d=\"M829.22,-189.33C842.74,-183.91 859.71,-177.1 873.22,-171.69\" fill=\"none\" stroke=\"#000000\"/>\n</g>\n<!-- 5&#45;&#45;21 -->\n<g class=\"edge\" id=\"edge157\">\n<title>5--21</title>\n<path d=\"M800.92,-180.92C798.25,-171.42 794.98,-159.74 792.31,-150.23\" fill=\"none\" stroke=\"#000000\"/>\n</g>\n<!-- 5&#45;&#45;22 -->\n<g class=\"edge\" id=\"edge158\">\n<title>5--22</title>\n<path d=\"M828.63,-208.54C866.77,-225.09 943.18,-258.23 981.34,-274.79\" fill=\"none\" stroke=\"#000000\"/>\n</g>\n<!-- 5&#45;&#45;23 -->\n<g class=\"edge\" id=\"edge159\">\n<title>5--23</title>\n<path d=\"M824.32,-212.11C864.48,-241.38 959.48,-310.62 999.46,-339.76\" fill=\"none\" stroke=\"#000000\"/>\n</g>\n<!-- 5&#45;&#45;24 -->\n<g class=\"edge\" id=\"edge160\">\n<title>5--24</title>\n<path d=\"M814.15,-215.86C830.87,-250.67 868.56,-329.16 885.32,-364.04\" fill=\"none\" stroke=\"#000000\"/>\n</g>\n<!-- 5&#45;&#45;25 -->\n<g class=\"edge\" id=\"edge161\">\n<title>5--25</title>\n<path d=\"M817.29,-182.33C841.2,-148.01 896.37,-68.839 920.33,-34.446\" fill=\"none\" stroke=\"#000000\"/>\n</g>\n<!-- 5&#45;&#45;26 -->\n<g class=\"edge\" id=\"edge162\">\n<title>5--26</title>\n<path d=\"M828.76,-208.28C878.48,-229.15 995.93,-278.45 1045.8,-299.37\" fill=\"none\" stroke=\"#000000\"/>\n</g>\n<!-- 5&#45;&#45;27 -->\n<g class=\"edge\" id=\"edge163\">\n<title>5--27</title>\n<path d=\"M828.06,-209.14C841.86,-215.65 859.54,-223.99 873.35,-230.51\" fill=\"none\" stroke=\"#000000\"/>\n</g>\n<!-- 5&#45;&#45;28 -->\n<g class=\"edge\" id=\"edge164\">\n<title>5--28</title>\n<path d=\"M813.27,-181C821.3,-161.73 834.08,-131.07 842.08,-111.9\" fill=\"none\" stroke=\"#000000\"/>\n</g>\n<!-- 5&#45;&#45;29 -->\n<g class=\"edge\" id=\"edge165\">\n<title>5--29</title>\n<path d=\"M832.72,-196.54C885.7,-192.32 1003.2,-182.96 1056.2,-178.74\" fill=\"none\" stroke=\"#000000\"/>\n</g>\n<!-- 5&#45;&#45;30 -->\n<g class=\"edge\" id=\"edge166\">\n<title>5--30</title>\n<path d=\"M821.23,-213.82C842.93,-235.25 882.37,-274.21 904.14,-295.7\" fill=\"none\" stroke=\"#000000\"/>\n</g>\n<!-- 6&#45;&#45;7 -->\n<g class=\"edge\" id=\"edge167\">\n<title>6--7</title>\n<path d=\"M771.97,-78.99C836.16,-89.778 1000.6,-117.41 1064.7,-128.19\" fill=\"none\" stroke=\"#000000\"/>\n</g>\n<!-- 6&#45;&#45;8 -->\n<g class=\"edge\" id=\"edge168\">\n<title>6--8</title>\n<path d=\"M765.03,-61.876C772.42,-57.003 780.86,-51.441 788.27,-46.555\" fill=\"none\" stroke=\"#000000\"/>\n</g>\n<!-- 6&#45;&#45;9 -->\n<g class=\"edge\" id=\"edge169\">\n<title>6--9</title>\n<path d=\"M772.77,-71.313C820.61,-65.524 919.66,-53.54 967.21,-47.787\" fill=\"none\" stroke=\"#000000\"/>\n</g>\n<!-- 6&#45;&#45;10 -->\n<g class=\"edge\" id=\"edge170\">\n<title>6--10</title>\n<path d=\"M772.61,-76.645C808.15,-79.374 870.46,-84.158 906.12,-86.897\" fill=\"none\" stroke=\"#000000\"/>\n</g>\n<!-- 6&#45;&#45;11 -->\n<g class=\"edge\" id=\"edge171\">\n<title>6--11</title>\n<path d=\"M743.58,-92.781C740.76,-116.51 735.85,-157.78 733.02,-181.52\" fill=\"none\" stroke=\"#000000\"/>\n</g>\n<!-- 6&#45;&#45;12 -->\n<g class=\"edge\" id=\"edge172\">\n<title>6--12</title>\n<path d=\"M768.44,-84.39C829.86,-110.93 998.81,-183.94 1060.6,-210.65\" fill=\"none\" stroke=\"#000000\"/>\n</g>\n<!-- 6&#45;&#45;13 -->\n<g class=\"edge\" id=\"edge173\">\n<title>6--13</title>\n<path d=\"M766.28,-86.761C824.15,-121.09 988.15,-218.36 1045.8,-252.57\" fill=\"none\" stroke=\"#000000\"/>\n</g>\n<!-- 6&#45;&#45;14 -->\n<g class=\"edge\" id=\"edge174\">\n<title>6--14</title>\n<path d=\"M757.33,-91.344C794.02,-144.44 907.43,-308.56 944.07,-361.59\" fill=\"none\" stroke=\"#000000\"/>\n</g>\n<!-- 6&#45;&#45;15 -->\n<g class=\"edge\" id=\"edge175\">\n<title>6--15</title>\n<path d=\"M770.97,-81.645C820.46,-95.5 929.72,-126.09 978.99,-139.88\" fill=\"none\" stroke=\"#000000\"/>\n</g>\n<!-- 6&#45;&#45;16 -->\n<g class=\"edge\" id=\"edge176\">\n<title>6--16</title>\n<path d=\"M772.85,-75.824C830.8,-78.479 966.19,-84.681 1024.1,-87.333\" fill=\"none\" stroke=\"#000000\"/>\n</g>\n<!-- 6&#45;&#45;17 -->\n<g class=\"edge\" id=\"edge177\">\n<title>6--17</title>\n<path d=\"M747.22,-92.835C750.73,-136.32 759.55,-245.63 763.05,-289.02\" fill=\"none\" stroke=\"#000000\"/>\n</g>\n<!-- 6&#45;&#45;18 -->\n<g class=\"edge\" id=\"edge178\">\n<title>6--18</title>\n<path d=\"M745.3,-92.734C744.45,-127.05 742.62,-201.06 741.77,-235.41\" fill=\"none\" stroke=\"#000000\"/>\n</g>\n<!-- 6&#45;&#45;19 -->\n<g class=\"edge\" id=\"edge179\">\n<title>6--19</title>\n<path d=\"M753.08,-92.038C768.46,-128.66 803.95,-213.18 819.37,-249.89\" fill=\"none\" stroke=\"#000000\"/>\n</g>\n<!-- 6&#45;&#45;20 -->\n<g class=\"edge\" id=\"edge180\">\n<title>6--20</title>\n<path d=\"M766.39,-86.605C795.25,-103.42 847.34,-133.76 876.07,-150.49\" fill=\"none\" stroke=\"#000000\"/>\n</g>\n<!-- 6&#45;&#45;21 -->\n<g class=\"edge\" id=\"edge181\">\n<title>6--21</title>\n<path d=\"M757.55,-91.003C763.21,-98.886 769.98,-108.3 775.63,-116.16\" fill=\"none\" stroke=\"#000000\"/>\n</g>\n<!-- 6&#45;&#45;22 -->\n<g class=\"edge\" id=\"edge182\">\n<title>6--22</title>\n<path d=\"M763.1,-88.693C810.17,-126.96 939.86,-232.42 986.84,-270.62\" fill=\"none\" stroke=\"#000000\"/>\n</g>\n<!-- 6&#45;&#45;23 -->\n<g class=\"edge\" id=\"edge183\">\n<title>6--23</title>\n<path d=\"M760.76,-89.951C808.3,-138.64 955.25,-289.11 1002.7,-337.72\" fill=\"none\" stroke=\"#000000\"/>\n</g>\n<!-- 6&#45;&#45;24 -->\n<g class=\"edge\" id=\"edge184\">\n<title>6--24</title>\n<path d=\"M754.12,-91.952C780.15,-145.94 859.43,-310.4 885.33,-364.13\" fill=\"none\" stroke=\"#000000\"/>\n</g>\n<!-- 6&#45;&#45;25 -->\n<g class=\"edge\" id=\"edge185\">\n<title>6--25</title>\n<path d=\"M770.45,-67.069C806.04,-56.247 871.34,-36.384 906.98,-25.545\" fill=\"none\" stroke=\"#000000\"/>\n</g>\n<!-- 6&#45;&#45;26 -->\n<g class=\"edge\" id=\"edge186\">\n<title>6--26</title>\n<path d=\"M764.04,-87.859C820.76,-129.03 993.28,-254.24 1050.3,-295.61\" fill=\"none\" stroke=\"#000000\"/>\n</g>\n<!-- 6&#45;&#45;27 -->\n<g class=\"edge\" id=\"edge187\">\n<title>6--27</title>\n<path d=\"M759.84,-90.238C788.4,-121.96 852.79,-193.48 881.41,-225.26\" fill=\"none\" stroke=\"#000000\"/>\n</g>\n<!-- 6&#45;&#45;28 -->\n<g class=\"edge\" id=\"edge188\">\n<title>6--28</title>\n<path d=\"M771.89,-79.604C787.59,-82.621 807.5,-86.447 823.21,-89.463\" fill=\"none\" stroke=\"#000000\"/>\n</g>\n<!-- 6&#45;&#45;29 -->\n<g class=\"edge\" id=\"edge189\">\n<title>6--29</title>\n<path d=\"M770.55,-82.084C832.93,-100.95 995.8,-150.21 1058.2,-169.09\" fill=\"none\" stroke=\"#000000\"/>\n</g>\n<!-- 6&#45;&#45;30 -->\n<g class=\"edge\" id=\"edge190\">\n<title>6--30</title>\n<path d=\"M757.7,-90.83C789.46,-134.01 875.7,-251.29 907.56,-294.6\" fill=\"none\" stroke=\"#000000\"/>\n</g>\n<!-- 7&#45;&#45;8 -->\n<g class=\"edge\" id=\"edge191\">\n<title>7--8</title>\n<path d=\"M1066.7,-124.16C1013.3,-105.48 885.27,-60.785 831.83,-42.125\" fill=\"none\" stroke=\"#000000\"/>\n</g>\n<!-- 7&#45;&#45;9 -->\n<g class=\"edge\" id=\"edge192\">\n<title>7--9</title>\n<path d=\"M1074.9,-118.06C1056.9,-101.75 1027.9,-75.443 1009.9,-59.124\" fill=\"none\" stroke=\"#000000\"/>\n</g>\n<!-- 7&#45;&#45;10 -->\n<g class=\"edge\" id=\"edge193\">\n<title>7--10</title>\n<path d=\"M1065.9,-125.68C1036.5,-117.54 987.86,-104.09 958.36,-95.929\" fill=\"none\" stroke=\"#000000\"/>\n</g>\n<!-- 7&#45;&#45;11 -->\n<g class=\"edge\" id=\"edge194\">\n<title>7--11</title>\n<path d=\"M1064.7,-137.47C998.2,-149.88 823.34,-182.49 756.94,-194.87\" fill=\"none\" stroke=\"#000000\"/>\n</g>\n<!-- 7&#45;&#45;12 -->\n<g class=\"edge\" id=\"edge195\">\n<title>7--12</title>\n<path d=\"M1089.4,-150.83C1088.2,-165.93 1086.4,-187.3 1085.2,-202.39\" fill=\"none\" stroke=\"#000000\"/>\n</g>\n<!-- 7&#45;&#45;13 -->\n<g class=\"edge\" id=\"edge196\">\n<title>7--13</title>\n<path d=\"M1087.5,-150.68C1082.8,-175.96 1074.2,-221.61 1069.5,-246.78\" fill=\"none\" stroke=\"#000000\"/>\n</g>\n<!-- 7&#45;&#45;14 -->\n<g class=\"edge\" id=\"edge197\">\n<title>7--14</title>\n<path d=\"M1081.4,-149.87C1056.5,-195.09 989.62,-316.53 964.94,-361.36\" fill=\"none\" stroke=\"#000000\"/>\n</g>\n<!-- 7&#45;&#45;15 -->\n<g class=\"edge\" id=\"edge198\">\n<title>7--15</title>\n<path d=\"M1064.3,-136.95C1053.5,-138.72 1041.1,-140.77 1030.3,-142.53\" fill=\"none\" stroke=\"#000000\"/>\n</g>\n<!-- 7&#45;&#45;16 -->\n<g class=\"edge\" id=\"edge199\">\n<title>7--16</title>\n<path d=\"M1076.5,-116.7C1072.8,-112.56 1068.8,-108.11 1065.1,-104\" fill=\"none\" stroke=\"#000000\"/>\n</g>\n<!-- 7&#45;&#45;17 -->\n<g class=\"edge\" id=\"edge200\">\n<title>7--17</title>\n<path d=\"M1069.5,-144.05C1010.2,-175.76 844.45,-264.43 785.58,-295.92\" fill=\"none\" stroke=\"#000000\"/>\n</g>\n<!-- 7&#45;&#45;18 -->\n<g class=\"edge\" id=\"edge201\">\n<title>7--18</title>\n<path d=\"M1066.9,-140.91C1003,-163.02 829.57,-223.06 765.51,-245.23\" fill=\"none\" stroke=\"#000000\"/>\n</g>\n<!-- 7&#45;&#45;19 -->\n<g class=\"edge\" id=\"edge202\">\n<title>7--19</title>\n<path d=\"M1069.3,-143.63C1019.6,-168.98 897.87,-231.13 848.28,-256.44\" fill=\"none\" stroke=\"#000000\"/>\n</g>\n<!-- 7&#45;&#45;20 -->\n<g class=\"edge\" id=\"edge203\">\n<title>7--20</title>\n<path d=\"M1064.3,-136.67C1027.1,-142.36 960.2,-152.61 923.08,-158.29\" fill=\"none\" stroke=\"#000000\"/>\n</g>\n<!-- 7&#45;&#45;21 -->\n<g class=\"edge\" id=\"edge204\">\n<title>7--21</title>\n<path d=\"M1063.7,-132.58C1006,-132.55 872.24,-132.47 814.57,-132.44\" fill=\"none\" stroke=\"#000000\"/>\n</g>\n<!-- 7&#45;&#45;22 -->\n<g class=\"edge\" id=\"edge205\">\n<title>7--22</title>\n<path d=\"M1081.3,-149.45C1064.6,-178.68 1030.5,-238.45 1013.8,-267.74\" fill=\"none\" stroke=\"#000000\"/>\n</g>\n<!-- 7&#45;&#45;23 -->\n<g class=\"edge\" id=\"edge206\">\n<title>7--23</title>\n<path d=\"M1085,-150.26C1071.3,-191.54 1037.3,-293.93 1023.6,-335.29\" fill=\"none\" stroke=\"#000000\"/>\n</g>\n<!-- 7&#45;&#45;24 -->\n<g class=\"edge\" id=\"edge207\">\n<title>7--24</title>\n<path d=\"M1078.2,-148.53C1042.7,-193.34 942.13,-320.14 906.4,-365.18\" fill=\"none\" stroke=\"#000000\"/>\n</g>\n<!-- 7&#45;&#45;25 -->\n<g class=\"edge\" id=\"edge208\">\n<title>7--25</title>\n<path d=\"M1072.3,-119.22C1041.7,-97.142 980.81,-53.309 950.23,-31.284\" fill=\"none\" stroke=\"#000000\"/>\n</g>\n<!-- 7&#45;&#45;26 -->\n<g class=\"edge\" id=\"edge209\">\n<title>7--26</title>\n<path d=\"M1088.6,-150.81C1084.4,-184.71 1075.3,-257.09 1071,-290.91\" fill=\"none\" stroke=\"#000000\"/>\n</g>\n<!-- 7&#45;&#45;27 -->\n<g class=\"edge\" id=\"edge210\">\n<title>7--27</title>\n<path d=\"M1070,-144.19C1032.4,-165.06 953.81,-208.68 916.32,-229.48\" fill=\"none\" stroke=\"#000000\"/>\n</g>\n<!-- 7&#45;&#45;28 -->\n<g class=\"edge\" id=\"edge211\">\n<title>7--28</title>\n<path d=\"M1064.6,-128.44C1018.1,-121.11 922.06,-105.96 875.61,-98.629\" fill=\"none\" stroke=\"#000000\"/>\n</g>\n<!-- 7&#45;&#45;29 -->\n<g class=\"edge\" id=\"edge212\">\n<title>7--29</title>\n<path d=\"M1087.7,-150.49C1087.2,-153.16 1086.7,-155.9 1086.3,-158.57\" fill=\"none\" stroke=\"#000000\"/>\n</g>\n<!-- 7&#45;&#45;30 -->\n<g class=\"edge\" id=\"edge213\">\n<title>7--30</title>\n<path d=\"M1076.3,-147.8C1043.9,-181.5 966.49,-262.13 934.16,-295.79\" fill=\"none\" stroke=\"#000000\"/>\n</g>\n<!-- 8&#45;&#45;9 -->\n<g class=\"edge\" id=\"edge214\">\n<title>8--9</title>\n<path d=\"M834.81,-35.294C870.09,-37.351 931.44,-40.929 966.74,-42.987\" fill=\"none\" stroke=\"#000000\"/>\n</g>\n<!-- 8&#45;&#45;10 -->\n<g class=\"edge\" id=\"edge215\">\n<title>8--10</title>\n<path d=\"M830.48,-43.724C853.22,-53.739 888,-69.057 910.69,-79.046\" fill=\"none\" stroke=\"#000000\"/>\n</g>\n<!-- 8&#45;&#45;11 -->\n<g class=\"edge\" id=\"edge216\">\n<title>8--11</title>\n<path d=\"M799.67,-51.169C784.86,-83.138 753.56,-150.72 738.83,-182.52\" fill=\"none\" stroke=\"#000000\"/>\n</g>\n<!-- 8&#45;&#45;12 -->\n<g class=\"edge\" id=\"edge217\">\n<title>8--12</title>\n<path d=\"M826.72,-46.562C877.12,-80.704 1014,-173.43 1064.6,-207.67\" fill=\"none\" stroke=\"#000000\"/>\n</g>\n<!-- 8&#45;&#45;13 -->\n<g class=\"edge\" id=\"edge218\">\n<title>8--13</title>\n<path d=\"M823.92,-48.162C870.33,-89.633 1003.6,-208.74 1050,-250.2\" fill=\"none\" stroke=\"#000000\"/>\n</g>\n<!-- 8&#45;&#45;14 -->\n<g class=\"edge\" id=\"edge219\">\n<title>8--14</title>\n<path d=\"M815.29,-51.278C840.66,-110.39 922.76,-301.71 948.1,-360.77\" fill=\"none\" stroke=\"#000000\"/>\n</g>\n<!-- 8&#45;&#45;15 -->\n<g class=\"edge\" id=\"edge220\">\n<title>8--15</title>\n<path d=\"M828.38,-45.612C866.06,-67.343 945.6,-113.22 983.29,-134.96\" fill=\"none\" stroke=\"#000000\"/>\n</g>\n<!-- 8&#45;&#45;16 -->\n<g class=\"edge\" id=\"edge221\">\n<title>8--16</title>\n<path d=\"M833.34,-39.483C880.08,-50.019 978.76,-72.261 1025.5,-82.8\" fill=\"none\" stroke=\"#000000\"/>\n</g>\n<!-- 8&#45;&#45;17 -->\n<g class=\"edge\" id=\"edge222\">\n<title>8--17</title>\n<path d=\"M804.92,-51.66C797.08,-101.21 775.21,-239.55 767.36,-289.18\" fill=\"none\" stroke=\"#000000\"/>\n</g>\n<!-- 8&#45;&#45;18 -->\n<g class=\"edge\" id=\"edge223\">\n<title>8--18</title>\n<path d=\"M802.32,-51.711C789.83,-93.048 759.21,-194.4 746.74,-235.67\" fill=\"none\" stroke=\"#000000\"/>\n</g>\n<!-- 8&#45;&#45;19 -->\n<g class=\"edge\" id=\"edge224\">\n<title>8--19</title>\n<path d=\"M809.24,-52.056C812.79,-95.748 821.71,-205.58 825.25,-249.19\" fill=\"none\" stroke=\"#000000\"/>\n</g>\n<!-- 8&#45;&#45;20 -->\n<g class=\"edge\" id=\"edge225\">\n<title>8--20</title>\n<path d=\"M819.17,-50.272C836.2,-74.975 868.08,-121.21 885.09,-145.88\" fill=\"none\" stroke=\"#000000\"/>\n</g>\n<!-- 8&#45;&#45;21 -->\n<g class=\"edge\" id=\"edge226\">\n<title>8--21</title>\n<path d=\"M804.01,-51.821C800.32,-69.631 794.72,-96.665 791.04,-114.44\" fill=\"none\" stroke=\"#000000\"/>\n</g>\n<!-- 8&#45;&#45;22 -->\n<g class=\"edge\" id=\"edge227\">\n<title>8--22</title>\n<path d=\"M820.34,-49.796C855.72,-95.015 955.82,-222.95 991.38,-268.4\" fill=\"none\" stroke=\"#000000\"/>\n</g>\n<!-- 8&#45;&#45;23 -->\n<g class=\"edge\" id=\"edge228\">\n<title>8--23</title>\n<path d=\"M818.75,-50.435C855.02,-105.62 970.69,-281.55 1006.8,-336.49\" fill=\"none\" stroke=\"#000000\"/>\n</g>\n<!-- 8&#45;&#45;24 -->\n<g class=\"edge\" id=\"edge229\">\n<title>8--24</title>\n<path d=\"M812.25,-51.915C827.09,-111.98 874.39,-303.49 889.16,-363.29\" fill=\"none\" stroke=\"#000000\"/>\n</g>\n<!-- 8&#45;&#45;25 -->\n<g class=\"edge\" id=\"edge230\">\n<title>8--25</title>\n<path d=\"M834.36,-30.345C855.29,-27.693 884.31,-24.016 905.23,-21.366\" fill=\"none\" stroke=\"#000000\"/>\n</g>\n<!-- 8&#45;&#45;26 -->\n<g class=\"edge\" id=\"edge231\">\n<title>8--26</title>\n<path d=\"M822.54,-49.307C868.48,-97.765 1008.4,-245.38 1054.1,-293.61\" fill=\"none\" stroke=\"#000000\"/>\n</g>\n<!-- 8&#45;&#45;27 -->\n<g class=\"edge\" id=\"edge232\">\n<title>8--27</title>\n<path d=\"M815.24,-51.389C831.87,-90.648 871.73,-184.72 888.23,-223.66\" fill=\"none\" stroke=\"#000000\"/>\n</g>\n<!-- 8&#45;&#45;28 -->\n<g class=\"edge\" id=\"edge233\">\n<title>8--28</title>\n<path d=\"M819.12,-50.321C824.98,-58.895 832.12,-69.327 837.99,-77.899\" fill=\"none\" stroke=\"#000000\"/>\n</g>\n<!-- 8&#45;&#45;29 -->\n<g class=\"edge\" id=\"edge234\">\n<title>8--29</title>\n<path d=\"M829.36,-44.928C880.82,-71.638 1010.2,-138.78 1061.5,-165.44\" fill=\"none\" stroke=\"#000000\"/>\n</g>\n<!-- 8&#45;&#45;30 -->\n<g class=\"edge\" id=\"edge235\">\n<title>8--30</title>\n<path d=\"M814.92,-51.481C835.12,-101.56 892.36,-243.45 912.48,-293.35\" fill=\"none\" stroke=\"#000000\"/>\n</g>\n<!-- 9&#45;&#45;10 -->\n<g class=\"edge\" id=\"edge236\">\n<title>9--10</title>\n<path d=\"M975.65,-57.892C968.12,-63.411 959.4,-69.806 951.82,-75.356\" fill=\"none\" stroke=\"#000000\"/>\n</g>\n<!-- 9&#45;&#45;11 -->\n<g class=\"edge\" id=\"edge237\">\n<title>9--11</title>\n<path d=\"M973.19,-56.743C924.03,-85.749 800.46,-158.67 751.4,-187.62\" fill=\"none\" stroke=\"#000000\"/>\n</g>\n<!-- 9&#45;&#45;12 -->\n<g class=\"edge\" id=\"edge238\">\n<title>9--12</title>\n<path d=\"M1002.6,-61.767C1019.8,-95.422 1057.6,-169.63 1074.9,-203.34\" fill=\"none\" stroke=\"#000000\"/>\n</g>\n<!-- 9&#45;&#45;13 -->\n<g class=\"edge\" id=\"edge239\">\n<title>9--13</title>\n<path d=\"M999.62,-62.205C1013.2,-103.41 1046.8,-205.63 1060.3,-246.92\" fill=\"none\" stroke=\"#000000\"/>\n</g>\n<!-- 9&#45;&#45;14 -->\n<g class=\"edge\" id=\"edge240\">\n<title>9--14</title>\n<path d=\"M991.72,-62.985C985.02,-121.47 964.29,-302.51 957.67,-360.34\" fill=\"none\" stroke=\"#000000\"/>\n</g>\n<!-- 9&#45;&#45;15 -->\n<g class=\"edge\" id=\"edge241\">\n<title>9--15</title>\n<path d=\"M995.63,-62.856C997.47,-81.477 1000.3,-110.17 1002.1,-128.74\" fill=\"none\" stroke=\"#000000\"/>\n</g>\n<!-- 9&#45;&#45;16 -->\n<g class=\"edge\" id=\"edge242\">\n<title>9--16</title>\n<path d=\"M1011.6,-58.249C1018.5,-63.497 1026.3,-69.486 1033.1,-74.747\" fill=\"none\" stroke=\"#000000\"/>\n</g>\n<!-- 9&#45;&#45;17 -->\n<g class=\"edge\" id=\"edge243\">\n<title>9--17</title>\n<path d=\"M980.17,-60.209C939.38,-106.92 818.79,-245.03 778.1,-291.63\" fill=\"none\" stroke=\"#000000\"/>\n</g>\n<!-- 9&#45;&#45;18 -->\n<g class=\"edge\" id=\"edge244\">\n<title>9--18</title>\n<path d=\"M976.87,-58.608C930.98,-96.598 804.73,-201.12 758.54,-239.35\" fill=\"none\" stroke=\"#000000\"/>\n</g>\n<!-- 9&#45;&#45;19 -->\n<g class=\"edge\" id=\"edge245\">\n<title>9--19</title>\n<path d=\"M981.54,-60.956C950.56,-102.27 869.57,-210.31 838.82,-251.33\" fill=\"none\" stroke=\"#000000\"/>\n</g>\n<!-- 9&#45;&#45;20 -->\n<g class=\"edge\" id=\"edge246\">\n<title>9--20</title>\n<path d=\"M980.69,-60.454C962.11,-82.938 928.33,-123.81 909.7,-146.36\" fill=\"none\" stroke=\"#000000\"/>\n</g>\n<!-- 9&#45;&#45;21 -->\n<g class=\"edge\" id=\"edge247\">\n<title>9--21</title>\n<path d=\"M970.94,-54.305C931.24,-71.193 850.07,-105.73 810.31,-122.64\" fill=\"none\" stroke=\"#000000\"/>\n</g>\n<!-- 9&#45;&#45;22 -->\n<g class=\"edge\" id=\"edge248\">\n<title>9--22</title>\n<path d=\"M994.6,-62.614C996.5,-107.11 1001.4,-221.7 1003.3,-266.41\" fill=\"none\" stroke=\"#000000\"/>\n</g>\n<!-- 9&#45;&#45;23 -->\n<g class=\"edge\" id=\"edge249\">\n<title>9--23</title>\n<path d=\"M995.25,-62.94C999.49,-117.81 1012,-280.03 1016.3,-334.77\" fill=\"none\" stroke=\"#000000\"/>\n</g>\n<!-- 9&#45;&#45;24 -->\n<g class=\"edge\" id=\"edge250\">\n<title>9--24</title>\n<path d=\"M988.44,-62.672C971,-121.28 916.21,-305.37 898.9,-363.52\" fill=\"none\" stroke=\"#000000\"/>\n</g>\n<!-- 9&#45;&#45;25 -->\n<g class=\"edge\" id=\"edge251\">\n<title>9--25</title>\n<path d=\"M971.08,-34.825C965.68,-32.515 959.93,-30.051 954.53,-27.741\" fill=\"none\" stroke=\"#000000\"/>\n</g>\n<!-- 9&#45;&#45;26 -->\n<g class=\"edge\" id=\"edge252\">\n<title>9--26</title>\n<path d=\"M998.86,-62.33C1012.5,-110.39 1049.9,-242.62 1063.7,-290.99\" fill=\"none\" stroke=\"#000000\"/>\n</g>\n<!-- 9&#45;&#45;27 -->\n<g class=\"edge\" id=\"edge253\">\n<title>9--27</title>\n<path d=\"M985.28,-61.655C966.7,-98.805 922.8,-186.57 904.17,-223.81\" fill=\"none\" stroke=\"#000000\"/>\n</g>\n<!-- 9&#45;&#45;28 -->\n<g class=\"edge\" id=\"edge254\">\n<title>9--28</title>\n<path d=\"M969.64,-52.922C942.97,-62.136 900.3,-76.876 873.6,-86.101\" fill=\"none\" stroke=\"#000000\"/>\n</g>\n<!-- 9&#45;&#45;29 -->\n<g class=\"edge\" id=\"edge255\">\n<title>9--29</title>\n<path d=\"M1004.9,-61.022C1022,-86.323 1054.6,-134.51 1071.8,-159.94\" fill=\"none\" stroke=\"#000000\"/>\n</g>\n<!-- 9&#45;&#45;30 -->\n<g class=\"edge\" id=\"edge256\">\n<title>9--30</title>\n<path d=\"M988.84,-62.46C975.32,-110.99 938.05,-244.71 924.55,-293.15\" fill=\"none\" stroke=\"#000000\"/>\n</g>\n<!-- 10&#45;&#45;11 -->\n<g class=\"edge\" id=\"edge257\">\n<title>10--11</title>\n<path d=\"M912.34,-100.41C873.56,-121.64 790.87,-166.89 751.94,-188.2\" fill=\"none\" stroke=\"#000000\"/>\n</g>\n<!-- 10&#45;&#45;12 -->\n<g class=\"edge\" id=\"edge258\">\n<title>10--12</title>\n<path d=\"M949.63,-103.32C978.56,-128.64 1038.4,-180.98 1067.3,-206.29\" fill=\"none\" stroke=\"#000000\"/>\n</g>\n<!-- 10&#45;&#45;13 -->\n<g class=\"edge\" id=\"edge259\">\n<title>10--13</title>\n<path d=\"M945.51,-105.19C970.83,-138.65 1028.6,-215.04 1053.9,-248.47\" fill=\"none\" stroke=\"#000000\"/>\n</g>\n<!-- 10&#45;&#45;14 -->\n<g class=\"edge\" id=\"edge260\">\n<title>10--14</title>\n<path d=\"M934.64,-107.08C938.66,-159.03 950.2,-308.26 954.22,-360.2\" fill=\"none\" stroke=\"#000000\"/>\n</g>\n<!-- 10&#45;&#45;15 -->\n<g class=\"edge\" id=\"edge261\">\n<title>10--15</title>\n<path d=\"M950.35,-102.99C961.31,-111.96 975.47,-123.56 986.49,-132.58\" fill=\"none\" stroke=\"#000000\"/>\n</g>\n<!-- 10&#45;&#45;16 -->\n<g class=\"edge\" id=\"edge262\">\n<title>10--16</title>\n<path d=\"M960.29,-88.885C979.32,-88.82 1004.7,-88.732 1023.8,-88.666\" fill=\"none\" stroke=\"#000000\"/>\n</g>\n<!-- 10&#45;&#45;17 -->\n<g class=\"edge\" id=\"edge263\">\n<title>10--17</title>\n<path d=\"M920.83,-105.02C889.63,-145.38 808.16,-250.74 776.94,-291.12\" fill=\"none\" stroke=\"#000000\"/>\n</g>\n<!-- 10&#45;&#45;18 -->\n<g class=\"edge\" id=\"edge264\">\n<title>10--18</title>\n<path d=\"M916.54,-103.3C880.25,-134.44 794.5,-207.99 758.11,-239.2\" fill=\"none\" stroke=\"#000000\"/>\n</g>\n<!-- 10&#45;&#45;19 -->\n<g class=\"edge\" id=\"edge265\">\n<title>10--19</title>\n<path d=\"M923.22,-105.77C902.92,-139.78 857.15,-216.48 836.81,-250.57\" fill=\"none\" stroke=\"#000000\"/>\n</g>\n<!-- 10&#45;&#45;20 -->\n<g class=\"edge\" id=\"edge266\">\n<title>10--20</title>\n<path d=\"M924.52,-106.37C918.66,-118.07 910.97,-133.43 905.12,-145.1\" fill=\"none\" stroke=\"#000000\"/>\n</g>\n<!-- 10&#45;&#45;21 -->\n<g class=\"edge\" id=\"edge267\">\n<title>10--21</title>\n<path d=\"M908.49,-96.349C881.65,-104.34 839.07,-117.02 812.19,-125.02\" fill=\"none\" stroke=\"#000000\"/>\n</g>\n<!-- 10&#45;&#45;22 -->\n<g class=\"edge\" id=\"edge268\">\n<title>10--22</title>\n<path d=\"M939.66,-106.69C953.15,-143.95 984.33,-230.04 997.76,-267.14\" fill=\"none\" stroke=\"#000000\"/>\n</g>\n<!-- 10&#45;&#45;23 -->\n<g class=\"edge\" id=\"edge269\">\n<title>10--23</title>\n<path d=\"M938.91,-106.71C954.3,-154.82 996.69,-287.37 1012,-335.39\" fill=\"none\" stroke=\"#000000\"/>\n</g>\n<!-- 10&#45;&#45;24 -->\n<g class=\"edge\" id=\"edge270\">\n<title>10--24</title>\n<path d=\"M930.76,-107.27C923.64,-159.76 903.21,-310.54 896.09,-363.03\" fill=\"none\" stroke=\"#000000\"/>\n</g>\n<!-- 10&#45;&#45;25 -->\n<g class=\"edge\" id=\"edge271\">\n<title>10--25</title>\n<path d=\"M932.87,-70.7C932.65,-60.185 932.38,-47.01 932.17,-36.464\" fill=\"none\" stroke=\"#000000\"/>\n</g>\n<!-- 10&#45;&#45;26 -->\n<g class=\"edge\" id=\"edge272\">\n<title>10--26</title>\n<path d=\"M943.65,-105.88C968.94,-146.94 1033.4,-251.56 1058.5,-292.37\" fill=\"none\" stroke=\"#000000\"/>\n</g>\n<!-- 10&#45;&#45;27 -->\n<g class=\"edge\" id=\"edge273\">\n<title>10--27</title>\n<path d=\"M928.77,-107.01C921.52,-136.27 907.28,-193.74 900.04,-222.99\" fill=\"none\" stroke=\"#000000\"/>\n</g>\n<!-- 10&#45;&#45;28 -->\n<g class=\"edge\" id=\"edge274\">\n<title>10--28</title>\n<path d=\"M906.23,-90.751C896.65,-91.379 885.87,-92.086 876.3,-92.715\" fill=\"none\" stroke=\"#000000\"/>\n</g>\n<!-- 10&#45;&#45;29 -->\n<g class=\"edge\" id=\"edge275\">\n<title>10--29</title>\n<path d=\"M953.76,-100.98C982.29,-117.66 1033.7,-147.7 1062.3,-164.46\" fill=\"none\" stroke=\"#000000\"/>\n</g>\n<!-- 10&#45;&#45;30 -->\n<g class=\"edge\" id=\"edge276\">\n<title>10--30</title>\n<path d=\"M932.12,-107.14C929.56,-148.87 923.27,-251.19 920.7,-292.86\" fill=\"none\" stroke=\"#000000\"/>\n</g>\n<!-- 11&#45;&#45;12 -->\n<g class=\"edge\" id=\"edge277\">\n<title>11--12</title>\n<path d=\"M757.96,-201.34C823.63,-205.22 990.71,-215.11 1056.5,-219\" fill=\"none\" stroke=\"#000000\"/>\n</g>\n<!-- 11&#45;&#45;13 -->\n<g class=\"edge\" id=\"edge278\">\n<title>11--13</title>\n<path d=\"M756.89,-204.78C819.36,-216.87 977.23,-247.43 1039.9,-259.56\" fill=\"none\" stroke=\"#000000\"/>\n</g>\n<!-- 11&#45;&#45;14 -->\n<g class=\"edge\" id=\"edge279\">\n<title>11--14</title>\n<path d=\"M748.49,-213.75C790.51,-247.13 896.13,-331.04 938.06,-364.35\" fill=\"none\" stroke=\"#000000\"/>\n</g>\n<!-- 11&#45;&#45;15 -->\n<g class=\"edge\" id=\"edge280\">\n<title>11--15</title>\n<path d=\"M757.04,-194.67C809.24,-184.56 925.7,-162.01 977.83,-151.92\" fill=\"none\" stroke=\"#000000\"/>\n</g>\n<!-- 11&#45;&#45;16 -->\n<g class=\"edge\" id=\"edge281\">\n<title>11--16</title>\n<path d=\"M754.93,-191.38C814.28,-170.78 967.13,-117.73 1026.8,-97.024\" fill=\"none\" stroke=\"#000000\"/>\n</g>\n<!-- 11&#45;&#45;17 -->\n<g class=\"edge\" id=\"edge282\">\n<title>11--17</title>\n<path d=\"M736.42,-217.48C742.65,-237.39 752.71,-269.5 758.95,-289.42\" fill=\"none\" stroke=\"#000000\"/>\n</g>\n<!-- 11&#45;&#45;18 -->\n<g class=\"edge\" id=\"edge283\">\n<title>11--18</title>\n<path d=\"M734.34,-217.68C735.46,-223.43 736.7,-229.8 737.81,-235.57\" fill=\"none\" stroke=\"#000000\"/>\n</g>\n<!-- 11&#45;&#45;19 -->\n<g class=\"edge\" id=\"edge284\">\n<title>11--19</title>\n<path d=\"M749.8,-213.11C766.72,-225.06 791.35,-242.46 808.16,-254.32\" fill=\"none\" stroke=\"#000000\"/>\n</g>\n<!-- 11&#45;&#45;20 -->\n<g class=\"edge\" id=\"edge285\">\n<title>11--20</title>\n<path d=\"M756.73,-193.9C787.84,-186.88 839.74,-175.17 870.77,-168.17\" fill=\"none\" stroke=\"#000000\"/>\n</g>\n<!-- 11&#45;&#45;21 -->\n<g class=\"edge\" id=\"edge286\">\n<title>11--21</title>\n<path d=\"M744.24,-183.78C753.24,-173.05 765.05,-158.97 774.03,-148.26\" fill=\"none\" stroke=\"#000000\"/>\n</g>\n<!-- 11&#45;&#45;22 -->\n<g class=\"edge\" id=\"edge287\">\n<title>11--22</title>\n<path d=\"M755.59,-207.42C807.61,-223.59 927.83,-260.96 979.63,-277.06\" fill=\"none\" stroke=\"#000000\"/>\n</g>\n<!-- 11&#45;&#45;23 -->\n<g class=\"edge\" id=\"edge288\">\n<title>11--23</title>\n<path d=\"M751.95,-211.01C804.99,-239.36 943.49,-313.39 996.57,-341.76\" fill=\"none\" stroke=\"#000000\"/>\n</g>\n<!-- 11&#45;&#45;24 -->\n<g class=\"edge\" id=\"edge289\">\n<title>11--24</title>\n<path d=\"M744.73,-215.22C775.41,-249.43 848.69,-331.19 879.54,-365.61\" fill=\"none\" stroke=\"#000000\"/>\n</g>\n<!-- 11&#45;&#45;25 -->\n<g class=\"edge\" id=\"edge290\">\n<title>11--25</title>\n<path d=\"M746.96,-185.17C784.58,-151.14 877.91,-66.731 915.61,-32.634\" fill=\"none\" stroke=\"#000000\"/>\n</g>\n<!-- 11&#45;&#45;26 -->\n<g class=\"edge\" id=\"edge291\">\n<title>11--26</title>\n<path d=\"M755.16,-207.6C817.35,-227.71 981.78,-280.89 1044.2,-301.09\" fill=\"none\" stroke=\"#000000\"/>\n</g>\n<!-- 11&#45;&#45;27 -->\n<g class=\"edge\" id=\"edge292\">\n<title>11--27</title>\n<path d=\"M756.23,-206.09C787.19,-213.85 839.2,-226.88 870.17,-234.63\" fill=\"none\" stroke=\"#000000\"/>\n</g>\n<!-- 11&#45;&#45;28 -->\n<g class=\"edge\" id=\"edge293\">\n<title>11--28</title>\n<path d=\"M747.33,-185.1C769.97,-164.99 810.44,-129.04 833,-108.99\" fill=\"none\" stroke=\"#000000\"/>\n</g>\n<!-- 11&#45;&#45;29 -->\n<g class=\"edge\" id=\"edge294\">\n<title>11--29</title>\n<path d=\"M757.91,-197.96C823.47,-193.65 990.26,-182.69 1055.9,-178.38\" fill=\"none\" stroke=\"#000000\"/>\n</g>\n<!-- 11&#45;&#45;30 -->\n<g class=\"edge\" id=\"edge295\">\n<title>11--30</title>\n<path d=\"M751.41,-211.85C787.81,-233.3 863.17,-277.71 899.34,-299.03\" fill=\"none\" stroke=\"#000000\"/>\n</g>\n<!-- 12&#45;&#45;13 -->\n<g class=\"edge\" id=\"edge296\">\n<title>12--13</title>\n<path d=\"M1076.8,-238.01C1075.6,-240.99 1074.3,-244.09 1073.1,-247.08\" fill=\"none\" stroke=\"#000000\"/>\n</g>\n<!-- 12&#45;&#45;14 -->\n<g class=\"edge\" id=\"edge297\">\n<title>12--14</title>\n<path d=\"M1070.7,-236.6C1046.1,-266.82 993.2,-332.01 968.63,-362.27\" fill=\"none\" stroke=\"#000000\"/>\n</g>\n<!-- 12&#45;&#45;15 -->\n<g class=\"edge\" id=\"edge298\">\n<title>12--15</title>\n<path d=\"M1067.5,-205.69C1053.6,-192.81 1033.6,-174.31 1019.8,-161.52\" fill=\"none\" stroke=\"#000000\"/>\n</g>\n<!-- 12&#45;&#45;16 -->\n<g class=\"edge\" id=\"edge299\">\n<title>12--16</title>\n<path d=\"M1079.3,-202.8C1073.1,-177.6 1061.8,-131.79 1055.6,-106.52\" fill=\"none\" stroke=\"#000000\"/>\n</g>\n<!-- 12&#45;&#45;17 -->\n<g class=\"edge\" id=\"edge300\">\n<title>12--17</title>\n<path d=\"M1058.6,-227.4C999.11,-243.55 849.72,-284.07 789.88,-300.31\" fill=\"none\" stroke=\"#000000\"/>\n</g>\n<!-- 12&#45;&#45;18 -->\n<g class=\"edge\" id=\"edge301\">\n<title>12--18</title>\n<path d=\"M1056.8,-223.2C992.8,-229.37 831.93,-244.88 768.06,-251.03\" fill=\"none\" stroke=\"#000000\"/>\n</g>\n<!-- 12&#45;&#45;19 -->\n<g class=\"edge\" id=\"edge302\">\n<title>12--19</title>\n<path d=\"M1057.6,-225.36C1008.4,-234.33 902.15,-253.69 852.86,-262.68\" fill=\"none\" stroke=\"#000000\"/>\n</g>\n<!-- 12&#45;&#45;20 -->\n<g class=\"edge\" id=\"edge303\">\n<title>12--20</title>\n<path d=\"M1059.2,-212.99C1023.3,-201.83 956.82,-181.15 920.94,-169.99\" fill=\"none\" stroke=\"#000000\"/>\n</g>\n<!-- 12&#45;&#45;21 -->\n<g class=\"edge\" id=\"edge304\">\n<title>12--21</title>\n<path d=\"M1058.9,-213.24C1003.1,-196.64 868.12,-156.47 812.21,-139.83\" fill=\"none\" stroke=\"#000000\"/>\n</g>\n<!-- 12&#45;&#45;22 -->\n<g class=\"edge\" id=\"edge305\">\n<title>12--22</title>\n<path d=\"M1066.4,-234.51C1053.1,-245.25 1034.7,-260.06 1021.3,-270.79\" fill=\"none\" stroke=\"#000000\"/>\n</g>\n<!-- 12&#45;&#45;23 -->\n<g class=\"edge\" id=\"edge306\">\n<title>12--23</title>\n<path d=\"M1075,-237.92C1062.4,-263.3 1039,-310.34 1026.3,-335.73\" fill=\"none\" stroke=\"#000000\"/>\n</g>\n<!-- 12&#45;&#45;24 -->\n<g class=\"edge\" id=\"edge307\">\n<title>12--24</title>\n<path d=\"M1066.8,-234.87C1030.7,-265.36 946.47,-336.61 910.44,-367.08\" fill=\"none\" stroke=\"#000000\"/>\n</g>\n<!-- 12&#45;&#45;25 -->\n<g class=\"edge\" id=\"edge308\">\n<title>12--25</title>\n<path d=\"M1071.5,-204.37C1043.1,-166.43 972.51,-72.328 944.02,-34.315\" fill=\"none\" stroke=\"#000000\"/>\n</g>\n<!-- 12&#45;&#45;26 -->\n<g class=\"edge\" id=\"edge309\">\n<title>12--26</title>\n<path d=\"M1080.6,-238.5C1078.1,-253.74 1074.4,-275.54 1071.8,-290.86\" fill=\"none\" stroke=\"#000000\"/>\n</g>\n<!-- 12&#45;&#45;27 -->\n<g class=\"edge\" id=\"edge310\">\n<title>12--27</title>\n<path d=\"M1056.7,-223.53C1021,-227.41 958.2,-234.21 922.47,-238.08\" fill=\"none\" stroke=\"#000000\"/>\n</g>\n<!-- 12&#45;&#45;28 -->\n<g class=\"edge\" id=\"edge311\">\n<title>12--28</title>\n<path d=\"M1062.5,-209.19C1018,-185.24 915.27,-129.97 870.67,-105.96\" fill=\"none\" stroke=\"#000000\"/>\n</g>\n<!-- 12&#45;&#45;29 -->\n<g class=\"edge\" id=\"edge312\">\n<title>12--29</title>\n<path d=\"M1083.4,-202.45C1083.4,-199.9 1083.3,-197.27 1083.3,-194.71\" fill=\"none\" stroke=\"#000000\"/>\n</g>\n<!-- 12&#45;&#45;30 -->\n<g class=\"edge\" id=\"edge313\">\n<title>12--30</title>\n<path d=\"M1062.5,-232.24C1031,-249.58 972.08,-282.06 940.62,-299.38\" fill=\"none\" stroke=\"#000000\"/>\n</g>\n<!-- 13&#45;&#45;14 -->\n<g class=\"edge\" id=\"edge314\">\n<title>13--14</title>\n<path d=\"M1051.3,-279.97C1030.2,-301.66 991.81,-341.09 970.64,-362.85\" fill=\"none\" stroke=\"#000000\"/>\n</g>\n<!-- 13&#45;&#45;15 -->\n<g class=\"edge\" id=\"edge315\">\n<title>13--15</title>\n<path d=\"M1057.1,-247.52C1045.3,-225.19 1024.8,-186.35 1013,-164.01\" fill=\"none\" stroke=\"#000000\"/>\n</g>\n<!-- 13&#45;&#45;16 -->\n<g class=\"edge\" id=\"edge316\">\n<title>13--16</title>\n<path d=\"M1064.6,-246.46C1061.7,-212.64 1055.6,-140.4 1052.7,-106.65\" fill=\"none\" stroke=\"#000000\"/>\n</g>\n<!-- 13&#45;&#45;17 -->\n<g class=\"edge\" id=\"edge317\">\n<title>13--17</title>\n<path d=\"M1039.7,-268.38C982.59,-276.43 848.6,-295.33 791.29,-303.41\" fill=\"none\" stroke=\"#000000\"/>\n</g>\n<!-- 13&#45;&#45;18 -->\n<g class=\"edge\" id=\"edge318\">\n<title>13--18</title>\n<path d=\"M1039,-263.72C977.88,-261.64 829.9,-256.62 768.61,-254.54\" fill=\"none\" stroke=\"#000000\"/>\n</g>\n<!-- 13&#45;&#45;19 -->\n<g class=\"edge\" id=\"edge319\">\n<title>13--19</title>\n<path d=\"M1039.2,-264.96C993.19,-265.5 900.17,-266.58 854.01,-267.12\" fill=\"none\" stroke=\"#000000\"/>\n</g>\n<!-- 13&#45;&#45;20 -->\n<g class=\"edge\" id=\"edge320\">\n<title>13--20</title>\n<path d=\"M1046,-252.51C1013.4,-232.83 949.22,-194.16 916.57,-174.49\" fill=\"none\" stroke=\"#000000\"/>\n</g>\n<!-- 13&#45;&#45;21 -->\n<g class=\"edge\" id=\"edge321\">\n<title>13--21</title>\n<path d=\"M1043.8,-254.05C991.48,-229.23 861.45,-167.57 809.38,-142.89\" fill=\"none\" stroke=\"#000000\"/>\n</g>\n<!-- 13&#45;&#45;22 -->\n<g class=\"edge\" id=\"edge322\">\n<title>13--22</title>\n<path d=\"M1041.6,-272.56C1037.3,-273.96 1032.8,-275.41 1028.5,-276.81\" fill=\"none\" stroke=\"#000000\"/>\n</g>\n<!-- 13&#45;&#45;23 -->\n<g class=\"edge\" id=\"edge323\">\n<title>13--23</title>\n<path d=\"M1056.8,-281.69C1048.2,-297.34 1035.6,-320.42 1027,-336.05\" fill=\"none\" stroke=\"#000000\"/>\n</g>\n<!-- 13&#45;&#45;24 -->\n<g class=\"edge\" id=\"edge324\">\n<title>13--24</title>\n<path d=\"M1047,-277.57C1013.9,-300 946.05,-345.85 912.82,-368.32\" fill=\"none\" stroke=\"#000000\"/>\n</g>\n<!-- 13&#45;&#45;25 -->\n<g class=\"edge\" id=\"edge325\">\n<title>13--25</title>\n<path d=\"M1056.9,-247.69C1032.4,-202.63 965.71,-80.264 941.09,-35.071\" fill=\"none\" stroke=\"#000000\"/>\n</g>\n<!-- 13&#45;&#45;26 -->\n<g class=\"edge\" id=\"edge326\">\n<title>13--26</title>\n<path d=\"M1067.2,-282.7C1067.4,-285.38 1067.5,-288.16 1067.7,-290.85\" fill=\"none\" stroke=\"#000000\"/>\n</g>\n<!-- 13&#45;&#45;27 -->\n<g class=\"edge\" id=\"edge327\">\n<title>13--27</title>\n<path d=\"M1039.5,-260.95C1007.5,-256.51 954.01,-249.1 922.04,-244.67\" fill=\"none\" stroke=\"#000000\"/>\n</g>\n<!-- 13&#45;&#45;28 -->\n<g class=\"edge\" id=\"edge328\">\n<title>13--28</title>\n<path d=\"M1048.4,-250.72C1007.7,-218.73 907.73,-140.3 867.02,-108.36\" fill=\"none\" stroke=\"#000000\"/>\n</g>\n<!-- 13&#45;&#45;29 -->\n<g class=\"edge\" id=\"edge329\">\n<title>13--29</title>\n<path d=\"M1069.7,-246.4C1072.6,-231.19 1076.7,-209.64 1079.6,-194.52\" fill=\"none\" stroke=\"#000000\"/>\n</g>\n<!-- 13&#45;&#45;30 -->\n<g class=\"edge\" id=\"edge330\">\n<title>13--30</title>\n<path d=\"M1041.6,-272.4C1014.6,-280.95 971.29,-294.62 944.2,-303.18\" fill=\"none\" stroke=\"#000000\"/>\n</g>\n<!-- 14&#45;&#45;15 -->\n<g class=\"edge\" id=\"edge331\">\n<title>14--15</title>\n<path d=\"M959.41,-360.14C968.44,-316.87 991.15,-208.12 1000.2,-164.94\" fill=\"none\" stroke=\"#000000\"/>\n</g>\n<!-- 14&#45;&#45;16 -->\n<g class=\"edge\" id=\"edge332\">\n<title>14--16</title>\n<path d=\"M961.45,-360.61C978.5,-308.89 1028.1,-158.29 1045.3,-106.4\" fill=\"none\" stroke=\"#000000\"/>\n</g>\n<!-- 14&#45;&#45;17 -->\n<g class=\"edge\" id=\"edge333\">\n<title>14--17</title>\n<path d=\"M931.8,-369.43C895.08,-355.77 825.05,-329.71 788.33,-316.05\" fill=\"none\" stroke=\"#000000\"/>\n</g>\n<!-- 14&#45;&#45;18 -->\n<g class=\"edge\" id=\"edge334\">\n<title>14--18</title>\n<path d=\"M935.07,-366.34C894.11,-342.51 802.71,-289.33 761.8,-265.53\" fill=\"none\" stroke=\"#000000\"/>\n</g>\n<!-- 14&#45;&#45;19 -->\n<g class=\"edge\" id=\"edge335\">\n<title>14--19</title>\n<path d=\"M939.03,-364.03C914.42,-342.86 868.48,-303.34 843.67,-282\" fill=\"none\" stroke=\"#000000\"/>\n</g>\n<!-- 14&#45;&#45;20 -->\n<g class=\"edge\" id=\"edge336\">\n<title>14--20</title>\n<path d=\"M950.68,-360.26C939.51,-319.51 912.46,-220.76 901.35,-180.21\" fill=\"none\" stroke=\"#000000\"/>\n</g>\n<!-- 14&#45;&#45;21 -->\n<g class=\"edge\" id=\"edge337\">\n<title>14--21</title>\n<path d=\"M944.31,-361.78C913.65,-316.99 829.17,-193.57 798.57,-148.87\" fill=\"none\" stroke=\"#000000\"/>\n</g>\n<!-- 14&#45;&#45;22 -->\n<g class=\"edge\" id=\"edge338\">\n<title>14--22</title>\n<path d=\"M964.51,-361.12C973.26,-344.23 986.54,-318.59 995.27,-301.73\" fill=\"none\" stroke=\"#000000\"/>\n</g>\n<!-- 14&#45;&#45;23 -->\n<g class=\"edge\" id=\"edge339\">\n<title>14--23</title>\n<path d=\"M978.73,-368.89C983.83,-366.82 989.24,-364.62 994.35,-362.54\" fill=\"none\" stroke=\"#000000\"/>\n</g>\n<!-- 14&#45;&#45;24 -->\n<g class=\"edge\" id=\"edge340\">\n<title>14--24</title>\n<path d=\"M928.6,-379.61C925.99,-379.74 923.34,-379.86 920.73,-379.99\" fill=\"none\" stroke=\"#000000\"/>\n</g>\n<!-- 14&#45;&#45;25 -->\n<g class=\"edge\" id=\"edge341\">\n<title>14--25</title>\n<path d=\"M954.4,-359.93C950.32,-298.13 937.09,-98.076 933,-36.326\" fill=\"none\" stroke=\"#000000\"/>\n</g>\n<!-- 14&#45;&#45;26 -->\n<g class=\"edge\" id=\"edge342\">\n<title>14--26</title>\n<path d=\"M975.59,-366.07C996.14,-353.49 1028,-333.99 1048.6,-321.36\" fill=\"none\" stroke=\"#000000\"/>\n</g>\n<!-- 14&#45;&#45;27 -->\n<g class=\"edge\" id=\"edge343\">\n<title>14--27</title>\n<path d=\"M948.01,-360.91C936.53,-334.64 914.87,-285.12 903.31,-258.68\" fill=\"none\" stroke=\"#000000\"/>\n</g>\n<!-- 14&#45;&#45;28 -->\n<g class=\"edge\" id=\"edge344\">\n<title>14--28</title>\n<path d=\"M948.97,-360.54C929.88,-309.57 875.07,-163.19 855.98,-112.23\" fill=\"none\" stroke=\"#000000\"/>\n</g>\n<!-- 14&#45;&#45;29 -->\n<g class=\"edge\" id=\"edge345\">\n<title>14--29</title>\n<path d=\"M966.26,-361.45C990.31,-323.39 1048.6,-231.14 1072.5,-193.26\" fill=\"none\" stroke=\"#000000\"/>\n</g>\n<!-- 14&#45;&#45;30 -->\n<g class=\"edge\" id=\"edge346\">\n<title>14--30</title>\n<path d=\"M946.53,-361.31C941.11,-351.18 934.25,-338.35 928.8,-328.18\" fill=\"none\" stroke=\"#000000\"/>\n</g>\n<!-- 15&#45;&#45;16 -->\n<g class=\"edge\" id=\"edge347\">\n<title>15--16</title>\n<path d=\"M1016.8,-130.94C1023.5,-122.71 1031.6,-112.71 1038.2,-104.48\" fill=\"none\" stroke=\"#000000\"/>\n</g>\n<!-- 15&#45;&#45;17 -->\n<g class=\"edge\" id=\"edge348\">\n<title>15--17</title>\n<path d=\"M984.75,-159.72C939.92,-189.74 828.71,-264.2 783.8,-294.28\" fill=\"none\" stroke=\"#000000\"/>\n</g>\n<!-- 15&#45;&#45;18 -->\n<g class=\"edge\" id=\"edge349\">\n<title>15--18</title>\n<path d=\"M980.63,-156.34C930.79,-176.6 814.36,-223.92 764.57,-244.16\" fill=\"none\" stroke=\"#000000\"/>\n</g>\n<!-- 15&#45;&#45;19 -->\n<g class=\"edge\" id=\"edge350\">\n<title>15--19</title>\n<path d=\"M984.97,-159.77C950.95,-182.92 879.94,-231.24 845.83,-254.45\" fill=\"none\" stroke=\"#000000\"/>\n</g>\n<!-- 15&#45;&#45;20 -->\n<g class=\"edge\" id=\"edge351\">\n<title>15--20</title>\n<path d=\"M977.37,-150.7C960.83,-153.08 939.64,-156.14 923.1,-158.53\" fill=\"none\" stroke=\"#000000\"/>\n</g>\n<!-- 15&#45;&#45;21 -->\n<g class=\"edge\" id=\"edge352\">\n<title>15--21</title>\n<path d=\"M976.94,-145.07C935.31,-142.29 855.93,-137 814.31,-134.23\" fill=\"none\" stroke=\"#000000\"/>\n</g>\n<!-- 15&#45;&#45;22 -->\n<g class=\"edge\" id=\"edge353\">\n<title>15--22</title>\n<path d=\"M1004,-164.88C1004,-191.29 1004.1,-240.24 1004.1,-266.65\" fill=\"none\" stroke=\"#000000\"/>\n</g>\n<!-- 15&#45;&#45;23 -->\n<g class=\"edge\" id=\"edge354\">\n<title>15--23</title>\n<path d=\"M1005.2,-165.16C1007.8,-204.29 1013.9,-295.7 1016.5,-334.79\" fill=\"none\" stroke=\"#000000\"/>\n</g>\n<!-- 15&#45;&#45;24 -->\n<g class=\"edge\" id=\"edge355\">\n<title>15--24</title>\n<path d=\"M995.82,-164.11C975.42,-207.46 922.15,-320.66 901.74,-364.04\" fill=\"none\" stroke=\"#000000\"/>\n</g>\n<!-- 15&#45;&#45;25 -->\n<g class=\"edge\" id=\"edge356\">\n<title>15--25</title>\n<path d=\"M994.35,-129.76C980.56,-105.11 955.23,-59.871 941.41,-35.183\" fill=\"none\" stroke=\"#000000\"/>\n</g>\n<!-- 15&#45;&#45;26 -->\n<g class=\"edge\" id=\"edge357\">\n<title>15--26</title>\n<path d=\"M1011,-164.53C1023.5,-195.72 1049.2,-260.21 1061.7,-291.39\" fill=\"none\" stroke=\"#000000\"/>\n</g>\n<!-- 15&#45;&#45;27 -->\n<g class=\"edge\" id=\"edge358\">\n<title>15--27</title>\n<path d=\"M987.48,-161.16C967.11,-178.86 932.62,-208.81 912.19,-226.57\" fill=\"none\" stroke=\"#000000\"/>\n</g>\n<!-- 15&#45;&#45;28 -->\n<g class=\"edge\" id=\"edge359\">\n<title>15--28</title>\n<path d=\"M979.78,-138.68C950.82,-128.87 902.57,-112.52 873.58,-102.7\" fill=\"none\" stroke=\"#000000\"/>\n</g>\n<!-- 15&#45;&#45;29 -->\n<g class=\"edge\" id=\"edge360\">\n<title>15--29</title>\n<path d=\"M1027.7,-155.79C1037.7,-159.55 1049.3,-163.92 1059.3,-167.68\" fill=\"none\" stroke=\"#000000\"/>\n</g>\n<!-- 15&#45;&#45;30 -->\n<g class=\"edge\" id=\"edge361\">\n<title>15--30</title>\n<path d=\"M995.07,-164.12C978.91,-195.55 944.85,-261.82 928.59,-293.45\" fill=\"none\" stroke=\"#000000\"/>\n</g>\n<!-- 16&#45;&#45;17 -->\n<g class=\"edge\" id=\"edge362\">\n<title>16--17</title>\n<path d=\"M1033.2,-102.25C981.73,-141.51 833.9,-254.27 782.44,-293.52\" fill=\"none\" stroke=\"#000000\"/>\n</g>\n<!-- 16&#45;&#45;18 -->\n<g class=\"edge\" id=\"edge363\">\n<title>16--18</title>\n<path d=\"M1029.8,-99.916C973.24,-130.07 819.53,-211.95 762.76,-242.19\" fill=\"none\" stroke=\"#000000\"/>\n</g>\n<!-- 16&#45;&#45;19 -->\n<g class=\"edge\" id=\"edge364\">\n<title>16--19</title>\n<path d=\"M1033.5,-102.61C991.57,-136.04 886.13,-220.1 844.26,-253.47\" fill=\"none\" stroke=\"#000000\"/>\n</g>\n<!-- 16&#45;&#45;20 -->\n<g class=\"edge\" id=\"edge365\">\n<title>16--20</title>\n<path d=\"M1029,-99.145C999.57,-113.17 947.96,-137.8 918.58,-151.82\" fill=\"none\" stroke=\"#000000\"/>\n</g>\n<!-- 16&#45;&#45;21 -->\n<g class=\"edge\" id=\"edge366\">\n<title>16--21</title>\n<path d=\"M1024.9,-92.937C974.43,-101.32 864.52,-119.59 813.86,-128.01\" fill=\"none\" stroke=\"#000000\"/>\n</g>\n<!-- 16&#45;&#45;22 -->\n<g class=\"edge\" id=\"edge367\">\n<title>16--22</title>\n<path d=\"M1046.8,-106.67C1037.8,-144.03 1017.4,-229.3 1008.4,-266.61\" fill=\"none\" stroke=\"#000000\"/>\n</g>\n<!-- 16&#45;&#45;23 -->\n<g class=\"edge\" id=\"edge368\">\n<title>16--23</title>\n<path d=\"M1048.8,-106.75C1042.7,-155.18 1026.1,-286.91 1020,-335.09\" fill=\"none\" stroke=\"#000000\"/>\n</g>\n<!-- 16&#45;&#45;24 -->\n<g class=\"edge\" id=\"edge369\">\n<title>16--24</title>\n<path d=\"M1042,-105.58C1014.1,-157.31 930.66,-312.46 902.79,-364.26\" fill=\"none\" stroke=\"#000000\"/>\n</g>\n<!-- 16&#45;&#45;25 -->\n<g class=\"edge\" id=\"edge370\">\n<title>16--25</title>\n<path d=\"M1030.9,-76.6C1008.9,-63.623 974.12,-43.031 952.13,-30.03\" fill=\"none\" stroke=\"#000000\"/>\n</g>\n<!-- 16&#45;&#45;26 -->\n<g class=\"edge\" id=\"edge371\">\n<title>16--26</title>\n<path d=\"M1052.6,-106.61C1055.9,-148.06 1064,-249.66 1067.3,-291.05\" fill=\"none\" stroke=\"#000000\"/>\n</g>\n<!-- 16&#45;&#45;27 -->\n<g class=\"edge\" id=\"edge372\">\n<title>16--27</title>\n<path d=\"M1035.9,-103.46C1006.3,-132.53 940.96,-196.53 911.06,-225.82\" fill=\"none\" stroke=\"#000000\"/>\n</g>\n<!-- 16&#45;&#45;28 -->\n<g class=\"edge\" id=\"edge373\">\n<title>16--28</title>\n<path d=\"M1023.9,-89.369C985.29,-90.501 915,-92.56 876.44,-93.689\" fill=\"none\" stroke=\"#000000\"/>\n</g>\n<!-- 16&#45;&#45;29 -->\n<g class=\"edge\" id=\"edge374\">\n<title>16--29</title>\n<path d=\"M1057.6,-106.39C1063.1,-121.66 1071.1,-143.55 1076.6,-158.81\" fill=\"none\" stroke=\"#000000\"/>\n</g>\n<!-- 16&#45;&#45;30 -->\n<g class=\"edge\" id=\"edge375\">\n<title>16--30</title>\n<path d=\"M1041,-105.65C1016.5,-147.15 953.94,-252.89 929.55,-294.13\" fill=\"none\" stroke=\"#000000\"/>\n</g>\n<!-- 17&#45;&#45;18 -->\n<g class=\"edge\" id=\"edge376\">\n<title>17--18</title>\n<path d=\"M756.92,-289.65C754.33,-283.66 751.44,-276.98 748.85,-271.01\" fill=\"none\" stroke=\"#000000\"/>\n</g>\n<!-- 17&#45;&#45;19 -->\n<g class=\"edge\" id=\"edge377\">\n<title>17--19</title>\n<path d=\"M784.2,-294.61C791.47,-289.97 799.69,-284.72 806.96,-280.07\" fill=\"none\" stroke=\"#000000\"/>\n</g>\n<!-- 17&#45;&#45;20 -->\n<g class=\"edge\" id=\"edge378\">\n<title>17--20</title>\n<path d=\"M778.64,-291.69C804.03,-263.82 857.12,-205.55 882.44,-177.76\" fill=\"none\" stroke=\"#000000\"/>\n</g>\n<!-- 17&#45;&#45;21 -->\n<g class=\"edge\" id=\"edge379\">\n<title>17--21</title>\n<path d=\"M766.87,-289.15C771.25,-255.57 780.6,-183.87 784.97,-150.37\" fill=\"none\" stroke=\"#000000\"/>\n</g>\n<!-- 17&#45;&#45;22 -->\n<g class=\"edge\" id=\"edge380\">\n<title>17--22</title>\n<path d=\"M791.54,-304.65C837.67,-300.31 931.12,-291.53 977.19,-287.2\" fill=\"none\" stroke=\"#000000\"/>\n</g>\n<!-- 17&#45;&#45;23 -->\n<g class=\"edge\" id=\"edge381\">\n<title>17--23</title>\n<path d=\"M790.66,-311.92C839.17,-320.71 942.62,-339.45 991.31,-348.27\" fill=\"none\" stroke=\"#000000\"/>\n</g>\n<!-- 17&#45;&#45;24 -->\n<g class=\"edge\" id=\"edge382\">\n<title>17--24</title>\n<path d=\"M785.26,-319.1C809.35,-332.93 848.85,-355.61 872.92,-369.43\" fill=\"none\" stroke=\"#000000\"/>\n</g>\n<!-- 17&#45;&#45;25 -->\n<g class=\"edge\" id=\"edge383\">\n<title>17--25</title>\n<path d=\"M774.23,-290.39C803.8,-239.28 892.45,-86.018 922.05,-34.844\" fill=\"none\" stroke=\"#000000\"/>\n</g>\n<!-- 17&#45;&#45;26 -->\n<g class=\"edge\" id=\"edge384\">\n<title>17--26</title>\n<path d=\"M791.52,-307.35C849.11,-307.7 983.46,-308.51 1041.4,-308.86\" fill=\"none\" stroke=\"#000000\"/>\n</g>\n<!-- 17&#45;&#45;27 -->\n<g class=\"edge\" id=\"edge385\">\n<title>17--27</title>\n<path d=\"M786.16,-296.26C810.44,-284 849.6,-264.21 873.9,-251.94\" fill=\"none\" stroke=\"#000000\"/>\n</g>\n<!-- 17&#45;&#45;28 -->\n<g class=\"edge\" id=\"edge386\">\n<title>17--28</title>\n<path d=\"M771.46,-289.78C787.36,-249.9 826.3,-152.25 842.3,-112.13\" fill=\"none\" stroke=\"#000000\"/>\n</g>\n<!-- 17&#45;&#45;29 -->\n<g class=\"edge\" id=\"edge387\">\n<title>17--29</title>\n<path d=\"M787.68,-297.69C846.52,-273.57 1001.2,-210.14 1060,-186.06\" fill=\"none\" stroke=\"#000000\"/>\n</g>\n<!-- 17&#45;&#45;30 -->\n<g class=\"edge\" id=\"edge388\">\n<title>17--30</title>\n<path d=\"M791.53,-307.85C819.82,-308.54 864,-309.61 892.37,-310.3\" fill=\"none\" stroke=\"#000000\"/>\n</g>\n<!-- 18&#45;&#45;19 -->\n<g class=\"edge\" id=\"edge389\">\n<title>18--19</title>\n<path d=\"M767.88,-257.91C778.26,-259.59 790.14,-261.51 800.49,-263.19\" fill=\"none\" stroke=\"#000000\"/>\n</g>\n<!-- 18&#45;&#45;20 -->\n<g class=\"edge\" id=\"edge390\">\n<title>18--20</title>\n<path d=\"M761.6,-241.68C791.33,-224.2 846.44,-191.79 876.18,-174.3\" fill=\"none\" stroke=\"#000000\"/>\n</g>\n<!-- 18&#45;&#45;21 -->\n<g class=\"edge\" id=\"edge391\">\n<title>18--21</title>\n<path d=\"M748.01,-235.99C756.73,-213.01 771.89,-173.05 780.62,-150.07\" fill=\"none\" stroke=\"#000000\"/>\n</g>\n<!-- 18&#45;&#45;22 -->\n<g class=\"edge\" id=\"edge392\">\n<title>18--22</title>\n<path d=\"M767.96,-256.76C818.33,-262.71 926.98,-275.55 977.4,-281.51\" fill=\"none\" stroke=\"#000000\"/>\n</g>\n<!-- 18&#45;&#45;23 -->\n<g class=\"edge\" id=\"edge393\">\n<title>18--23</title>\n<path d=\"M765.36,-262.26C817.76,-281.11 941.73,-325.72 993.9,-344.49\" fill=\"none\" stroke=\"#000000\"/>\n</g>\n<!-- 18&#45;&#45;24 -->\n<g class=\"edge\" id=\"edge394\">\n<title>18--24</title>\n<path d=\"M758.2,-267.76C787.47,-292.31 847.33,-342.5 876.66,-367.09\" fill=\"none\" stroke=\"#000000\"/>\n</g>\n<!-- 18&#45;&#45;25 -->\n<g class=\"edge\" id=\"edge395\">\n<title>18--25</title>\n<path d=\"M754.41,-237.42C789.29,-194.27 884.16,-76.914 918.86,-33.996\" fill=\"none\" stroke=\"#000000\"/>\n</g>\n<!-- 18&#45;&#45;26 -->\n<g class=\"edge\" id=\"edge396\">\n<title>18--26</title>\n<path d=\"M767.56,-258.05C828.87,-268.43 980.96,-294.17 1042.4,-304.57\" fill=\"none\" stroke=\"#000000\"/>\n</g>\n<!-- 18&#45;&#45;27 -->\n<g class=\"edge\" id=\"edge397\">\n<title>18--27</title>\n<path d=\"M768.19,-251.41C796.41,-249.1 840.55,-245.5 868.75,-243.19\" fill=\"none\" stroke=\"#000000\"/>\n</g>\n<!-- 18&#45;&#45;28 -->\n<g class=\"edge\" id=\"edge398\">\n<title>18--28</title>\n<path d=\"M752.47,-237.18C773.17,-206.69 817.31,-141.67 838.08,-111.06\" fill=\"none\" stroke=\"#000000\"/>\n</g>\n<!-- 18&#45;&#45;29 -->\n<g class=\"edge\" id=\"edge399\">\n<title>18--29</title>\n<path d=\"M767,-247.82C830.34,-233.55 993.43,-196.8 1057.1,-182.45\" fill=\"none\" stroke=\"#000000\"/>\n</g>\n<!-- 18&#45;&#45;30 -->\n<g class=\"edge\" id=\"edge400\">\n<title>18--30</title>\n<path d=\"M765.73,-261.46C799.78,-272.42 861.15,-292.16 895.19,-303.11\" fill=\"none\" stroke=\"#000000\"/>\n</g>\n<!-- 19&#45;&#45;20 -->\n<g class=\"edge\" id=\"edge401\">\n<title>19--20</title>\n<path d=\"M837.94,-250.56C851.03,-230.84 872.54,-198.42 885.52,-178.86\" fill=\"none\" stroke=\"#000000\"/>\n</g>\n<!-- 19&#45;&#45;21 -->\n<g class=\"edge\" id=\"edge402\">\n<title>19--21</title>\n<path d=\"M821.5,-249.51C813.96,-223.69 800.12,-176.29 792.57,-150.43\" fill=\"none\" stroke=\"#000000\"/>\n</g>\n<!-- 19&#45;&#45;22 -->\n<g class=\"edge\" id=\"edge403\">\n<title>19--22</title>\n<path d=\"M853.68,-270.06C887.11,-273.31 943.79,-278.81 977.21,-282.06\" fill=\"none\" stroke=\"#000000\"/>\n</g>\n<!-- 19&#45;&#45;23 -->\n<g class=\"edge\" id=\"edge404\">\n<title>19--23</title>\n<path d=\"M849.39,-277.6C886.14,-294.07 958.33,-326.44 995.07,-342.9\" fill=\"none\" stroke=\"#000000\"/>\n</g>\n<!-- 19&#45;&#45;24 -->\n<g class=\"edge\" id=\"edge405\">\n<title>19--24</title>\n<path d=\"M836.6,-284.24C849.25,-305.77 871.04,-342.88 883.7,-364.44\" fill=\"none\" stroke=\"#000000\"/>\n</g>\n<!-- 19&#45;&#45;25 -->\n<g class=\"edge\" id=\"edge406\">\n<title>19--25</title>\n<path d=\"M834.12,-249.9C853.41,-204.1 905.13,-81.299 924.41,-35.521\" fill=\"none\" stroke=\"#000000\"/>\n</g>\n<!-- 19&#45;&#45;26 -->\n<g class=\"edge\" id=\"edge407\">\n<title>19--26</title>\n<path d=\"M853.1,-271.97C899.66,-279.97 995.9,-296.51 1042.4,-304.5\" fill=\"none\" stroke=\"#000000\"/>\n</g>\n<!-- 19&#45;&#45;27 -->\n<g class=\"edge\" id=\"edge408\">\n<title>19--27</title>\n<path d=\"M850.43,-258.34C857.43,-255.65 865.08,-252.71 872.07,-250.03\" fill=\"none\" stroke=\"#000000\"/>\n</g>\n<!-- 19&#45;&#45;28 -->\n<g class=\"edge\" id=\"edge409\">\n<title>19--28</title>\n<path d=\"M829.11,-249.26C833.46,-215.95 842.66,-145.55 846.99,-112.42\" fill=\"none\" stroke=\"#000000\"/>\n</g>\n<!-- 19&#45;&#45;29 -->\n<g class=\"edge\" id=\"edge410\">\n<title>19--29</title>\n<path d=\"M850.85,-258.9C899.83,-241.54 1010.4,-202.34 1059.2,-185.06\" fill=\"none\" stroke=\"#000000\"/>\n</g>\n<!-- 19&#45;&#45;30 -->\n<g class=\"edge\" id=\"edge411\">\n<title>19--30</title>\n<path d=\"M849.21,-277.98C863.81,-284.82 882.76,-293.7 897.32,-300.52\" fill=\"none\" stroke=\"#000000\"/>\n</g>\n<!-- 20&#45;&#45;21 -->\n<g class=\"edge\" id=\"edge412\">\n<title>20--21</title>\n<path d=\"M871.42,-155.5C853.8,-150.67 830.3,-144.22 812.62,-139.37\" fill=\"none\" stroke=\"#000000\"/>\n</g>\n<!-- 20&#45;&#45;22 -->\n<g class=\"edge\" id=\"edge413\">\n<title>20--22</title>\n<path d=\"M910.54,-178.36C931.28,-201.93 969.83,-245.72 990.38,-269.06\" fill=\"none\" stroke=\"#000000\"/>\n</g>\n<!-- 20&#45;&#45;23 -->\n<g class=\"edge\" id=\"edge414\">\n<title>20--23</title>\n<path d=\"M907.01,-178.96C929.94,-215.02 984.1,-300.21 1007.1,-336.36\" fill=\"none\" stroke=\"#000000\"/>\n</g>\n<!-- 20&#45;&#45;24 -->\n<g class=\"edge\" id=\"edge415\">\n<title>20--24</title>\n<path d=\"M896.22,-180.66C895.69,-221.97 894.38,-322.11 893.85,-363.22\" fill=\"none\" stroke=\"#000000\"/>\n</g>\n<!-- 20&#45;&#45;25 -->\n<g class=\"edge\" id=\"edge416\">\n<title>20--25</title>\n<path d=\"M900.87,-144.38C907.67,-116.56 920.67,-63.444 927.44,-35.766\" fill=\"none\" stroke=\"#000000\"/>\n</g>\n<!-- 20&#45;&#45;26 -->\n<g class=\"edge\" id=\"edge417\">\n<title>20--26</title>\n<path d=\"M913.3,-176.7C946.32,-204.81 1019.2,-266.87 1052.1,-294.86\" fill=\"none\" stroke=\"#000000\"/>\n</g>\n<!-- 20&#45;&#45;27 -->\n<g class=\"edge\" id=\"edge418\">\n<title>20--27</title>\n<path d=\"M896.26,-180.61C896.11,-193.31 895.92,-210.18 895.78,-222.86\" fill=\"none\" stroke=\"#000000\"/>\n</g>\n<!-- 20&#45;&#45;28 -->\n<g class=\"edge\" id=\"edge419\">\n<title>20--28</title>\n<path d=\"M885.05,-145.94C877.75,-135.42 868.31,-121.82 860.97,-111.24\" fill=\"none\" stroke=\"#000000\"/>\n</g>\n<!-- 20&#45;&#45;29 -->\n<g class=\"edge\" id=\"edge420\">\n<title>20--29</title>\n<path d=\"M923.59,-164.44C959.07,-167.14 1020.8,-171.85 1056.2,-174.55\" fill=\"none\" stroke=\"#000000\"/>\n</g>\n<!-- 20&#45;&#45;30 -->\n<g class=\"edge\" id=\"edge421\">\n<title>20--30</title>\n<path d=\"M899.25,-180.29C903.7,-208.85 912.34,-264.38 916.79,-292.98\" fill=\"none\" stroke=\"#000000\"/>\n</g>\n<!-- 21&#45;&#45;22 -->\n<g class=\"edge\" id=\"edge422\">\n<title>21--22</title>\n<path d=\"M806.18,-145.67C847.28,-174.53 944.53,-242.82 985.45,-271.56\" fill=\"none\" stroke=\"#000000\"/>\n</g>\n<!-- 21&#45;&#45;23 -->\n<g class=\"edge\" id=\"edge423\">\n<title>21--23</title>\n<path d=\"M802.79,-147.24C844.66,-187.34 959.84,-297.64 1002,-338\" fill=\"none\" stroke=\"#000000\"/>\n</g>\n<!-- 21&#45;&#45;24 -->\n<g class=\"edge\" id=\"edge424\">\n<title>21--24</title>\n<path d=\"M794.79,-149.93C814.31,-195.62 866.64,-318.15 886.15,-363.83\" fill=\"none\" stroke=\"#000000\"/>\n</g>\n<!-- 21&#45;&#45;25 -->\n<g class=\"edge\" id=\"edge425\">\n<title>21--25</title>\n<path d=\"M804.74,-118.62C832.51,-96.63 886.49,-53.875 914.3,-31.851\" fill=\"none\" stroke=\"#000000\"/>\n</g>\n<!-- 21&#45;&#45;26 -->\n<g class=\"edge\" id=\"edge426\">\n<title>21--26</title>\n<path d=\"M807.11,-144.84C858.78,-177.27 997.34,-264.21 1049,-296.62\" fill=\"none\" stroke=\"#000000\"/>\n</g>\n<!-- 21&#45;&#45;27 -->\n<g class=\"edge\" id=\"edge427\">\n<title>21--27</title>\n<path d=\"M802.37,-147.52C822.94,-168.15 859.62,-204.94 880.3,-225.68\" fill=\"none\" stroke=\"#000000\"/>\n</g>\n<!-- 21&#45;&#45;28 -->\n<g class=\"edge\" id=\"edge428\">\n<title>21--28</title>\n<path d=\"M807.28,-120.21C814.36,-115.88 822.33,-111.01 829.41,-106.67\" fill=\"none\" stroke=\"#000000\"/>\n</g>\n<!-- 21&#45;&#45;29 -->\n<g class=\"edge\" id=\"edge429\">\n<title>21--29</title>\n<path d=\"M813.82,-136.38C869.96,-144.77 1000.3,-164.24 1056.5,-172.63\" fill=\"none\" stroke=\"#000000\"/>\n</g>\n<!-- 21&#45;&#45;30 -->\n<g class=\"edge\" id=\"edge430\">\n<title>21--30</title>\n<path d=\"M799.29,-148.58C824.41,-182.49 882.37,-260.73 907.55,-294.71\" fill=\"none\" stroke=\"#000000\"/>\n</g>\n<!-- 22&#45;&#45;23 -->\n<g class=\"edge\" id=\"edge431\">\n<title>22--23</title>\n<path d=\"M1007.7,-302.63C1009.7,-312.6 1012.1,-324.97 1014.1,-334.96\" fill=\"none\" stroke=\"#000000\"/>\n</g>\n<!-- 22&#45;&#45;24 -->\n<g class=\"edge\" id=\"edge432\">\n<title>22--24</title>\n<path d=\"M987.33,-299.35C966.44,-317.61 930.98,-348.62 910.19,-366.81\" fill=\"none\" stroke=\"#000000\"/>\n</g>\n<!-- 22&#45;&#45;25 -->\n<g class=\"edge\" id=\"edge433\">\n<title>22--25</title>\n<path d=\"M999.26,-266.76C986.08,-218.18 949.78,-84.321 936.63,-35.833\" fill=\"none\" stroke=\"#000000\"/>\n</g>\n<!-- 22&#45;&#45;26 -->\n<g class=\"edge\" id=\"edge434\">\n<title>22--26</title>\n<path d=\"M1027.8,-293.6C1033.4,-295.72 1039.4,-297.98 1045.1,-300.1\" fill=\"none\" stroke=\"#000000\"/>\n</g>\n<!-- 22&#45;&#45;27 -->\n<g class=\"edge\" id=\"edge435\">\n<title>22--27</title>\n<path d=\"M980.83,-275.3C962.51,-267.93 937.12,-257.71 918.82,-250.35\" fill=\"none\" stroke=\"#000000\"/>\n</g>\n<!-- 22&#45;&#45;28 -->\n<g class=\"edge\" id=\"edge436\">\n<title>22--28</title>\n<path d=\"M991.18,-268.78C962.05,-232.98 891.54,-146.34 862.34,-110.46\" fill=\"none\" stroke=\"#000000\"/>\n</g>\n<!-- 22&#45;&#45;29 -->\n<g class=\"edge\" id=\"edge437\">\n<title>22--29</title>\n<path d=\"M1016.1,-268.25C1031,-247.82 1056.4,-213.15 1071.2,-192.81\" fill=\"none\" stroke=\"#000000\"/>\n</g>\n<!-- 22&#45;&#45;30 -->\n<g class=\"edge\" id=\"edge438\">\n<title>22--30</title>\n<path d=\"M979.21,-292.41C968.21,-295.84 955.3,-299.85 944.31,-303.27\" fill=\"none\" stroke=\"#000000\"/>\n</g>\n<!-- 23&#45;&#45;24 -->\n<g class=\"edge\" id=\"edge439\">\n<title>23--24</title>\n<path d=\"M991.98,-358.9C970.69,-363.75 940.57,-370.61 919.29,-375.46\" fill=\"none\" stroke=\"#000000\"/>\n</g>\n<!-- 23&#45;&#45;25 -->\n<g class=\"edge\" id=\"edge440\">\n<title>23--25</title>\n<path d=\"M1013.1,-335.03C998.16,-276.86 951.38,-94.404 936.43,-36.103\" fill=\"none\" stroke=\"#000000\"/>\n</g>\n<!-- 23&#45;&#45;26 -->\n<g class=\"edge\" id=\"edge441\">\n<title>23--26</title>\n<path d=\"M1034.4,-338.63C1040.1,-333.72 1046.5,-328.23 1052.2,-323.32\" fill=\"none\" stroke=\"#000000\"/>\n</g>\n<!-- 23&#45;&#45;27 -->\n<g class=\"edge\" id=\"edge442\">\n<title>23--27</title>\n<path d=\"M1001.7,-338.4C978.32,-316.92 934.95,-277.13 911.54,-255.65\" fill=\"none\" stroke=\"#000000\"/>\n</g>\n<!-- 23&#45;&#45;28 -->\n<g class=\"edge\" id=\"edge443\">\n<title>23--28</title>\n<path d=\"M1006.9,-336.48C976.57,-289.89 890.74,-158.08 860.25,-111.25\" fill=\"none\" stroke=\"#000000\"/>\n</g>\n<!-- 23&#45;&#45;29 -->\n<g class=\"edge\" id=\"edge444\">\n<title>23--29</title>\n<path d=\"M1024.2,-335.48C1036.7,-301.66 1064.1,-227.86 1076.6,-194.09\" fill=\"none\" stroke=\"#000000\"/>\n</g>\n<!-- 23&#45;&#45;30 -->\n<g class=\"edge\" id=\"edge445\">\n<title>23--30</title>\n<path d=\"M994.94,-343.29C979.2,-336.53 958.34,-327.59 942.56,-320.82\" fill=\"none\" stroke=\"#000000\"/>\n</g>\n<!-- 24&#45;&#45;25 -->\n<g class=\"edge\" id=\"edge446\">\n<title>24--25</title>\n<path d=\"M895.5,-363.29C902,-301.44 923.37,-98.144 929.89,-36.125\" fill=\"none\" stroke=\"#000000\"/>\n</g>\n<!-- 24&#45;&#45;26 -->\n<g class=\"edge\" id=\"edge447\">\n<title>24--26</title>\n<path d=\"M916.87,-371.71C950.46,-357.85 1012.2,-332.37 1045.7,-318.55\" fill=\"none\" stroke=\"#000000\"/>\n</g>\n<!-- 24&#45;&#45;27 -->\n<g class=\"edge\" id=\"edge448\">\n<title>24--27</title>\n<path d=\"M893.86,-363.25C894.24,-336.46 894.94,-286.44 895.32,-259.43\" fill=\"none\" stroke=\"#000000\"/>\n</g>\n<!-- 24&#45;&#45;28 -->\n<g class=\"edge\" id=\"edge449\">\n<title>24--28</title>\n<path d=\"M890.84,-363.37C882.89,-311.86 860.06,-163.92 852.11,-112.42\" fill=\"none\" stroke=\"#000000\"/>\n</g>\n<!-- 24&#45;&#45;29 -->\n<g class=\"edge\" id=\"edge450\">\n<title>24--29</title>\n<path d=\"M907.85,-365.92C942.96,-327.98 1033.4,-230.29 1068.6,-192.16\" fill=\"none\" stroke=\"#000000\"/>\n</g>\n<!-- 24&#45;&#45;30 -->\n<g class=\"edge\" id=\"edge451\">\n<title>24--30</title>\n<path d=\"M900.17,-363.56C904.14,-352.81 909.18,-339.16 913.13,-328.46\" fill=\"none\" stroke=\"#000000\"/>\n</g>\n<!-- 25&#45;&#45;26 -->\n<g class=\"edge\" id=\"edge452\">\n<title>25--26</title>\n<path d=\"M939.95,-35.334C964.31,-87.096 1036.3,-240.14 1060.7,-291.79\" fill=\"none\" stroke=\"#000000\"/>\n</g>\n<!-- 25&#45;&#45;27 -->\n<g class=\"edge\" id=\"edge453\">\n<title>25--27</title>\n<path d=\"M928.83,-36.249C922.02,-78.169 905.33,-180.95 898.53,-222.81\" fill=\"none\" stroke=\"#000000\"/>\n</g>\n<!-- 25&#45;&#45;28 -->\n<g class=\"edge\" id=\"edge454\">\n<title>25--28</title>\n<path d=\"M915.89,-32.747C901.29,-46.29 879.77,-66.253 865.19,-79.782\" fill=\"none\" stroke=\"#000000\"/>\n</g>\n<!-- 25&#45;&#45;29 -->\n<g class=\"edge\" id=\"edge455\">\n<title>25--29</title>\n<path d=\"M946.29,-33.207C975.13,-63.444 1039.4,-130.81 1068.4,-161.2\" fill=\"none\" stroke=\"#000000\"/>\n</g>\n<!-- 25&#45;&#45;30 -->\n<g class=\"edge\" id=\"edge456\">\n<title>25--30</title>\n<path d=\"M931.03,-36.326C928.84,-88.938 922.54,-240.04 920.35,-292.64\" fill=\"none\" stroke=\"#000000\"/>\n</g>\n<!-- 26&#45;&#45;27 -->\n<g class=\"edge\" id=\"edge457\">\n<title>26--27</title>\n<path d=\"M1045.4,-299.85C1012.3,-286.83 951.93,-263.14 918.84,-250.14\" fill=\"none\" stroke=\"#000000\"/>\n</g>\n<!-- 26&#45;&#45;28 -->\n<g class=\"edge\" id=\"edge458\">\n<title>26--28</title>\n<path d=\"M1053.3,-293.94C1013,-254.55 905.02,-148.93 864.75,-109.55\" fill=\"none\" stroke=\"#000000\"/>\n</g>\n<!-- 26&#45;&#45;29 -->\n<g class=\"edge\" id=\"edge459\">\n<title>26--29</title>\n<path d=\"M1070.7,-290.89C1073.4,-265.67 1078.3,-220.27 1081.1,-194.94\" fill=\"none\" stroke=\"#000000\"/>\n</g>\n<!-- 26&#45;&#45;30 -->\n<g class=\"edge\" id=\"edge460\">\n<title>26--30</title>\n<path d=\"M1041.8,-309.38C1014.8,-309.73 973.63,-310.26 946.66,-310.61\" fill=\"none\" stroke=\"#000000\"/>\n</g>\n<!-- 27&#45;&#45;28 -->\n<g class=\"edge\" id=\"edge461\">\n<title>27--28</title>\n<path d=\"M890,-223.32C881.11,-195.16 863.83,-140.42 854.93,-112.22\" fill=\"none\" stroke=\"#000000\"/>\n</g>\n<!-- 27&#45;&#45;29 -->\n<g class=\"edge\" id=\"edge462\">\n<title>27--29</title>\n<path d=\"M919.7,-232.71C955.7,-220.34 1023.1,-197.2 1059,-184.85\" fill=\"none\" stroke=\"#000000\"/>\n</g>\n<!-- 27&#45;&#45;30 -->\n<g class=\"edge\" id=\"edge463\">\n<title>27--30</title>\n<path d=\"M901.63,-258.65C905.25,-269.18 909.82,-282.5 913.45,-293.07\" fill=\"none\" stroke=\"#000000\"/>\n</g>\n<!-- 28&#45;&#45;29 -->\n<g class=\"edge\" id=\"edge464\">\n<title>28--29</title>\n<path d=\"M873.47,-102.96C918.37,-118.74 1014.2,-152.42 1059.1,-168.17\" fill=\"none\" stroke=\"#000000\"/>\n</g>\n<!-- 28&#45;&#45;30 -->\n<g class=\"edge\" id=\"edge465\">\n<title>28--30</title>\n<path d=\"M855.09,-112.2C868.29,-152.89 900.67,-252.67 913.86,-293.31\" fill=\"none\" stroke=\"#000000\"/>\n</g>\n<!-- 29&#45;&#45;30 -->\n<g class=\"edge\" id=\"edge466\">\n<title>29--30</title>\n<path d=\"M1065.9,-190.72C1034.6,-216.46 968.54,-270.73 937.04,-296.62\" fill=\"none\" stroke=\"#000000\"/>\n</g>\n<!-- Y -->\n<g class=\"node\" id=\"node33\">\n<title>Y</title>\n<ellipse cx=\"269.13\" cy=\"-509.39\" fill=\"none\" rx=\"27\" ry=\"18\" stroke=\"#000000\"/>\n<text fill=\"#000000\" font-family=\"Times,serif\" font-size=\"14.00\" text-anchor=\"middle\" x=\"269.13\" y=\"-505.69\">Y</text>\n</g>\n<!-- X&#45;&#45;Y -->\n<g class=\"edge\" id=\"edge467\">\n<title>X--Y</title>\n<path d=\"M498.12,-471.8C449.06,-479.85 344.3,-497.05 295.35,-505.09\" fill=\"none\" stroke=\"#000000\"/>\n</g>\n<!-- Z -->\n<g class=\"node\" id=\"node34\">\n<title>Z</title>\n<ellipse cx=\"27\" cy=\"-556.82\" fill=\"none\" rx=\"27\" ry=\"18\" stroke=\"#000000\"/>\n<text fill=\"#000000\" font-family=\"Times,serif\" font-size=\"14.00\" text-anchor=\"middle\" x=\"27\" y=\"-553.12\">Z</text>\n</g>\n<!-- Y&#45;&#45;Z -->\n<g class=\"edge\" id=\"edge468\">\n<title>Y--Z</title>\n<path d=\"M243.22,-514.47C196.74,-523.57 99.702,-542.58 53.092,-551.71\" fill=\"none\" stroke=\"#000000\"/>\n</g>\n</g>\n</svg>",
            "text/plain": [
              "<IPython.core.display.SVG object>"
            ]
          },
          "metadata": {},
          "output_type": "display_data"
        },
        {
          "name": "stdout",
          "output_type": "stream",
          "text": [
            "4\n",
            "1.3279857397504455\n",
            "3.9839572192513364\n"
          ]
        },
        {
          "data": {
            "text/html": [
              "<h2 style='color: green;'>Correct</h2>"
            ],
            "text/plain": [
              "<IPython.core.display.HTML object>"
            ]
          },
          "execution_count": 22,
          "metadata": {},
          "output_type": "execute_result"
        }
      ],
      "source": [
        "# Answer (a)\n",
        "# Construct a graph where diameter(Answer) > 3 * avg_distance(Answer)\n",
        "# BEGIN SOLUTION\n",
        "Answer = nx.complete_graph(31)\n",
        "Answer.add_edge(1, 'X')\n",
        "Answer.add_edge('X', 'Y')\n",
        "Answer.add_edge('Y', 'Z')\n",
        "# END SOLUTION\n",
        "display(draw(Answer))\n",
        "print(diameter(Answer))\n",
        "print(avg_distance(Answer))\n",
        "print(3 * avg_distance(Answer))\n",
        "# Check\n",
        "answer(diameter(Answer) > 3 * avg_distance(Answer))"
      ]
    },
    {
      "cell_type": "markdown",
      "metadata": {
        "id": "kPG5ookx4bXK"
      },
      "source": [
        "**Answer (b)**: *Add your explanation here*"
      ]
    },
    {
      "cell_type": "markdown",
      "metadata": {
        "id": "orVdZhZJ4bXK"
      },
      "source": [
        "# Chapter 3: Strong and Weak Ties                                                     <a id=\"chapter10\"></a>\n"
      ]
    },
    {
      "cell_type": "markdown",
      "metadata": {
        "id": "24wzg_Mb4bXK"
      },
      "source": [
        "## Exercise: Triadic Closure                                                     <a id=\"chapter11\"></a>\n",
        "\n",
        "If nodes B and C have a neighbor A in common, the formation of an edge between B and C produces a situation in which A,B,C form a triangle. \n",
        "\n",
        "* (p1): Complete the functions ``trianglesA`` and  ``triangles``.\n",
        "* (p2): Complete the function ``open_triangles``."
      ]
    },
    {
      "cell_type": "code",
      "execution_count": 23,
      "metadata": {
        "colab": {
          "base_uri": "https://localhost:8080/",
          "height": 64
        },
        "id": "_5lsZz5K4bXK",
        "outputId": "41ccc4bc-8395-4666-93ff-2525b77155ad"
      },
      "outputs": [
        {
          "data": {
            "text/html": [
              "<h2 style='color: green;'>Correct</h2>"
            ],
            "text/plain": [
              "<IPython.core.display.HTML object>"
            ]
          },
          "execution_count": 23,
          "metadata": {},
          "output_type": "execute_result"
        }
      ],
      "source": [
        "def trianglesA(G,a):\n",
        "    '''\n",
        "    Calculates the number of neighbors of node 'a' that are also neighbors themselves.\n",
        "    '''\n",
        "    results = []\n",
        "    # BEGIN SOLUTION\n",
        "    for n1, n2 in [ (n1, n2) for n1 in G[a] for n2 in G[a] if n1 > n2 ]:\n",
        "        if n2 in G[n1]:\n",
        "            r = tuple(sorted([n1, a, n2]))\n",
        "            if r not in results: results.append( r )\n",
        "    # END SOLUTION\n",
        "    return results\n",
        "\n",
        "def triangles(G):\n",
        "    '''\n",
        "    Calculates all open triangles in graph 'G'\n",
        "    '''\n",
        "    results = set()\n",
        "    # BEGIN SOLUTION\n",
        "    for n in G.nodes():\n",
        "        for r in trianglesA(G, n):\n",
        "           results.add( r )\n",
        "    # END SOLUTION\n",
        "    return results\n",
        "\n",
        "def open_triangles(G):\n",
        "    '''\n",
        "    Cacluates the number of triades in graph ``G``.\n",
        "    '''\n",
        "    results = []\n",
        "    # BEGIN SOLUTION\n",
        "    for n in G.nodes():\n",
        "        for n1, n2 in [ (n1, n2) for n1 in G[n] for n2 in G[n] if n1 > n2 ]:  \n",
        "            if n2 not in G[n1]:\n",
        "                r = tuple(sorted([n1, n, n2]))\n",
        "                if r not in results: results.append( r )\n",
        "    # END SOLUTION\n",
        "    return results\n",
        "\n",
        "# Check \n",
        "answer(len(open_triangles(F31)) == 10)"
      ]
    },
    {
      "cell_type": "markdown",
      "metadata": {
        "id": "AvANpEeP4bXL"
      },
      "source": [
        "## Exercise: Clustering Coefficient                                                     <a id=\"chapter12\"></a>\n",
        "The clustering coefficient of a node 'a' is defined as the probability that two randomly selected neighbors of A are neighbors of each other [p44-45]\n",
        "\n",
        "* (p): Complete the function ``cluster_coefficient`` to calculate the cluster coefficient of a node 'a'."
      ]
    },
    {
      "cell_type": "code",
      "execution_count": 24,
      "metadata": {
        "colab": {
          "base_uri": "https://localhost:8080/",
          "height": 396
        },
        "id": "9Il7Te_s4bXL",
        "outputId": "9f0933ae-a953-4447-c3c2-877ee6a68baf"
      },
      "outputs": [
        {
          "data": {
            "image/svg+xml": "<svg height=\"246pt\" viewBox=\"0.00 0.00 218.17 246.19\" width=\"218pt\" xmlns=\"http://www.w3.org/2000/svg\" xmlns:xlink=\"http://www.w3.org/1999/xlink\">\n<g class=\"graph\" id=\"graph0\" transform=\"scale(1 1) rotate(0) translate(4 242.19)\">\n<polygon fill=\"#ffffff\" points=\"-4,4 -4,-242.19 214.17,-242.19 214.17,4 -4,4\" stroke=\"transparent\"/>\n<!-- G -->\n<g class=\"node\" id=\"node1\">\n<title>G</title>\n<ellipse cx=\"82.708\" cy=\"-18\" fill=\"none\" rx=\"27\" ry=\"18\" stroke=\"#000000\"/>\n<text fill=\"#000000\" font-family=\"Times,serif\" font-size=\"14.00\" text-anchor=\"middle\" x=\"82.708\" y=\"-14.3\">G</text>\n</g>\n<!-- B -->\n<g class=\"node\" id=\"node2\">\n<title>B</title>\n<ellipse cx=\"109.96\" cy=\"-82.843\" fill=\"none\" rx=\"27\" ry=\"18\" stroke=\"#000000\"/>\n<text fill=\"#000000\" font-family=\"Times,serif\" font-size=\"14.00\" text-anchor=\"middle\" x=\"109.96\" y=\"-79.143\">B</text>\n</g>\n<!-- G&#45;&#45;B -->\n<g class=\"edge\" id=\"edge1\">\n<title>G--B</title>\n<path d=\"M90.011,-35.377C93.921,-44.68 98.724,-56.108 102.64,-65.418\" fill=\"none\" stroke=\"#000000\"/>\n</g>\n<!-- F -->\n<g class=\"node\" id=\"node3\">\n<title>F</title>\n<ellipse cx=\"183.17\" cy=\"-92.242\" fill=\"none\" rx=\"27\" ry=\"18\" stroke=\"#000000\"/>\n<text fill=\"#000000\" font-family=\"Times,serif\" font-size=\"14.00\" text-anchor=\"middle\" x=\"183.17\" y=\"-88.542\">F</text>\n</g>\n<!-- B&#45;&#45;F -->\n<g class=\"edge\" id=\"edge2\">\n<title>B--F</title>\n<path d=\"M136.81,-86.29C143.17,-87.107 149.96,-87.979 156.33,-88.796\" fill=\"none\" stroke=\"#000000\"/>\n</g>\n<!-- A -->\n<g class=\"node\" id=\"node4\">\n<title>A</title>\n<ellipse cx=\"94.076\" cy=\"-154.99\" fill=\"none\" rx=\"27\" ry=\"18\" stroke=\"#000000\"/>\n<text fill=\"#000000\" font-family=\"Times,serif\" font-size=\"14.00\" text-anchor=\"middle\" x=\"94.076\" y=\"-151.29\">A</text>\n</g>\n<!-- B&#45;&#45;A -->\n<g class=\"edge\" id=\"edge3\">\n<title>B--A</title>\n<path d=\"M106.03,-100.68C103.59,-111.78 100.46,-126 98.012,-137.11\" fill=\"none\" stroke=\"#000000\"/>\n</g>\n<!-- E -->\n<g class=\"node\" id=\"node5\">\n<title>E</title>\n<ellipse cx=\"168.09\" cy=\"-162.83\" fill=\"none\" rx=\"27\" ry=\"18\" stroke=\"#000000\"/>\n<text fill=\"#000000\" font-family=\"Times,serif\" font-size=\"14.00\" text-anchor=\"middle\" x=\"168.09\" y=\"-159.13\">E</text>\n</g>\n<!-- F&#45;&#45;E -->\n<g class=\"edge\" id=\"edge4\">\n<title>F--E</title>\n<path d=\"M179.29,-110.42C177.02,-121.04 174.17,-134.39 171.91,-144.96\" fill=\"none\" stroke=\"#000000\"/>\n</g>\n<!-- A&#45;&#45;E -->\n<g class=\"edge\" id=\"edge5\">\n<title>A--E</title>\n<path d=\"M120.8,-157.82C127.42,-158.52 134.52,-159.27 141.16,-159.98\" fill=\"none\" stroke=\"#000000\"/>\n</g>\n<!-- C -->\n<g class=\"node\" id=\"node6\">\n<title>C</title>\n<ellipse cx=\"69.108\" cy=\"-220.19\" fill=\"none\" rx=\"27\" ry=\"18\" stroke=\"#000000\"/>\n<text fill=\"#000000\" font-family=\"Times,serif\" font-size=\"14.00\" text-anchor=\"middle\" x=\"69.108\" y=\"-216.49\">C</text>\n</g>\n<!-- A&#45;&#45;C -->\n<g class=\"edge\" id=\"edge6\">\n<title>A--C</title>\n<path d=\"M87.385,-172.46C83.803,-181.82 79.403,-193.31 75.817,-202.67\" fill=\"none\" stroke=\"#000000\"/>\n</g>\n<!-- D -->\n<g class=\"node\" id=\"node7\">\n<title>D</title>\n<ellipse cx=\"27\" cy=\"-176.19\" fill=\"none\" rx=\"27\" ry=\"18\" stroke=\"#000000\"/>\n<text fill=\"#000000\" font-family=\"Times,serif\" font-size=\"14.00\" text-anchor=\"middle\" x=\"27\" y=\"-172.49\">D</text>\n</g>\n<!-- A&#45;&#45;D -->\n<g class=\"edge\" id=\"edge7\">\n<title>A--D</title>\n<path d=\"M69.48,-162.76C63.648,-164.61 57.426,-166.57 51.593,-168.42\" fill=\"none\" stroke=\"#000000\"/>\n</g>\n<!-- C&#45;&#45;D -->\n<g class=\"edge\" id=\"edge8\">\n<title>C--D</title>\n<path d=\"M54.38,-204.8C50.301,-200.54 45.873,-195.91 41.79,-191.64\" fill=\"none\" stroke=\"#000000\"/>\n</g>\n</g>\n</svg>",
            "text/plain": [
              "<IPython.core.display.SVG object>"
            ]
          },
          "metadata": {},
          "output_type": "display_data"
        },
        {
          "data": {
            "text/html": [
              "<h2 style='color: green;'>Correct</h2>"
            ],
            "text/plain": [
              "<IPython.core.display.HTML object>"
            ]
          },
          "execution_count": 24,
          "metadata": {},
          "output_type": "execute_result"
        }
      ],
      "source": [
        "def cluster_coefficient(G, a):\n",
        "    '''\n",
        "    Calculate the number of neighbors in a triangle divided by the number of neighbors\n",
        "    '''\n",
        "    coef = 0.0\n",
        "    # BEGIN SOLUTION\n",
        "    l = len(trianglesA(G,a))\n",
        "    L = len(G[a])\n",
        "    coef = 2 * l / float(L)    \n",
        "    # END SOLUTION\n",
        "    return coef\n",
        "\n",
        "# Check\n",
        "display(draw(F31))\n",
        "answer(cluster_coefficient(F31, 'C') == 1.0)"
      ]
    },
    {
      "cell_type": "markdown",
      "metadata": {
        "id": "BjptVTAW4bXL"
      },
      "source": [
        "## Exercise: Bridges                                                     <a id=\"chapter13\"></a>\n",
        "\n",
        "An edge between two nodes A and B is called a bridge if deleting the edge would cause A and B to lie in different components of the resulting graph [p 46]\n",
        "\n",
        "* (p) Complete the function ``bridge`` that checks whehter an edge between a node 'a' and a node 'b' is a bridge. "
      ]
    },
    {
      "cell_type": "code",
      "execution_count": 25,
      "metadata": {
        "colab": {
          "base_uri": "https://localhost:8080/",
          "height": 64
        },
        "id": "9dxbSV1N4bXL",
        "outputId": "c070d7e4-459c-4ad4-9094-36281e19a1a9"
      },
      "outputs": [
        {
          "data": {
            "text/html": [
              "<h2 style='color: green;'>Correct</h2>"
            ],
            "text/plain": [
              "<IPython.core.display.HTML object>"
            ]
          },
          "execution_count": 25,
          "metadata": {},
          "output_type": "execute_result"
        }
      ],
      "source": [
        "def bridge(G, a, b):\n",
        "    ''' \n",
        "    Checks whether an edge between node 'a' and 'b' is a bridge in 'G'.\n",
        "    '''\n",
        "    paths = []\n",
        "    # BEGIN SOLUTION\n",
        "    if not b in G[a]: return False\n",
        "    Gprime = G.copy()\n",
        "    Gprime.remove_edge(a,b)\n",
        "    paths = bfs_paths(Gprime, a, b)    \n",
        "    # END SOLUTION\n",
        "    return not paths\n",
        "\n",
        "# Check\n",
        "answer((bridge(F33, 'A', 'B') == True) and (bridge(F33, 'A', 'C') == False))"
      ]
    },
    {
      "cell_type": "markdown",
      "metadata": {
        "id": "78xGiQNP4bXL"
      },
      "source": [
        "## Exercise: Local Bridges                                                     <a id=\"chapter14\"></a>\n",
        "\n",
        "An edge joinging two nodes a and b in a graph is a local bridge if its endpoints have no neighbors (besides themselves) in common \n",
        "    \n",
        "* (p) Complete the function ``local_bridge`` that checks whether an edge between node 'a' and node 'b' forms a local bridge."
      ]
    },
    {
      "cell_type": "code",
      "execution_count": 26,
      "metadata": {
        "colab": {
          "base_uri": "https://localhost:8080/",
          "height": 64
        },
        "id": "7VfBfqLo4bXM",
        "outputId": "c83f095e-79bb-415a-cd68-eccab7016fb5"
      },
      "outputs": [
        {
          "data": {
            "text/html": [
              "<h2 style='color: green;'>Correct</h2>"
            ],
            "text/plain": [
              "<IPython.core.display.HTML object>"
            ]
          },
          "execution_count": 26,
          "metadata": {},
          "output_type": "execute_result"
        }
      ],
      "source": [
        "def local_bridge(G, a, b):\n",
        "    '''\n",
        "    A local bridge is an edge where both ends of the edge have no other neighbor in common. \n",
        "    '''\n",
        "    is_bridge = False\n",
        "    # BEGIN SOLUTION\n",
        "    if not b in G[a]: return False\n",
        "    A = set(G[a]) - set([b])\n",
        "    B = set(G[b]) - set([a])\n",
        "    is_bridge = len(A & B) == 0   \n",
        "    # END SOLUTION\n",
        "    return is_bridge\n",
        "\n",
        "# Check\n",
        "answer(local_bridge(F34, 'A', 'B') == True)"
      ]
    },
    {
      "cell_type": "markdown",
      "metadata": {
        "id": "aD235_xf4bXM"
      },
      "source": [
        "## Exercise: Strong Triadic Closure                                                     <a id=\"chapter15\"></a>\n",
        "\n",
        "Node A violates the Strong Triadic Closure property if it has strong ties to two other nodes\n",
        "B and C and there is no edge at all between B and C. A node fulfills the Strong Triadic Closure propoerty  if it does not violate it. [p 49]\n",
        "\n",
        "* (p) Complete the code of the functions ``violoatStrongTriadicClosure``."
      ]
    },
    {
      "cell_type": "code",
      "execution_count": 27,
      "metadata": {
        "colab": {
          "base_uri": "https://localhost:8080/",
          "height": 64
        },
        "id": "5yKmf14s4bXM",
        "outputId": "e1b6dd8d-beff-4e51-fcdb-85a393c29a10"
      },
      "outputs": [
        {
          "data": {
            "text/html": [
              "<h2 style='color: green;'>Correct</h2>"
            ],
            "text/plain": [
              "<IPython.core.display.HTML object>"
            ]
          },
          "execution_count": 27,
          "metadata": {},
          "output_type": "execute_result"
        }
      ],
      "source": [
        "# (p)\n",
        "def violateStrongTriadicClosure(G,a):\n",
        "    # BEGIN SOLUTION\n",
        "    elarge=[(u,v) for (u,v,d) in G.edges(data=True) if isStrong(d) and u==a]\n",
        "    for e1,e2 in [ (e1,e2) for e1 in elarge for e2 in elarge if e1!=e2 ]:\n",
        "        if e1[1] not in G[e2[1]]: return True \n",
        "    # END SOLUTION\n",
        "    return False\n",
        "\n",
        "def strongTriadicClosure(G,a):\n",
        "    return not violateStrongTriadicClosure(G,a)\n",
        "\n",
        "# Check\n",
        "answer(strongTriadicClosure(F35, 'J') == True)\n",
        "        "
      ]
    },
    {
      "cell_type": "markdown",
      "metadata": {
        "id": "kUHZ7CZf4bXM"
      },
      "source": [
        "## Exercise: Neighborhood Overlap                                                     <a id=\"chapter16\"></a>\n",
        "\n",
        "* (p) Complete the function ``neighborhood_overlap`` that calculates the overlap between the neighborhoods of a node 'a' and a node 'b'."
      ]
    },
    {
      "cell_type": "code",
      "execution_count": 28,
      "metadata": {
        "colab": {
          "base_uri": "https://localhost:8080/",
          "height": 64
        },
        "id": "xMoGjvM14bXM",
        "outputId": "27a5e0f7-4105-4cdc-b309-520a58668b39"
      },
      "outputs": [
        {
          "data": {
            "text/html": [
              "<h2 style='color: green;'>Correct</h2>"
            ],
            "text/plain": [
              "<IPython.core.display.HTML object>"
            ]
          },
          "execution_count": 28,
          "metadata": {},
          "output_type": "execute_result"
        }
      ],
      "source": [
        "def neighborhood_overlap(G, a, b):\n",
        "    '''\n",
        "    The neighborhood overlap of two nodes a and b is the fraction of neighbors they have in common divided by the \n",
        "    total number of their neighbors.\n",
        "    '''\n",
        "    overlap = - 1.0\n",
        "    # BEGIN SOLUTION\n",
        "    neighbors_a = set(G[a]) - set([b])\n",
        "    neighbors_b = set(G[b]) - set([a])\n",
        "    overlap = float(len(neighbors_a & neighbors_b)) / len(neighbors_a | neighbors_b)\n",
        "    # END SOLUTION\n",
        "    return overlap\n",
        "\n",
        "# Check\n",
        "answer(neighborhood_overlap(F34, 'C', 'A') == 0.75)"
      ]
    },
    {
      "cell_type": "markdown",
      "metadata": {
        "id": "28Ik9hlA4bXM"
      },
      "source": [
        "## Exercise 3.1                                                     <a id=\"chapter17\"></a>\n",
        "In two to three sentences, explain what triadic closure is and how it plays a role in the formation of social networks. You can draw a schematic picture if you find it useful."
      ]
    },
    {
      "cell_type": "markdown",
      "metadata": {
        "id": "KLkMynF34bXN"
      },
      "source": [
        "** Answer **: * Add your answer here *"
      ]
    },
    {
      "cell_type": "markdown",
      "metadata": {
        "id": "2t__tphy4bXN"
      },
      "source": [
        "## Exercise 3.2                                                     <a id=\"chapter18\"></a>\n",
        "Consider the graph in Figure 3.21, in which each edge - except the edge connecting nodes B and C - is labeled as a strong tie (S) or a weak tie (W). \n",
        "\n",
        "<img src=\"files/fig321.png\">\n",
        "\n",
        "According to the theory of strong and weak ties, using the Strong Triadic Closure assumption, how would you expect the edge between B and C to be labeled. Give a brief one to three sentence explanation for your answer. \n"
      ]
    },
    {
      "cell_type": "markdown",
      "metadata": {
        "id": "EaWLk0Eo4bXN"
      },
      "source": [
        "** Answer **: * Add your answer here *"
      ]
    },
    {
      "cell_type": "markdown",
      "metadata": {
        "id": "13kpehlf4bXN"
      },
      "source": [
        "## Exercise 3.3                                                     <a id=\"chapter19\"></a>\n",
        "In the social network depicted in Figure 3.22 in which each edge is labeled as either as a strong or weak tie, which nodes satisfy the Strong Triadic Closure property? Provide an explanation for your answer.\n",
        "\n",
        "<img src=\"files/fig322.png\">"
      ]
    },
    {
      "cell_type": "markdown",
      "metadata": {
        "id": "B_Vg1hXK4bXN"
      },
      "source": [
        "** Answer **: * Add your answer here *"
      ]
    },
    {
      "cell_type": "markdown",
      "metadata": {
        "id": "vS3hJ0XH4bXN"
      },
      "source": [
        "## Exercise 3.4                                                     <a id=\"chapter20\"></a>\n",
        "In the social network depicted in Figure 3.23 with each edge labeled as either a strong or weak tie, which two nodes violate the Strong Triadic Closure Property? Provide an explanation for your answer.\n",
        "\n",
        "<img src=\"files/fig323.png\">"
      ]
    },
    {
      "cell_type": "markdown",
      "metadata": {
        "id": "kcXefhyo4bXN"
      },
      "source": [
        "** Answer **: * Add your answer here *"
      ]
    },
    {
      "cell_type": "markdown",
      "metadata": {
        "id": "XU0Oy9Hx4bXN"
      },
      "source": [
        "## Exercise 3.5                                                     <a id=\"chapter21\"></a>\n",
        "In the social network depicted in Figure 3.24, with each edge labeled as either a strong or weak tie, which nodes satisfy the Strong Triadic Closure Property from Chapter 3, and which do not? Provide an explanation for your answer."
      ]
    },
    {
      "cell_type": "markdown",
      "metadata": {
        "id": "3vH6wQVm4bXO"
      },
      "source": [
        "** Answer **: * Add your answer here *"
      ]
    },
    {
      "cell_type": "markdown",
      "metadata": {
        "id": "uRHvHkcU4bXO"
      },
      "source": [
        "# Chapter 4: Network in their Surrounding Context                                                     <a id=\"chapter22\"></a>\n"
      ]
    },
    {
      "cell_type": "markdown",
      "metadata": {
        "id": "uWHPqzlW4bXO"
      },
      "source": [
        "## Advanced Exercise: Homophily                                                     <a id=\"chapter23\"></a>\n",
        "For a binary property b, let $r$ be the fraction $r$ of edges where both ends have different values of $b$ and let $p$ be the fraction of nodes with positive value of property $b$ and $q$ be the fraction of nodes with negative value of $b$. If $r$ is significantly less than $2\\; p\\; q$, then there is evidence of homophily [p.80]. Consider the following graph from Figure 4.2."
      ]
    },
    {
      "cell_type": "code",
      "execution_count": 29,
      "metadata": {
        "colab": {
          "base_uri": "https://localhost:8080/",
          "height": 356
        },
        "id": "VJUyjaVq4bXO",
        "outputId": "981a04a4-af9d-4ea6-aed2-ce1da8ae2688"
      },
      "outputs": [
        {
          "data": {
            "image/svg+xml": "<svg height=\"251pt\" viewBox=\"0.00 0.00 244.66 251.16\" width=\"245pt\" xmlns=\"http://www.w3.org/2000/svg\" xmlns:xlink=\"http://www.w3.org/1999/xlink\">\n<g class=\"graph\" id=\"graph0\" transform=\"scale(1 1) rotate(0) translate(4 247.16)\">\n<title>F42</title>\n<polygon fill=\"#ffffff\" points=\"-4,4 -4,-247.16 240.66,-247.16 240.66,4 -4,4\" stroke=\"transparent\"/>\n<!-- A -->\n<g class=\"node\" id=\"node1\">\n<title>A</title>\n<ellipse cx=\"107.57\" cy=\"-225.16\" fill=\"#00ff00\" rx=\"27\" ry=\"18\" stroke=\"#000000\"/>\n<text fill=\"#000000\" font-family=\"Times,serif\" font-size=\"14.00\" text-anchor=\"middle\" x=\"107.57\" y=\"-221.46\">A</text>\n</g>\n<!-- B -->\n<g class=\"node\" id=\"node2\">\n<title>B</title>\n<ellipse cx=\"27\" cy=\"-138.1\" fill=\"#00ff00\" rx=\"27\" ry=\"18\" stroke=\"#000000\"/>\n<text fill=\"#000000\" font-family=\"Times,serif\" font-size=\"14.00\" text-anchor=\"middle\" x=\"27\" y=\"-134.4\">B</text>\n</g>\n<!-- A&#45;&#45;B -->\n<g class=\"edge\" id=\"edge1\">\n<title>A--B</title>\n<path d=\"M93.163,-209.6C78.498,-193.75 55.899,-169.33 41.279,-153.53\" fill=\"none\" stroke=\"#000000\"/>\n</g>\n<!-- C -->\n<g class=\"node\" id=\"node3\">\n<title>C</title>\n<ellipse cx=\"41.426\" cy=\"-215.04\" fill=\"#00ff00\" rx=\"27\" ry=\"18\" stroke=\"#000000\"/>\n<text fill=\"#000000\" font-family=\"Times,serif\" font-size=\"14.00\" text-anchor=\"middle\" x=\"41.426\" y=\"-211.34\">C</text>\n</g>\n<!-- A&#45;&#45;C -->\n<g class=\"edge\" id=\"edge2\">\n<title>A--C</title>\n<path d=\"M81.046,-221.1C76.733,-220.44 72.266,-219.76 67.953,-219.1\" fill=\"none\" stroke=\"#000000\"/>\n</g>\n<!-- D -->\n<g class=\"node\" id=\"node4\">\n<title>D</title>\n<ellipse cx=\"136.15\" cy=\"-159.78\" fill=\"#00ff00\" rx=\"27\" ry=\"18\" stroke=\"#000000\"/>\n<text fill=\"#000000\" font-family=\"Times,serif\" font-size=\"14.00\" text-anchor=\"middle\" x=\"136.15\" y=\"-156.08\">D</text>\n</g>\n<!-- A&#45;&#45;D -->\n<g class=\"edge\" id=\"edge3\">\n<title>A--D</title>\n<path d=\"M115.23,-207.64C119.33,-198.26 124.36,-186.74 128.47,-177.35\" fill=\"none\" stroke=\"#000000\"/>\n</g>\n<!-- E -->\n<g class=\"node\" id=\"node5\">\n<title>E</title>\n<ellipse cx=\"203.69\" cy=\"-197.4\" fill=\"#00ff00\" rx=\"27\" ry=\"18\" stroke=\"#000000\"/>\n<text fill=\"#000000\" font-family=\"Times,serif\" font-size=\"14.00\" text-anchor=\"middle\" x=\"203.69\" y=\"-193.7\">E</text>\n</g>\n<!-- A&#45;&#45;E -->\n<g class=\"edge\" id=\"edge4\">\n<title>A--E</title>\n<path d=\"M132.57,-217.94C146.81,-213.83 164.59,-208.69 178.81,-204.59\" fill=\"none\" stroke=\"#000000\"/>\n</g>\n<!-- B&#45;&#45;C -->\n<g class=\"edge\" id=\"edge5\">\n<title>B--C</title>\n<path d=\"M30.419,-156.34C32.718,-168.6 35.737,-184.7 38.031,-196.94\" fill=\"none\" stroke=\"#000000\"/>\n</g>\n<!-- H -->\n<g class=\"node\" id=\"node6\">\n<title>H</title>\n<ellipse cx=\"41.459\" cy=\"-36.835\" fill=\"#ffffff\" rx=\"27\" ry=\"18\" stroke=\"#000000\"/>\n<text fill=\"#000000\" font-family=\"Times,serif\" font-size=\"14.00\" text-anchor=\"middle\" x=\"41.459\" y=\"-33.135\">H</text>\n</g>\n<!-- B&#45;&#45;H -->\n<g class=\"edge\" id=\"edge6\">\n<title>B--H</title>\n<path d=\"M29.585,-120C32.217,-101.57 36.272,-73.16 38.896,-54.784\" fill=\"none\" stroke=\"#000000\"/>\n</g>\n<!-- I -->\n<g class=\"node\" id=\"node7\">\n<title>I</title>\n<ellipse cx=\"92.283\" cy=\"-80.84\" fill=\"#ffffff\" rx=\"27\" ry=\"18\" stroke=\"#000000\"/>\n<text fill=\"#000000\" font-family=\"Times,serif\" font-size=\"14.00\" text-anchor=\"middle\" x=\"92.283\" y=\"-77.14\">I</text>\n</g>\n<!-- B&#45;&#45;I -->\n<g class=\"edge\" id=\"edge7\">\n<title>B--I</title>\n<path d=\"M43.474,-123.65C53.294,-115.04 65.728,-104.13 75.587,-95.485\" fill=\"none\" stroke=\"#000000\"/>\n</g>\n<!-- C&#45;&#45;D -->\n<g class=\"edge\" id=\"edge8\">\n<title>C--D</title>\n<path d=\"M61.978,-203.05C77.866,-193.78 99.755,-181.01 115.63,-171.74\" fill=\"none\" stroke=\"#000000\"/>\n</g>\n<!-- D&#45;&#45;E -->\n<g class=\"edge\" id=\"edge9\">\n<title>D--E</title>\n<path d=\"M157.15,-171.47C165.36,-176.05 174.75,-181.28 182.93,-185.84\" fill=\"none\" stroke=\"#000000\"/>\n</g>\n<!-- D&#45;&#45;I -->\n<g class=\"edge\" id=\"edge10\">\n<title>D--I</title>\n<path d=\"M126.63,-142.65C119.27,-129.41 109.13,-111.17 101.78,-97.934\" fill=\"none\" stroke=\"#000000\"/>\n</g>\n<!-- F -->\n<g class=\"node\" id=\"node8\">\n<title>F</title>\n<ellipse cx=\"209.66\" cy=\"-101.75\" fill=\"#00ff00\" rx=\"27\" ry=\"18\" stroke=\"#000000\"/>\n<text fill=\"#000000\" font-family=\"Times,serif\" font-size=\"14.00\" text-anchor=\"middle\" x=\"209.66\" y=\"-98.05\">F</text>\n</g>\n<!-- D&#45;&#45;F -->\n<g class=\"edge\" id=\"edge11\">\n<title>D--F</title>\n<path d=\"M153.94,-145.73C165.5,-136.61 180.5,-124.77 192.03,-115.67\" fill=\"none\" stroke=\"#000000\"/>\n</g>\n<!-- E&#45;&#45;F -->\n<g class=\"edge\" id=\"edge12\">\n<title>E--F</title>\n<path d=\"M204.81,-179.41C205.87,-162.42 207.45,-137.06 208.52,-119.99\" fill=\"none\" stroke=\"#000000\"/>\n</g>\n<!-- H&#45;&#45;I -->\n<g class=\"edge\" id=\"edge13\">\n<title>H--I</title>\n<path d=\"M58.1,-51.244C63.775,-56.157 70.114,-61.646 75.777,-66.549\" fill=\"none\" stroke=\"#000000\"/>\n</g>\n<!-- G -->\n<g class=\"node\" id=\"node9\">\n<title>G</title>\n<ellipse cx=\"146.2\" cy=\"-18\" fill=\"#ffffff\" rx=\"27\" ry=\"18\" stroke=\"#000000\"/>\n<text fill=\"#000000\" font-family=\"Times,serif\" font-size=\"14.00\" text-anchor=\"middle\" x=\"146.2\" y=\"-14.3\">G</text>\n</g>\n<!-- F&#45;&#45;G -->\n<g class=\"edge\" id=\"edge14\">\n<title>F--G</title>\n<path d=\"M197.42,-85.603C186.18,-70.773 169.62,-48.913 158.39,-34.099\" fill=\"none\" stroke=\"#000000\"/>\n</g>\n<!-- G&#45;&#45;H -->\n<g class=\"edge\" id=\"edge15\">\n<title>G--H</title>\n<path d=\"M120.04,-22.704C104.04,-25.581 83.649,-29.248 67.648,-32.126\" fill=\"none\" stroke=\"#000000\"/>\n</g>\n<!-- G&#45;&#45;I -->\n<g class=\"edge\" id=\"edge16\">\n<title>G--I</title>\n<path d=\"M132.59,-33.857C124.36,-43.456 113.9,-55.647 105.7,-65.205\" fill=\"none\" stroke=\"#000000\"/>\n</g>\n</g>\n</svg>",
            "text/plain": [
              "<IPython.core.display.SVG object>"
            ]
          },
          "execution_count": 29,
          "metadata": {},
          "output_type": "execute_result"
        }
      ],
      "source": [
        "draw(F42)"
      ]
    },
    {
      "cell_type": "markdown",
      "metadata": {
        "id": "wMk0VTIp4bXO"
      },
      "source": [
        "** Assignment **\n",
        "\n",
        "* (p) Complete the function ``homophily`` using the property node has fillcolor green (already implemented in the function ``pos``)."
      ]
    },
    {
      "cell_type": "code",
      "execution_count": 30,
      "metadata": {
        "colab": {
          "base_uri": "https://localhost:8080/",
          "height": 64
        },
        "id": "7jJsKn_V4bXO",
        "outputId": "ea087f22-6b51-4153-d1ed-6bc7c3ddd5ba"
      },
      "outputs": [
        {
          "data": {
            "text/html": [
              "<h2 style='color: green;'>Correct</h2>"
            ],
            "text/plain": [
              "<IPython.core.display.HTML object>"
            ]
          },
          "execution_count": 30,
          "metadata": {},
          "output_type": "execute_result"
        }
      ],
      "source": [
        "# (p)\n",
        "def pos(G,n):\n",
        "    return G.nodes()[n].get('fillcolor','green') == 'green'\n",
        "\n",
        "def homophily(G):\n",
        "    '''\n",
        "    '''\n",
        "    p, q, r = 0, 0, 0\n",
        "    # BEGIN SOLUTION\n",
        "    noNodes = len(G.nodes())\n",
        "    strongNodes = sum( 1 if pos(G,n) else 0 for n in G.nodes())\n",
        "    weakNodes = noNodes - strongNodes\n",
        "    p = strongNodes / float(noNodes)\n",
        "    q = weakNodes / float(noNodes)\n",
        "    \n",
        "    noEdges = len(G.edges())\n",
        "    crossEdges = sum([1 if (pos(G,u)+pos(G,v)==1) else 0 for u,v,d in G.edges(data=True)])\n",
        "    r = crossEdges / float(noEdges)   \n",
        "    # END SOLUTION\n",
        "    return 2 * p * q, r\n",
        "    \n",
        "# Check    \n",
        "answer(homophily(F42) == (0.4444444444444444, 0.25))"
      ]
    }
  ],
  "metadata": {
    "colab": {
      "collapsed_sections": [],
      "name": "week1-assignments-solutions.ipynb",
      "provenance": []
    },
    "kernelspec": {
      "display_name": "Python 3",
      "language": "python",
      "name": "python3"
    },
    "language_info": {
      "codemirror_mode": {
        "name": "ipython",
        "version": 3
      },
      "file_extension": ".py",
      "mimetype": "text/x-python",
      "name": "python",
      "nbconvert_exporter": "python",
      "pygments_lexer": "ipython3",
      "version": "3.8.3"
    }
  },
  "nbformat": 4,
  "nbformat_minor": 0
}
