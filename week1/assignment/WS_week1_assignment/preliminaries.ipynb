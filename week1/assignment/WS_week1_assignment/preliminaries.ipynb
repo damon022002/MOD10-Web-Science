{
 "cells": [
  {
   "cell_type": "markdown",
   "metadata": {
    "id": "cfpCGj2dNb0r"
   },
   "source": [
    "# Table of Contents\n",
    "\n",
    "\n",
    "* [Preface                  ](#chapter1)\n",
    "* [Chapter 1. Graph Generation and Printing                    ](#chapter2)\n",
    " * [Import Statements  ](#chapter3)\n",
    " * [Generating from Data Structure: toGraph                  ](#chapter4)\n",
    " * [Generating from Graphviz Text: fromDot                  ](#chapter5)\n",
    " * [Supplying additional data to nodes and edges                  ](#chapter6)\n",
    " * [Labeling Nodes                  ](#chapter7)\n",
    " * [Numbering Paths              ](#chapter8)\n",
    " * [Displaying Strong and Weak Ties               ](#chapter9)\n",
    "* [Chapter 2. Accessing Nodes and Edges                  ](#chapter10)\n",
    " * [Iterating through nodes                  ](#chapter11)\n",
    " * [Iterating over edges                  ](#chapter12)\n",
    " * [Iterating over neighbors of graphs                  ](#chapter13)\n",
    " * [Iterating over pairs of neighbors                  ](#chapter14)\n",
    "* [Chapter 3. Transitioning Graphs                  ](#chapter15)\n",
    " * [Breadth-first search                  ](#chapter16)\n",
    " * [Depth-first search                ](#chapter17)\n"
   ]
  },
  {
   "cell_type": "markdown",
   "metadata": {
    "id": "MnLQV4taNb0t"
   },
   "source": [
    "# Preface                   <a id=\"chapter1\"></a>\n",
    "\n",
    "Welcome to the WebScience course 2020/2021. This ipython document will walk you through the preliminaries that you need to solve the exercises given to you during the course. We assume that you know the programming language <a href=\"https://en.wikipedia.org/wiki/Python_(programming_language)\">python</a>. If you do not know python or you need a refresher, we recommend doing the following web course (25h), before you start with the content below:\n",
    "\n",
    "<a href=\"https://www.codecademy.com/learn/learn-python-3\">https://www.codecademy.com/learn/learn-python-3</a>\n",
    "\n",
    "This document is structured as follows: in the first chapter, we explain how you create graphs and print them. In the second chapter, we describe how you access the nodes and edges of a graph. In the third chapter we discuss two popular methods two iterate through graphs.\n",
    "\n"
   ]
  },
  {
   "cell_type": "markdown",
   "metadata": {
    "id": "zWLy7_oENb0u"
   },
   "source": [
    "# Chapter 1. Graph Generation and Printing                     <a id=\"chapter2\"></a>\n",
    "\n",
    "## Import Statements   <a id=\"chapter3\"></a>\n",
    "The following import instructions should always appear in the beginning of your notebook. \n",
    "\n",
    "* ``networkx`` is the graph library that we use (also refer to <a href=\"http://networkx.readthedocs.org/en/latest/\">the manual</a>),\n",
    "* ``IPython.display.display``\n",
    "* ``utils`` are some handy functions that we  provide ontop of networkx,\n",
    "* ``graphs`` is a collection of graphs (mainly those from the book)"
   ]
  },
  {
   "cell_type": "code",
   "execution_count": null,
   "metadata": {
    "id": "eODFXQitNb0u",
    "scrolled": true
   },
   "outputs": [],
   "source": [
    "!pip install libgraphviz-dev\n",
    "!pip uninstall graphviz\n",
    "!pip install pygraphviz\n",
    "import networkx as nx\n",
    "from IPython.display import display\n",
    "from utils import *\n",
    "from graphs import *"
   ]
  },
  {
   "cell_type": "markdown",
   "metadata": {
    "id": "c9OZa84bNb0v"
   },
   "source": [
    "In the utils library, we provide two ways to generate graphs in ipython. \n",
    "\n",
    "* ``toGraph`` to generate graphs from a dictionary of neighbor lists.\n",
    "* ``fromDot`` to generate graphs from text in the the graphviz language. \n",
    "\n",
    "Once a graph is created, you can use the function ``draw`` to draw the graph."
   ]
  },
  {
   "cell_type": "markdown",
   "metadata": {
    "id": "iKbE0dIkNb0v"
   },
   "source": [
    "## Generating from Data Structure: toGraph                   <a id=\"chapter4\"></a>\n",
    "The function ``toGraph`` takes a dictionary maping node keys to lists of neighbors of this node keys.\n"
   ]
  },
  {
   "cell_type": "code",
   "execution_count": 3,
   "metadata": {
    "id": "CV9sntbFNb0v"
   },
   "outputs": [
    {
     "ename": "ImportError",
     "evalue": "('requires pygraphviz ', 'http://pygraphviz.github.io/')",
     "output_type": "error",
     "traceback": [
      "\u001b[1;31m---------------------------------------------------------------------------\u001b[0m",
      "\u001b[1;31mModuleNotFoundError\u001b[0m                       Traceback (most recent call last)",
      "\u001b[1;32m~\\anaconda3\\lib\\site-packages\\networkx\\drawing\\nx_agraph.py\u001b[0m in \u001b[0;36mto_agraph\u001b[1;34m(N)\u001b[0m\n\u001b[0;32m    132\u001b[0m     \u001b[1;32mtry\u001b[0m\u001b[1;33m:\u001b[0m\u001b[1;33m\u001b[0m\u001b[1;33m\u001b[0m\u001b[0m\n\u001b[1;32m--> 133\u001b[1;33m         \u001b[1;32mimport\u001b[0m \u001b[0mpygraphviz\u001b[0m\u001b[1;33m\u001b[0m\u001b[1;33m\u001b[0m\u001b[0m\n\u001b[0m\u001b[0;32m    134\u001b[0m     \u001b[1;32mexcept\u001b[0m \u001b[0mImportError\u001b[0m\u001b[1;33m:\u001b[0m\u001b[1;33m\u001b[0m\u001b[1;33m\u001b[0m\u001b[0m\n",
      "\u001b[1;31mModuleNotFoundError\u001b[0m: No module named 'pygraphviz'",
      "\nDuring handling of the above exception, another exception occurred:\n",
      "\u001b[1;31mImportError\u001b[0m                               Traceback (most recent call last)",
      "\u001b[1;32m<ipython-input-3-927aff9df9e0>\u001b[0m in \u001b[0;36m<module>\u001b[1;34m\u001b[0m\n\u001b[0;32m      4\u001b[0m   \u001b[1;34m'D'\u001b[0m\u001b[1;33m:\u001b[0m \u001b[1;33m[\u001b[0m\u001b[1;34m'E'\u001b[0m\u001b[1;33m]\u001b[0m\u001b[1;33m\u001b[0m\u001b[1;33m\u001b[0m\u001b[0m\n\u001b[0;32m      5\u001b[0m })\n\u001b[1;32m----> 6\u001b[1;33m \u001b[0mdraw\u001b[0m\u001b[1;33m(\u001b[0m\u001b[0mG\u001b[0m\u001b[1;33m)\u001b[0m\u001b[1;33m\u001b[0m\u001b[1;33m\u001b[0m\u001b[0m\n\u001b[0m",
      "\u001b[1;32m~\\OneDrive\\3e jaar TCS\\MOD10 Web Science\\week 1-4 Social Network Structure and Dynamics\\week1\\assignment\\WS_week1_assignment\\utils.py\u001b[0m in \u001b[0;36mdraw\u001b[1;34m(G, mapping, emapping)\u001b[0m\n\u001b[0;32m     81\u001b[0m \u001b[1;32mdef\u001b[0m \u001b[0mdraw\u001b[0m\u001b[1;33m(\u001b[0m\u001b[0mG\u001b[0m\u001b[1;33m,\u001b[0m \u001b[0mmapping\u001b[0m\u001b[1;33m=\u001b[0m\u001b[1;32mNone\u001b[0m\u001b[1;33m,\u001b[0m \u001b[0memapping\u001b[0m\u001b[1;33m=\u001b[0m\u001b[1;32mNone\u001b[0m\u001b[1;33m)\u001b[0m\u001b[1;33m:\u001b[0m\u001b[1;33m\u001b[0m\u001b[1;33m\u001b[0m\u001b[0m\n\u001b[0;32m     82\u001b[0m     \u001b[1;34m\"\"\"draw graph with node mapping and emapping\"\"\"\u001b[0m\u001b[1;33m\u001b[0m\u001b[1;33m\u001b[0m\u001b[0m\n\u001b[1;32m---> 83\u001b[1;33m     \u001b[0mA\u001b[0m \u001b[1;33m=\u001b[0m \u001b[0mto_agraph\u001b[0m\u001b[1;33m(\u001b[0m\u001b[0mG\u001b[0m\u001b[1;33m)\u001b[0m\u001b[1;33m\u001b[0m\u001b[1;33m\u001b[0m\u001b[0m\n\u001b[0m\u001b[0;32m     84\u001b[0m     \u001b[0mA\u001b[0m\u001b[1;33m.\u001b[0m\u001b[0mgraph_attr\u001b[0m\u001b[1;33m[\u001b[0m\u001b[1;34m'overlap'\u001b[0m\u001b[1;33m]\u001b[0m \u001b[1;33m=\u001b[0m \u001b[1;34m'False'\u001b[0m\u001b[1;33m\u001b[0m\u001b[1;33m\u001b[0m\u001b[0m\n\u001b[0;32m     85\u001b[0m     \u001b[1;32mif\u001b[0m \u001b[0mmapping\u001b[0m\u001b[1;33m:\u001b[0m\u001b[1;33m\u001b[0m\u001b[1;33m\u001b[0m\u001b[0m\n",
      "\u001b[1;32m~\\anaconda3\\lib\\site-packages\\networkx\\drawing\\nx_agraph.py\u001b[0m in \u001b[0;36mto_agraph\u001b[1;34m(N)\u001b[0m\n\u001b[0;32m    133\u001b[0m         \u001b[1;32mimport\u001b[0m \u001b[0mpygraphviz\u001b[0m\u001b[1;33m\u001b[0m\u001b[1;33m\u001b[0m\u001b[0m\n\u001b[0;32m    134\u001b[0m     \u001b[1;32mexcept\u001b[0m \u001b[0mImportError\u001b[0m\u001b[1;33m:\u001b[0m\u001b[1;33m\u001b[0m\u001b[1;33m\u001b[0m\u001b[0m\n\u001b[1;32m--> 135\u001b[1;33m         raise ImportError('requires pygraphviz ',\n\u001b[0m\u001b[0;32m    136\u001b[0m                           'http://pygraphviz.github.io/')\n\u001b[0;32m    137\u001b[0m     \u001b[0mdirected\u001b[0m \u001b[1;33m=\u001b[0m \u001b[0mN\u001b[0m\u001b[1;33m.\u001b[0m\u001b[0mis_directed\u001b[0m\u001b[1;33m(\u001b[0m\u001b[1;33m)\u001b[0m\u001b[1;33m\u001b[0m\u001b[1;33m\u001b[0m\u001b[0m\n",
      "\u001b[1;31mImportError\u001b[0m: ('requires pygraphviz ', 'http://pygraphviz.github.io/')"
     ]
    }
   ],
   "source": [
    "G = toGraph({\n",
    "  'A': ['B', 'C'],\n",
    "  'B': ['C'],\n",
    "  'D': ['E']\n",
    "})\n",
    "draw(G)"
   ]
  },
  {
   "cell_type": "markdown",
   "metadata": {
    "id": "B7Ha_XiMNb0w"
   },
   "source": [
    "## Generating from Graphviz Text: fromDot                   <a id=\"chapter5\"></a>\n",
    "The function ``fromDot`` takes a graph definition according to the graphviz language. Basically, you can name nodes and establish edges between them using a double dash '--' (see the example). For a more in-depth description of the graphviz language please refer to <a href=\"http://www.graphviz.org/doc/info/lang.html\">the offical reference</a> or <a href=\"http://www.graphviz.org/Documentation/dotguide.pdf\">this guide</a>.\n"
   ]
  },
  {
   "cell_type": "code",
   "execution_count": null,
   "metadata": {
    "id": "PLyTeVKFNb0w"
   },
   "outputs": [],
   "source": [
    "G = fromDot('''\n",
    "strict graph A {\n",
    "A -- B -- C -- A;\n",
    "A -- G;\n",
    "E -- D;\n",
    "}''')\n",
    "draw(G)"
   ]
  },
  {
   "cell_type": "markdown",
   "metadata": {
    "id": "FZHbam9YNb0x"
   },
   "source": [
    "## Supplying additional data to nodes and edges                   <a id=\"chapter6\"></a>\n",
    "\n",
    "Sometimes it is necessary to add additional data to a node. For example, in Chapter 4 of the book we will refer investigate whether nodes having a particular binary properties, such as the race of a person, causes the graph to be particularly separated. In the following example, we specify that the node 'E' is green. "
   ]
  },
  {
   "cell_type": "code",
   "execution_count": null,
   "metadata": {
    "id": "8pqoff2ONb0x"
   },
   "outputs": [],
   "source": [
    "G = fromDot('''\n",
    "strict graph A {\n",
    "A -- B -- C -- A;\n",
    "E -- D;\n",
    "E[fillcolor=green, style=filled];\n",
    "}''')\n",
    "draw(G)"
   ]
  },
  {
   "cell_type": "markdown",
   "metadata": {
    "id": "QTjQMkhKNb0x"
   },
   "source": [
    "## Labeling Nodes                   <a id=\"chapter7\"></a>\n",
    "\n",
    "Sometimes it is handy to provide an additional label to nodes. You can add numbers to nodes by adding a mapping from node keys to label additions."
   ]
  },
  {
   "cell_type": "code",
   "execution_count": null,
   "metadata": {
    "id": "ebSva0IMNb0x"
   },
   "outputs": [],
   "source": [
    "visiting = {'A': 1, 'B': 2}\n",
    "draw(G, visiting)"
   ]
  },
  {
   "cell_type": "markdown",
   "metadata": {
    "id": "Mn0Vvc4tNb0y"
   },
   "source": [
    "## Numbering Paths               <a id=\"chapter8\"></a>\n",
    "\n",
    "Sometimes it is handy to number paths. This is dune by adding an edge mapping (``emapping``) argument to the draw function. To number paths we can use the existing ``pathNumberer`` function."
   ]
  },
  {
   "cell_type": "code",
   "execution_count": null,
   "metadata": {
    "id": "xQQ9yO85Nb0y"
   },
   "outputs": [],
   "source": [
    "draw(G, emapping=pathNumberer(['A','B','C', 'A']))"
   ]
  },
  {
   "cell_type": "markdown",
   "metadata": {
    "id": "U9b7RK8cNb0y"
   },
   "source": [
    "## Displaying Strong and Weak Ties                <a id=\"chapter9\"></a>\n",
    "\n",
    "In some chapters it is necessary to differentiate between strong and weak ties. The strength of a tie is specified via\n",
    "the weight attribute of an edge. The state of a tie can be specified with the strongWeadEdges ``emapping``."
   ]
  },
  {
   "cell_type": "code",
   "execution_count": null,
   "metadata": {
    "id": "ttrUO3MHNb0y"
   },
   "outputs": [],
   "source": [
    "# You can number paths\n",
    "G = fromDot('''\n",
    "strict graph A {\n",
    "A -- B [weight=0.9]; # end\n",
    "B -- C [weight=0.1]; # weak\n",
    "}''')\n",
    "draw(G, emapping=strongWeakEdges())"
   ]
  },
  {
   "cell_type": "markdown",
   "metadata": {
    "id": "QQq3suvqNb0y"
   },
   "source": [
    "# Chapter 2. Accessing Nodes and Edges                   <a id=\"chapter10\"></a>\n",
    "\n",
    "When doing the programming assignments, it is often necessary to access all nodes and edges of a graph. This chapter tells you how to do this with the ``networkx`` library.  \n"
   ]
  },
  {
   "cell_type": "markdown",
   "metadata": {
    "id": "e6cQUCfXNb0y"
   },
   "source": [
    "## Iterating through nodes                   <a id=\"chapter11\"></a>\n",
    "\n",
    "You can iterate over all nodes of a graph by using the ``nodes()`` method. By default, the function returns a list of node keys. To access the data of a node, you can specify the optional parameter ``data`` to be true. See the following example."
   ]
  },
  {
   "cell_type": "code",
   "execution_count": null,
   "metadata": {
    "id": "AVWGwTt8Nb0z"
   },
   "outputs": [],
   "source": [
    "G = fromDot('''\n",
    "strict graph A {\n",
    "A -- B -- C -- A;\n",
    "E -- D;\n",
    "E[fillcolor=green, style=filled];\n",
    "}''')\n",
    "for n in G.nodes():\n",
    "    print(n)\n",
    "# including the nodes' data\n",
    "for n, d in G.nodes(data=True):\n",
    "    print(n, d)"
   ]
  },
  {
   "cell_type": "markdown",
   "metadata": {
    "id": "7N_DwmCPNb0z"
   },
   "source": [
    "## Iterating over edges                   <a id=\"chapter12\"></a>\n",
    "\n",
    "You can iterate over the edges of a graph using the ``edges`` method. By default the method returns a two-tuple of nodes consituting the edge. Similar to the method ``nodes``, supplying the optional parameter ``data`` returns a dictionary with additional data of each edge."
   ]
  },
  {
   "cell_type": "code",
   "execution_count": null,
   "metadata": {
    "id": "y7BhN_WGNb0z"
   },
   "outputs": [],
   "source": [
    "G = fromDot('''\n",
    "strict graph A {\n",
    "A -- B [weight=0.9]; # end\n",
    "B -- C [weight=0.1]; # weak\n",
    "}''')\n",
    "# without additional data\n",
    "for u,v in G.edges():\n",
    "    print(u, v)\n",
    "# including additional data saved with the edge\n",
    "for u,v,d in G.edges(data=True):\n",
    "    print(u, v, d)"
   ]
  },
  {
   "cell_type": "markdown",
   "metadata": {
    "id": "qzy_6gF0Nb0z"
   },
   "source": [
    "## Iterating over neighbors of graphs                   <a id=\"chapter13\"></a>\n",
    "\n",
    "You can also iterate over the neightbors of a node by using the ``[]`` notation on the graph passing the node key as an argument."
   ]
  },
  {
   "cell_type": "code",
   "execution_count": null,
   "metadata": {
    "id": "y3UfLZqaNb0z"
   },
   "outputs": [],
   "source": [
    "for n in G['A']:\n",
    "    print(n)"
   ]
  },
  {
   "cell_type": "markdown",
   "metadata": {
    "id": "6UlgyDlKNb0z"
   },
   "source": [
    "## Iterating over pairs of neighbors                   <a id=\"chapter14\"></a>\n",
    "\n",
    "In some exercises it is necessary to iterate over distinct pairs of neightbors of a certain node. To achieve this, we provide the ``neighborPairs`` function in ``utils``."
   ]
  },
  {
   "cell_type": "code",
   "execution_count": null,
   "metadata": {
    "id": "tAW5DyhQNb0z"
   },
   "outputs": [],
   "source": [
    "G = fromDot('''\n",
    "strict graph A {\n",
    "A -- B;\n",
    "A -- C;\n",
    "A -- D;\n",
    "}''')\n",
    "for n1, n2 in neighborPairs(G, 'A'):\n",
    "    print (n1, n2)"
   ]
  },
  {
   "cell_type": "markdown",
   "metadata": {
    "id": "Oe4VqVy9Nb00"
   },
   "source": [
    "# Chapter 3. Transitioning Graphs                   <a id=\"chapter15\"></a>\n",
    "\n",
    "The basis for many graph operations requires iterating over the nodes starting from a particular start node. Here we discuss the two most basic iteration algorithms:\n",
    "\n",
    "* Breadth-first search,\n",
    "* Depth first search."
   ]
  },
  {
   "cell_type": "markdown",
   "metadata": {
    "id": "jFtVIr-zNb00"
   },
   "source": [
    "## Breadth-first search                   <a id=\"chapter16\"></a>\n",
    "\n",
    "In breadth first search, discovered nodes are attached to the end of the queue. Thus, the algorithm first searches through all nodes in the same distance from the start node. The dictionary visited maps each node to a visiting time and thus keeps track of which node was already visited. Also refer to <a href=\"https://en.wikipedia.org/wiki/Breadth-first_search\">this wikipedia page</a>."
   ]
  },
  {
   "cell_type": "code",
   "execution_count": null,
   "metadata": {
    "id": "0FIO-1sbNb00"
   },
   "outputs": [],
   "source": [
    "G = fromDot('''\n",
    "strict graph A {\n",
    "A -- B;\n",
    "B -- C -- D -- E;\n",
    "B -- F -- G -- H;\n",
    "}''')\n",
    "\n",
    "def bfs(graph, start):\n",
    "    ''' \n",
    "    Iterate nodes starting from the node start\n",
    "    '''\n",
    "    visited, queue = dict(), [start]\n",
    "    while queue:\n",
    "        vertex = queue.pop(0)\n",
    "        if vertex not in visited:\n",
    "            visited[vertex] = len(visited)\n",
    "            queue.extend(set(graph[vertex]) - set(visited))\n",
    "    return visited\n",
    "visits = bfs(G, 'A')\n",
    "draw(G, visits)"
   ]
  },
  {
   "cell_type": "markdown",
   "metadata": {
    "id": "XzWXr8gqNb00"
   },
   "source": [
    "Notice that breadth-first search visits both branches alternatingly. "
   ]
  },
  {
   "cell_type": "markdown",
   "metadata": {
    "id": "y_wliUn9Nb00"
   },
   "source": [
    "## Depth-first search                 <a id=\"chapter17\"></a>\n",
    "\n",
    "Depth-first-search in graph starting from the node 'start'. The algorithm starts at the start and explores the first discovered branch until it reaches no more new nodes. It then uses a technique called backtracking to return to the last node with an undiscoverd branch. Also refer to <a href=\"https://en.wikipedia.org/wiki/Depth-first_search\">this wikipedia page</a>."
   ]
  },
  {
   "cell_type": "code",
   "execution_count": null,
   "metadata": {
    "id": "d6SJr-snNb00"
   },
   "outputs": [],
   "source": [
    "def dfs(graph, start):\n",
    "    ''' \n",
    "    Depth-first-search in graph starting from the node 'start'.\n",
    "    '''\n",
    "    visited, stack = dict(), [start]\n",
    "    while stack:\n",
    "        vertex = stack.pop()\n",
    "        if vertex not in visited:\n",
    "            visited[vertex] = len(visited)\n",
    "            stack.extend(set(graph[vertex]) - set(visited.keys()))\n",
    "    return visited\n",
    "visits = dfs(G, 'A')\n",
    "draw(G, visits)"
   ]
  },
  {
   "cell_type": "markdown",
   "metadata": {
    "id": "QyR2M4_hNb00"
   },
   "source": [
    "Notice how depth-first search descends into one branch first and then switches to the second branch."
   ]
  }
 ],
 "metadata": {
  "colab": {
   "name": "preliminaries.ipynb",
   "provenance": []
  },
  "kernelspec": {
   "display_name": "Python 3 (ipykernel)",
   "language": "python",
   "name": "python3"
  },
  "language_info": {
   "codemirror_mode": {
    "name": "ipython",
    "version": 3
   },
   "file_extension": ".py",
   "mimetype": "text/x-python",
   "name": "python",
   "nbconvert_exporter": "python",
   "pygments_lexer": "ipython3",
   "version": "3.9.12"
  }
 },
 "nbformat": 4,
 "nbformat_minor": 1
}
