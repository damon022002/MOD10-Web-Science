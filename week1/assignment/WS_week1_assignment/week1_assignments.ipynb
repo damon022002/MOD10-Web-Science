{
 "cells": [
  {
   "cell_type": "markdown",
   "metadata": {
    "id": "VHNgyxJpR805"
   },
   "source": [
    "# Table of Contents\n",
    "\n",
    "* [Part 1: Graph Theory and Social Networks                                                    ](#chapter1)\n",
    "* [Chapter 2: Graphs                                                    ](#chapter2)\n",
    " * [Exercise: Distance from Node                                                    ](#chapter3)\n",
    " * [Advanced Exercise: Distance Distribution                                                    ](#chapter4)\n",
    " * [Advanced Exercise: Paths Between Nodes                                                    ](#chapter5)\n",
    " * [Exercise: Connected Components                                                    ](#chapter6)\n",
    " * [Exercise 2.1: Pivotal                                                  ](#chapter7)\n",
    " * [Exercise 2.2: Gatekeeping                                                    ](#chapter8)\n",
    " * [Advanced Exercise 2.3: Diameter and Average Distance                                                    ](#chapter9)\n",
    "* [Chapter 3: Strong and Weak Ties                                                    ](#chapter10)\n",
    " * [Exercise: Triadic Closure                                                    ](#chapter11)\n",
    " * [Exercise: Clustering Coefficient                                                    ](#chapter12)\n",
    " * [Exercise: Bridges                                                    ](#chapter13)\n",
    " * [Exercise: Local Bridges                                                    ](#chapter14)\n",
    " * [Exercise: Strong Triadic Closure                                                    ](#chapter15)\n",
    " * [Exercise: Neighborhood Overlap                                                    ](#chapter16)\n",
    " * [Exercise 3.1                                                    ](#chapter17)\n",
    " * [Exercise 3.2                                                    ](#chapter18)\n",
    " * [Exercise 3.3                                                    ](#chapter19)\n",
    " * [Exercise 3.4                                                    ](#chapter20)\n",
    " * [Exercise 3.5                                                    ](#chapter21)\n",
    "* [Chapter 4: Network in their Surrounding Context                                                    ](#chapter22)\n",
    " * [Advanced Exercise: Homophily                                                    ](#chapter23)\n"
   ]
  },
  {
   "cell_type": "markdown",
   "metadata": {
    "id": "9VSItRN4R808"
   },
   "source": [
    "# Part 1: Graph Theory and Social Networks                                                     <a id=\"chapter1\"></a>\n",
    "\n",
    "This ipython document contains the tutorial exercises for the WebScience module based on Networks, Crowds, and Markets by Easly and Kleinberg 2010. Your task is to solve the Exercises by adding the answers into the designated code or text areas. Some exercises are marked as 'advanced exercises' and are not compulsory to be answered.\n"
   ]
  },
  {
   "cell_type": "code",
   "execution_count": 25,
   "metadata": {
    "id": "D_oYWGSeR808"
   },
   "outputs": [
    {
     "name": "stdout",
     "output_type": "stream",
     "text": [
      "Collecting pygraphviz\n",
      "  Using cached pygraphviz-1.10.zip (120 kB)\n",
      "Building wheels for collected packages: pygraphviz\n",
      "  Building wheel for pygraphviz (setup.py): started\n",
      "  Building wheel for pygraphviz (setup.py): finished with status 'error'\n",
      "  Running setup.py clean for pygraphviz\n",
      "Failed to build pygraphviz\n",
      "Installing collected packages: pygraphviz\n",
      "    Running setup.py install for pygraphviz: started\n",
      "    Running setup.py install for pygraphviz: finished with status 'error'\n"
     ]
    },
    {
     "name": "stderr",
     "output_type": "stream",
     "text": [
      "  ERROR: Command errored out with exit status 1:\n",
      "   command: 'C:\\Users\\Laptop\\anaconda3\\python.exe' -u -c 'import sys, setuptools, tokenize; sys.argv[0] = '\"'\"'C:\\\\Users\\\\Laptop\\\\AppData\\\\Local\\\\Temp\\\\pip-install-z6dnh_x7\\\\pygraphviz\\\\setup.py'\"'\"'; __file__='\"'\"'C:\\\\Users\\\\Laptop\\\\AppData\\\\Local\\\\Temp\\\\pip-install-z6dnh_x7\\\\pygraphviz\\\\setup.py'\"'\"';f=getattr(tokenize, '\"'\"'open'\"'\"', open)(__file__);code=f.read().replace('\"'\"'\\r\\n'\"'\"', '\"'\"'\\n'\"'\"');f.close();exec(compile(code, __file__, '\"'\"'exec'\"'\"'))' bdist_wheel -d 'C:\\Users\\Laptop\\AppData\\Local\\Temp\\pip-wheel-_u74zaie'\n",
      "       cwd: C:\\Users\\Laptop\\AppData\\Local\\Temp\\pip-install-z6dnh_x7\\pygraphviz\\\n",
      "  Complete output (48 lines):\n",
      "  running bdist_wheel\n",
      "  running build\n",
      "  running build_py\n",
      "  creating build\n",
      "  creating build\\lib.win-amd64-cpython-38\n",
      "  creating build\\lib.win-amd64-cpython-38\\pygraphviz\n",
      "  copying pygraphviz\\agraph.py -> build\\lib.win-amd64-cpython-38\\pygraphviz\n",
      "  copying pygraphviz\\graphviz.py -> build\\lib.win-amd64-cpython-38\\pygraphviz\n",
      "  copying pygraphviz\\scraper.py -> build\\lib.win-amd64-cpython-38\\pygraphviz\n",
      "  copying pygraphviz\\testing.py -> build\\lib.win-amd64-cpython-38\\pygraphviz\n",
      "  copying pygraphviz\\__init__.py -> build\\lib.win-amd64-cpython-38\\pygraphviz\n",
      "  creating build\\lib.win-amd64-cpython-38\\pygraphviz\\tests\n",
      "  copying pygraphviz\\tests\\test_attribute_defaults.py -> build\\lib.win-amd64-cpython-38\\pygraphviz\\tests\n",
      "  copying pygraphviz\\tests\\test_clear.py -> build\\lib.win-amd64-cpython-38\\pygraphviz\\tests\n",
      "  copying pygraphviz\\tests\\test_close.py -> build\\lib.win-amd64-cpython-38\\pygraphviz\\tests\n",
      "  copying pygraphviz\\tests\\test_drawing.py -> build\\lib.win-amd64-cpython-38\\pygraphviz\\tests\n",
      "  copying pygraphviz\\tests\\test_edge_attributes.py -> build\\lib.win-amd64-cpython-38\\pygraphviz\\tests\n",
      "  copying pygraphviz\\tests\\test_graph.py -> build\\lib.win-amd64-cpython-38\\pygraphviz\\tests\n",
      "  copying pygraphviz\\tests\\test_html.py -> build\\lib.win-amd64-cpython-38\\pygraphviz\\tests\n",
      "  copying pygraphviz\\tests\\test_layout.py -> build\\lib.win-amd64-cpython-38\\pygraphviz\\tests\n",
      "  copying pygraphviz\\tests\\test_node_attributes.py -> build\\lib.win-amd64-cpython-38\\pygraphviz\\tests\n",
      "  copying pygraphviz\\tests\\test_readwrite.py -> build\\lib.win-amd64-cpython-38\\pygraphviz\\tests\n",
      "  copying pygraphviz\\tests\\test_repr_mimebundle.py -> build\\lib.win-amd64-cpython-38\\pygraphviz\\tests\n",
      "  copying pygraphviz\\tests\\test_scraper.py -> build\\lib.win-amd64-cpython-38\\pygraphviz\\tests\n",
      "  copying pygraphviz\\tests\\test_string.py -> build\\lib.win-amd64-cpython-38\\pygraphviz\\tests\n",
      "  copying pygraphviz\\tests\\test_subgraph.py -> build\\lib.win-amd64-cpython-38\\pygraphviz\\tests\n",
      "  copying pygraphviz\\tests\\test_unicode.py -> build\\lib.win-amd64-cpython-38\\pygraphviz\\tests\n",
      "  copying pygraphviz\\tests\\__init__.py -> build\\lib.win-amd64-cpython-38\\pygraphviz\\tests\n",
      "  running egg_info\n",
      "  writing pygraphviz.egg-info\\PKG-INFO\n",
      "  writing dependency_links to pygraphviz.egg-info\\dependency_links.txt\n",
      "  writing top-level names to pygraphviz.egg-info\\top_level.txt\n",
      "  reading manifest file 'pygraphviz.egg-info\\SOURCES.txt'\n",
      "  reading manifest template 'MANIFEST.in'\n",
      "  warning: no files found matching '*.png' under directory 'doc'\n",
      "  warning: no files found matching '*.txt' under directory 'doc'\n",
      "  warning: no files found matching '*.css' under directory 'doc'\n",
      "  warning: no previously-included files matching '*~' found anywhere in distribution\n",
      "  warning: no previously-included files matching '*.pyc' found anywhere in distribution\n",
      "  warning: no previously-included files matching '.svn' found anywhere in distribution\n",
      "  no previously-included directories found matching 'doc\\build'\n",
      "  adding license file 'LICENSE'\n",
      "  writing manifest file 'pygraphviz.egg-info\\SOURCES.txt'\n",
      "  copying pygraphviz\\graphviz.i -> build\\lib.win-amd64-cpython-38\\pygraphviz\n",
      "  copying pygraphviz\\graphviz_wrap.c -> build\\lib.win-amd64-cpython-38\\pygraphviz\n",
      "  running build_ext\n",
      "  building 'pygraphviz._graphviz' extension\n",
      "  error: Microsoft Visual C++ 14.0 or greater is required. Get it with \"Microsoft C++ Build Tools\": https://visualstudio.microsoft.com/visual-cpp-build-tools/\n",
      "  ----------------------------------------\n",
      "  ERROR: Failed building wheel for pygraphviz\n",
      "    ERROR: Command errored out with exit status 1:\n",
      "     command: 'C:\\Users\\Laptop\\anaconda3\\python.exe' -u -c 'import sys, setuptools, tokenize; sys.argv[0] = '\"'\"'C:\\\\Users\\\\Laptop\\\\AppData\\\\Local\\\\Temp\\\\pip-install-z6dnh_x7\\\\pygraphviz\\\\setup.py'\"'\"'; __file__='\"'\"'C:\\\\Users\\\\Laptop\\\\AppData\\\\Local\\\\Temp\\\\pip-install-z6dnh_x7\\\\pygraphviz\\\\setup.py'\"'\"';f=getattr(tokenize, '\"'\"'open'\"'\"', open)(__file__);code=f.read().replace('\"'\"'\\r\\n'\"'\"', '\"'\"'\\n'\"'\"');f.close();exec(compile(code, __file__, '\"'\"'exec'\"'\"'))' install --record 'C:\\Users\\Laptop\\AppData\\Local\\Temp\\pip-record-txry5v2l\\install-record.txt' --single-version-externally-managed --compile --install-headers 'C:\\Users\\Laptop\\anaconda3\\Include\\pygraphviz'\n",
      "         cwd: C:\\Users\\Laptop\\AppData\\Local\\Temp\\pip-install-z6dnh_x7\\pygraphviz\\\n",
      "    Complete output (50 lines):\n",
      "    running install\n",
      "    C:\\Users\\Laptop\\anaconda3\\lib\\site-packages\\setuptools\\command\\install.py:34: SetuptoolsDeprecationWarning: setup.py install is deprecated. Use build and pip and other standards-based tools.\n",
      "      warnings.warn(\n",
      "    running build\n",
      "    running build_py\n",
      "    creating build\n",
      "    creating build\\lib.win-amd64-cpython-38\n",
      "    creating build\\lib.win-amd64-cpython-38\\pygraphviz\n",
      "    copying pygraphviz\\agraph.py -> build\\lib.win-amd64-cpython-38\\pygraphviz\n",
      "    copying pygraphviz\\graphviz.py -> build\\lib.win-amd64-cpython-38\\pygraphviz\n",
      "    copying pygraphviz\\scraper.py -> build\\lib.win-amd64-cpython-38\\pygraphviz\n",
      "    copying pygraphviz\\testing.py -> build\\lib.win-amd64-cpython-38\\pygraphviz\n",
      "    copying pygraphviz\\__init__.py -> build\\lib.win-amd64-cpython-38\\pygraphviz\n",
      "    creating build\\lib.win-amd64-cpython-38\\pygraphviz\\tests\n",
      "    copying pygraphviz\\tests\\test_attribute_defaults.py -> build\\lib.win-amd64-cpython-38\\pygraphviz\\tests\n",
      "    copying pygraphviz\\tests\\test_clear.py -> build\\lib.win-amd64-cpython-38\\pygraphviz\\tests\n",
      "    copying pygraphviz\\tests\\test_close.py -> build\\lib.win-amd64-cpython-38\\pygraphviz\\tests\n",
      "    copying pygraphviz\\tests\\test_drawing.py -> build\\lib.win-amd64-cpython-38\\pygraphviz\\tests\n",
      "    copying pygraphviz\\tests\\test_edge_attributes.py -> build\\lib.win-amd64-cpython-38\\pygraphviz\\tests\n",
      "    copying pygraphviz\\tests\\test_graph.py -> build\\lib.win-amd64-cpython-38\\pygraphviz\\tests\n",
      "    copying pygraphviz\\tests\\test_html.py -> build\\lib.win-amd64-cpython-38\\pygraphviz\\tests\n",
      "    copying pygraphviz\\tests\\test_layout.py -> build\\lib.win-amd64-cpython-38\\pygraphviz\\tests\n",
      "    copying pygraphviz\\tests\\test_node_attributes.py -> build\\lib.win-amd64-cpython-38\\pygraphviz\\tests\n",
      "    copying pygraphviz\\tests\\test_readwrite.py -> build\\lib.win-amd64-cpython-38\\pygraphviz\\tests\n",
      "    copying pygraphviz\\tests\\test_repr_mimebundle.py -> build\\lib.win-amd64-cpython-38\\pygraphviz\\tests\n",
      "    copying pygraphviz\\tests\\test_scraper.py -> build\\lib.win-amd64-cpython-38\\pygraphviz\\tests\n",
      "    copying pygraphviz\\tests\\test_string.py -> build\\lib.win-amd64-cpython-38\\pygraphviz\\tests\n",
      "    copying pygraphviz\\tests\\test_subgraph.py -> build\\lib.win-amd64-cpython-38\\pygraphviz\\tests\n",
      "    copying pygraphviz\\tests\\test_unicode.py -> build\\lib.win-amd64-cpython-38\\pygraphviz\\tests\n",
      "    copying pygraphviz\\tests\\__init__.py -> build\\lib.win-amd64-cpython-38\\pygraphviz\\tests\n",
      "    running egg_info\n",
      "    writing pygraphviz.egg-info\\PKG-INFO\n",
      "    writing dependency_links to pygraphviz.egg-info\\dependency_links.txt\n",
      "    writing top-level names to pygraphviz.egg-info\\top_level.txt\n",
      "    reading manifest file 'pygraphviz.egg-info\\SOURCES.txt'\n",
      "    reading manifest template 'MANIFEST.in'\n",
      "    warning: no files found matching '*.png' under directory 'doc'\n",
      "    warning: no files found matching '*.txt' under directory 'doc'\n",
      "    warning: no files found matching '*.css' under directory 'doc'\n",
      "    warning: no previously-included files matching '*~' found anywhere in distribution\n",
      "    warning: no previously-included files matching '*.pyc' found anywhere in distribution\n",
      "    warning: no previously-included files matching '.svn' found anywhere in distribution\n",
      "    no previously-included directories found matching 'doc\\build'\n",
      "    adding license file 'LICENSE'\n",
      "    writing manifest file 'pygraphviz.egg-info\\SOURCES.txt'\n",
      "    copying pygraphviz\\graphviz.i -> build\\lib.win-amd64-cpython-38\\pygraphviz\n",
      "    copying pygraphviz\\graphviz_wrap.c -> build\\lib.win-amd64-cpython-38\\pygraphviz\n",
      "    running build_ext\n",
      "    building 'pygraphviz._graphviz' extension\n",
      "    error: Microsoft Visual C++ 14.0 or greater is required. Get it with \"Microsoft C++ Build Tools\": https://visualstudio.microsoft.com/visual-cpp-build-tools/\n",
      "    ----------------------------------------\n",
      "ERROR: Command errored out with exit status 1: 'C:\\Users\\Laptop\\anaconda3\\python.exe' -u -c 'import sys, setuptools, tokenize; sys.argv[0] = '\"'\"'C:\\\\Users\\\\Laptop\\\\AppData\\\\Local\\\\Temp\\\\pip-install-z6dnh_x7\\\\pygraphviz\\\\setup.py'\"'\"'; __file__='\"'\"'C:\\\\Users\\\\Laptop\\\\AppData\\\\Local\\\\Temp\\\\pip-install-z6dnh_x7\\\\pygraphviz\\\\setup.py'\"'\"';f=getattr(tokenize, '\"'\"'open'\"'\"', open)(__file__);code=f.read().replace('\"'\"'\\r\\n'\"'\"', '\"'\"'\\n'\"'\"');f.close();exec(compile(code, __file__, '\"'\"'exec'\"'\"'))' install --record 'C:\\Users\\Laptop\\AppData\\Local\\Temp\\pip-record-txry5v2l\\install-record.txt' --single-version-externally-managed --compile --install-headers 'C:\\Users\\Laptop\\anaconda3\\Include\\pygraphviz' Check the logs for full command output.\n"
     ]
    },
    {
     "ename": "ModuleNotFoundError",
     "evalue": "No module named 'pydot'",
     "output_type": "error",
     "traceback": [
      "\u001b[1;31m---------------------------------------------------------------------------\u001b[0m",
      "\u001b[1;31mModuleNotFoundError\u001b[0m                       Traceback (most recent call last)",
      "\u001b[1;32m<ipython-input-25-5f0ba161b7c9>\u001b[0m in \u001b[0;36m<module>\u001b[1;34m\u001b[0m\n\u001b[0;32m     15\u001b[0m \u001b[1;32mfrom\u001b[0m \u001b[0mIPython\u001b[0m\u001b[1;33m.\u001b[0m\u001b[0mdisplay\u001b[0m \u001b[1;32mimport\u001b[0m \u001b[0mdisplay\u001b[0m\u001b[1;33m\u001b[0m\u001b[1;33m\u001b[0m\u001b[0m\n\u001b[0;32m     16\u001b[0m \u001b[1;32mfrom\u001b[0m \u001b[0mcollections\u001b[0m \u001b[1;32mimport\u001b[0m \u001b[0mCounter\u001b[0m\u001b[1;33m\u001b[0m\u001b[1;33m\u001b[0m\u001b[0m\n\u001b[1;32m---> 17\u001b[1;33m \u001b[1;32mfrom\u001b[0m \u001b[0mutils\u001b[0m \u001b[1;32mimport\u001b[0m \u001b[1;33m*\u001b[0m\u001b[1;33m\u001b[0m\u001b[1;33m\u001b[0m\u001b[0m\n\u001b[0m\u001b[0;32m     18\u001b[0m \u001b[1;32mfrom\u001b[0m \u001b[0mgraphs\u001b[0m \u001b[1;32mimport\u001b[0m \u001b[1;33m*\u001b[0m\u001b[1;33m\u001b[0m\u001b[1;33m\u001b[0m\u001b[0m\n",
      "\u001b[1;32m~\\OneDrive\\3e jaar TCS\\MOD10 Web Science\\week 1-4 Social Network Structure and Dynamics\\week1\\assignment\\WS_week1_assignment\\utils.py\u001b[0m in \u001b[0;36m<module>\u001b[1;34m\u001b[0m\n\u001b[0;32m      9\u001b[0m \u001b[1;32mfrom\u001b[0m \u001b[0mnetworkx\u001b[0m\u001b[1;33m.\u001b[0m\u001b[0mdrawing\u001b[0m\u001b[1;33m.\u001b[0m\u001b[0mnx_pydot\u001b[0m \u001b[1;32mimport\u001b[0m \u001b[0mfrom_pydot\u001b[0m\u001b[1;33m\u001b[0m\u001b[1;33m\u001b[0m\u001b[0m\n\u001b[0;32m     10\u001b[0m \u001b[1;32mfrom\u001b[0m \u001b[0mnetworkx\u001b[0m\u001b[1;33m.\u001b[0m\u001b[0mdrawing\u001b[0m\u001b[1;33m.\u001b[0m\u001b[0mnx_agraph\u001b[0m \u001b[1;32mimport\u001b[0m \u001b[0mto_agraph\u001b[0m\u001b[1;33m\u001b[0m\u001b[1;33m\u001b[0m\u001b[0m\n\u001b[1;32m---> 11\u001b[1;33m \u001b[1;32mimport\u001b[0m \u001b[0mpydot\u001b[0m\u001b[1;33m\u001b[0m\u001b[1;33m\u001b[0m\u001b[0m\n\u001b[0m\u001b[0;32m     12\u001b[0m \u001b[1;33m\u001b[0m\u001b[0m\n\u001b[0;32m     13\u001b[0m \u001b[1;33m\u001b[0m\u001b[0m\n",
      "\u001b[1;31mModuleNotFoundError\u001b[0m: No module named 'pydot'"
     ]
    }
   ],
   "source": [
    "# The following includes are needed to work with graphs and display solutions.\n",
    "\n",
    "import sys\n",
    "# !{sys.executable} -m pip install numpy\n",
    "\n",
    "# !apt install libgraphviz-dev\n",
    "# !pip install pygraphviz\n",
    "# !{sys.executable} -m pip install pygraphviz\n",
    "\n",
    "# %load graphs.py\n",
    "# %load utils.py\n",
    "\n",
    "!pip install pygraphviz \n",
    "import networkx as nx\n",
    "from IPython.display import display\n",
    "from collections import Counter\n",
    "from utils import *\n",
    "from graphs import *"
   ]
  },
  {
   "cell_type": "markdown",
   "metadata": {
    "id": "fbx2xElcR809"
   },
   "source": [
    "# Chapter 2: Graphs                                                     <a id=\"chapter2\"></a>\n"
   ]
  },
  {
   "cell_type": "markdown",
   "metadata": {
    "id": "pMtOAL8NR809"
   },
   "source": [
    "## Exercise: Distance from Node                                                     <a id=\"chapter3\"></a>\n",
    "\n",
    "* (a) Complete the function ``bfs_distances`` that calculates for given node ``start`` the shortest distance of each node connected to ``start``."
   ]
  },
  {
   "cell_type": "code",
   "execution_count": null,
   "metadata": {
    "id": "HFPWPAY4R809"
   },
   "outputs": [],
   "source": [
    "def bfs_distances(G, start):\n",
    "    ''' \n",
    "    breadth first search that calculates the distances from start node \n",
    "    The function returns a dictionary mapping node names to distances. \n",
    "    '''\n",
    "    visited, queue = dict(), [(start,0)]\n",
    "    # BEGIN SOLUTION\n",
    "    # END SOLUTION\n",
    "    return visited\n",
    "\n",
    "# Check\n",
    "display(draw(F23))\n",
    "visits = bfs_distances(F23, 'BBN')\n",
    "answer('CASE' in visits and visits['CASE'] == 3)"
   ]
  },
  {
   "cell_type": "markdown",
   "metadata": {
    "id": "BuFT2cKFR80-"
   },
   "source": [
    "## Advanced Exercise: Distance Distribution                                                     <a id=\"chapter4\"></a>\n",
    "Let H be the distance between two randomly chosen connected nodes in a graph. \n",
    "\n",
    "* (a) Complete the function ``distanceDistribution`` to compute the smallest c such that P(H>c)<0.05 holds. \n",
    "* (b) What problems will you encounter if you want to use your proposed algorithm on a really large graph such as Facebook."
   ]
  },
  {
   "cell_type": "code",
   "execution_count": null,
   "metadata": {
    "id": "Buteuls7R80-"
   },
   "outputs": [],
   "source": [
    "def distanceDistribution(G):\n",
    "    '''\n",
    "    Your task\n",
    "    '''\n",
    "    c = 0\n",
    "    # BEGIN SOLUTION\n",
    "    return 0  # remove me\n",
    "    # END SOLUTION\n",
    "    return l[0][0]+1\n",
    "\n",
    "# Check\n",
    "dist = distanceDistribution(F23)\n",
    "print(dist)\n",
    "answer(dist == 5)"
   ]
  },
  {
   "cell_type": "markdown",
   "metadata": {
    "id": "u9wsXM0QR80_"
   },
   "source": [
    "** Answer (b) **: *Add your answer here*"
   ]
  },
  {
   "cell_type": "markdown",
   "metadata": {
    "id": "iexZlleIR81A"
   },
   "source": [
    "## Advanced Exercise: Paths Between Nodes                                                     <a id=\"chapter5\"></a>\n",
    "\n",
    "Complete the function ``bfs_paths`` that returns all possible paths in graph 'G' between node 'start' and node 'end'."
   ]
  },
  {
   "cell_type": "code",
   "execution_count": null,
   "metadata": {
    "id": "eAvcWSHBR81A"
   },
   "outputs": [],
   "source": [
    "def bfs_paths(G, start, end):\n",
    "    '''\n",
    "    calculates all paths from start to end\n",
    "    '''\n",
    "    paths = []\n",
    "    # BEGIN SOLUTION\n",
    "    # END SOLUTION\n",
    "    return paths\n",
    "\n",
    "# Check\n",
    "''' get all paths from 'CARN' to 'UCSB' '''\n",
    "display(draw(F23))\n",
    "paths = bfs_paths(F23, 'CARN', 'UCSB')\n",
    "print(len(paths))\n",
    "answer(len(paths) == 24)"
   ]
  },
  {
   "cell_type": "markdown",
   "metadata": {
    "id": "OXlwO6MGR81A"
   },
   "source": [
    "## Exercise: Connected Components                                                     <a id=\"chapter6\"></a>\n",
    "\n",
    "* Complete the function ``connected_components`` that returns a list of connected components, which are presented by the lists of its nodes. \n"
   ]
  },
  {
   "cell_type": "code",
   "execution_count": null,
   "metadata": {
    "id": "hDG58ZlYR81A"
   },
   "outputs": [],
   "source": [
    "def connected_components(G):\n",
    "    ''' \n",
    "    outputs an list of connectected components (represented by a list of component members)\n",
    "    '''\n",
    "    components = []\n",
    "    # BEGIN SOLUTION  \n",
    "    # END SOLUTION\n",
    "    return components\n",
    "\n",
    "# Check\n",
    "s = connected_components(F23)\n",
    "answer(s == [['BBN', 'CARN', 'CASE', 'HARV', 'LNC', 'MIT', 'RAND', 'SDC', 'SRI', 'STAN', 'UCLA', 'UCSB', 'UTAH']])"
   ]
  },
  {
   "cell_type": "markdown",
   "metadata": {
    "id": "sDYDzExkR81B"
   },
   "source": [
    "## Exercise 2.1: Pivotal                                                   <a id=\"chapter7\"></a>\n",
    "\n",
    "* a) Give an example of a graph in which every node is pivotal for at least one pair of nodes. Explain your answer."
   ]
  },
  {
   "cell_type": "code",
   "execution_count": null,
   "metadata": {
    "id": "ED4CmZunR81B"
   },
   "outputs": [],
   "source": [
    "# a)\n",
    "Answer = fromDot('''\n",
    "strict graph A {\n",
    "# BEGIN SOLUTION\n",
    "# END SOLUTION\n",
    "}\n",
    "''')\n",
    "display(draw(Answer))"
   ]
  },
  {
   "cell_type": "markdown",
   "metadata": {
    "id": "A4OamQvAR81B"
   },
   "source": [
    "**Explanation a:** *add your explanation here*"
   ]
  },
  {
   "cell_type": "markdown",
   "metadata": {
    "id": "y-fQpdyxR81B"
   },
   "source": [
    "* b) Give an example of a graph in which every node is pivotal for at least two different pairs of nodes. Explain your answer. "
   ]
  },
  {
   "cell_type": "code",
   "execution_count": null,
   "metadata": {
    "id": "ob346HwYR81B"
   },
   "outputs": [],
   "source": [
    "# b\n",
    "Answer = fromDot('''\n",
    "strict graph A {\n",
    "# BEGIN SOLUTION\n",
    "# END SOLUTION\n",
    "}\n",
    "''')\n",
    "display(draw(Answer))"
   ]
  },
  {
   "cell_type": "markdown",
   "metadata": {
    "id": "kJe0mAdCR81C"
   },
   "source": [
    "**Explanation b:** *add your answer here*"
   ]
  },
  {
   "cell_type": "markdown",
   "metadata": {
    "id": "eYBdtdazR81C"
   },
   "source": [
    "## Exercise 2.2: Gatekeeping                                                     <a id=\"chapter8\"></a>\n",
    "\n",
    "\n",
    "* (p1) A node X is a gatekeeper if for two other nodes Y and Z every path between Y and Z passes throught X. Complete the functions ``gatekeepers`` and ``gatekeeperAB``. The function ``gatekeeperAB`` should return a set of nodes that are on all possible paths between node a and node b. The function ``gatekeepers`` returns the union of all gatekeepers.\n",
    "* (p2) A node X is a local gate keeper if there are two neighbors of X, say Y and Z, that are not connected to each other. Complete the functions ``local_gatekeeper and ``local_gatekeepers`` below.\n",
    "* (a) Give an example (with explanation) of a graph in which more than half of all nodes are gatekeepers.\n",
    "* (b) Give an example (with explanation) of a graph in there are no gatekeepers but in which every node is a local gate keeper."
   ]
  },
  {
   "cell_type": "code",
   "execution_count": null,
   "metadata": {
    "id": "8bsYsBplR81C"
   },
   "outputs": [],
   "source": [
    "# p1 + p2\n",
    "def gatekeeperAB(G, a, b):\n",
    "    '''\n",
    "    Determines all gatekeepers between node 'a' and node 'b' \n",
    "    '''\n",
    "    found = set()\n",
    "    # BEGIN SOLUTION\n",
    "    # END SOLUTION\n",
    "    return found\n",
    "\n",
    "\n",
    "def gatekeepers(G):\n",
    "    '''\n",
    "    Determines all gatekeepers in graph 'G'\n",
    "    '''\n",
    "    result = set()\n",
    "    for n1 in G:\n",
    "        for n2 in G:\n",
    "            result = result | gatekeeperAB(G, n1, n2)\n",
    "    return result\n",
    "\n",
    "def local_gatekeeper(G, a):\n",
    "    '''\n",
    "    Determines whether a is a local gate keeper\n",
    "    '''\n",
    "    # BEGIN SOLUTION\n",
    "    # END SOLUTION\n",
    "    return False\n",
    "\n",
    "\n",
    "def local_gatekeepers(G):\n",
    "    '''\n",
    "    Determines all gatekeepers in graph 'G'\n",
    "    '''\n",
    "    result = set()\n",
    "    for n in G:\n",
    "        if local_gatekeeper(G,n): result.add(n)\n",
    "    return result\n",
    "\n",
    "# Check\n",
    "answer(gatekeepers(F214) == set('A'))\n",
    "answer(local_gatekeepers(F214) == {'A', 'D'})"
   ]
  },
  {
   "cell_type": "code",
   "execution_count": null,
   "metadata": {
    "id": "aQx3UyKoR81C"
   },
   "outputs": [],
   "source": [
    "# (a)\n",
    "\n",
    "Answer = fromDot('''\n",
    "strict graph A {\n",
    "# BEGIN SOLUTION\n",
    "# END SOLUTION\n",
    "}\n",
    "''')\n",
    "\n",
    "# Check\n",
    "answer(len(Answer) / 2 < len(gatekeepers(Answer)))\n"
   ]
  },
  {
   "cell_type": "markdown",
   "metadata": {
    "id": "FevwMf4dR81C"
   },
   "source": [
    "**Explanation a**: * Add your explanation here* "
   ]
  },
  {
   "cell_type": "code",
   "execution_count": null,
   "metadata": {
    "id": "RsI0cKl-R81C"
   },
   "outputs": [],
   "source": [
    "# (b)\n",
    "\n",
    "Answer = fromDot('''\n",
    "strict graph A {\n",
    "# BEGIN SOLUTION\n",
    "# END SOLUTION\n",
    "}\n",
    "''')\n",
    "\n",
    "# Check\n",
    "answer(len(gatekeepers(Answer)) == 0 and len(local_gatekeepers(Answer)) == len(Answer) and len(Answer)> 0)"
   ]
  },
  {
   "cell_type": "markdown",
   "metadata": {
    "id": "OyUKXRs8R81D"
   },
   "source": [
    "**Explanation b**: *Add your explanation here*"
   ]
  },
  {
   "cell_type": "markdown",
   "metadata": {
    "id": "DEj-8AL9R81D"
   },
   "source": [
    "## Advanced Exercise 2.3: Diameter and Average Distance                                                     <a id=\"chapter9\"></a>\n",
    "\n",
    "The diameter of a graph is the maxium distance between any two nodes in this graph. The average distance is, as the term suggests, is the average distance between all pairs of nodes in a graph [p 41].\n",
    "\n",
    "* (p) Complete the functions ``diameter`` and ``avg_distance``. \n",
    "* (a) Give an example of a graph where the diameter of a graph is more than tree times as large as the average distance.\n",
    "* (b) Describe how you could extend your construction from (a) to produce graphs in which the diameter exceeds the average distance by as large as factor as you would like. That is, for every number c, can you produce a graph in which the diameter is more than c times as large as the average distance"
   ]
  },
  {
   "cell_type": "code",
   "execution_count": null,
   "metadata": {
    "id": "bgKVj2mER81D"
   },
   "outputs": [],
   "source": [
    "# (p)\n",
    "def diameter(G):\n",
    "    '''\n",
    "    Calculates the diameter of graph\n",
    "    '''\n",
    "    d = 0\n",
    "    \n",
    "    # END SOLUTION\n",
    "    return d\n",
    "\n",
    "def avg_distance(G):\n",
    "    '''\n",
    "    '''\n",
    "    avg = 0\n",
    "    # BEGIN SOLUTION\n",
    "    # END SOLUTION\n",
    "    return avg\n",
    "\n",
    "        "
   ]
  },
  {
   "cell_type": "code",
   "execution_count": null,
   "metadata": {
    "id": "V3U6SSX8R81D"
   },
   "outputs": [],
   "source": [
    "# Answer (a)\n",
    "# Construct a graph where diameter(Answer) > 3 * avg_distance(Answer)\n",
    "\n",
    "# BEGIN SOLUTION\n",
    "Answer = nx.complete_graph(1)\n",
    "# END SOLUTION\n",
    "\n",
    "display(draw(Answer))\n",
    "print(diameter(Answer))\n",
    "print(avg_distance(Answer))\n",
    "# Check\n",
    "answer(diameter(Answer) > 3 * avg_distance(Answer))"
   ]
  },
  {
   "cell_type": "markdown",
   "metadata": {
    "id": "UqW0sJEwR81D"
   },
   "source": [
    "**Answer (b)**: *Add your explanation here*"
   ]
  },
  {
   "cell_type": "markdown",
   "metadata": {
    "id": "5k5l42sPR81D"
   },
   "source": [
    "# Chapter 3: Strong and Weak Ties                                                     <a id=\"chapter10\"></a>\n"
   ]
  },
  {
   "cell_type": "markdown",
   "metadata": {
    "id": "f8yaiJMgR81D"
   },
   "source": [
    "## Exercise: Triadic Closure                                                     <a id=\"chapter11\"></a>\n",
    "\n",
    "If nodes B and C have a neighbor A in common, the formation of an edge between B and C produces a situation in which A,B,C form a triangle. \n",
    "\n",
    "* (p1): Complete the functions ``trianglesA`` and  ``triangles``.\n",
    "* (p2): Complete the function ``open_triangles``."
   ]
  },
  {
   "cell_type": "code",
   "execution_count": null,
   "metadata": {
    "id": "8EJ10katR81D"
   },
   "outputs": [],
   "source": [
    "def trianglesA(G,a):\n",
    "    '''\n",
    "    Calculates the number of neighbors of node 'a' that are also neighbors themselves.\n",
    "    '''\n",
    "    results = []\n",
    "    # BEGIN SOLUTION\n",
    "    # END SOLUTION\n",
    "    return results\n",
    "\n",
    "def triangles(G):\n",
    "    '''\n",
    "    Calculates all open triangles in graph 'G'\n",
    "    '''\n",
    "    results = set()\n",
    "    # BEGIN SOLUTION\n",
    "    # END SOLUTION\n",
    "    return results\n",
    "\n",
    "def open_triangles(G):\n",
    "    '''\n",
    "    Cacluates the number of triades in graph ``G``.\n",
    "    '''\n",
    "    results = []\n",
    "    # BEGIN SOLUTION\n",
    "    # END SOLUTION\n",
    "    return results\n",
    "\n",
    "# Check \n",
    "answer(len(open_triangles(F31)) == 10)"
   ]
  },
  {
   "cell_type": "markdown",
   "metadata": {
    "id": "m9nxwi9LR81D"
   },
   "source": [
    "## Exercise: Clustering Coefficient                                                     <a id=\"chapter12\"></a>\n",
    "The clustering coefficient of a node 'a' is defined as the probability that two randomly selected neighbors of A are neighbors of each other [p44-45]\n",
    "\n",
    "* (p): Complete the function ``cluster_coefficient`` to calculate the cluster coefficient of a node 'a'."
   ]
  },
  {
   "cell_type": "code",
   "execution_count": null,
   "metadata": {
    "id": "clUj94VeR81E"
   },
   "outputs": [],
   "source": [
    "def cluster_coefficient(G, a):\n",
    "    '''\n",
    "    Calculate the number of neighbors in a triangle divided by the number of neighbors\n",
    "    '''\n",
    "    coef = 0.0\n",
    "    # BEGIN SOLUTION\n",
    "    # END SOLUTION\n",
    "    return coef\n",
    "\n",
    "# Check\n",
    "display(draw(F31))\n",
    "answer(cluster_coefficient(F31, 'C') == 1.0)"
   ]
  },
  {
   "cell_type": "markdown",
   "metadata": {
    "id": "UG7MbaSrR81E"
   },
   "source": [
    "## Exercise: Bridges                                                     <a id=\"chapter13\"></a>\n",
    "\n",
    "An edge between two nodes A and B is called a bridge if deleting the edge would cause A and B to lie in different components of the resulting graph [p 46]\n",
    "\n",
    "* (p) Complete the function ``bridge`` that checks whehter an edge between a node 'a' and a node 'b' is a bridge. "
   ]
  },
  {
   "cell_type": "code",
   "execution_count": null,
   "metadata": {
    "id": "dNRAeg4MR81E"
   },
   "outputs": [],
   "source": [
    "def bridge(G, a, b):\n",
    "    ''' \n",
    "    Checks whether an edge between node 'a' and 'b' is a bridge in 'G'.\n",
    "    '''\n",
    "    paths = []\n",
    "    # BEGIN SOLUTION\n",
    "    # END SOLUTION\n",
    "    return not paths\n",
    "\n",
    "# Check\n",
    "answer((bridge(F33, 'A', 'B') == True) and (bridge(F33, 'A', 'C') == False))"
   ]
  },
  {
   "cell_type": "markdown",
   "metadata": {
    "id": "0-3teg6HR81E"
   },
   "source": [
    "## Exercise: Local Bridges                                                     <a id=\"chapter14\"></a>\n",
    "\n",
    "An edge joinging two nodes a and b in a graph is a local bridge if its endpoints have no neighbors (besides themselves) in common \n",
    "    \n",
    "* (p) Complete the function ``local_bridge`` that checks whether an edge between node 'a' and node 'b' forms a local bridge."
   ]
  },
  {
   "cell_type": "code",
   "execution_count": null,
   "metadata": {
    "id": "R0LnQdJlR81E"
   },
   "outputs": [],
   "source": [
    "def local_bridge(G, a, b):\n",
    "    '''\n",
    "    A local bridge is an edge where both ends of the edge have no other neighbor in common. \n",
    "    '''\n",
    "    is_bridge = False\n",
    "    # BEGIN SOLUTION\n",
    "    # END SOLUTION\n",
    "    return is_bridge\n",
    "\n",
    "# Check\n",
    "answer(local_bridge(F34, 'A', 'B') == True)"
   ]
  },
  {
   "cell_type": "markdown",
   "metadata": {
    "id": "oFV8sJczR81E"
   },
   "source": [
    "## Exercise: Strong Triadic Closure                                                     <a id=\"chapter15\"></a>\n",
    "\n",
    "Node A violates the Strong Triadic Closure property if it has strong ties to two other nodes\n",
    "B and C and there is no edge at all between B and C. A node fulfills the Strong Triadic Closure propoerty  if it does not violate it. [p 49]\n",
    "\n",
    "* (p) Complete the code of the functions ``violoatStrongTriadicClosure``."
   ]
  },
  {
   "cell_type": "code",
   "execution_count": null,
   "metadata": {
    "id": "L1eC7LggR81E"
   },
   "outputs": [],
   "source": [
    "# (p)\n",
    "def violateStrongTriadicClosure(G,a):\n",
    "    # BEGIN SOLUTION\n",
    "    # END SOLUTION\n",
    "    return False\n",
    "\n",
    "def strongTriadicClosure(G,a):\n",
    "    return not violateStrongTriadicClosure(G,a)\n",
    "\n",
    "# Check\n",
    "answer(strongTriadicClosure(F35, 'J') == True)\n",
    "        "
   ]
  },
  {
   "cell_type": "markdown",
   "metadata": {
    "id": "V3-NuUaWR81E"
   },
   "source": [
    "## Exercise: Neighborhood Overlap                                                     <a id=\"chapter16\"></a>\n",
    "\n",
    "* (p) Complete the function ``neighborhood_overlap`` that calculates the overlap between the neighborhoods of a node 'a' and a node 'b'."
   ]
  },
  {
   "cell_type": "code",
   "execution_count": null,
   "metadata": {
    "id": "gTQQaGoPR81F"
   },
   "outputs": [],
   "source": [
    "def neighborhood_overlap(G, a, b):\n",
    "    '''\n",
    "    The neighborhood overlap of two nodes a and b is the fraction of neighbors they have in common divided by the \n",
    "    total number of their neighbors.\n",
    "    '''\n",
    "    overlap = - 1.0\n",
    "    # BEGIN SOLUTION\n",
    "    # END SOLUTION\n",
    "    return overlap\n",
    "\n",
    "# Check\n",
    "answer(neighborhood_overlap(F34, 'C', 'A') == 0.75)"
   ]
  },
  {
   "cell_type": "markdown",
   "metadata": {
    "id": "SmNKV5TtR81F"
   },
   "source": [
    "## Exercise 3.1                                                     <a id=\"chapter17\"></a>\n",
    "In two to three sentences, explain what triadic closure is and how it plays a role in the formation of social networks. You can draw a schematic picture if you find it useful."
   ]
  },
  {
   "cell_type": "markdown",
   "metadata": {
    "id": "7ggxOCmAR81F"
   },
   "source": [
    "** Answer **: * Add your answer here *"
   ]
  },
  {
   "cell_type": "markdown",
   "metadata": {
    "id": "0hZCNjFuR81F"
   },
   "source": [
    "## Exercise 3.2                                                     <a id=\"chapter18\"></a>\n",
    "Consider the graph in Figure 3.21, in which each edge - except the edge connecting nodes B and C - is labeled as a strong tie (S) or a weak tie (W). \n",
    "\n",
    "<img src=\"files/fig321.png\">\n",
    "\n",
    "According to the theory of strong and weak ties, using the Strong Triadic Closure assumption, how would you expect the edge between B and C to be labeled. Give a brief one to three sentence explanation for your answer. \n"
   ]
  },
  {
   "cell_type": "markdown",
   "metadata": {
    "id": "8319rbEQR81F"
   },
   "source": [
    "** Answer **: * Add your answer here *"
   ]
  },
  {
   "cell_type": "markdown",
   "metadata": {
    "id": "SfhhHymhR81F"
   },
   "source": [
    "## Exercise 3.3                                                     <a id=\"chapter19\"></a>\n",
    "In the social network depicted in Figure 3.22 in which each edge is labeled as either as a strong or weak tie, which nodes satisfy the Strong Triadic Closure property? Provide an explanation for your answer.\n",
    "\n",
    "<img src=\"files/fig322.png\">"
   ]
  },
  {
   "cell_type": "markdown",
   "metadata": {
    "id": "QbghLZsjR81F"
   },
   "source": [
    "** Answer **: * Add your answer here *"
   ]
  },
  {
   "cell_type": "markdown",
   "metadata": {
    "id": "nqqj5BjAR81F"
   },
   "source": [
    "## Exercise 3.4                                                     <a id=\"chapter20\"></a>\n",
    "In the social network depicted in Figure 3.23 with each edge labeled as either a strong or weak tie, which two nodes violate the Strong Triadic Closure Property? Provide an explanation for your answer.\n",
    "\n",
    "<img src=\"files/fig323.png\">"
   ]
  },
  {
   "cell_type": "markdown",
   "metadata": {
    "id": "pvKf0V9uR81F"
   },
   "source": [
    "** Answer **: * Add your answer here *"
   ]
  },
  {
   "cell_type": "markdown",
   "metadata": {
    "id": "mcOHtLNiR81F"
   },
   "source": [
    "## Exercise 3.5                                                     <a id=\"chapter21\"></a>\n",
    "In the social network depicted in Figure 3.24, with each edge labeled as either a strong or weak tie, which nodes satisfy the Strong Triadic Closure Property from Chapter 3, and which do not? Provide an explanation for your answer."
   ]
  },
  {
   "cell_type": "markdown",
   "metadata": {
    "id": "ZQ2QAW5MR81F"
   },
   "source": [
    "** Answer **: * Add your answer here *"
   ]
  },
  {
   "cell_type": "markdown",
   "metadata": {
    "id": "NnNGeqPgR81F"
   },
   "source": [
    "# Chapter 4: Network in their Surrounding Context                                                     <a id=\"chapter22\"></a>\n"
   ]
  },
  {
   "cell_type": "markdown",
   "metadata": {
    "id": "oVnFbYBLR81G"
   },
   "source": [
    "## Advanced Exercise: Homophily                                                     <a id=\"chapter23\"></a>\n",
    "For a binary property b, let $r$ be the fraction $r$ of edges where both ends have different values of $b$ and let $p$ be the fraction of nodes with positive value of property $b$ and $q$ be the fraction of nodes with negative value of $b$. If $r$ is significantly less than $2\\; p\\; q$, then there is evidence of homophily [p.80]. Consider the following graph from Figure 4.2."
   ]
  },
  {
   "cell_type": "code",
   "execution_count": null,
   "metadata": {
    "id": "iCbRP5D5R81G"
   },
   "outputs": [],
   "source": [
    "draw(F42)"
   ]
  },
  {
   "cell_type": "markdown",
   "metadata": {
    "id": "D1b8WYyxR81G"
   },
   "source": [
    "** Assignment **\n",
    "\n",
    "* (p) Complete the function ``homophily`` using the property node has fillcolor green (already implemented in the function ``pos``)."
   ]
  },
  {
   "cell_type": "code",
   "execution_count": null,
   "metadata": {
    "id": "HhHY76uaR81G"
   },
   "outputs": [],
   "source": [
    "# (p)\n",
    "def pos(G,n):\n",
    "    return G.nodes()[n].get('fillcolor','green') == 'green'\n",
    "\n",
    "def homophily(G):\n",
    "    p, q, r = 0, 0, 0\n",
    "    # BEGIN SOLUTION\n",
    "    # END SOLUTION\n",
    "    return 2 * p * q, r\n",
    "    \n",
    "# Check    \n",
    "answer(homophily(F42) == (0.4444444444444444, 0.25))"
   ]
  }
 ],
 "metadata": {
  "colab": {
   "name": "week1-assignments.ipynb",
   "provenance": []
  },
  "kernelspec": {
   "display_name": "Python 3",
   "language": "python",
   "name": "python3"
  },
  "language_info": {
   "codemirror_mode": {
    "name": "ipython",
    "version": 3
   },
   "file_extension": ".py",
   "mimetype": "text/x-python",
   "name": "python",
   "nbconvert_exporter": "python",
   "pygments_lexer": "ipython3",
   "version": "3.8.3"
  }
 },
 "nbformat": 4,
 "nbformat_minor": 1
}
