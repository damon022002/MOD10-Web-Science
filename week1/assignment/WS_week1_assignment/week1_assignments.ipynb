{
  "cells": [
    {
      "cell_type": "markdown",
      "metadata": {
        "id": "VHNgyxJpR805"
      },
      "source": [
        "# Table of Contents\n",
        "\n",
        "* [Part 1: Graph Theory and Social Networks                                                    ](#chapter1)\n",
        "* [Chapter 2: Graphs                                                    ](#chapter2)\n",
        " * [Exercise: Distance from Node                                                    ](#chapter3)\n",
        " * [Advanced Exercise: Distance Distribution                                                    ](#chapter4)\n",
        " * [Advanced Exercise: Paths Between Nodes                                                    ](#chapter5)\n",
        " * [Exercise: Connected Components                                                    ](#chapter6)\n",
        " * [Exercise 2.1: Pivotal                                                  ](#chapter7)\n",
        " * [Exercise 2.2: Gatekeeping                                                    ](#chapter8)\n",
        " * [Advanced Exercise 2.3: Diameter and Average Distance                                                    ](#chapter9)\n",
        "* [Chapter 3: Strong and Weak Ties                                                    ](#chapter10)\n",
        " * [Exercise: Triadic Closure                                                    ](#chapter11)\n",
        " * [Exercise: Clustering Coefficient                                                    ](#chapter12)\n",
        " * [Exercise: Bridges                                                    ](#chapter13)\n",
        " * [Exercise: Local Bridges                                                    ](#chapter14)\n",
        " * [Exercise: Strong Triadic Closure                                                    ](#chapter15)\n",
        " * [Exercise: Neighborhood Overlap                                                    ](#chapter16)\n",
        " * [Exercise 3.1                                                    ](#chapter17)\n",
        " * [Exercise 3.2                                                    ](#chapter18)\n",
        " * [Exercise 3.3                                                    ](#chapter19)\n",
        " * [Exercise 3.4                                                    ](#chapter20)\n",
        " * [Exercise 3.5                                                    ](#chapter21)\n",
        "* [Chapter 4: Network in their Surrounding Context                                                    ](#chapter22)\n",
        " * [Advanced Exercise: Homophily                                                    ](#chapter23)\n"
      ]
    },
    {
      "cell_type": "markdown",
      "metadata": {
        "id": "9VSItRN4R808"
      },
      "source": [
        "# Part 1: Graph Theory and Social Networks                                                     <a id=\"chapter1\"></a>\n",
        "\n",
        "This ipython document contains the tutorial exercises for the WebScience module based on Networks, Crowds, and Markets by Easly and Kleinberg 2010. Your task is to solve the Exercises by adding the answers into the designated code or text areas. Some exercises are marked as 'advanced exercises' and are not compulsory to be answered.\n"
      ]
    },
    {
      "cell_type": "code",
      "execution_count": 2,
      "metadata": {
        "id": "D_oYWGSeR808",
        "outputId": "f0c57830-ce06-475c-ed98-4ef02dd980d7",
        "colab": {
          "base_uri": "https://localhost:8080/"
        }
      },
      "outputs": [
        {
          "output_type": "stream",
          "name": "stdout",
          "text": [
            "Reading package lists... Done\n",
            "Building dependency tree       \n",
            "Reading state information... Done\n",
            "The following package was automatically installed and is no longer required:\n",
            "  libnvidia-common-460\n",
            "Use 'apt autoremove' to remove it.\n",
            "The following additional packages will be installed:\n",
            "  libgail-common libgail18 libgtk2.0-0 libgtk2.0-bin libgtk2.0-common\n",
            "  libgvc6-plugins-gtk libxdot4\n",
            "Suggested packages:\n",
            "  gvfs\n",
            "The following NEW packages will be installed:\n",
            "  libgail-common libgail18 libgraphviz-dev libgtk2.0-0 libgtk2.0-bin\n",
            "  libgtk2.0-common libgvc6-plugins-gtk libxdot4\n",
            "0 upgraded, 8 newly installed, 0 to remove and 5 not upgraded.\n",
            "Need to get 2,120 kB of archives.\n",
            "After this operation, 7,128 kB of additional disk space will be used.\n",
            "Get:1 http://archive.ubuntu.com/ubuntu bionic/main amd64 libgtk2.0-common all 2.24.32-1ubuntu1 [125 kB]\n",
            "Get:2 http://archive.ubuntu.com/ubuntu bionic/main amd64 libgtk2.0-0 amd64 2.24.32-1ubuntu1 [1,769 kB]\n",
            "Get:3 http://archive.ubuntu.com/ubuntu bionic/main amd64 libgail18 amd64 2.24.32-1ubuntu1 [14.2 kB]\n",
            "Get:4 http://archive.ubuntu.com/ubuntu bionic/main amd64 libgail-common amd64 2.24.32-1ubuntu1 [112 kB]\n",
            "Get:5 http://archive.ubuntu.com/ubuntu bionic/universe amd64 libxdot4 amd64 2.40.1-2 [15.7 kB]\n",
            "Get:6 http://archive.ubuntu.com/ubuntu bionic/universe amd64 libgvc6-plugins-gtk amd64 2.40.1-2 [18.2 kB]\n",
            "Get:7 http://archive.ubuntu.com/ubuntu bionic/universe amd64 libgraphviz-dev amd64 2.40.1-2 [57.3 kB]\n",
            "Get:8 http://archive.ubuntu.com/ubuntu bionic/main amd64 libgtk2.0-bin amd64 2.24.32-1ubuntu1 [7,536 B]\n",
            "Fetched 2,120 kB in 1s (2,077 kB/s)\n",
            "Selecting previously unselected package libgtk2.0-common.\n",
            "(Reading database ... 123942 files and directories currently installed.)\n",
            "Preparing to unpack .../0-libgtk2.0-common_2.24.32-1ubuntu1_all.deb ...\n",
            "Unpacking libgtk2.0-common (2.24.32-1ubuntu1) ...\n",
            "Selecting previously unselected package libgtk2.0-0:amd64.\n",
            "Preparing to unpack .../1-libgtk2.0-0_2.24.32-1ubuntu1_amd64.deb ...\n",
            "Unpacking libgtk2.0-0:amd64 (2.24.32-1ubuntu1) ...\n",
            "Selecting previously unselected package libgail18:amd64.\n",
            "Preparing to unpack .../2-libgail18_2.24.32-1ubuntu1_amd64.deb ...\n",
            "Unpacking libgail18:amd64 (2.24.32-1ubuntu1) ...\n",
            "Selecting previously unselected package libgail-common:amd64.\n",
            "Preparing to unpack .../3-libgail-common_2.24.32-1ubuntu1_amd64.deb ...\n",
            "Unpacking libgail-common:amd64 (2.24.32-1ubuntu1) ...\n",
            "Selecting previously unselected package libxdot4.\n",
            "Preparing to unpack .../4-libxdot4_2.40.1-2_amd64.deb ...\n",
            "Unpacking libxdot4 (2.40.1-2) ...\n",
            "Selecting previously unselected package libgvc6-plugins-gtk.\n",
            "Preparing to unpack .../5-libgvc6-plugins-gtk_2.40.1-2_amd64.deb ...\n",
            "Unpacking libgvc6-plugins-gtk (2.40.1-2) ...\n",
            "Selecting previously unselected package libgraphviz-dev.\n",
            "Preparing to unpack .../6-libgraphviz-dev_2.40.1-2_amd64.deb ...\n",
            "Unpacking libgraphviz-dev (2.40.1-2) ...\n",
            "Selecting previously unselected package libgtk2.0-bin.\n",
            "Preparing to unpack .../7-libgtk2.0-bin_2.24.32-1ubuntu1_amd64.deb ...\n",
            "Unpacking libgtk2.0-bin (2.24.32-1ubuntu1) ...\n",
            "Setting up libgtk2.0-common (2.24.32-1ubuntu1) ...\n",
            "Setting up libxdot4 (2.40.1-2) ...\n",
            "Setting up libgtk2.0-0:amd64 (2.24.32-1ubuntu1) ...\n",
            "Setting up libgail18:amd64 (2.24.32-1ubuntu1) ...\n",
            "Setting up libgail-common:amd64 (2.24.32-1ubuntu1) ...\n",
            "Setting up libgvc6-plugins-gtk (2.40.1-2) ...\n",
            "Setting up libgraphviz-dev (2.40.1-2) ...\n",
            "Setting up libgtk2.0-bin (2.24.32-1ubuntu1) ...\n",
            "Processing triggers for man-db (2.8.3-2ubuntu0.1) ...\n",
            "Processing triggers for libc-bin (2.27-3ubuntu1.6) ...\n",
            "Looking in indexes: https://pypi.org/simple, https://us-python.pkg.dev/colab-wheels/public/simple/\n",
            "Collecting pygraphviz\n",
            "  Using cached pygraphviz-1.7.zip (118 kB)\n",
            "Building wheels for collected packages: pygraphviz\n",
            "  Building wheel for pygraphviz (setup.py) ... \u001b[?25l\u001b[?25hdone\n",
            "  Created wheel for pygraphviz: filename=pygraphviz-1.7-cp37-cp37m-linux_x86_64.whl size=165753 sha256=8db36d4140dc21c144d141fae94d15202ea32708431c8566e0e7b830398026b7\n",
            "  Stored in directory: /root/.cache/pip/wheels/8c/bc/0c/ac35392b72556e75107ff610cb31b313e8471918a6d280e34c\n",
            "Successfully built pygraphviz\n",
            "Installing collected packages: pygraphviz\n",
            "Successfully installed pygraphviz-1.7\n",
            "Looking in indexes: https://pypi.org/simple, https://us-python.pkg.dev/colab-wheels/public/simple/\n",
            "Requirement already satisfied: pygraphviz in /usr/local/lib/python3.7/dist-packages (1.7)\n"
          ]
        }
      ],
      "source": [
        "# The following includes are needed to work with graphs and display solutions.\n",
        "\n",
        "!apt install libgraphviz-dev\n",
        "!pip install pygraphviz\n",
        "\n",
        "\n",
        "!pip install pygraphviz \n",
        "import networkx as nx\n",
        "from IPython.display import display\n",
        "from collections import Counter\n",
        "from utils import *\n",
        "from graphs import *"
      ]
    },
    {
      "cell_type": "markdown",
      "metadata": {
        "id": "fbx2xElcR809"
      },
      "source": [
        "# Chapter 2: Graphs                                                     <a id=\"chapter2\"></a>\n"
      ]
    },
    {
      "cell_type": "markdown",
      "metadata": {
        "id": "pMtOAL8NR809"
      },
      "source": [
        "## Exercise: Distance from Node                                                     <a id=\"chapter3\"></a>\n",
        "\n",
        "* (a) Complete the function ``bfs_distances`` that calculates for given node ``start`` the shortest distance of each node connected to ``start``."
      ]
    },
    {
      "cell_type": "code",
      "execution_count": 16,
      "metadata": {
        "id": "HFPWPAY4R809",
        "outputId": "f9769f04-6f39-4ad1-9d2b-4d92ef388d2a",
        "colab": {
          "base_uri": "https://localhost:8080/",
          "height": 462
        }
      },
      "outputs": [
        {
          "output_type": "display_data",
          "data": {
            "text/plain": [
              "<IPython.core.display.SVG object>"
            ],
            "image/svg+xml": "<svg height=\"282pt\" viewBox=\"0.00 0.00 600.28 281.75\" width=\"600pt\" xmlns=\"http://www.w3.org/2000/svg\" xmlns:xlink=\"http://www.w3.org/1999/xlink\">\n<g class=\"graph\" id=\"graph0\" transform=\"scale(1 1) rotate(0) translate(4 277.75)\">\n<polygon fill=\"#ffffff\" points=\"-4,4 -4,-277.75 596.2768,-277.75 596.2768,4 -4,4\" stroke=\"transparent\"/>\n<!-- MIT -->\n<g class=\"node\" id=\"node1\">\n<title>MIT</title>\n<ellipse cx=\"357.3199\" cy=\"-206.43\" fill=\"none\" rx=\"28\" ry=\"18\" stroke=\"#000000\"/>\n<text fill=\"#000000\" font-family=\"Times,serif\" font-size=\"14.00\" text-anchor=\"middle\" x=\"357.3199\" y=\"-202.73\">MIT</text>\n</g>\n<!-- LNC -->\n<g class=\"node\" id=\"node2\">\n<title>LNC</title>\n<ellipse cx=\"465.0799\" cy=\"-240.5\" fill=\"none\" rx=\"30\" ry=\"18\" stroke=\"#000000\"/>\n<text fill=\"#000000\" font-family=\"Times,serif\" font-size=\"14.00\" text-anchor=\"middle\" x=\"465.0799\" y=\"-236.8\">LNC</text>\n</g>\n<!-- MIT&#45;&#45;LNC -->\n<g class=\"edge\" id=\"edge1\">\n<title>MIT--LNC</title>\n<path d=\"M382.5799,-214.42C399.3799,-219.73 421.3999,-226.69 438.4699,-232.09\" fill=\"none\" stroke=\"#000000\"/>\n</g>\n<!-- BBN -->\n<g class=\"node\" id=\"node3\">\n<title>BBN</title>\n<ellipse cx=\"336.3299\" cy=\"-81.347\" fill=\"none\" rx=\"30.5947\" ry=\"18\" stroke=\"#000000\"/>\n<text fill=\"#000000\" font-family=\"Times,serif\" font-size=\"14.00\" text-anchor=\"middle\" x=\"336.3299\" y=\"-77.647\">BBN</text>\n</g>\n<!-- MIT&#45;&#45;BBN -->\n<g class=\"edge\" id=\"edge2\">\n<title>MIT--BBN</title>\n<path d=\"M354.3099,-188.51C350.3399,-164.87 343.3999,-123.47 339.3999,-99.642\" fill=\"none\" stroke=\"#000000\"/>\n</g>\n<!-- UTAH -->\n<g class=\"node\" id=\"node4\">\n<title>UTAH</title>\n<ellipse cx=\"248.8499\" cy=\"-255.75\" fill=\"none\" rx=\"36.5\" ry=\"18\" stroke=\"#000000\"/>\n<text fill=\"#000000\" font-family=\"Times,serif\" font-size=\"14.00\" text-anchor=\"middle\" x=\"248.8499\" y=\"-252.05\">UTAH</text>\n</g>\n<!-- MIT&#45;&#45;UTAH -->\n<g class=\"edge\" id=\"edge3\">\n<title>MIT--UTAH</title>\n<path d=\"M334.3199,-216.89C317.1499,-224.69 293.6599,-235.37 275.6499,-243.56\" fill=\"none\" stroke=\"#000000\"/>\n</g>\n<!-- CASE -->\n<g class=\"node\" id=\"node5\">\n<title>CASE</title>\n<ellipse cx=\"557.1799\" cy=\"-171.03\" fill=\"none\" rx=\"35.194\" ry=\"18\" stroke=\"#000000\"/>\n<text fill=\"#000000\" font-family=\"Times,serif\" font-size=\"14.00\" text-anchor=\"middle\" x=\"557.1799\" y=\"-167.33\">CASE</text>\n</g>\n<!-- LNC&#45;&#45;CASE -->\n<g class=\"edge\" id=\"edge4\">\n<title>LNC--CASE</title>\n<path d=\"M484.1599,-226.11C499.6499,-214.43 521.4299,-198 537.1699,-186.13\" fill=\"none\" stroke=\"#000000\"/>\n</g>\n<!-- HARV -->\n<g class=\"node\" id=\"node6\">\n<title>HARV</title>\n<ellipse cx=\"430.0099\" cy=\"-18\" fill=\"none\" rx=\"37.0935\" ry=\"18\" stroke=\"#000000\"/>\n<text fill=\"#000000\" font-family=\"Times,serif\" font-size=\"14.00\" text-anchor=\"middle\" x=\"430.0099\" y=\"-14.3\">HARV</text>\n</g>\n<!-- BBN&#45;&#45;HARV -->\n<g class=\"edge\" id=\"edge5\">\n<title>BBN--HARV</title>\n<path d=\"M356.6599,-67.601C371.8299,-57.34 392.5399,-43.335 408.0899,-32.823\" fill=\"none\" stroke=\"#000000\"/>\n</g>\n<!-- RAND -->\n<g class=\"node\" id=\"node7\">\n<title>RAND</title>\n<ellipse cx=\"216.3499\" cy=\"-69.436\" fill=\"none\" rx=\"37.8943\" ry=\"18\" stroke=\"#000000\"/>\n<text fill=\"#000000\" font-family=\"Times,serif\" font-size=\"14.00\" text-anchor=\"middle\" x=\"216.3499\" y=\"-65.736\">RAND</text>\n</g>\n<!-- BBN&#45;&#45;RAND -->\n<g class=\"edge\" id=\"edge6\">\n<title>BBN--RAND</title>\n<path d=\"M306.0499,-78.341C290.0899,-76.756 270.3699,-74.798 253.4799,-73.122\" fill=\"none\" stroke=\"#000000\"/>\n</g>\n<!-- SDC -->\n<g class=\"node\" id=\"node8\">\n<title>SDC</title>\n<ellipse cx=\"239.0999\" cy=\"-160.28\" fill=\"none\" rx=\"29.4969\" ry=\"18\" stroke=\"#000000\"/>\n<text fill=\"#000000\" font-family=\"Times,serif\" font-size=\"14.00\" text-anchor=\"middle\" x=\"239.0999\" y=\"-156.58\">SDC</text>\n</g>\n<!-- UTAH&#45;&#45;SDC -->\n<g class=\"edge\" id=\"edge7\">\n<title>UTAH--SDC</title>\n<path d=\"M246.9699,-237.34C245.2299,-220.33 242.6699,-195.2 240.9399,-178.31\" fill=\"none\" stroke=\"#000000\"/>\n</g>\n<!-- SRI -->\n<g class=\"node\" id=\"node9\">\n<title>SRI</title>\n<ellipse cx=\"133.3299\" cy=\"-233.36\" fill=\"none\" rx=\"27\" ry=\"18\" stroke=\"#000000\"/>\n<text fill=\"#000000\" font-family=\"Times,serif\" font-size=\"14.00\" text-anchor=\"middle\" x=\"133.3299\" y=\"-229.66\">SRI</text>\n</g>\n<!-- UTAH&#45;&#45;SRI -->\n<g class=\"edge\" id=\"edge8\">\n<title>UTAH--SRI</title>\n<path d=\"M214.8099,-249.15C197.1099,-245.72 175.8099,-241.59 159.4199,-238.42\" fill=\"none\" stroke=\"#000000\"/>\n</g>\n<!-- CARN -->\n<g class=\"node\" id=\"node10\">\n<title>CARN</title>\n<ellipse cx=\"538.9699\" cy=\"-56.885\" fill=\"none\" rx=\"37.0935\" ry=\"18\" stroke=\"#000000\"/>\n<text fill=\"#000000\" font-family=\"Times,serif\" font-size=\"14.00\" text-anchor=\"middle\" x=\"538.9699\" y=\"-53.185\">CARN</text>\n</g>\n<!-- CASE&#45;&#45;CARN -->\n<g class=\"edge\" id=\"edge9\">\n<title>CASE--CARN</title>\n<path d=\"M554.2999,-152.94C550.8899,-131.57 545.2399,-96.224 541.8399,-74.887\" fill=\"none\" stroke=\"#000000\"/>\n</g>\n<!-- RAND&#45;&#45;SDC -->\n<g class=\"edge\" id=\"edge10\">\n<title>RAND--SDC</title>\n<path d=\"M220.8499,-87.385C224.8399,-103.31 230.6299,-126.46 234.6199,-142.37\" fill=\"none\" stroke=\"#000000\"/>\n</g>\n<!-- UCLA -->\n<g class=\"node\" id=\"node11\">\n<title>UCLA</title>\n<ellipse cx=\"114.5999\" cy=\"-131.58\" fill=\"none\" rx=\"36.5\" ry=\"18\" stroke=\"#000000\"/>\n<text fill=\"#000000\" font-family=\"Times,serif\" font-size=\"14.00\" text-anchor=\"middle\" x=\"114.5999\" y=\"-127.88\">UCLA</text>\n</g>\n<!-- RAND&#45;&#45;UCLA -->\n<g class=\"edge\" id=\"edge11\">\n<title>RAND--UCLA</title>\n<path d=\"M193.0099,-83.692C176.4599,-93.797 154.3599,-107.3 137.8299,-117.39\" fill=\"none\" stroke=\"#000000\"/>\n</g>\n<!-- CARN&#45;&#45;HARV -->\n<g class=\"edge\" id=\"edge12\">\n<title>CARN--HARV</title>\n<path d=\"M508.9099,-46.156C493.6599,-40.716 475.1999,-34.129 459.9699,-28.693\" fill=\"none\" stroke=\"#000000\"/>\n</g>\n<!-- UCLA&#45;&#45;SRI -->\n<g class=\"edge\" id=\"edge13\">\n<title>UCLA--SRI</title>\n<path d=\"M117.9499,-149.77C121.3599,-168.3 126.6099,-196.85 130.0099,-215.32\" fill=\"none\" stroke=\"#000000\"/>\n</g>\n<!-- STAN -->\n<g class=\"node\" id=\"node12\">\n<title>STAN</title>\n<ellipse cx=\"35.0969\" cy=\"-152.01\" fill=\"none\" rx=\"35.194\" ry=\"18\" stroke=\"#000000\"/>\n<text fill=\"#000000\" font-family=\"Times,serif\" font-size=\"14.00\" text-anchor=\"middle\" x=\"35.0969\" y=\"-148.31\">STAN</text>\n</g>\n<!-- UCLA&#45;&#45;STAN -->\n<g class=\"edge\" id=\"edge14\">\n<title>UCLA--STAN</title>\n<path d=\"M82.2619,-139.89C77.1029,-141.21 71.7719,-142.59 66.6319,-143.91\" fill=\"none\" stroke=\"#000000\"/>\n</g>\n<!-- UCSB -->\n<g class=\"node\" id=\"node13\">\n<title>UCSB</title>\n<ellipse cx=\"52.9989\" cy=\"-245.23\" fill=\"none\" rx=\"35.9954\" ry=\"18\" stroke=\"#000000\"/>\n<text fill=\"#000000\" font-family=\"Times,serif\" font-size=\"14.00\" text-anchor=\"middle\" x=\"52.9989\" y=\"-241.53\">UCSB</text>\n</g>\n<!-- UCLA&#45;&#45;UCSB -->\n<g class=\"edge\" id=\"edge15\">\n<title>UCLA--UCSB</title>\n<path d=\"M104.9699,-149.33C93.4009,-170.69 74.0989,-206.3 62.5559,-227.6\" fill=\"none\" stroke=\"#000000\"/>\n</g>\n<!-- STAN&#45;&#45;SRI -->\n<g class=\"edge\" id=\"edge16\">\n<title>STAN--SRI</title>\n<path d=\"M54.0369,-167.7C71.9889,-182.56 98.7219,-204.7 116.0899,-219.09\" fill=\"none\" stroke=\"#000000\"/>\n</g>\n<!-- UCSB&#45;&#45;SRI -->\n<g class=\"edge\" id=\"edge17\">\n<title>UCSB--SRI</title>\n<path d=\"M87.5319,-240.13C93.9949,-239.17 100.6599,-238.19 106.8299,-237.28\" fill=\"none\" stroke=\"#000000\"/>\n</g>\n</g>\n</svg>"
          },
          "metadata": {}
        },
        {
          "output_type": "stream",
          "name": "stdout",
          "text": [
            "{'BBN': 0, 'RAND': 1, 'HARV': 1, 'MIT': 1, 'SDC': 2, 'UCLA': 2, 'CARN': 2, 'UTAH': 2, 'LNC': 2, 'STAN': 3, 'UCSB': 3, 'SRI': 3, 'CASE': 3}\n"
          ]
        },
        {
          "output_type": "execute_result",
          "data": {
            "text/plain": [
              "<IPython.core.display.HTML object>"
            ],
            "text/html": [
              "<h2 style='color: green;'>Correct</h2>"
            ]
          },
          "metadata": {},
          "execution_count": 16
        }
      ],
      "source": [
        "def bfs_distances(G, start):\n",
        "    ''' \n",
        "    breadth first search that calculates the distances from start node \n",
        "    The function returns a dictionary mapping node names to distances. \n",
        "    '''\n",
        "    visited, queue = dict(), [(start,0)]\n",
        "\n",
        "    # BEGIN SOLUTION\n",
        "    while queue:\n",
        "      elem = queue.pop(0)\n",
        "      vertex = elem[0]\n",
        "      dist = elem[1]\n",
        "      if vertex not in visited:\n",
        "        visited[vertex] = int(dist)\n",
        "        listAdded = [(x,int(dist) + 1)  for x in set(G[vertex]) - set(visited)]\n",
        "        queue.extend(listAdded)\n",
        "    # END SOLUTION\n",
        "    print(visited)\n",
        "    return visited\n",
        "\n",
        "# Check\n",
        "display(draw(F23))\n",
        "visits = bfs_distances(F23, 'BBN')\n",
        "answer('CASE' in visits and visits['CASE'] == 3)"
      ]
    },
    {
      "cell_type": "markdown",
      "metadata": {
        "id": "BuFT2cKFR80-"
      },
      "source": [
        "## Advanced Exercise: Distance Distribution                                                     <a id=\"chapter4\"></a>\n",
        "Let H be the distance between two randomly chosen connected nodes in a graph. \n",
        "\n",
        "* (a) Complete the function ``distanceDistribution`` to compute the smallest c such that P(H>c)<0.05 holds. \n",
        "* (b) What problems will you encounter if you want to use your proposed algorithm on a really large graph such as Facebook."
      ]
    },
    {
      "cell_type": "code",
      "execution_count": 18,
      "metadata": {
        "id": "Buteuls7R80-",
        "outputId": "2b5d77c5-7e9c-4eb6-ed63-251c436d0b81",
        "colab": {
          "base_uri": "https://localhost:8080/",
          "height": 462
        }
      },
      "outputs": [
        {
          "output_type": "display_data",
          "data": {
            "text/plain": [
              "<IPython.core.display.SVG object>"
            ],
            "image/svg+xml": "<svg height=\"282pt\" viewBox=\"0.00 0.00 600.28 281.75\" width=\"600pt\" xmlns=\"http://www.w3.org/2000/svg\" xmlns:xlink=\"http://www.w3.org/1999/xlink\">\n<g class=\"graph\" id=\"graph0\" transform=\"scale(1 1) rotate(0) translate(4 277.75)\">\n<polygon fill=\"#ffffff\" points=\"-4,4 -4,-277.75 596.2768,-277.75 596.2768,4 -4,4\" stroke=\"transparent\"/>\n<!-- MIT -->\n<g class=\"node\" id=\"node1\">\n<title>MIT</title>\n<ellipse cx=\"357.3199\" cy=\"-206.43\" fill=\"none\" rx=\"28\" ry=\"18\" stroke=\"#000000\"/>\n<text fill=\"#000000\" font-family=\"Times,serif\" font-size=\"14.00\" text-anchor=\"middle\" x=\"357.3199\" y=\"-202.73\">MIT</text>\n</g>\n<!-- LNC -->\n<g class=\"node\" id=\"node2\">\n<title>LNC</title>\n<ellipse cx=\"465.0799\" cy=\"-240.5\" fill=\"none\" rx=\"30\" ry=\"18\" stroke=\"#000000\"/>\n<text fill=\"#000000\" font-family=\"Times,serif\" font-size=\"14.00\" text-anchor=\"middle\" x=\"465.0799\" y=\"-236.8\">LNC</text>\n</g>\n<!-- MIT&#45;&#45;LNC -->\n<g class=\"edge\" id=\"edge1\">\n<title>MIT--LNC</title>\n<path d=\"M382.5799,-214.42C399.3799,-219.73 421.3999,-226.69 438.4699,-232.09\" fill=\"none\" stroke=\"#000000\"/>\n</g>\n<!-- BBN -->\n<g class=\"node\" id=\"node3\">\n<title>BBN</title>\n<ellipse cx=\"336.3299\" cy=\"-81.347\" fill=\"none\" rx=\"30.5947\" ry=\"18\" stroke=\"#000000\"/>\n<text fill=\"#000000\" font-family=\"Times,serif\" font-size=\"14.00\" text-anchor=\"middle\" x=\"336.3299\" y=\"-77.647\">BBN</text>\n</g>\n<!-- MIT&#45;&#45;BBN -->\n<g class=\"edge\" id=\"edge2\">\n<title>MIT--BBN</title>\n<path d=\"M354.3099,-188.51C350.3399,-164.87 343.3999,-123.47 339.3999,-99.642\" fill=\"none\" stroke=\"#000000\"/>\n</g>\n<!-- UTAH -->\n<g class=\"node\" id=\"node4\">\n<title>UTAH</title>\n<ellipse cx=\"248.8499\" cy=\"-255.75\" fill=\"none\" rx=\"36.5\" ry=\"18\" stroke=\"#000000\"/>\n<text fill=\"#000000\" font-family=\"Times,serif\" font-size=\"14.00\" text-anchor=\"middle\" x=\"248.8499\" y=\"-252.05\">UTAH</text>\n</g>\n<!-- MIT&#45;&#45;UTAH -->\n<g class=\"edge\" id=\"edge3\">\n<title>MIT--UTAH</title>\n<path d=\"M334.3199,-216.89C317.1499,-224.69 293.6599,-235.37 275.6499,-243.56\" fill=\"none\" stroke=\"#000000\"/>\n</g>\n<!-- CASE -->\n<g class=\"node\" id=\"node5\">\n<title>CASE</title>\n<ellipse cx=\"557.1799\" cy=\"-171.03\" fill=\"none\" rx=\"35.194\" ry=\"18\" stroke=\"#000000\"/>\n<text fill=\"#000000\" font-family=\"Times,serif\" font-size=\"14.00\" text-anchor=\"middle\" x=\"557.1799\" y=\"-167.33\">CASE</text>\n</g>\n<!-- LNC&#45;&#45;CASE -->\n<g class=\"edge\" id=\"edge4\">\n<title>LNC--CASE</title>\n<path d=\"M484.1599,-226.11C499.6499,-214.43 521.4299,-198 537.1699,-186.13\" fill=\"none\" stroke=\"#000000\"/>\n</g>\n<!-- HARV -->\n<g class=\"node\" id=\"node6\">\n<title>HARV</title>\n<ellipse cx=\"430.0099\" cy=\"-18\" fill=\"none\" rx=\"37.0935\" ry=\"18\" stroke=\"#000000\"/>\n<text fill=\"#000000\" font-family=\"Times,serif\" font-size=\"14.00\" text-anchor=\"middle\" x=\"430.0099\" y=\"-14.3\">HARV</text>\n</g>\n<!-- BBN&#45;&#45;HARV -->\n<g class=\"edge\" id=\"edge5\">\n<title>BBN--HARV</title>\n<path d=\"M356.6599,-67.601C371.8299,-57.34 392.5399,-43.335 408.0899,-32.823\" fill=\"none\" stroke=\"#000000\"/>\n</g>\n<!-- RAND -->\n<g class=\"node\" id=\"node7\">\n<title>RAND</title>\n<ellipse cx=\"216.3499\" cy=\"-69.436\" fill=\"none\" rx=\"37.8943\" ry=\"18\" stroke=\"#000000\"/>\n<text fill=\"#000000\" font-family=\"Times,serif\" font-size=\"14.00\" text-anchor=\"middle\" x=\"216.3499\" y=\"-65.736\">RAND</text>\n</g>\n<!-- BBN&#45;&#45;RAND -->\n<g class=\"edge\" id=\"edge6\">\n<title>BBN--RAND</title>\n<path d=\"M306.0499,-78.341C290.0899,-76.756 270.3699,-74.798 253.4799,-73.122\" fill=\"none\" stroke=\"#000000\"/>\n</g>\n<!-- SDC -->\n<g class=\"node\" id=\"node8\">\n<title>SDC</title>\n<ellipse cx=\"239.0999\" cy=\"-160.28\" fill=\"none\" rx=\"29.4969\" ry=\"18\" stroke=\"#000000\"/>\n<text fill=\"#000000\" font-family=\"Times,serif\" font-size=\"14.00\" text-anchor=\"middle\" x=\"239.0999\" y=\"-156.58\">SDC</text>\n</g>\n<!-- UTAH&#45;&#45;SDC -->\n<g class=\"edge\" id=\"edge7\">\n<title>UTAH--SDC</title>\n<path d=\"M246.9699,-237.34C245.2299,-220.33 242.6699,-195.2 240.9399,-178.31\" fill=\"none\" stroke=\"#000000\"/>\n</g>\n<!-- SRI -->\n<g class=\"node\" id=\"node9\">\n<title>SRI</title>\n<ellipse cx=\"133.3299\" cy=\"-233.36\" fill=\"none\" rx=\"27\" ry=\"18\" stroke=\"#000000\"/>\n<text fill=\"#000000\" font-family=\"Times,serif\" font-size=\"14.00\" text-anchor=\"middle\" x=\"133.3299\" y=\"-229.66\">SRI</text>\n</g>\n<!-- UTAH&#45;&#45;SRI -->\n<g class=\"edge\" id=\"edge8\">\n<title>UTAH--SRI</title>\n<path d=\"M214.8099,-249.15C197.1099,-245.72 175.8099,-241.59 159.4199,-238.42\" fill=\"none\" stroke=\"#000000\"/>\n</g>\n<!-- CARN -->\n<g class=\"node\" id=\"node10\">\n<title>CARN</title>\n<ellipse cx=\"538.9699\" cy=\"-56.885\" fill=\"none\" rx=\"37.0935\" ry=\"18\" stroke=\"#000000\"/>\n<text fill=\"#000000\" font-family=\"Times,serif\" font-size=\"14.00\" text-anchor=\"middle\" x=\"538.9699\" y=\"-53.185\">CARN</text>\n</g>\n<!-- CASE&#45;&#45;CARN -->\n<g class=\"edge\" id=\"edge9\">\n<title>CASE--CARN</title>\n<path d=\"M554.2999,-152.94C550.8899,-131.57 545.2399,-96.224 541.8399,-74.887\" fill=\"none\" stroke=\"#000000\"/>\n</g>\n<!-- RAND&#45;&#45;SDC -->\n<g class=\"edge\" id=\"edge10\">\n<title>RAND--SDC</title>\n<path d=\"M220.8499,-87.385C224.8399,-103.31 230.6299,-126.46 234.6199,-142.37\" fill=\"none\" stroke=\"#000000\"/>\n</g>\n<!-- UCLA -->\n<g class=\"node\" id=\"node11\">\n<title>UCLA</title>\n<ellipse cx=\"114.5999\" cy=\"-131.58\" fill=\"none\" rx=\"36.5\" ry=\"18\" stroke=\"#000000\"/>\n<text fill=\"#000000\" font-family=\"Times,serif\" font-size=\"14.00\" text-anchor=\"middle\" x=\"114.5999\" y=\"-127.88\">UCLA</text>\n</g>\n<!-- RAND&#45;&#45;UCLA -->\n<g class=\"edge\" id=\"edge11\">\n<title>RAND--UCLA</title>\n<path d=\"M193.0099,-83.692C176.4599,-93.797 154.3599,-107.3 137.8299,-117.39\" fill=\"none\" stroke=\"#000000\"/>\n</g>\n<!-- CARN&#45;&#45;HARV -->\n<g class=\"edge\" id=\"edge12\">\n<title>CARN--HARV</title>\n<path d=\"M508.9099,-46.156C493.6599,-40.716 475.1999,-34.129 459.9699,-28.693\" fill=\"none\" stroke=\"#000000\"/>\n</g>\n<!-- UCLA&#45;&#45;SRI -->\n<g class=\"edge\" id=\"edge13\">\n<title>UCLA--SRI</title>\n<path d=\"M117.9499,-149.77C121.3599,-168.3 126.6099,-196.85 130.0099,-215.32\" fill=\"none\" stroke=\"#000000\"/>\n</g>\n<!-- STAN -->\n<g class=\"node\" id=\"node12\">\n<title>STAN</title>\n<ellipse cx=\"35.0969\" cy=\"-152.01\" fill=\"none\" rx=\"35.194\" ry=\"18\" stroke=\"#000000\"/>\n<text fill=\"#000000\" font-family=\"Times,serif\" font-size=\"14.00\" text-anchor=\"middle\" x=\"35.0969\" y=\"-148.31\">STAN</text>\n</g>\n<!-- UCLA&#45;&#45;STAN -->\n<g class=\"edge\" id=\"edge14\">\n<title>UCLA--STAN</title>\n<path d=\"M82.2619,-139.89C77.1029,-141.21 71.7719,-142.59 66.6319,-143.91\" fill=\"none\" stroke=\"#000000\"/>\n</g>\n<!-- UCSB -->\n<g class=\"node\" id=\"node13\">\n<title>UCSB</title>\n<ellipse cx=\"52.9989\" cy=\"-245.23\" fill=\"none\" rx=\"35.9954\" ry=\"18\" stroke=\"#000000\"/>\n<text fill=\"#000000\" font-family=\"Times,serif\" font-size=\"14.00\" text-anchor=\"middle\" x=\"52.9989\" y=\"-241.53\">UCSB</text>\n</g>\n<!-- UCLA&#45;&#45;UCSB -->\n<g class=\"edge\" id=\"edge15\">\n<title>UCLA--UCSB</title>\n<path d=\"M104.9699,-149.33C93.4009,-170.69 74.0989,-206.3 62.5559,-227.6\" fill=\"none\" stroke=\"#000000\"/>\n</g>\n<!-- STAN&#45;&#45;SRI -->\n<g class=\"edge\" id=\"edge16\">\n<title>STAN--SRI</title>\n<path d=\"M54.0369,-167.7C71.9889,-182.56 98.7219,-204.7 116.0899,-219.09\" fill=\"none\" stroke=\"#000000\"/>\n</g>\n<!-- UCSB&#45;&#45;SRI -->\n<g class=\"edge\" id=\"edge17\">\n<title>UCSB--SRI</title>\n<path d=\"M87.5319,-240.13C93.9949,-239.17 100.6599,-238.19 106.8299,-237.28\" fill=\"none\" stroke=\"#000000\"/>\n</g>\n</g>\n</svg>"
          },
          "metadata": {}
        },
        {
          "output_type": "stream",
          "name": "stdout",
          "text": [
            "0\n"
          ]
        },
        {
          "output_type": "execute_result",
          "data": {
            "text/plain": [
              "<IPython.core.display.HTML object>"
            ],
            "text/html": [
              "<h2 style='color: red;'>Incorrect</h2>"
            ]
          },
          "metadata": {},
          "execution_count": 18
        }
      ],
      "source": [
        "def distanceDistribution(G):\n",
        "    '''\n",
        "    Your task\n",
        "    '''\n",
        "    c = 0\n",
        "    # BEGIN SOLUTION\n",
        "    return 0  # remove me\n",
        "    # END SOLUTION\n",
        "    return l[0][0]+1\n",
        "\n",
        "# Check\n",
        "dist = distanceDistribution(F23)\n",
        "display(draw(F23))\n",
        "print(dist)\n",
        "answer(dist == 5)"
      ]
    },
    {
      "cell_type": "markdown",
      "metadata": {
        "id": "u9wsXM0QR80_"
      },
      "source": [
        "** Answer (b) **: *Add your answer here*"
      ]
    },
    {
      "cell_type": "markdown",
      "metadata": {
        "id": "iexZlleIR81A"
      },
      "source": [
        "## Advanced Exercise: Paths Between Nodes                                                     <a id=\"chapter5\"></a>\n",
        "\n",
        "Complete the function ``bfs_paths`` that returns all possible paths in graph 'G' between node 'start' and node 'end'."
      ]
    },
    {
      "cell_type": "code",
      "execution_count": 43,
      "metadata": {
        "id": "eAvcWSHBR81A",
        "outputId": "aed309c7-bdc6-46a1-cb0f-493d396b21f0",
        "colab": {
          "base_uri": "https://localhost:8080/",
          "height": 462
        }
      },
      "outputs": [
        {
          "output_type": "display_data",
          "data": {
            "text/plain": [
              "<IPython.core.display.SVG object>"
            ],
            "image/svg+xml": "<svg height=\"282pt\" viewBox=\"0.00 0.00 600.28 281.75\" width=\"600pt\" xmlns=\"http://www.w3.org/2000/svg\" xmlns:xlink=\"http://www.w3.org/1999/xlink\">\n<g class=\"graph\" id=\"graph0\" transform=\"scale(1 1) rotate(0) translate(4 277.75)\">\n<polygon fill=\"#ffffff\" points=\"-4,4 -4,-277.75 596.2768,-277.75 596.2768,4 -4,4\" stroke=\"transparent\"/>\n<!-- MIT -->\n<g class=\"node\" id=\"node1\">\n<title>MIT</title>\n<ellipse cx=\"357.3199\" cy=\"-206.43\" fill=\"none\" rx=\"28\" ry=\"18\" stroke=\"#000000\"/>\n<text fill=\"#000000\" font-family=\"Times,serif\" font-size=\"14.00\" text-anchor=\"middle\" x=\"357.3199\" y=\"-202.73\">MIT</text>\n</g>\n<!-- LNC -->\n<g class=\"node\" id=\"node2\">\n<title>LNC</title>\n<ellipse cx=\"465.0799\" cy=\"-240.5\" fill=\"none\" rx=\"30\" ry=\"18\" stroke=\"#000000\"/>\n<text fill=\"#000000\" font-family=\"Times,serif\" font-size=\"14.00\" text-anchor=\"middle\" x=\"465.0799\" y=\"-236.8\">LNC</text>\n</g>\n<!-- MIT&#45;&#45;LNC -->\n<g class=\"edge\" id=\"edge1\">\n<title>MIT--LNC</title>\n<path d=\"M382.5799,-214.42C399.3799,-219.73 421.3999,-226.69 438.4699,-232.09\" fill=\"none\" stroke=\"#000000\"/>\n</g>\n<!-- BBN -->\n<g class=\"node\" id=\"node3\">\n<title>BBN</title>\n<ellipse cx=\"336.3299\" cy=\"-81.347\" fill=\"none\" rx=\"30.5947\" ry=\"18\" stroke=\"#000000\"/>\n<text fill=\"#000000\" font-family=\"Times,serif\" font-size=\"14.00\" text-anchor=\"middle\" x=\"336.3299\" y=\"-77.647\">BBN</text>\n</g>\n<!-- MIT&#45;&#45;BBN -->\n<g class=\"edge\" id=\"edge2\">\n<title>MIT--BBN</title>\n<path d=\"M354.3099,-188.51C350.3399,-164.87 343.3999,-123.47 339.3999,-99.642\" fill=\"none\" stroke=\"#000000\"/>\n</g>\n<!-- UTAH -->\n<g class=\"node\" id=\"node4\">\n<title>UTAH</title>\n<ellipse cx=\"248.8499\" cy=\"-255.75\" fill=\"none\" rx=\"36.5\" ry=\"18\" stroke=\"#000000\"/>\n<text fill=\"#000000\" font-family=\"Times,serif\" font-size=\"14.00\" text-anchor=\"middle\" x=\"248.8499\" y=\"-252.05\">UTAH</text>\n</g>\n<!-- MIT&#45;&#45;UTAH -->\n<g class=\"edge\" id=\"edge3\">\n<title>MIT--UTAH</title>\n<path d=\"M334.3199,-216.89C317.1499,-224.69 293.6599,-235.37 275.6499,-243.56\" fill=\"none\" stroke=\"#000000\"/>\n</g>\n<!-- CASE -->\n<g class=\"node\" id=\"node5\">\n<title>CASE</title>\n<ellipse cx=\"557.1799\" cy=\"-171.03\" fill=\"none\" rx=\"35.194\" ry=\"18\" stroke=\"#000000\"/>\n<text fill=\"#000000\" font-family=\"Times,serif\" font-size=\"14.00\" text-anchor=\"middle\" x=\"557.1799\" y=\"-167.33\">CASE</text>\n</g>\n<!-- LNC&#45;&#45;CASE -->\n<g class=\"edge\" id=\"edge4\">\n<title>LNC--CASE</title>\n<path d=\"M484.1599,-226.11C499.6499,-214.43 521.4299,-198 537.1699,-186.13\" fill=\"none\" stroke=\"#000000\"/>\n</g>\n<!-- HARV -->\n<g class=\"node\" id=\"node6\">\n<title>HARV</title>\n<ellipse cx=\"430.0099\" cy=\"-18\" fill=\"none\" rx=\"37.0935\" ry=\"18\" stroke=\"#000000\"/>\n<text fill=\"#000000\" font-family=\"Times,serif\" font-size=\"14.00\" text-anchor=\"middle\" x=\"430.0099\" y=\"-14.3\">HARV</text>\n</g>\n<!-- BBN&#45;&#45;HARV -->\n<g class=\"edge\" id=\"edge5\">\n<title>BBN--HARV</title>\n<path d=\"M356.6599,-67.601C371.8299,-57.34 392.5399,-43.335 408.0899,-32.823\" fill=\"none\" stroke=\"#000000\"/>\n</g>\n<!-- RAND -->\n<g class=\"node\" id=\"node7\">\n<title>RAND</title>\n<ellipse cx=\"216.3499\" cy=\"-69.436\" fill=\"none\" rx=\"37.8943\" ry=\"18\" stroke=\"#000000\"/>\n<text fill=\"#000000\" font-family=\"Times,serif\" font-size=\"14.00\" text-anchor=\"middle\" x=\"216.3499\" y=\"-65.736\">RAND</text>\n</g>\n<!-- BBN&#45;&#45;RAND -->\n<g class=\"edge\" id=\"edge6\">\n<title>BBN--RAND</title>\n<path d=\"M306.0499,-78.341C290.0899,-76.756 270.3699,-74.798 253.4799,-73.122\" fill=\"none\" stroke=\"#000000\"/>\n</g>\n<!-- SDC -->\n<g class=\"node\" id=\"node8\">\n<title>SDC</title>\n<ellipse cx=\"239.0999\" cy=\"-160.28\" fill=\"none\" rx=\"29.4969\" ry=\"18\" stroke=\"#000000\"/>\n<text fill=\"#000000\" font-family=\"Times,serif\" font-size=\"14.00\" text-anchor=\"middle\" x=\"239.0999\" y=\"-156.58\">SDC</text>\n</g>\n<!-- UTAH&#45;&#45;SDC -->\n<g class=\"edge\" id=\"edge7\">\n<title>UTAH--SDC</title>\n<path d=\"M246.9699,-237.34C245.2299,-220.33 242.6699,-195.2 240.9399,-178.31\" fill=\"none\" stroke=\"#000000\"/>\n</g>\n<!-- SRI -->\n<g class=\"node\" id=\"node9\">\n<title>SRI</title>\n<ellipse cx=\"133.3299\" cy=\"-233.36\" fill=\"none\" rx=\"27\" ry=\"18\" stroke=\"#000000\"/>\n<text fill=\"#000000\" font-family=\"Times,serif\" font-size=\"14.00\" text-anchor=\"middle\" x=\"133.3299\" y=\"-229.66\">SRI</text>\n</g>\n<!-- UTAH&#45;&#45;SRI -->\n<g class=\"edge\" id=\"edge8\">\n<title>UTAH--SRI</title>\n<path d=\"M214.8099,-249.15C197.1099,-245.72 175.8099,-241.59 159.4199,-238.42\" fill=\"none\" stroke=\"#000000\"/>\n</g>\n<!-- CARN -->\n<g class=\"node\" id=\"node10\">\n<title>CARN</title>\n<ellipse cx=\"538.9699\" cy=\"-56.885\" fill=\"none\" rx=\"37.0935\" ry=\"18\" stroke=\"#000000\"/>\n<text fill=\"#000000\" font-family=\"Times,serif\" font-size=\"14.00\" text-anchor=\"middle\" x=\"538.9699\" y=\"-53.185\">CARN</text>\n</g>\n<!-- CASE&#45;&#45;CARN -->\n<g class=\"edge\" id=\"edge9\">\n<title>CASE--CARN</title>\n<path d=\"M554.2999,-152.94C550.8899,-131.57 545.2399,-96.224 541.8399,-74.887\" fill=\"none\" stroke=\"#000000\"/>\n</g>\n<!-- RAND&#45;&#45;SDC -->\n<g class=\"edge\" id=\"edge10\">\n<title>RAND--SDC</title>\n<path d=\"M220.8499,-87.385C224.8399,-103.31 230.6299,-126.46 234.6199,-142.37\" fill=\"none\" stroke=\"#000000\"/>\n</g>\n<!-- UCLA -->\n<g class=\"node\" id=\"node11\">\n<title>UCLA</title>\n<ellipse cx=\"114.5999\" cy=\"-131.58\" fill=\"none\" rx=\"36.5\" ry=\"18\" stroke=\"#000000\"/>\n<text fill=\"#000000\" font-family=\"Times,serif\" font-size=\"14.00\" text-anchor=\"middle\" x=\"114.5999\" y=\"-127.88\">UCLA</text>\n</g>\n<!-- RAND&#45;&#45;UCLA -->\n<g class=\"edge\" id=\"edge11\">\n<title>RAND--UCLA</title>\n<path d=\"M193.0099,-83.692C176.4599,-93.797 154.3599,-107.3 137.8299,-117.39\" fill=\"none\" stroke=\"#000000\"/>\n</g>\n<!-- CARN&#45;&#45;HARV -->\n<g class=\"edge\" id=\"edge12\">\n<title>CARN--HARV</title>\n<path d=\"M508.9099,-46.156C493.6599,-40.716 475.1999,-34.129 459.9699,-28.693\" fill=\"none\" stroke=\"#000000\"/>\n</g>\n<!-- UCLA&#45;&#45;SRI -->\n<g class=\"edge\" id=\"edge13\">\n<title>UCLA--SRI</title>\n<path d=\"M117.9499,-149.77C121.3599,-168.3 126.6099,-196.85 130.0099,-215.32\" fill=\"none\" stroke=\"#000000\"/>\n</g>\n<!-- STAN -->\n<g class=\"node\" id=\"node12\">\n<title>STAN</title>\n<ellipse cx=\"35.0969\" cy=\"-152.01\" fill=\"none\" rx=\"35.194\" ry=\"18\" stroke=\"#000000\"/>\n<text fill=\"#000000\" font-family=\"Times,serif\" font-size=\"14.00\" text-anchor=\"middle\" x=\"35.0969\" y=\"-148.31\">STAN</text>\n</g>\n<!-- UCLA&#45;&#45;STAN -->\n<g class=\"edge\" id=\"edge14\">\n<title>UCLA--STAN</title>\n<path d=\"M82.2619,-139.89C77.1029,-141.21 71.7719,-142.59 66.6319,-143.91\" fill=\"none\" stroke=\"#000000\"/>\n</g>\n<!-- UCSB -->\n<g class=\"node\" id=\"node13\">\n<title>UCSB</title>\n<ellipse cx=\"52.9989\" cy=\"-245.23\" fill=\"none\" rx=\"35.9954\" ry=\"18\" stroke=\"#000000\"/>\n<text fill=\"#000000\" font-family=\"Times,serif\" font-size=\"14.00\" text-anchor=\"middle\" x=\"52.9989\" y=\"-241.53\">UCSB</text>\n</g>\n<!-- UCLA&#45;&#45;UCSB -->\n<g class=\"edge\" id=\"edge15\">\n<title>UCLA--UCSB</title>\n<path d=\"M104.9699,-149.33C93.4009,-170.69 74.0989,-206.3 62.5559,-227.6\" fill=\"none\" stroke=\"#000000\"/>\n</g>\n<!-- STAN&#45;&#45;SRI -->\n<g class=\"edge\" id=\"edge16\">\n<title>STAN--SRI</title>\n<path d=\"M54.0369,-167.7C71.9889,-182.56 98.7219,-204.7 116.0899,-219.09\" fill=\"none\" stroke=\"#000000\"/>\n</g>\n<!-- UCSB&#45;&#45;SRI -->\n<g class=\"edge\" id=\"edge17\">\n<title>UCSB--SRI</title>\n<path d=\"M87.5319,-240.13C93.9949,-239.17 100.6599,-238.19 106.8299,-237.28\" fill=\"none\" stroke=\"#000000\"/>\n</g>\n</g>\n</svg>"
          },
          "metadata": {}
        },
        {
          "output_type": "stream",
          "name": "stdout",
          "text": [
            "24\n"
          ]
        },
        {
          "output_type": "execute_result",
          "data": {
            "text/plain": [
              "<IPython.core.display.HTML object>"
            ],
            "text/html": [
              "<h2 style='color: green;'>Correct</h2>"
            ]
          },
          "metadata": {},
          "execution_count": 43
        }
      ],
      "source": [
        "def bfs_paths(G, start, end):\n",
        "    '''\n",
        "    calculates all paths from start to end\n",
        "    '''\n",
        "    paths = []\n",
        "    # BEGIN SOLUTION\n",
        "    queue = [[start]]\n",
        "    while queue != []:\n",
        "      currentPath = queue.pop(0)\n",
        "      # print(queue)\n",
        "      if currentPath[-1] == end:\n",
        "        paths.append(currentPath)\n",
        "      else:\n",
        "        newNeigh = set(G[currentPath[-1]]) - set(currentPath)\n",
        "        # print(newNeigh)\n",
        "        for unvisited in newNeigh:\n",
        "          # hardcopy!\n",
        "          newPath = currentPath[:]\n",
        "          newPath.append(unvisited)\n",
        "          # print(currentPath)\n",
        "          # print(newPath)\n",
        "          queue.append(newPath)\n",
        "\n",
        "    # END SOLUTION\n",
        "    return paths\n",
        "\n",
        "# Check\n",
        "''' get all paths from 'CARN' to 'UCSB' '''\n",
        "display(draw(F23))\n",
        "paths = bfs_paths(F23, 'CARN', 'UCSB')\n",
        "print(len(paths))\n",
        "answer(len(paths) == 24)"
      ]
    },
    {
      "cell_type": "markdown",
      "metadata": {
        "id": "OXlwO6MGR81A"
      },
      "source": [
        "## Exercise: Connected Components                                                     <a id=\"chapter6\"></a>\n",
        "\n",
        "* Complete the function ``connected_components`` that returns a list of connected components, which are presented by the lists of its nodes. \n"
      ]
    },
    {
      "cell_type": "code",
      "execution_count": 54,
      "metadata": {
        "id": "hDG58ZlYR81A",
        "outputId": "efdb7333-dac7-4445-80d2-307e1b7bd7d1",
        "colab": {
          "base_uri": "https://localhost:8080/",
          "height": 82
        }
      },
      "outputs": [
        {
          "output_type": "stream",
          "name": "stdout",
          "text": [
            "[['BBN', 'CARN', 'CASE', 'HARV', 'LNC', 'MIT', 'RAND', 'SDC', 'SRI', 'STAN', 'UCLA', 'UCSB', 'UTAH']]\n"
          ]
        },
        {
          "output_type": "execute_result",
          "data": {
            "text/plain": [
              "<IPython.core.display.HTML object>"
            ],
            "text/html": [
              "<h2 style='color: green;'>Correct</h2>"
            ]
          },
          "metadata": {},
          "execution_count": 54
        }
      ],
      "source": [
        "def connected_components(G):\n",
        "    ''' \n",
        "    outputs an list of connectected components (represented by a list of component members)\n",
        "    '''\n",
        "    components = []\n",
        "    # BEGIN SOLUTION \n",
        "    unvisited = list(G.nodes())\n",
        "    while unvisited:\n",
        "      firstNode = unvisited.pop(0)\n",
        "      component = [firstNode]\n",
        "      queue = [firstNode]\n",
        "      while queue:\n",
        "        checkNode = queue.pop(0)\n",
        "        for node in set(G[checkNode]) and set(unvisited):\n",
        "          unvisited.remove(node)\n",
        "          component.append(node)\n",
        "      component.sort()\n",
        "      components.append(component)\n",
        "\n",
        "    # END SOLUTION\n",
        "    print(components)\n",
        "    return components\n",
        "\n",
        "# Check\n",
        "s = connected_components(F23)\n",
        "answer(s == [['BBN', 'CARN', 'CASE', 'HARV', 'LNC', 'MIT', 'RAND', 'SDC', 'SRI', 'STAN', 'UCLA', 'UCSB', 'UTAH']])"
      ]
    },
    {
      "cell_type": "markdown",
      "metadata": {
        "id": "sDYDzExkR81B"
      },
      "source": [
        "## Exercise 2.1: Pivotal                                                   <a id=\"chapter7\"></a>\n",
        "\n",
        "* a) Give an example of a graph in which every node is pivotal for at least one pair of nodes. Explain your answer."
      ]
    },
    {
      "cell_type": "code",
      "execution_count": 95,
      "metadata": {
        "id": "ED4CmZunR81B",
        "outputId": "8dd0a697-61ab-4a7a-baee-3d48f3e80d6f",
        "colab": {
          "base_uri": "https://localhost:8080/",
          "height": 235
        }
      },
      "outputs": [
        {
          "output_type": "display_data",
          "data": {
            "text/plain": [
              "<IPython.core.display.SVG object>"
            ],
            "image/svg+xml": "<svg height=\"161pt\" viewBox=\"0.00 0.00 183.63 160.68\" width=\"184pt\" xmlns=\"http://www.w3.org/2000/svg\" xmlns:xlink=\"http://www.w3.org/1999/xlink\">\n<g class=\"graph\" id=\"graph0\" transform=\"scale(1 1) rotate(0) translate(4 156.68)\">\n<title>A</title>\n<polygon fill=\"#ffffff\" points=\"-4,4 -4,-156.68 179.63,-156.68 179.63,4 -4,4\" stroke=\"transparent\"/>\n<!-- A -->\n<g class=\"node\" id=\"node1\">\n<title>A</title>\n<ellipse cx=\"27\" cy=\"-60.506\" fill=\"none\" rx=\"27\" ry=\"18\" stroke=\"#000000\"/>\n<text fill=\"#000000\" font-family=\"Times,serif\" font-size=\"14.00\" text-anchor=\"middle\" x=\"27\" y=\"-56.806\">A</text>\n</g>\n<!-- B -->\n<g class=\"node\" id=\"node2\">\n<title>B</title>\n<ellipse cx=\"48.479\" cy=\"-132.56\" fill=\"none\" rx=\"27\" ry=\"18\" stroke=\"#000000\"/>\n<text fill=\"#000000\" font-family=\"Times,serif\" font-size=\"14.00\" text-anchor=\"middle\" x=\"48.479\" y=\"-128.86\">B</text>\n</g>\n<!-- A&#45;&#45;B -->\n<g class=\"edge\" id=\"edge1\">\n<title>A--B</title>\n<path d=\"M32.309,-78.318C35.614,-89.404 39.849,-103.61 43.156,-114.71\" fill=\"none\" stroke=\"#000000\"/>\n</g>\n<!-- E -->\n<g class=\"node\" id=\"node3\">\n<title>E</title>\n<ellipse cx=\"89.006\" cy=\"-18\" fill=\"none\" rx=\"27\" ry=\"18\" stroke=\"#000000\"/>\n<text fill=\"#000000\" font-family=\"Times,serif\" font-size=\"14.00\" text-anchor=\"middle\" x=\"89.006\" y=\"-14.3\">E</text>\n</g>\n<!-- A&#45;&#45;E -->\n<g class=\"edge\" id=\"edge2\">\n<title>A--E</title>\n<path d=\"M45.941,-47.522C53.634,-42.248 62.5,-36.17 70.181,-30.905\" fill=\"none\" stroke=\"#000000\"/>\n</g>\n<!-- C -->\n<g class=\"node\" id=\"node4\">\n<title>C</title>\n<ellipse cx=\"123.63\" cy=\"-134.68\" fill=\"none\" rx=\"27\" ry=\"18\" stroke=\"#000000\"/>\n<text fill=\"#000000\" font-family=\"Times,serif\" font-size=\"14.00\" text-anchor=\"middle\" x=\"123.63\" y=\"-130.98\">C</text>\n</g>\n<!-- B&#45;&#45;C -->\n<g class=\"edge\" id=\"edge3\">\n<title>B--C</title>\n<path d=\"M75.609,-133.33C82.419,-133.52 89.727,-133.72 96.536,-133.91\" fill=\"none\" stroke=\"#000000\"/>\n</g>\n<!-- D -->\n<g class=\"node\" id=\"node5\">\n<title>D</title>\n<ellipse cx=\"148.63\" cy=\"-63.8\" fill=\"none\" rx=\"27\" ry=\"18\" stroke=\"#000000\"/>\n<text fill=\"#000000\" font-family=\"Times,serif\" font-size=\"14.00\" text-anchor=\"middle\" x=\"148.63\" y=\"-60.1\">D</text>\n</g>\n<!-- C&#45;&#45;D -->\n<g class=\"edge\" id=\"edge4\">\n<title>C--D</title>\n<path d=\"M129.94,-116.79C133.76,-105.96 138.61,-92.214 142.41,-81.433\" fill=\"none\" stroke=\"#000000\"/>\n</g>\n<!-- D&#45;&#45;E -->\n<g class=\"edge\" id=\"edge5\">\n<title>D--E</title>\n<path d=\"M130.74,-50.058C123.2,-44.262 114.43,-37.527 106.88,-31.732\" fill=\"none\" stroke=\"#000000\"/>\n</g>\n</g>\n</svg>"
          },
          "metadata": {}
        }
      ],
      "source": [
        "# a)\n",
        "#We say that a node X is pivotal for a pair of distinct nodes\n",
        "# Y and Z if X lies on every shortest path between Y and Z (and X is not equal to\n",
        "# either Y or Z).\n",
        "\n",
        "Answer = fromDot('''\n",
        "strict graph A {\n",
        "# BEGIN SOLUTION\n",
        "  A -- B -- C -- D -- E -- A\n",
        "\n",
        "# END SOLUTION\n",
        "}\n",
        "''')\n",
        "display(draw(Answer))"
      ]
    },
    {
      "cell_type": "markdown",
      "metadata": {
        "id": "A4OamQvAR81B"
      },
      "source": [
        "**Explanation a:** just because"
      ]
    },
    {
      "cell_type": "markdown",
      "metadata": {
        "id": "y-fQpdyxR81B"
      },
      "source": [
        "* b) Give an example of a graph in which every node is pivotal for at least two different pairs of nodes. Explain your answer. "
      ]
    },
    {
      "cell_type": "code",
      "execution_count": 94,
      "metadata": {
        "id": "ob346HwYR81B",
        "outputId": "01b42742-6606-4b46-a20b-360c8d4ab0bf",
        "colab": {
          "base_uri": "https://localhost:8080/",
          "height": 281
        }
      },
      "outputs": [
        {
          "output_type": "display_data",
          "data": {
            "text/plain": [
              "<IPython.core.display.SVG object>"
            ],
            "image/svg+xml": "<svg height=\"195pt\" viewBox=\"0.00 0.00 198.95 194.81\" width=\"199pt\" xmlns=\"http://www.w3.org/2000/svg\" xmlns:xlink=\"http://www.w3.org/1999/xlink\">\n<g class=\"graph\" id=\"graph0\" transform=\"scale(1 1) rotate(0) translate(4 190.81)\">\n<title>A</title>\n<polygon fill=\"#ffffff\" points=\"-4,4 -4,-190.81 194.95,-190.81 194.95,4 -4,4\" stroke=\"transparent\"/>\n<!-- A -->\n<g class=\"node\" id=\"node1\">\n<title>A</title>\n<ellipse cx=\"27\" cy=\"-61.209\" fill=\"none\" rx=\"27\" ry=\"18\" stroke=\"#000000\"/>\n<text fill=\"#000000\" font-family=\"Times,serif\" font-size=\"14.00\" text-anchor=\"middle\" x=\"27\" y=\"-57.509\">A</text>\n</g>\n<!-- B -->\n<g class=\"node\" id=\"node2\">\n<title>B</title>\n<ellipse cx=\"33.597\" cy=\"-136.52\" fill=\"none\" rx=\"27\" ry=\"18\" stroke=\"#000000\"/>\n<text fill=\"#000000\" font-family=\"Times,serif\" font-size=\"14.00\" text-anchor=\"middle\" x=\"33.597\" y=\"-132.82\">B</text>\n</g>\n<!-- A&#45;&#45;B -->\n<g class=\"edge\" id=\"edge1\">\n<title>A--B</title>\n<path d=\"M28.597,-79.439C29.634,-91.279 30.98,-106.65 32.015,-118.46\" fill=\"none\" stroke=\"#000000\"/>\n</g>\n<!-- F -->\n<g class=\"node\" id=\"node3\">\n<title>F</title>\n<ellipse cx=\"89.013\" cy=\"-18\" fill=\"none\" rx=\"27\" ry=\"18\" stroke=\"#000000\"/>\n<text fill=\"#000000\" font-family=\"Times,serif\" font-size=\"14.00\" text-anchor=\"middle\" x=\"89.013\" y=\"-14.3\">F</text>\n</g>\n<!-- A&#45;&#45;F -->\n<g class=\"edge\" id=\"edge2\">\n<title>A--F</title>\n<path d=\"M45.943,-48.01C53.636,-42.649 62.504,-36.47 70.186,-31.118\" fill=\"none\" stroke=\"#000000\"/>\n</g>\n<!-- C -->\n<g class=\"node\" id=\"node4\">\n<title>C</title>\n<ellipse cx=\"101.94\" cy=\"-168.81\" fill=\"none\" rx=\"27\" ry=\"18\" stroke=\"#000000\"/>\n<text fill=\"#000000\" font-family=\"Times,serif\" font-size=\"14.00\" text-anchor=\"middle\" x=\"101.94\" y=\"-165.11\">C</text>\n</g>\n<!-- B&#45;&#45;C -->\n<g class=\"edge\" id=\"edge3\">\n<title>B--C</title>\n<path d=\"M55.977,-147.09C63.607,-150.69 72.132,-154.72 79.748,-158.32\" fill=\"none\" stroke=\"#000000\"/>\n</g>\n<!-- D -->\n<g class=\"node\" id=\"node5\">\n<title>D</title>\n<ellipse cx=\"163.95\" cy=\"-125.59\" fill=\"none\" rx=\"27\" ry=\"18\" stroke=\"#000000\"/>\n<text fill=\"#000000\" font-family=\"Times,serif\" font-size=\"14.00\" text-anchor=\"middle\" x=\"163.95\" y=\"-121.89\">D</text>\n</g>\n<!-- C&#45;&#45;D -->\n<g class=\"edge\" id=\"edge4\">\n<title>C--D</title>\n<path d=\"M120.89,-155.61C128.58,-150.24 137.45,-144.06 145.13,-138.71\" fill=\"none\" stroke=\"#000000\"/>\n</g>\n<!-- E -->\n<g class=\"node\" id=\"node6\">\n<title>E</title>\n<ellipse cx=\"157.37\" cy=\"-50.28\" fill=\"none\" rx=\"27\" ry=\"18\" stroke=\"#000000\"/>\n<text fill=\"#000000\" font-family=\"Times,serif\" font-size=\"14.00\" text-anchor=\"middle\" x=\"157.37\" y=\"-46.58\">E</text>\n</g>\n<!-- D&#45;&#45;E -->\n<g class=\"edge\" id=\"edge5\">\n<title>D--E</title>\n<path d=\"M162.36,-107.36C161.32,-95.518 159.98,-80.149 158.95,-68.342\" fill=\"none\" stroke=\"#000000\"/>\n</g>\n<!-- E&#45;&#45;F -->\n<g class=\"edge\" id=\"edge6\">\n<title>E--F</title>\n<path d=\"M134.98,-39.71C127.35,-36.106 118.83,-32.08 111.21,-28.483\" fill=\"none\" stroke=\"#000000\"/>\n</g>\n</g>\n</svg>"
          },
          "metadata": {}
        }
      ],
      "source": [
        "# b\n",
        "Answer = fromDot('''\n",
        "strict graph A {\n",
        "# BEGIN SOLUTION\n",
        "   A -- B -- C -- D -- E -- F -- A\n",
        "\n",
        "# END SOLUTION\n",
        "}\n",
        "''')\n",
        "display(draw(Answer))"
      ]
    },
    {
      "cell_type": "markdown",
      "metadata": {
        "id": "kJe0mAdCR81C"
      },
      "source": [
        "**Explanation b:** *add your answer here*"
      ]
    },
    {
      "cell_type": "markdown",
      "metadata": {
        "id": "eYBdtdazR81C"
      },
      "source": [
        "## Exercise 2.2: Gatekeeping                                                     <a id=\"chapter8\"></a>\n",
        "\n",
        "\n",
        "* (p1) A node X is a gatekeeper if for two other nodes Y and Z every path between Y and Z passes throught X. Complete the functions ``gatekeepers`` and ``gatekeeperAB``. The function ``gatekeeperAB`` should return a set of nodes that are on all possible paths between node a and node b. The function ``gatekeepers`` returns the union of all gatekeepers.\n",
        "* (p2) A node X is a local gate keeper if there are two neighbors of X, say Y and Z, that are not connected to each other. Complete the functions ``local_gatekeeper and ``local_gatekeepers`` below.\n",
        "* (a) Give an example (with explanation) of a graph in which more than half of all nodes are gatekeepers.\n",
        "* (b) Give an example (with explanation) of a graph in there are no gatekeepers but in which every node is a local gate keeper."
      ]
    },
    {
      "cell_type": "code",
      "execution_count": 88,
      "metadata": {
        "id": "8bsYsBplR81C",
        "outputId": "1b077788-00de-4769-f144-8ee6b425fae9",
        "colab": {
          "base_uri": "https://localhost:8080/",
          "height": 399
        }
      },
      "outputs": [
        {
          "output_type": "stream",
          "name": "stdout",
          "text": [
            "{'A'}\n"
          ]
        },
        {
          "output_type": "display_data",
          "data": {
            "text/plain": [
              "<IPython.core.display.SVG object>"
            ],
            "image/svg+xml": "<svg height=\"208pt\" viewBox=\"0.00 0.00 187.19 208.48\" width=\"187pt\" xmlns=\"http://www.w3.org/2000/svg\" xmlns:xlink=\"http://www.w3.org/1999/xlink\">\n<g class=\"graph\" id=\"graph0\" transform=\"scale(1 1) rotate(0) translate(4 204.48)\">\n<polygon fill=\"#ffffff\" points=\"-4,4 -4,-204.48 183.19,-204.48 183.19,4 -4,4\" stroke=\"transparent\"/>\n<!-- D -->\n<g class=\"node\" id=\"node1\">\n<title>D</title>\n<ellipse cx=\"27\" cy=\"-73.162\" fill=\"none\" rx=\"27\" ry=\"18\" stroke=\"#000000\"/>\n<text fill=\"#000000\" font-family=\"Times,serif\" font-size=\"14.00\" text-anchor=\"middle\" x=\"27\" y=\"-69.462\">D</text>\n</g>\n<!-- B -->\n<g class=\"node\" id=\"node2\">\n<title>B</title>\n<ellipse cx=\"116.06\" cy=\"-33.476\" fill=\"none\" rx=\"27\" ry=\"18\" stroke=\"#000000\"/>\n<text fill=\"#000000\" font-family=\"Times,serif\" font-size=\"14.00\" text-anchor=\"middle\" x=\"116.06\" y=\"-29.776\">B</text>\n</g>\n<!-- D&#45;&#45;B -->\n<g class=\"edge\" id=\"edge1\">\n<title>D--B</title>\n<path d=\"M49.474,-63.147C62.976,-57.131 80.096,-49.503 93.596,-43.487\" fill=\"none\" stroke=\"#000000\"/>\n</g>\n<!-- C -->\n<g class=\"node\" id=\"node3\">\n<title>C</title>\n<ellipse cx=\"40.354\" cy=\"-18\" fill=\"none\" rx=\"27\" ry=\"18\" stroke=\"#000000\"/>\n<text fill=\"#000000\" font-family=\"Times,serif\" font-size=\"14.00\" text-anchor=\"middle\" x=\"40.354\" y=\"-14.3\">C</text>\n</g>\n<!-- D&#45;&#45;C -->\n<g class=\"edge\" id=\"edge2\">\n<title>D--C</title>\n<path d=\"M31.373,-55.1C32.863,-48.941 34.529,-42.061 36.017,-35.914\" fill=\"none\" stroke=\"#000000\"/>\n</g>\n<!-- A -->\n<g class=\"node\" id=\"node4\">\n<title>A</title>\n<ellipse cx=\"89.006\" cy=\"-100.54\" fill=\"none\" rx=\"27\" ry=\"18\" stroke=\"#000000\"/>\n<text fill=\"#000000\" font-family=\"Times,serif\" font-size=\"14.00\" text-anchor=\"middle\" x=\"89.006\" y=\"-96.84\">A</text>\n</g>\n<!-- D&#45;&#45;A -->\n<g class=\"edge\" id=\"edge3\">\n<title>D--A</title>\n<path d=\"M49.737,-83.202C55.129,-85.583 60.88,-88.123 66.272,-90.504\" fill=\"none\" stroke=\"#000000\"/>\n</g>\n<!-- B&#45;&#45;A -->\n<g class=\"edge\" id=\"edge4\">\n<title>B--A</title>\n<path d=\"M108.95,-51.097C105.01,-60.877 100.11,-73.008 96.162,-82.806\" fill=\"none\" stroke=\"#000000\"/>\n</g>\n<!-- C&#45;&#45;A -->\n<g class=\"edge\" id=\"edge5\">\n<title>C--A</title>\n<path d=\"M50.435,-35.103C58.84,-49.364 70.75,-69.569 79.105,-83.744\" fill=\"none\" stroke=\"#000000\"/>\n</g>\n<!-- E -->\n<g class=\"node\" id=\"node5\">\n<title>E</title>\n<ellipse cx=\"152.19\" cy=\"-152.01\" fill=\"none\" rx=\"27\" ry=\"18\" stroke=\"#000000\"/>\n<text fill=\"#000000\" font-family=\"Times,serif\" font-size=\"14.00\" text-anchor=\"middle\" x=\"152.19\" y=\"-148.31\">E</text>\n</g>\n<!-- A&#45;&#45;E -->\n<g class=\"edge\" id=\"edge6\">\n<title>A--E</title>\n<path d=\"M106.27,-114.61C115.19,-121.87 126.03,-130.7 134.95,-137.96\" fill=\"none\" stroke=\"#000000\"/>\n</g>\n<!-- F -->\n<g class=\"node\" id=\"node6\">\n<title>F</title>\n<ellipse cx=\"84.757\" cy=\"-182.48\" fill=\"none\" rx=\"27\" ry=\"18\" stroke=\"#000000\"/>\n<text fill=\"#000000\" font-family=\"Times,serif\" font-size=\"14.00\" text-anchor=\"middle\" x=\"84.757\" y=\"-178.78\">F</text>\n</g>\n<!-- A&#45;&#45;F -->\n<g class=\"edge\" id=\"edge7\">\n<title>A--F</title>\n<path d=\"M88.063,-118.73C87.359,-132.31 86.401,-150.78 85.698,-164.35\" fill=\"none\" stroke=\"#000000\"/>\n</g>\n<!-- E&#45;&#45;F -->\n<g class=\"edge\" id=\"edge8\">\n<title>E--F</title>\n<path d=\"M129.74,-162.16C122.53,-165.41 114.56,-169.02 107.34,-172.27\" fill=\"none\" stroke=\"#000000\"/>\n</g>\n</g>\n</svg>"
          },
          "metadata": {}
        },
        {
          "output_type": "stream",
          "name": "stdout",
          "text": [
            "{'A'}\n",
            "{'A', 'D'}\n"
          ]
        },
        {
          "output_type": "execute_result",
          "data": {
            "text/plain": [
              "<IPython.core.display.HTML object>"
            ],
            "text/html": [
              "<h2 style='color: green;'>Correct</h2>"
            ]
          },
          "metadata": {},
          "execution_count": 88
        }
      ],
      "source": [
        "# p1 + p2\n",
        "def gatekeeperAB(G, a, b):\n",
        "    '''\n",
        "    Determines all gatekeepers between node 'a' and node 'b' \n",
        "    '''\n",
        "    found = set()\n",
        "    # BEGIN SOLUTION\n",
        "    allPaths = bfs_paths(G, a, b)[:]\n",
        "    if allPaths is []:\n",
        "      return []\n",
        "    found = set(allPaths[0]) - set({a,b})\n",
        "    for i in range(1,len(allPaths)):\n",
        "      found = found & set(allPaths[i])\n",
        "    # END SOLUTION\n",
        "    return found\n",
        "\n",
        "print(gatekeeperAB(F214,'C','E'))\n",
        "display(draw(F214))\n",
        "\n",
        "def gatekeepers(G):\n",
        "    '''\n",
        "    Determines all gatekeepers in graph 'G'**\n",
        "    '''\n",
        "    result = set()\n",
        "    for n1 in G:\n",
        "        for n2 in G:\n",
        "            result = result | gatekeeperAB(G, n1, n2)\n",
        "    return result\n",
        "\n",
        "def local_gatekeeper(G, a):\n",
        "    '''\n",
        "    Determines whether a is a local gate keeper\n",
        "    '''\n",
        "    # BEGIN SOLUTION\n",
        "    # print(G.edges())\n",
        "    neighbors = list(G[a].keys())\n",
        "    # print(neighbors)\n",
        "    for i in range(len(G[a])):\n",
        "      for j in range(i+1, len(G[a])):\n",
        "        Node1 =  neighbors[i]\n",
        "        Node2 =  neighbors[j]\n",
        "        if not Node1 in G[Node2]:       #so neigh 1 and 2 of X are not neighbors with each other\n",
        "          return True\n",
        "\n",
        "    # END SOLUTION\n",
        "    return False\n",
        "\n",
        "\n",
        "def local_gatekeepers(G):\n",
        "    '''\n",
        "    Determines all gatekeepers in graph 'G'\n",
        "    '''\n",
        "    result = set()\n",
        "    for n in G:\n",
        "        if local_gatekeeper(G,n): result.add(n)\n",
        "    return result\n",
        "\n",
        "# Check\n",
        "print(gatekeepers(F214))\n",
        "print(local_gatekeepers(F214))\n",
        "answer(gatekeepers(F214) == set('A'))\n",
        "answer(local_gatekeepers(F214) == {'A', 'D'})"
      ]
    },
    {
      "cell_type": "code",
      "execution_count": 97,
      "metadata": {
        "id": "aQx3UyKoR81C",
        "outputId": "c1a929ca-95db-4fb2-f20b-258d73dfa2c9",
        "colab": {
          "base_uri": "https://localhost:8080/",
          "height": 446
        }
      },
      "outputs": [
        {
          "output_type": "display_data",
          "data": {
            "text/plain": [
              "<IPython.core.display.SVG object>"
            ],
            "image/svg+xml": "<svg height=\"270pt\" viewBox=\"0.00 0.00 79.36 270.13\" width=\"79pt\" xmlns=\"http://www.w3.org/2000/svg\" xmlns:xlink=\"http://www.w3.org/1999/xlink\">\n<g class=\"graph\" id=\"graph0\" transform=\"scale(1 1) rotate(0) translate(4 266.13)\">\n<title>A</title>\n<polygon fill=\"#ffffff\" points=\"-4,4 -4,-266.13 75.362,-266.13 75.362,4 -4,4\" stroke=\"transparent\"/>\n<!-- A -->\n<g class=\"node\" id=\"node1\">\n<title>A</title>\n<ellipse cx=\"27\" cy=\"-18\" fill=\"none\" rx=\"27\" ry=\"18\" stroke=\"#000000\"/>\n<text fill=\"#000000\" font-family=\"Times,serif\" font-size=\"14.00\" text-anchor=\"middle\" x=\"27\" y=\"-14.3\">A</text>\n</g>\n<!-- B -->\n<g class=\"node\" id=\"node2\">\n<title>B</title>\n<ellipse cx=\"40.438\" cy=\"-62.004\" fill=\"none\" rx=\"27\" ry=\"18\" stroke=\"#000000\"/>\n<text fill=\"#000000\" font-family=\"Times,serif\" font-size=\"14.00\" text-anchor=\"middle\" x=\"40.438\" y=\"-58.304\">B</text>\n</g>\n<!-- A&#45;&#45;B -->\n<g class=\"edge\" id=\"edge1\">\n<title>A--B</title>\n<path d=\"M32.388,-35.645C33.264,-38.514 34.172,-41.486 35.048,-44.356\" fill=\"none\" stroke=\"#000000\"/>\n</g>\n<!-- C -->\n<g class=\"node\" id=\"node3\">\n<title>C</title>\n<ellipse cx=\"44.248\" cy=\"-107.82\" fill=\"none\" rx=\"27\" ry=\"18\" stroke=\"#000000\"/>\n<text fill=\"#000000\" font-family=\"Times,serif\" font-size=\"14.00\" text-anchor=\"middle\" x=\"44.248\" y=\"-104.12\">C</text>\n</g>\n<!-- B&#45;&#45;C -->\n<g class=\"edge\" id=\"edge2\">\n<title>B--C</title>\n<path d=\"M41.944,-80.111C42.21,-83.313 42.487,-86.645 42.753,-89.843\" fill=\"none\" stroke=\"#000000\"/>\n</g>\n<!-- D -->\n<g class=\"node\" id=\"node4\">\n<title>D</title>\n<ellipse cx=\"44.362\" cy=\"-153.74\" fill=\"none\" rx=\"27\" ry=\"18\" stroke=\"#000000\"/>\n<text fill=\"#000000\" font-family=\"Times,serif\" font-size=\"14.00\" text-anchor=\"middle\" x=\"44.362\" y=\"-150.04\">D</text>\n</g>\n<!-- C&#45;&#45;D -->\n<g class=\"edge\" id=\"edge3\">\n<title>C--D</title>\n<path d=\"M44.293,-125.97C44.301,-129.18 44.309,-132.52 44.317,-135.72\" fill=\"none\" stroke=\"#000000\"/>\n</g>\n<!-- E -->\n<g class=\"node\" id=\"node5\">\n<title>E</title>\n<ellipse cx=\"42.572\" cy=\"-199.66\" fill=\"none\" rx=\"27\" ry=\"18\" stroke=\"#000000\"/>\n<text fill=\"#000000\" font-family=\"Times,serif\" font-size=\"14.00\" text-anchor=\"middle\" x=\"42.572\" y=\"-195.96\">E</text>\n</g>\n<!-- D&#45;&#45;E -->\n<g class=\"edge\" id=\"edge4\">\n<title>D--E</title>\n<path d=\"M43.655,-171.89C43.529,-175.1 43.399,-178.44 43.274,-181.64\" fill=\"none\" stroke=\"#000000\"/>\n</g>\n<!-- F -->\n<g class=\"node\" id=\"node6\">\n<title>F</title>\n<ellipse cx=\"30.775\" cy=\"-244.13\" fill=\"none\" rx=\"27\" ry=\"18\" stroke=\"#000000\"/>\n<text fill=\"#000000\" font-family=\"Times,serif\" font-size=\"14.00\" text-anchor=\"middle\" x=\"30.775\" y=\"-240.43\">F</text>\n</g>\n<!-- E&#45;&#45;F -->\n<g class=\"edge\" id=\"edge5\">\n<title>E--F</title>\n<path d=\"M37.842,-217.49C37.073,-220.39 36.276,-223.4 35.506,-226.3\" fill=\"none\" stroke=\"#000000\"/>\n</g>\n</g>\n</svg>"
          },
          "metadata": {}
        },
        {
          "output_type": "stream",
          "name": "stdout",
          "text": [
            "4\n"
          ]
        },
        {
          "output_type": "execute_result",
          "data": {
            "text/plain": [
              "<IPython.core.display.HTML object>"
            ],
            "text/html": [
              "<h2 style='color: green;'>Correct</h2>"
            ]
          },
          "metadata": {},
          "execution_count": 97
        }
      ],
      "source": [
        "# (a)\n",
        "\n",
        "Answer = fromDot('''\n",
        "strict graph A {\n",
        "# BEGIN SOLUTION\n",
        "A -- B -- C -- D -- E -- F\n",
        "# END SOLUTION\n",
        "}\n",
        "''')\n",
        "\n",
        "# Check\n",
        "display(draw(Answer))\n",
        "print(len(gatekeepers(Answer)))\n",
        "answer(len(Answer) / 2 < len(gatekeepers(Answer)))\n"
      ]
    },
    {
      "cell_type": "markdown",
      "metadata": {
        "id": "FevwMf4dR81C"
      },
      "source": [
        "**Explanation a**: You always need to pass the EDCB"
      ]
    },
    {
      "cell_type": "code",
      "execution_count": 98,
      "metadata": {
        "id": "RsI0cKl-R81C",
        "outputId": "32648b75-9a5c-44de-d62f-5af5aade32a9",
        "colab": {
          "base_uri": "https://localhost:8080/",
          "height": 64
        }
      },
      "outputs": [
        {
          "output_type": "execute_result",
          "data": {
            "text/plain": [
              "<IPython.core.display.HTML object>"
            ],
            "text/html": [
              "<h2 style='color: green;'>Correct</h2>"
            ]
          },
          "metadata": {},
          "execution_count": 98
        }
      ],
      "source": [
        "# (b)\n",
        "\n",
        "Answer = fromDot('''\n",
        "strict graph A {\n",
        "# BEGIN SOLUTION\n",
        "  A -- B -- C -- D -- A\n",
        "# END SOLUTION\n",
        "}\n",
        "''')\n",
        "\n",
        "# Check\n",
        "answer(len(gatekeepers(Answer)) == 0 and len(local_gatekeepers(Answer)) == len(Answer) and len(Answer)> 0)"
      ]
    },
    {
      "cell_type": "markdown",
      "metadata": {
        "id": "OyUKXRs8R81D"
      },
      "source": [
        "**Explanation b**: *Add your explanation here*"
      ]
    },
    {
      "cell_type": "markdown",
      "metadata": {
        "id": "DEj-8AL9R81D"
      },
      "source": [
        "## Advanced Exercise 2.3: Diameter and Average Distance                                                     <a id=\"chapter9\"></a>\n",
        "\n",
        "The diameter of a graph is the maxium distance between any two nodes in this graph. The average distance is, as the term suggests, is the average distance between all pairs of nodes in a graph [p 41].\n",
        "\n",
        "* (p) Complete the functions ``diameter`` and ``avg_distance``. \n",
        "* (a) Give an example of a graph where the diameter of a graph is more than tree times as large as the average distance.\n",
        "* (b) Describe how you could extend your construction from (a) to produce graphs in which the diameter exceeds the average distance by as large as factor as you would like. That is, for every number c, can you produce a graph in which the diameter is more than c times as large as the average distance"
      ]
    },
    {
      "cell_type": "code",
      "execution_count": null,
      "metadata": {
        "id": "bgKVj2mER81D"
      },
      "outputs": [],
      "source": [
        "# (p)\n",
        "def diameter(G):\n",
        "    '''\n",
        "    Calculates the diameter of graph\n",
        "    '''\n",
        "    d = 0\n",
        "    \n",
        "    # END SOLUTION\n",
        "    return d\n",
        "\n",
        "def avg_distance(G):\n",
        "    '''\n",
        "    '''\n",
        "    avg = 0\n",
        "    # BEGIN SOLUTION\n",
        "    # END SOLUTION\n",
        "    return avg\n",
        "\n",
        "        "
      ]
    },
    {
      "cell_type": "code",
      "execution_count": null,
      "metadata": {
        "id": "V3U6SSX8R81D"
      },
      "outputs": [],
      "source": [
        "# Answer (a)\n",
        "# Construct a graph where diameter(Answer) > 3 * avg_distance(Answer)\n",
        "\n",
        "# BEGIN SOLUTION\n",
        "Answer = nx.complete_graph(1)\n",
        "# END SOLUTION\n",
        "\n",
        "display(draw(Answer))\n",
        "print(diameter(Answer))\n",
        "print(avg_distance(Answer))\n",
        "# Check\n",
        "answer(diameter(Answer) > 3 * avg_distance(Answer))"
      ]
    },
    {
      "cell_type": "markdown",
      "metadata": {
        "id": "UqW0sJEwR81D"
      },
      "source": [
        "**Answer (b)**: *Add your explanation here*"
      ]
    },
    {
      "cell_type": "markdown",
      "metadata": {
        "id": "5k5l42sPR81D"
      },
      "source": [
        "# Chapter 3: Strong and Weak Ties                                                     <a id=\"chapter10\"></a>\n"
      ]
    },
    {
      "cell_type": "markdown",
      "metadata": {
        "id": "f8yaiJMgR81D"
      },
      "source": [
        "## Exercise: Triadic Closure                                                     <a id=\"chapter11\"></a>\n",
        "\n",
        "If nodes B and C have a neighbor A in common, the formation of an edge between B and C produces a situation in which A,B,C form a triangle. \n",
        "\n",
        "* (p1): Complete the functions ``trianglesA`` and  ``triangles``.\n",
        "* (p2): Complete the function ``open_triangles``."
      ]
    },
    {
      "cell_type": "code",
      "execution_count": null,
      "metadata": {
        "id": "8EJ10katR81D"
      },
      "outputs": [],
      "source": [
        "def trianglesA(G,a):\n",
        "    '''\n",
        "    Calculates the number of neighbors of node 'a' that are also neighbors themselves.\n",
        "    '''\n",
        "    results = []\n",
        "    # BEGIN SOLUTION\n",
        "    # END SOLUTION\n",
        "    return results\n",
        "\n",
        "def triangles(G):\n",
        "    '''\n",
        "    Calculates all open triangles in graph 'G'\n",
        "    '''\n",
        "    results = set()\n",
        "    # BEGIN SOLUTION\n",
        "    # END SOLUTION\n",
        "    return results\n",
        "\n",
        "def open_triangles(G):\n",
        "    '''\n",
        "    Cacluates the number of triades in graph ``G``.\n",
        "    '''\n",
        "    results = []\n",
        "    # BEGIN SOLUTION\n",
        "    # END SOLUTION\n",
        "    return results\n",
        "\n",
        "# Check \n",
        "answer(len(open_triangles(F31)) == 10)"
      ]
    },
    {
      "cell_type": "markdown",
      "metadata": {
        "id": "m9nxwi9LR81D"
      },
      "source": [
        "## Exercise: Clustering Coefficient                                                     <a id=\"chapter12\"></a>\n",
        "The clustering coefficient of a node 'a' is defined as the probability that two randomly selected neighbors of A are neighbors of each other [p44-45]\n",
        "\n",
        "* (p): Complete the function ``cluster_coefficient`` to calculate the cluster coefficient of a node 'a'."
      ]
    },
    {
      "cell_type": "code",
      "execution_count": null,
      "metadata": {
        "id": "clUj94VeR81E"
      },
      "outputs": [],
      "source": [
        "def cluster_coefficient(G, a):\n",
        "    '''\n",
        "    Calculate the number of neighbors in a triangle divided by the number of neighbors\n",
        "    '''\n",
        "    coef = 0.0\n",
        "    # BEGIN SOLUTION\n",
        "    # END SOLUTION\n",
        "    return coef\n",
        "\n",
        "# Check\n",
        "display(draw(F31))\n",
        "answer(cluster_coefficient(F31, 'C') == 1.0)"
      ]
    },
    {
      "cell_type": "markdown",
      "metadata": {
        "id": "UG7MbaSrR81E"
      },
      "source": [
        "## Exercise: Bridges                                                     <a id=\"chapter13\"></a>\n",
        "\n",
        "An edge between two nodes A and B is called a bridge if deleting the edge would cause A and B to lie in different components of the resulting graph [p 46]\n",
        "\n",
        "* (p) Complete the function ``bridge`` that checks whehter an edge between a node 'a' and a node 'b' is a bridge. "
      ]
    },
    {
      "cell_type": "code",
      "execution_count": null,
      "metadata": {
        "id": "dNRAeg4MR81E"
      },
      "outputs": [],
      "source": [
        "def bridge(G, a, b):\n",
        "    ''' \n",
        "    Checks whether an edge between node 'a' and 'b' is a bridge in 'G'.\n",
        "    '''\n",
        "    paths = []\n",
        "    # BEGIN SOLUTION\n",
        "    # END SOLUTION\n",
        "    return not paths\n",
        "\n",
        "# Check\n",
        "answer((bridge(F33, 'A', 'B') == True) and (bridge(F33, 'A', 'C') == False))"
      ]
    },
    {
      "cell_type": "markdown",
      "metadata": {
        "id": "0-3teg6HR81E"
      },
      "source": [
        "## Exercise: Local Bridges                                                     <a id=\"chapter14\"></a>\n",
        "\n",
        "An edge joinging two nodes a and b in a graph is a local bridge if its endpoints have no neighbors (besides themselves) in common \n",
        "    \n",
        "* (p) Complete the function ``local_bridge`` that checks whether an edge between node 'a' and node 'b' forms a local bridge."
      ]
    },
    {
      "cell_type": "code",
      "execution_count": null,
      "metadata": {
        "id": "R0LnQdJlR81E"
      },
      "outputs": [],
      "source": [
        "def local_bridge(G, a, b):\n",
        "    '''\n",
        "    A local bridge is an edge where both ends of the edge have no other neighbor in common. \n",
        "    '''\n",
        "    is_bridge = False\n",
        "    # BEGIN SOLUTION\n",
        "    # END SOLUTION\n",
        "    return is_bridge\n",
        "\n",
        "# Check\n",
        "answer(local_bridge(F34, 'A', 'B') == True)"
      ]
    },
    {
      "cell_type": "markdown",
      "metadata": {
        "id": "oFV8sJczR81E"
      },
      "source": [
        "## Exercise: Strong Triadic Closure                                                     <a id=\"chapter15\"></a>\n",
        "\n",
        "Node A violates the Strong Triadic Closure property if it has strong ties to two other nodes\n",
        "B and C and there is no edge at all between B and C. A node fulfills the Strong Triadic Closure propoerty  if it does not violate it. [p 49]\n",
        "\n",
        "* (p) Complete the code of the functions ``violoatStrongTriadicClosure``."
      ]
    },
    {
      "cell_type": "code",
      "execution_count": null,
      "metadata": {
        "id": "L1eC7LggR81E"
      },
      "outputs": [],
      "source": [
        "# (p)\n",
        "def violateStrongTriadicClosure(G,a):\n",
        "    # BEGIN SOLUTION\n",
        "    # END SOLUTION\n",
        "    return False\n",
        "\n",
        "def strongTriadicClosure(G,a):\n",
        "    return not violateStrongTriadicClosure(G,a)\n",
        "\n",
        "# Check\n",
        "answer(strongTriadicClosure(F35, 'J') == True)\n",
        "        "
      ]
    },
    {
      "cell_type": "markdown",
      "metadata": {
        "id": "V3-NuUaWR81E"
      },
      "source": [
        "## Exercise: Neighborhood Overlap                                                     <a id=\"chapter16\"></a>\n",
        "\n",
        "* (p) Complete the function ``neighborhood_overlap`` that calculates the overlap between the neighborhoods of a node 'a' and a node 'b'."
      ]
    },
    {
      "cell_type": "code",
      "execution_count": null,
      "metadata": {
        "id": "gTQQaGoPR81F"
      },
      "outputs": [],
      "source": [
        "def neighborhood_overlap(G, a, b):\n",
        "    '''\n",
        "    The neighborhood overlap of two nodes a and b is the fraction of neighbors they have in common divided by the \n",
        "    total number of their neighbors.\n",
        "    '''\n",
        "    overlap = - 1.0\n",
        "    # BEGIN SOLUTION\n",
        "    # END SOLUTION\n",
        "    return overlap\n",
        "\n",
        "# Check\n",
        "answer(neighborhood_overlap(F34, 'C', 'A') == 0.75)"
      ]
    },
    {
      "cell_type": "markdown",
      "metadata": {
        "id": "SmNKV5TtR81F"
      },
      "source": [
        "## Exercise 3.1                                                     <a id=\"chapter17\"></a>\n",
        "In two to three sentences, explain what triadic closure is and how it plays a role in the formation of social networks. You can draw a schematic picture if you find it useful."
      ]
    },
    {
      "cell_type": "markdown",
      "metadata": {
        "id": "7ggxOCmAR81F"
      },
      "source": [
        "** Answer **: * Add your answer here *"
      ]
    },
    {
      "cell_type": "markdown",
      "metadata": {
        "id": "0hZCNjFuR81F"
      },
      "source": [
        "## Exercise 3.2                                                     <a id=\"chapter18\"></a>\n",
        "Consider the graph in Figure 3.21, in which each edge - except the edge connecting nodes B and C - is labeled as a strong tie (S) or a weak tie (W). \n",
        "\n",
        "<img src=\"https://github.com/damon022002/MOD10-Web-Science/blob/main/week1/assignment/WS_week1_assignment/files/fig321.png?raw=1\">\n",
        "\n",
        "According to the theory of strong and weak ties, using the Strong Triadic Closure assumption, how would you expect the edge between B and C to be labeled. Give a brief one to three sentence explanation for your answer. \n"
      ]
    },
    {
      "cell_type": "markdown",
      "metadata": {
        "id": "8319rbEQR81F"
      },
      "source": [
        "** Answer **: * Add your answer here *"
      ]
    },
    {
      "cell_type": "markdown",
      "metadata": {
        "id": "SfhhHymhR81F"
      },
      "source": [
        "## Exercise 3.3                                                     <a id=\"chapter19\"></a>\n",
        "In the social network depicted in Figure 3.22 in which each edge is labeled as either as a strong or weak tie, which nodes satisfy the Strong Triadic Closure property? Provide an explanation for your answer.\n",
        "\n",
        "<img src=\"https://github.com/damon022002/MOD10-Web-Science/blob/main/week1/assignment/WS_week1_assignment/files/fig322.png?raw=1\">"
      ]
    },
    {
      "cell_type": "markdown",
      "metadata": {
        "id": "QbghLZsjR81F"
      },
      "source": [
        "** Answer **: * Add your answer here *"
      ]
    },
    {
      "cell_type": "markdown",
      "metadata": {
        "id": "nqqj5BjAR81F"
      },
      "source": [
        "## Exercise 3.4                                                     <a id=\"chapter20\"></a>\n",
        "In the social network depicted in Figure 3.23 with each edge labeled as either a strong or weak tie, which two nodes violate the Strong Triadic Closure Property? Provide an explanation for your answer.\n",
        "\n",
        "<img src=\"https://github.com/damon022002/MOD10-Web-Science/blob/main/week1/assignment/WS_week1_assignment/files/fig323.png?raw=1\">"
      ]
    },
    {
      "cell_type": "markdown",
      "metadata": {
        "id": "pvKf0V9uR81F"
      },
      "source": [
        "** Answer **: * Add your answer here *"
      ]
    },
    {
      "cell_type": "markdown",
      "metadata": {
        "id": "mcOHtLNiR81F"
      },
      "source": [
        "## Exercise 3.5                                                     <a id=\"chapter21\"></a>\n",
        "In the social network depicted in Figure 3.24, with each edge labeled as either a strong or weak tie, which nodes satisfy the Strong Triadic Closure Property from Chapter 3, and which do not? Provide an explanation for your answer."
      ]
    },
    {
      "cell_type": "markdown",
      "metadata": {
        "id": "ZQ2QAW5MR81F"
      },
      "source": [
        "** Answer **: * Add your answer here *"
      ]
    },
    {
      "cell_type": "markdown",
      "metadata": {
        "id": "NnNGeqPgR81F"
      },
      "source": [
        "# Chapter 4: Network in their Surrounding Context                                                     <a id=\"chapter22\"></a>\n"
      ]
    },
    {
      "cell_type": "markdown",
      "metadata": {
        "id": "oVnFbYBLR81G"
      },
      "source": [
        "## Advanced Exercise: Homophily                                                     <a id=\"chapter23\"></a>\n",
        "For a binary property b, let $r$ be the fraction $r$ of edges where both ends have different values of $b$ and let $p$ be the fraction of nodes with positive value of property $b$ and $q$ be the fraction of nodes with negative value of $b$. If $r$ is significantly less than $2\\; p\\; q$, then there is evidence of homophily [p.80]. Consider the following graph from Figure 4.2."
      ]
    },
    {
      "cell_type": "code",
      "execution_count": null,
      "metadata": {
        "id": "iCbRP5D5R81G"
      },
      "outputs": [],
      "source": [
        "draw(F42)"
      ]
    },
    {
      "cell_type": "markdown",
      "metadata": {
        "id": "D1b8WYyxR81G"
      },
      "source": [
        "** Assignment **\n",
        "\n",
        "* (p) Complete the function ``homophily`` using the property node has fillcolor green (already implemented in the function ``pos``)."
      ]
    },
    {
      "cell_type": "code",
      "execution_count": null,
      "metadata": {
        "id": "HhHY76uaR81G"
      },
      "outputs": [],
      "source": [
        "# (p)\n",
        "def pos(G,n):\n",
        "    return G.nodes()[n].get('fillcolor','green') == 'green'\n",
        "\n",
        "def homophily(G):\n",
        "    p, q, r = 0, 0, 0\n",
        "    # BEGIN SOLUTION\n",
        "    # END SOLUTION\n",
        "    return 2 * p * q, r\n",
        "    \n",
        "# Check    \n",
        "answer(homophily(F42) == (0.4444444444444444, 0.25))"
      ]
    }
  ],
  "metadata": {
    "colab": {
      "name": "week1-assignments.ipynb",
      "provenance": []
    },
    "kernelspec": {
      "display_name": "Python 3",
      "language": "python",
      "name": "python3"
    },
    "language_info": {
      "codemirror_mode": {
        "name": "ipython",
        "version": 3
      },
      "file_extension": ".py",
      "mimetype": "text/x-python",
      "name": "python",
      "nbconvert_exporter": "python",
      "pygments_lexer": "ipython3",
      "version": "3.8.3"
    }
  },
  "nbformat": 4,
  "nbformat_minor": 0
}