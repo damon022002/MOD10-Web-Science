{
  "nbformat": 4,
  "nbformat_minor": 0,
  "metadata": {
    "kernelspec": {
      "display_name": "Python 3",
      "language": "python",
      "name": "python3"
    },
    "language_info": {
      "codemirror_mode": {
        "name": "ipython",
        "version": 3
      },
      "file_extension": ".py",
      "mimetype": "text/x-python",
      "name": "python",
      "nbconvert_exporter": "python",
      "pygments_lexer": "ipython3",
      "version": "3.8.3"
    },
    "colab": {
      "provenance": [],
      "include_colab_link": true
    }
  },
  "cells": [
    {
      "cell_type": "markdown",
      "metadata": {
        "id": "view-in-github",
        "colab_type": "text"
      },
      "source": [
        "<a href=\"https://colab.research.google.com/github/damon022002/MOD10-Web-Science/blob/main/week1/WS_week1_project/week1_project.ipynb\" target=\"_parent\"><img src=\"https://colab.research.google.com/assets/colab-badge.svg\" alt=\"Open In Colab\"/></a>"
      ]
    },
    {
      "cell_type": "markdown",
      "metadata": {
        "id": "n12deyB7EbOH"
      },
      "source": [
        "# Project Week 1                                     <a id=\"chapter1\"></a>\n",
        "# Table of Contents\n",
        "\n",
        "* [Project Week 1                                    ](#chapter1)\n",
        "* [Student details](#chapter2)\n",
        "* [Project Description                                         ](#chapter3)\n",
        "* [Data                                    ](#chapter4)\n",
        "* [Predictive Power of Tie Strength                                    ](#chapter5)\n",
        "* [Predictive Power of the Number of Open Triades                                    ](#chapter6)\n",
        "* [Ranking Friends of Friends                                    ](#chapter7)\n",
        "* [Under construction                          ](#chapter8)\n"
      ]
    },
    {
      "cell_type": "markdown",
      "metadata": {
        "id": "VXB5hkCsEbOI"
      },
      "source": [
        "# Student details <a id=\"chapter2\"></a>\n",
        "\n",
        "Please enter the student numbers and names in the cell below."
      ]
    },
    {
      "cell_type": "markdown",
      "metadata": {
        "id": "Dg_i-limEbOJ"
      },
      "source": [
        "[Damon Kaewborisut s2532409] [Harry Braam s2562952] \n",
        "\n",
        "\n"
      ]
    },
    {
      "cell_type": "markdown",
      "metadata": {
        "id": "OdOVD3LXEbOJ"
      },
      "source": [
        "# Project Description                                          <a id=\"chapter3\"></a>\n",
        "\n",
        "\n",
        "\n",
        "Faculty employees at research universities have two major activities: teaching and research. The research is often done in collaboration with colleagues, which results in a joint publication. In this project we will analyse collaborations within the EWI department of the University of Twente based on joint publications. Such investigations are important in order to enhance the research results and applications, and in order to allocate the limited funding to the right research groups and topics.\n",
        "\n",
        "We represent each researcher as a vertex of a graph. We draw an undirected edge between two vertexes, if the corresponding two researchers have published a joint paper. The resulting graph is called a collaboration graph. We may label each edge as a weak or strong tie depending on the number of joint papers.\n",
        "In this project we want to verify the following hypotheses:\n",
        "\n",
        "\n",
        "In this project we want to verify the following hypotheses:\n",
        "\n",
        "*\tThe collaborations adhere to the strong triadic closure property: if two researchers A and C both actively collaborate with researcher B, then the chance is high that A and C will collaborate in the future.\n",
        "*\tThe large number of open triades, in which two researchers participate, implies that there is a high probability that the two researchers will collaborate in the future.\n",
        "\n",
        "You task is to explore the given data and make a case whether or not the above hypotheses are true. Additionally, you will have to develop an algorithm that ranks friends of friends by decreasing likelihood of becoming a friend in the future."
      ]
    },
    {
      "cell_type": "code",
      "metadata": {
        "id": "_kOeh8JQEbOJ",
        "colab": {
          "base_uri": "https://localhost:8080/"
        },
        "outputId": "91337a7a-edf4-49c4-d9e2-cbd057d4fd15"
      },
      "source": [
        "# The following includes are needed to work with graphs and display solutions.\n",
        "%matplotlib inline\n",
        "# Extra package need to be installed on Google Colab.\n",
        "!apt install libgraphviz-dev\n",
        "!pip install pygraphviz\n",
        "import matplotlib\n",
        "import matplotlib.pyplot as plt\n",
        "import numpy as np\n",
        "import networkx as nx\n",
        "from IPython.display import display\n",
        "from collections import Counter\n",
        "from utils import *\n",
        "from graphs import *\n",
        "import utils\n",
        "import graphs\n",
        "import random\n"
      ],
      "execution_count": null,
      "outputs": [
        {
          "output_type": "stream",
          "name": "stdout",
          "text": [
            "Reading package lists... Done\n",
            "Building dependency tree       \n",
            "Reading state information... Done\n",
            "The following package was automatically installed and is no longer required:\n",
            "  libnvidia-common-460\n",
            "Use 'apt autoremove' to remove it.\n",
            "The following additional packages will be installed:\n",
            "  libgail-common libgail18 libgtk2.0-0 libgtk2.0-bin libgtk2.0-common\n",
            "  libgvc6-plugins-gtk libxdot4\n",
            "Suggested packages:\n",
            "  gvfs\n",
            "The following NEW packages will be installed:\n",
            "  libgail-common libgail18 libgraphviz-dev libgtk2.0-0 libgtk2.0-bin\n",
            "  libgtk2.0-common libgvc6-plugins-gtk libxdot4\n",
            "0 upgraded, 8 newly installed, 0 to remove and 5 not upgraded.\n",
            "Need to get 2,120 kB of archives.\n",
            "After this operation, 7,128 kB of additional disk space will be used.\n",
            "Get:1 http://archive.ubuntu.com/ubuntu bionic/main amd64 libgtk2.0-common all 2.24.32-1ubuntu1 [125 kB]\n",
            "Get:2 http://archive.ubuntu.com/ubuntu bionic/main amd64 libgtk2.0-0 amd64 2.24.32-1ubuntu1 [1,769 kB]\n",
            "Get:3 http://archive.ubuntu.com/ubuntu bionic/main amd64 libgail18 amd64 2.24.32-1ubuntu1 [14.2 kB]\n",
            "Get:4 http://archive.ubuntu.com/ubuntu bionic/main amd64 libgail-common amd64 2.24.32-1ubuntu1 [112 kB]\n",
            "Get:5 http://archive.ubuntu.com/ubuntu bionic/universe amd64 libxdot4 amd64 2.40.1-2 [15.7 kB]\n",
            "Get:6 http://archive.ubuntu.com/ubuntu bionic/universe amd64 libgvc6-plugins-gtk amd64 2.40.1-2 [18.2 kB]\n",
            "Get:7 http://archive.ubuntu.com/ubuntu bionic/universe amd64 libgraphviz-dev amd64 2.40.1-2 [57.3 kB]\n",
            "Get:8 http://archive.ubuntu.com/ubuntu bionic/main amd64 libgtk2.0-bin amd64 2.24.32-1ubuntu1 [7,536 B]\n",
            "Fetched 2,120 kB in 0s (6,560 kB/s)\n",
            "Selecting previously unselected package libgtk2.0-common.\n",
            "(Reading database ... 123991 files and directories currently installed.)\n",
            "Preparing to unpack .../0-libgtk2.0-common_2.24.32-1ubuntu1_all.deb ...\n",
            "Unpacking libgtk2.0-common (2.24.32-1ubuntu1) ...\n",
            "Selecting previously unselected package libgtk2.0-0:amd64.\n",
            "Preparing to unpack .../1-libgtk2.0-0_2.24.32-1ubuntu1_amd64.deb ...\n",
            "Unpacking libgtk2.0-0:amd64 (2.24.32-1ubuntu1) ...\n",
            "Selecting previously unselected package libgail18:amd64.\n",
            "Preparing to unpack .../2-libgail18_2.24.32-1ubuntu1_amd64.deb ...\n",
            "Unpacking libgail18:amd64 (2.24.32-1ubuntu1) ...\n",
            "Selecting previously unselected package libgail-common:amd64.\n",
            "Preparing to unpack .../3-libgail-common_2.24.32-1ubuntu1_amd64.deb ...\n",
            "Unpacking libgail-common:amd64 (2.24.32-1ubuntu1) ...\n",
            "Selecting previously unselected package libxdot4.\n",
            "Preparing to unpack .../4-libxdot4_2.40.1-2_amd64.deb ...\n",
            "Unpacking libxdot4 (2.40.1-2) ...\n",
            "Selecting previously unselected package libgvc6-plugins-gtk.\n",
            "Preparing to unpack .../5-libgvc6-plugins-gtk_2.40.1-2_amd64.deb ...\n",
            "Unpacking libgvc6-plugins-gtk (2.40.1-2) ...\n",
            "Selecting previously unselected package libgraphviz-dev.\n",
            "Preparing to unpack .../6-libgraphviz-dev_2.40.1-2_amd64.deb ...\n",
            "Unpacking libgraphviz-dev (2.40.1-2) ...\n",
            "Selecting previously unselected package libgtk2.0-bin.\n",
            "Preparing to unpack .../7-libgtk2.0-bin_2.24.32-1ubuntu1_amd64.deb ...\n",
            "Unpacking libgtk2.0-bin (2.24.32-1ubuntu1) ...\n",
            "Setting up libgtk2.0-common (2.24.32-1ubuntu1) ...\n",
            "Setting up libxdot4 (2.40.1-2) ...\n",
            "Setting up libgtk2.0-0:amd64 (2.24.32-1ubuntu1) ...\n",
            "Setting up libgail18:amd64 (2.24.32-1ubuntu1) ...\n",
            "Setting up libgail-common:amd64 (2.24.32-1ubuntu1) ...\n",
            "Setting up libgvc6-plugins-gtk (2.40.1-2) ...\n",
            "Setting up libgraphviz-dev (2.40.1-2) ...\n",
            "Setting up libgtk2.0-bin (2.24.32-1ubuntu1) ...\n",
            "Processing triggers for man-db (2.8.3-2ubuntu0.1) ...\n",
            "Processing triggers for libc-bin (2.27-3ubuntu1.6) ...\n",
            "Looking in indexes: https://pypi.org/simple, https://us-python.pkg.dev/colab-wheels/public/simple/\n",
            "Collecting pygraphviz\n",
            "  Downloading pygraphviz-1.7.zip (118 kB)\n",
            "\u001b[K     |████████████████████████████████| 118 kB 5.3 MB/s \n",
            "\u001b[?25hBuilding wheels for collected packages: pygraphviz\n",
            "  Building wheel for pygraphviz (setup.py) ... \u001b[?25l\u001b[?25hdone\n",
            "  Created wheel for pygraphviz: filename=pygraphviz-1.7-cp37-cp37m-linux_x86_64.whl size=165749 sha256=1eb7fe4988f26935a2f279c4c7b2b26ea16cf769e34f16e40ebdcdcbf6392bdd\n",
            "  Stored in directory: /root/.cache/pip/wheels/8c/bc/0c/ac35392b72556e75107ff610cb31b313e8471918a6d280e34c\n",
            "Successfully built pygraphviz\n",
            "Installing collected packages: pygraphviz\n",
            "Successfully installed pygraphviz-1.7\n"
          ]
        }
      ]
    },
    {
      "cell_type": "markdown",
      "metadata": {
        "id": "8KXZJNqUEbOL"
      },
      "source": [
        "# Data                                     <a id=\"chapter4\"></a>\n",
        "The project is based on the UT collaboration graph. We made snapshots of the UT collaboration graph up to 1995 and up to 2015. The number of publications written by two researchers is noted as the weight of this edge. The following two statements load the collaborations up to these years. Note that they take some time to complete."
      ]
    },
    {
      "cell_type": "code",
      "metadata": {
        "id": "teLa38fpEbOL"
      },
      "source": [
        "G1995 = utils.fromDot(open('bib-graph-1995.dot').read())\n",
        "G2015 = utils.fromDot(open('bib-graph-2015.dot').read())"
      ],
      "execution_count": null,
      "outputs": []
    },
    {
      "cell_type": "markdown",
      "metadata": {
        "id": "2SeO4NW0EbOL"
      },
      "source": [
        "For example, in 1995, the researcher 283261 collaborated with researcher 176766, 520454, 617192, 729772, and 797848 and wrote with them 1, 6, 1, 5, and 2 papers respectively. This can be seen as follows:"
      ]
    },
    {
      "cell_type": "code",
      "metadata": {
        "id": "dnZVdvreEbON",
        "colab": {
          "base_uri": "https://localhost:8080/"
        },
        "outputId": "d4b38e69-27c7-4224-d5c9-fcf9edabb0c6"
      },
      "source": [
        "G1995['283261']\n"
      ],
      "execution_count": null,
      "outputs": [
        {
          "output_type": "execute_result",
          "data": {
            "text/plain": [
              "AdjacencyView({'617192': {0: {'weight': '1.000000'}}, '729772': {0: {'weight': '5.000000'}}, '520454': {0: {'weight': '6.000000'}}, '797484': {0: {'weight': '2.000000'}}, '176766': {0: {'weight': '1.000000'}}})"
            ]
          },
          "metadata": {},
          "execution_count": 21
        }
      ]
    },
    {
      "cell_type": "markdown",
      "metadata": {
        "id": "i-ymu_iLEbOO"
      },
      "source": [
        "# Predictive Power of Tie Strength                                     <a id=\"chapter5\"></a>\n",
        "\n",
        "Show that the probability of a new collaboration to be formed in an open triangle A -- C -- B is increasing with the strength of A -- C and C -- B, using a regression prediction. The tie strength is defined as $\\frac{(x+y)}{2}$, where $x$ is the number of collaborations between A and C, and $y$ is the number of collaborations between B and C. The probability is defined as the chance that a new edge has formed between A and B between the G1995 and G2015 graph. You have to draw a  graph (with axis's lables and units) to illustrate your answer.\n"
      ]
    },
    {
      "cell_type": "code",
      "metadata": {
        "id": "YUQqLo7IEbOO",
        "colab": {
          "base_uri": "https://localhost:8080/",
          "height": 559
        },
        "outputId": "051032ad-9429-4d47-ef07-18281a9b1e88"
      },
      "source": [
        "# BEGIN SOLUTION\n",
        "#search open triangles\n",
        "diction = []\n",
        "for person in G1995.nodes():\n",
        "  neighbors = list(G1995[person].keys())\n",
        "  for i in range(len(neighbors)):\n",
        "      for j in range(i+1, len(neighbors)):\n",
        "        Node1 =  neighbors[i]\n",
        "        Node2 =  neighbors[j]\n",
        "        if not Node1 in G1995[Node2]:       #so neigh 1 and 2 of X are not neighbors with each other\n",
        "          diction.append([Node1, person ,Node2])\n",
        "\n",
        "\n",
        "#check tie strength\n",
        "for triangle in diction:\n",
        "  tie_weight = 0\n",
        "  neighbors = G1995[triangle[1]]\n",
        "  for neighbor in neighbors: # get all the neighbours of node C\n",
        "    if neighbor in triangle: # if the neighbour in the traingle add it\n",
        "      tie_weight = float(neighbors.get(neighbor).get(0).get('weight')) + tie_weight\n",
        "  triangle.append(tie_weight/2)\n",
        "\n",
        "\n",
        "\n",
        "\n",
        "\n",
        "#later check if there was a connection\n",
        "# diction = [\"A\", \"b\", \"C\",10]\n",
        "\n",
        "for triangle in diction:\n",
        "    Node1 = triangle[0]\n",
        "    Node2 = triangle[2]\n",
        "    triangle.append(int(Node1 in G2015[Node2]))\n",
        "     #so neigh 1 and 2 of X are not neighbors after 20 years\n",
        "\n",
        "# diction = [\"A\", \"b\", \"C\",10, True]\n",
        "\n",
        "# assume no deletion of edges\n",
        "\n",
        "dictionA = {}\n",
        "for triangle in diction:\n",
        "    # print(triangle[4])\n",
        "    if dictionA.get(triangle[3]) == None:\n",
        "        dictionA[triangle[3]] = [triangle[4]]\n",
        "    else: \n",
        "        # print(dictionA.get(triangle[3]))\n",
        "        dictionA[triangle[3]] = dictionA.get(triangle[3]) + [triangle[4]]\n",
        "\n",
        "\n",
        "\n",
        "#probs:\n",
        "dictProb = {}\n",
        "for key in sorted(dictionA.keys()):\n",
        "  dictProb[key] = sum(dictionA.get(key))/ len(dictionA.get(key))\n",
        "\n",
        "\n",
        "names = list(dictProb.keys())\n",
        "values = list(dictProb.values())\n",
        "\n",
        "plt.bar(range(len(dictionA)), values, tick_label=names)\n",
        "plt.xlabel(\"Tow strength\")\n",
        "plt.ylabel(\"Probability of creating a connection\")\n",
        "plt.show()\n",
        "\n",
        "#plot with scatterplot\n",
        "\n",
        "# http://faculty.cas.usf.edu/mbrannick/regression/regbas.html\n",
        "#create basic scatterplot\n",
        "\n",
        "x = np.array(list(dictProb.keys()))\n",
        "y = np.array(list(dictProb.values()))\n",
        "plt.plot(x, y, 'o')\n",
        "\n",
        "#obtain m (slope) and b(intercept) of linear regression line\n",
        "m, b = np.polyfit(x, y, 1)\n",
        "print(\"numbers of the regression line = slope m: {}/t and the intercept b: {}\".format(m,b) )\n",
        "#add linear regression line to scatterplot \n",
        "plt.plot(x, m*x+b)\n",
        "plt.xlabel(\"Tow strength\")\n",
        "plt.ylabel(\"Probability of creating a connection\")\n",
        "plt.show()\n",
        "\n",
        "# END SOLUTION\n",
        "\n",
        "\n",
        "# END SOLUTION\n"
      ],
      "execution_count": null,
      "outputs": [
        {
          "output_type": "display_data",
          "data": {
            "text/plain": [
              "<Figure size 432x288 with 1 Axes>"
            ],
            "image/png": "[encoded data removed]"
          },
          "metadata": {
            "needs_background": "light"
          }
        },
        {
          "output_type": "stream",
          "name": "stdout",
          "text": [
            "slope m: 0.002859424271723539/t and the intercept b: 0.03702367805136435\n"
          ]
        },
        {
          "output_type": "display_data",
          "data": {
            "text/plain": [
              "<Figure size 432x288 with 1 Axes>"
            ],
            "image/png": "[encoded data removed]"
          },
          "metadata": {
            "needs_background": "light"
          }
        }
      ]
    },
    {
      "cell_type": "markdown",
      "metadata": {
        "id": "nPs9GmjeGL8J"
      },
      "source": [
        "*Explanation: (Explanation for the proposed agorithm must be added here. The code above also needs comments in details for clarity and comprehension) \n",
        "\n",
        "Our algorithm works by first making a list off all open triangles with a smart trick with some inspiration from the assignments. After that we calculate the tie strength of every triangle and also store that in the list of the triangle. We then search up the same triangle in the 2015 data and check if a connection was made. This data is also added in the list of triangle after this we end up with a list that looks like this [[A, B, C, tie-strength, boolean based on open or close in 2015], [xx]...]. After that we show the data in two graphs. The first graph is bar chart with the x-as being the tie strength and the y-ax being the probability that a triangle at that tie strength has been closed in the 2015 dataset. The second chart shows the same but is a clearer manner and a regression line was also added."
      ]
    },
    {
      "cell_type": "markdown",
      "metadata": {
        "id": "NwXYItGZEbOP"
      },
      "source": [
        "# Predictive Power of the Number of Open Triades                                     <a id=\"chapter6\"></a>\n",
        "\n",
        "Find a regression model to evaluate whether the number of open triades influences the probability that a new collaboration is formed between 1995 and 2015. For example, node A and C do not have an edge, but could be connected by B (one open triad), A and D (two open triades) or even A, D and E (three open triades) and so forth. You have to draw a graph (with axis's lables and units) to illustrate your answer."
      ]
    },
    {
      "cell_type": "code",
      "metadata": {
        "id": "URWXGW7uEbOP",
        "colab": {
          "base_uri": "https://localhost:8080/",
          "height": 559
        },
        "outputId": "6defd0e7-b184-4835-98c1-c439f92d1394"
      },
      "source": [
        "# BEGIN SOLUTION\n",
        "\n",
        "#check how many open traides 2 nodes have\n",
        "\n",
        "# listOpenTriades = [[\"A--B\", 0]] \n",
        "dictOpenTraides = {} #includes 0 open triades?\n",
        "\n",
        "#for each person we check if it involved with a open traides\n",
        "for person in G1995.nodes():\n",
        "  neighbors = list(G1995[person].keys())\n",
        "  # then we compare each neighbor of person with each other if those 3 create a open triades\n",
        "  for i in range(len(neighbors)):\n",
        "      for j in range(i+1, len(neighbors)):\n",
        "        Node1 =  neighbors[i]\n",
        "        Node2 =  neighbors[j]\n",
        "        if not Node1 in G1995[Node2]:       #so neigh 1 and 2 of X are not neighbors with each other so open Triades\n",
        "          key = Node1 + \"--\" + Node2\n",
        "          # then we will increase the amount of open traides the pair Node 1 and 2 has by 1\n",
        "          if dictOpenTraides.get(key) == None:\n",
        "            dictOpenTraides[key] = 1\n",
        "          else:\n",
        "             dictOpenTraides[key] += 1\n",
        "# print(\"\\ndictOpenTraides: All pair Nodes with atleast 1 open traide\\n\", dictOpenTraides)\n",
        "\n",
        "#later check if there was a connection per pair Nodes\n",
        "# dictConnect [key is pair and value is if it is connected or not]\n",
        "dictConnect = {} #includes 0 open triades?\n",
        "for key in dictOpenTraides:\n",
        "  nodes = key.split(\"--\")\n",
        "  Node1 = nodes[0]\n",
        "  Node2 = nodes[1]\n",
        "  dictConnect[key] = int(Node1 in G2015[Node2])\n",
        "    #so neigh 1 and 2 of X are not neighbors after 20 years\n",
        "# print(\"\\ndictConnect: all pair Nodes form dictOpenTraides and check if edge was created in 2015\\n\", dictConnect)\n",
        "\n",
        "\n",
        "#combine all the data of each pair Nodes with a certain number of open triades\n",
        "dictCombine = {}\n",
        "for i, (pair,traides) in enumerate(dictOpenTraides.items()):\n",
        "  # print(traides)\n",
        "  if dictCombine.get(traides) == None:\n",
        "      dictCombine[traides] = [dictConnect[pair]]\n",
        "  else: \n",
        "      dictCombine[traides] = dictCombine.get(traides) + [dictConnect[pair]]\n",
        "# print(\"\\ndictCombine:sort all data to certain number of open triades if edge or not \\n\",dictCombine)\n",
        "\n",
        "#calculate prob.\n",
        "dictA = {}\n",
        "for key in sorted(dictCombine.keys()):\n",
        "  dictA[key] = sum(dictCombine.get(key))/ len(dictCombine.get(key))\n",
        "# print(\"\\ndictA: average of the dictCombine whether an edge was created with a number of open traides \\n\",dictA)\n",
        "\n",
        "\n",
        "#plot it\n",
        "#axis labels and units! plus regression model!\n",
        "\n",
        "names2 = list(dictA.keys())\n",
        "values2 = list(dictA.values())\n",
        "\n",
        "plt.bar(range(len(dictA)), values2, tick_label=names2)\n",
        "plt.xlabel(\"Number of open traides between a pair of nodes\")\n",
        "plt.ylabel(\"Probability of creating a connection\")\n",
        "plt.show()\n",
        "\n",
        "#plot with scatterplot\n",
        "\n",
        "# https://www.statology.org/scatterplot-with-regression-line-python/ \n",
        "#create basic scatterplot\n",
        "\n",
        "x = np.array(list(dictA.keys())[:(len(dictA)-1)])\n",
        "y = np.array(list(dictA.values())[:(len(dictA)-1)])\n",
        "plt.plot(x, y, 'o')\n",
        "plt.xlabel(\"Number of open traides between a pair of nodes\")\n",
        "plt.ylabel(\"Probability of creating a connection\")\n",
        "\n",
        "#obtain m (slope) and b(intercept) of linear regression line\n",
        "m2, b2 = np.polyfit(x, y, 1)\n",
        "print(\"numbers of the regression line = slope m: {}/t and the intercept b: {}\".format(m2,b2) )\n",
        "#add linear regression line to scatterplot \n",
        "plt.plot(x, m2*x+b2)\n",
        "plt.show()\n",
        "# END SOLUTION\n",
        "\n",
        "\n"
      ],
      "execution_count": null,
      "outputs": [
        {
          "output_type": "display_data",
          "data": {
            "text/plain": [
              "<Figure size 432x288 with 1 Axes>"
            ],
            "image/png": "[encoded data removed]"
          },
          "metadata": {
            "needs_background": "light"
          }
        },
        {
          "output_type": "stream",
          "name": "stdout",
          "text": [
            "numbers of the regression line = slope m: 0.016834114495935103/t and the intercept b: 0.04388378410906184\n"
          ]
        },
        {
          "output_type": "display_data",
          "data": {
            "text/plain": [
              "<Figure size 432x288 with 1 Axes>"
            ],
            "image/png": "[encoded data removed]"
          },
          "metadata": {
            "needs_background": "light"
          }
        }
      ]
    },
    {
      "cell_type": "markdown",
      "metadata": {
        "id": "qCAlTlVrXt70"
      },
      "source": [
        "* *cursieve tekst*Explanation: (Explanation for the proposed agorithm must be added here. The code above also needs comments in details for clarity and comprehension) \n",
        "\n",
        "for this algorithm we calculate for each number of open traides, if an connection/edge has been formed between 2 nodes. So we calculate the real probability of creating an connection between 1995 and 2015 for 1 open traid, 2 and etc. This will give the following first bargraph with the probability of creation a edge for each number of open traides between a pair nodes, because there was only 1 pair that had 7 open traides, we decided to make it an outliner to make a better regression line that will used for 'Ranking Friends of Friends'. In the second graph shows the regression line without the pair of 7 open traides.\n"
      ]
    },
    {
      "cell_type": "markdown",
      "metadata": {
        "id": "Wt9_04k1EbOP"
      },
      "source": [
        "# Ranking Friends of Friends                                     <a id=\"chapter7\"></a>\n",
        "\n",
        "In this exercise you should apply your knowlege gained from the two previous exercises, but not limted to, to answer a common problem in todays social media platforms: given a person, an employee in our case, generate a ranked list of his friends of friends that are likely to become his friends. At the end of the following cell, we provide a code snippet that calculates the precision of your algorithm in predicting future ties in the top-10. Note that other knowledge you gained in the lectures also can be used to solve this problem."
      ]
    },
    {
      "cell_type": "code",
      "metadata": {
        "id": "Wniqsxc1EbOP",
        "colab": {
          "base_uri": "https://localhost:8080/"
        },
        "outputId": "a8cf4cfd-7790-4de8-9349-bb918d268600"
      },
      "source": [
        "# employees to test\n",
        "nodes = ['943855', '587677', '905252', '839906', '554748', '220387', '456096', '136755', '652488', '617192', '154879', '860536', '127930', '266261', '925761', '334823', '879631', '922044', '485657', '347203']\n",
        "# dictionary mapping an employee to a list of employees with whom he/she collaborated in 2015 and which belonged\n",
        "# to his friends of friends in 1995. \n",
        "result = {'879631': ['587677', '265264', '925761', '860536', '725186', '721127', '142327', '23872', '943855'], '127930': ['26850', '935705', '136755', '659445', '805057', '293364', '681672', '565759', '868762', '596394'], '154879': ['691913', '817338', '659445', '169325', '542646', '644335', '293364', '165240', '485657', '905252', '408618'], '587677': ['879631', '725186', '785747', '70007', '561122', '136755', '721127', '142327', '72828', '334823', '839906', '433369', '943855'], '266261': ['265264', '208388', '70007', '495819', '725186', '839906', '136755', '721127', '142327', '408600'], '860536': ['811970', '879631', '456096', '839906', '396817', '136755', '653075', '72828', '596215', '346572', '922044'], '839906': ['587677', '308351', '860536', '378229', '240448', '379649', '334823', '201753', '565759', '943855', '174262', '922044', '266261'], '347203': ['265464', '578175', '136755', '596215', '220387', '906277', '897180', '652488'], '617192': ['793831', '254964', '522310', '932010', '528813', '922964', '485657', '58492', '694245', '166980', '905252'], '136755': ['811970', '127930', '587677', '266261', '815411', '422460', '860536', '347203', '943855', '691913', '174262', '922044'], '925761': ['879631', '725186', '456096', '70007', '561122', '136803', '596215', '334823', '905252', '943855'], '554748': ['23872', '916957', '659445', '169325', '644335', '293364', '220387', '433369', '943855', '174262', '922044', '652488'], '334823': ['587677', '725186', '785747', '839906', '721127', '142327', '72828', '925761', '943855', '867536'], '220387': ['450166', '571150', '565465', '901612', '554748', '18282', '883925', '347203', '9418', '943855', '265464', '652488'], '485657': ['811970', '154879', '617192', '702341', '41963', '661899', '293364', '668817', '218489'], '905252': ['23872', '742360', '561250', '523695', '222137', '617192', '564846', '925761', '661899', '571150', '154879', '691913', '392536'], '943855': ['265264', '60541', '220387', '14499', '783415', '679997', '811970', '785747', '961828', '587677', '925761', '905502', '561122', '136755', '41963', '554748', '879631', '642974', '725186', '676753', '839906', '213482', '396817', '721127', '576951', '334823', '978812'], '456096': ['206983', '925761', '706765', '860536', '565708', '296067', '902949', '549825', '201753', '961828', '240448', '922044'], '922044': ['456096', '308351', '860536', '839906', '136755', '554748', '433369', '999230', '240448'], '652488': ['602959', '60541', '846007', '143158', '347203', '422460', '14499', '554748', '220387', '265464', '9418']}\n",
        "\n",
        "def fof(G,n):\n",
        "    '''\n",
        "    returns the friends of friends of Node n in Graph G\n",
        "    '''\n",
        "    res = set()\n",
        "    for n1 in G[n]:\n",
        "        res = res | set(G[n1])\n",
        "    res = res - set(G[n])\n",
        "    return res\n",
        "\n",
        "# BEGIN SOLUTION\n",
        "# END SOLUTION\n",
        "\n",
        "def score(n, f):\n",
        "    '''\n",
        "    calculates a score by which potential friends should be sorted\n",
        "    '''\n",
        "    s = 0\n",
        "    # BEGIN SOLUTION\n",
        "    # Calculate the strength of the conection between the node and potantial friend\n",
        "    for neighbour in G1995[n]:\n",
        "      if f in G1995[neighbour]:\n",
        "        towStrength =(float(G1995[n].get(neighbour).get(0).get('weight')) + float(G1995[neighbour].get(f).get(0).get('weight')))/2\n",
        "        s += m*(towStrength/2) + b\n",
        "\n",
        "    # Calculate the number of shared neighbours\n",
        "    num_connect = 0\n",
        "    for neighbor in G1995[n]:\n",
        "      if neighbor in G1995[f]:\n",
        "        num_connect += 1\n",
        "        \n",
        "    # change the score based on the number of shared friends\n",
        "    # the slope is calculated in \n",
        "    s +=  m2*num_connect + b2\n",
        "\n",
        "    # END SOLUTION\n",
        "    #print(s)\n",
        "    return s\n",
        "\n",
        "# Check \n",
        "topn = 10\n",
        "total_found = 0\n",
        "for n in nodes:\n",
        "    # get all friends of friends and their score\n",
        "    fofG1995 = fof(G1995, n)\n",
        "    l = [(f,score(n,f)) for f in fofG1995 ]\n",
        "    # sort descending by score\n",
        "    l.sort(key=lambda x: -x[1])\n",
        "    # count number of correct results\n",
        "    found = 0\n",
        "    for x,z in l[:topn]:\n",
        "        if x in result[n]:\n",
        "            found += 1   \n",
        "    total_found += found         \n",
        "    print(n, found / float(topn))\n",
        "print(total_found, total_found/200)"
      ],
      "execution_count": null,
      "outputs": [
        {
          "output_type": "stream",
          "name": "stdout",
          "text": [
            "943855 0.6\n",
            "587677 0.5\n",
            "905252 0.1\n",
            "839906 0.4\n",
            "554748 0.1\n",
            "220387 0.2\n",
            "456096 0.2\n",
            "136755 0.3\n",
            "652488 0.2\n",
            "617192 0.2\n",
            "154879 0.4\n",
            "860536 0.3\n",
            "127930 0.3\n",
            "266261 0.4\n",
            "925761 0.3\n",
            "334823 0.4\n",
            "879631 0.1\n",
            "922044 0.4\n",
            "485657 0.1\n",
            "347203 0.4\n",
            "59 0.295\n"
          ]
        }
      ]
    },
    {
      "cell_type": "markdown",
      "metadata": {
        "id": "l2Anu_XSEbOQ"
      },
      "source": [
        "*Explanation: (Explanation for the proposed agorithm must be added here. The code above also needs comments in details for clarity and comprehension)\n",
        "\n",
        "\n",
        "For our algorithm we first calculate the tie-strength of the triangle containing node mutual friend and potential friend. Based on regressions lines which where created in assignment 1 and 2.by using the regression lines of both tow Strength and number of open traids, we can calculate the probability that an edge will be created between the 2 Nodes. Both calculations will be simply added to each other and this gave us an average score of 0.295"
      ]
    }
  ]
}